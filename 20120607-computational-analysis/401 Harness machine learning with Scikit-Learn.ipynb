{
 "cells": [
  {
   "cell_type": "markdown",
   "metadata": {
    "deletable": true,
    "editable": true
   },
   "source": [
    "The goal is to build a machine that make decisions automatically\n",
    "using information it has not seen before, and whose performance\n",
    "improves with experience. The approach in machine learning is to \n",
    "develop algorithms that make decisions using a model fitted on data.\n",
    "\n",
    "# Machine learning is easy with Scikit-Learn\n",
    "The scikit-learn package is a collection of machine learning algorithms\n",
    "that share a common usage pattern:\n",
    "\n",
    "- Load data.\n",
    "- Pick model.\n",
    "- Fit model parameters to data.\n",
    "- Predict using fitted model."
   ]
  },
  {
   "cell_type": "code",
   "execution_count": 2,
   "metadata": {
    "collapsed": false,
    "deletable": true,
    "editable": true
   },
   "outputs": [],
   "source": [
    "from sklearn import datasets, neighbors\n",
    "iris = datasets.load_iris()\n",
    "model = neighbors.KNeighborsClassifier()\n",
    "model.fit(iris.data, iris.target)\n",
    "model.predict([7.5, 3, 6.5, 2.1])"
   ]
  },
  {
   "cell_type": "markdown",
   "metadata": {
    "deletable": true,
    "editable": true
   },
   "source": [
    "- [Scikit-Learn Tutorials](http://scikit-learn.org/dev)\n",
    "- [Scikit-Learn Examples](http://scikit-learn.org/dev/auto_examples)"
   ]
  },
  {
   "cell_type": "code",
   "execution_count": null,
   "metadata": {
    "collapsed": false,
    "deletable": true,
    "editable": true
   },
   "outputs": [],
   "source": [
    "# Take a moment to browse the official tutorials and examples"
   ]
  },
  {
   "cell_type": "markdown",
   "metadata": {
    "deletable": true,
    "editable": true
   },
   "source": [
    "## Which model do we use?"
   ]
  },
  {
   "cell_type": "code",
   "execution_count": 10,
   "metadata": {
    "collapsed": false,
    "deletable": true,
    "editable": true
   },
   "outputs": [],
   "source": [
    "from sklearn.datasets import load_digits\n",
    "digits = load_digits()\n",
    "X, y = digits.data, digits.target\n",
    "trainingSet = X[:-100], y[:-100]\n",
    "testSet = X[-100:], y[-100:]\n",
    "\n",
    "def evaluate_model(model):\n",
    "    return model.fit(*trainingSet).score(*testSet)"
   ]
  },
  {
   "cell_type": "code",
   "execution_count": 14,
   "metadata": {
    "collapsed": false,
    "deletable": true,
    "editable": true
   },
   "outputs": [],
   "source": [
    "from sklearn.gaussian_process import GaussianProcess\n",
    "evaluate_model(GaussianProcess())"
   ]
  },
  {
   "cell_type": "code",
   "execution_count": 17,
   "metadata": {
    "collapsed": false,
    "deletable": true,
    "editable": true
   },
   "outputs": [],
   "source": [
    "from sklearn.tree import DecisionTreeClassifier\n",
    "evaluate_model(DecisionTreeClassifier())"
   ]
  },
  {
   "cell_type": "code",
   "execution_count": 22,
   "metadata": {
    "collapsed": false,
    "deletable": true,
    "editable": true
   },
   "outputs": [],
   "source": [
    "from sklearn.svm import SVC\n",
    "evaluate_model(SVC(kernel='linear', C=0.001))"
   ]
  },
  {
   "cell_type": "markdown",
   "metadata": {
    "deletable": true,
    "editable": true
   },
   "source": [
    "## Evaluate model performance with [cross-validation](http://scikit-learn.org/dev/model_selection.html)"
   ]
  },
  {
   "cell_type": "code",
   "execution_count": 26,
   "metadata": {
    "collapsed": false,
    "deletable": true,
    "editable": true
   },
   "outputs": [],
   "source": [
    "from sklearn.cross_validation import cross_val_score\n",
    "from sklearn.datasets import load_iris\n",
    "from sklearn.linear_model import LogisticRegression\n",
    "\n",
    "iris = load_iris()\n",
    "model = LogisticRegression()\n",
    "cross_val_score(model, iris.data, iris.target)"
   ]
  },
  {
   "cell_type": "code",
   "execution_count": 29,
   "metadata": {
    "collapsed": false,
    "deletable": true,
    "editable": true
   },
   "outputs": [],
   "source": [
    "cross_val_score(model, iris.data, iris.target, cv=4)"
   ]
  },
  {
   "cell_type": "code",
   "execution_count": 31,
   "metadata": {
    "collapsed": false,
    "deletable": true,
    "editable": true
   },
   "outputs": [],
   "source": [
    "from sklearn.cross_validation import LeaveOneOut\n",
    "\n",
    "cross_val_score(model, iris.data, iris.target, cv=LeaveOneOut(len(iris.target)))"
   ]
  },
  {
   "cell_type": "markdown",
   "metadata": {
    "deletable": true,
    "editable": true
   },
   "source": [
    "## Evaluate stack performance with [pipelining](http://scikit-learn.org/dev/modules/pipeline.html)"
   ]
  },
  {
   "cell_type": "code",
   "execution_count": 23,
   "metadata": {
    "collapsed": false,
    "deletable": true,
    "editable": true
   },
   "outputs": [],
   "source": [
    "from IPython.lib.display import YouTubeVideo\n",
    "YouTubeVideo('1uS5b8aQ6z8')"
   ]
  },
  {
   "cell_type": "code",
   "execution_count": 42,
   "metadata": {
    "collapsed": false,
    "deletable": true,
    "editable": true
   },
   "outputs": [],
   "source": [
    "import numpy as np\n",
    "from sklearn.pipeline import Pipeline\n",
    "from sklearn.decomposition import PCA\n",
    "from sklearn.linear_model import LogisticRegression\n",
    "from sklearn.cross_validation import cross_val_score\n",
    "from sklearn.datasets import load_digits; digits = load_digits()\n",
    "\n",
    "model = Pipeline([\n",
    "    ('pca', PCA()), \n",
    "    ('logistic', LogisticRegression()),\n",
    "])\n",
    "np.mean(cross_val_score(model, digits.data, digits.target))"
   ]
  },
  {
   "cell_type": "markdown",
   "metadata": {
    "deletable": true,
    "editable": true
   },
   "source": [
    "## [Transform](http://scikit-learn.org/dev/data_transforms.html) data"
   ]
  },
  {
   "cell_type": "code",
   "execution_count": 44,
   "metadata": {
    "collapsed": false,
    "deletable": true,
    "editable": true
   },
   "outputs": [],
   "source": [
    "from sklearn.preprocessing import StandardScaler\n",
    "\n",
    "model = Pipeline([\n",
    "    ('scaler', StandardScaler()),\n",
    "    ('pca', PCA()), \n",
    "    ('logistic', LogisticRegression()),\n",
    "])\n",
    "np.mean(cross_val_score(model, digits.data, digits.target))"
   ]
  },
  {
   "cell_type": "markdown",
   "metadata": {
    "deletable": true,
    "editable": true
   },
   "source": [
    "Let's vectorize a stanza from Zbigniew Herbert's [A Knocker](http://www.poemhunter.com/poem/a-knocker/)."
   ]
  },
  {
   "cell_type": "code",
   "execution_count": 51,
   "metadata": {
    "collapsed": false,
    "deletable": true,
    "editable": true
   },
   "outputs": [],
   "source": [
    "from sklearn.feature_extraction.text import CountVectorizer\n",
    "\n",
    "vectorizer = CountVectorizer(min_df=1)\n",
    "documents = [\n",
    "    'my imagination',\n",
    "    'is a piece of board',\n",
    "    'my sole instrument',\n",
    "    'is a wooden stick',\n",
    "]\n",
    "X = vectorizer.fit_transform(documents)\n",
    "documentVectors = X.toarray()\n",
    "documentVectors"
   ]
  },
  {
   "cell_type": "code",
   "execution_count": 52,
   "metadata": {
    "collapsed": false,
    "deletable": true,
    "editable": true
   },
   "outputs": [],
   "source": [
    "featureNames = vectorizer.get_feature_names()\n",
    "for bagOfWords in documentVectors:\n",
    "    print zip(featureNames, bagOfWords)"
   ]
  },
  {
   "cell_type": "markdown",
   "metadata": {
    "deletable": true,
    "editable": true
   },
   "source": [
    "## Optimize model parameters systematically with [Grid Search](http://scikit-learn.org/dev/modules/grid_search.html)"
   ]
  },
  {
   "cell_type": "code",
   "execution_count": 70,
   "metadata": {
    "collapsed": false,
    "deletable": true,
    "editable": true
   },
   "outputs": [],
   "source": [
    "# Adapted from \n",
    "# http://scikit-learn.org/dev/tutorial/statistical_inference/putting_together.html\n",
    "from sklearn import linear_model, decomposition, datasets\n",
    "from sklearn.grid_search import GridSearchCV\n",
    "from sklearn.pipeline import Pipeline\n",
    "\n",
    "pipeline = Pipeline([\n",
    "    ('pca', decomposition.PCA()), \n",
    "    ('logistic', linear_model.LogisticRegression()),\n",
    "])\n",
    "gridSearch = GridSearchCV(pipeline, dict(\n",
    "    pca__n_components=[20, 40],\n",
    "    logistic__C=[1, 1000]))\n",
    "\n",
    "digits = datasets.load_digits()\n",
    "gridSearch.fit(digits.data, digits.target)\n",
    "valueByParameter = gridSearch.best_estimator_.get_params()\n",
    "for parameter in gridSearch.param_grid:\n",
    "    print '%s: %r' % (parameter, valueByParameter[parameter])"
   ]
  },
  {
   "cell_type": "markdown",
   "metadata": {
    "deletable": true,
    "editable": true
   },
   "source": [
    "## Identify a translator of Zbigniew Herbert"
   ]
  },
  {
   "cell_type": "code",
   "execution_count": 93,
   "metadata": {
    "collapsed": false,
    "deletable": true,
    "editable": true
   },
   "outputs": [],
   "source": [
    "from archiveIO import Archive, TemporaryFolder\n",
    "\n",
    "archive = Archive('datasets/ZbigniewHerbert.tar.gz')\n",
    "documents = []\n",
    "categories = []\n",
    "with TemporaryFolder() as temporaryFolder:\n",
    "    for documentPath in archive.load(temporaryFolder):\n",
    "        text = open(documentPath).read()\n",
    "        documents.append(text)\n",
    "        categories.append('Carpenter' in text)"
   ]
  },
  {
   "cell_type": "code",
   "execution_count": 94,
   "metadata": {
    "collapsed": false,
    "deletable": true,
    "editable": true
   },
   "outputs": [],
   "source": [
    "from sklearn.pipeline import Pipeline\n",
    "from sklearn.feature_extraction.text import CountVectorizer\n",
    "from sklearn.feature_extraction.text import TfidfTransformer\n",
    "from sklearn.linear_model import SGDClassifier\n",
    "\n",
    "pipeline = Pipeline([\n",
    "    ('vect', CountVectorizer()),\n",
    "    ('tfidf', TfidfTransformer()),\n",
    "    ('clf', SGDClassifier()),\n",
    "])"
   ]
  },
  {
   "cell_type": "code",
   "execution_count": 95,
   "metadata": {
    "collapsed": false,
    "deletable": true,
    "editable": true
   },
   "outputs": [],
   "source": [
    "parameters = {\n",
    "    'vect__max_df': (0.5, 0.75, 1.0),\n",
    "    'vect__max_n': (1, 2),\n",
    "    'clf__alpha': (0.00001, 0.000001),\n",
    "    'clf__penalty': ('l2', 'elasticnet'),\n",
    "}"
   ]
  },
  {
   "cell_type": "code",
   "execution_count": 101,
   "metadata": {
    "collapsed": false,
    "deletable": true,
    "editable": true
   },
   "outputs": [],
   "source": [
    "from sklearn.grid_search import GridSearchCV\n",
    "\n",
    "gridSearch = GridSearchCV(pipeline, parameters, n_jobs=-1)\n",
    "gridSearch.fit(documents, categories)\n",
    "\n",
    "valueByParameter = gridSearch.best_estimator_.get_params()\n",
    "for parameter in gridSearch.param_grid:\n",
    "    print '%s: %r' % (parameter, valueByParameter[parameter])\n",
    "print \"Best score: %0.3f\" % gridSearch.best_score_"
   ]
  },
  {
   "cell_type": "code",
   "execution_count": 92,
   "metadata": {
    "collapsed": false,
    "deletable": true,
    "editable": true
   },
   "outputs": [],
   "source": [
    "print documents[27]"
   ]
  },
  {
   "cell_type": "markdown",
   "metadata": {
    "deletable": true,
    "editable": true
   },
   "source": [
    "- [Scikit-Learn Documentation](http://scikit-learn.org/dev/)"
   ]
  }
 ],
 "metadata": {
  "kernelspec": {
   "display_name": "Python 2",
   "language": "python",
   "name": "python2"
  },
  "language_info": {
   "codemirror_mode": {
    "name": "ipython",
    "version": 2
   },
   "file_extension": ".py",
   "mimetype": "text/x-python",
   "name": "python",
   "nbconvert_exporter": "python",
   "pygments_lexer": "ipython2",
   "version": "2.7.13"
  }
 },
 "nbformat": 4,
 "nbformat_minor": 0
}
