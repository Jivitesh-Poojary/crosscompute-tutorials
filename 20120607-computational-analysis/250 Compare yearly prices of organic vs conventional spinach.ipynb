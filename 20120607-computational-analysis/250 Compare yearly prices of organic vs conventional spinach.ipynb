{
 "metadata": {
  "name": "250 Compare yearly prices of organic vs conventional spinach"
 },
 "nbformat": 3,
 "nbformat_minor": 0,
 "worksheets": [
  {
   "cells": [
    {
     "cell_type": "code",
     "collapsed": false,
     "input": [
      "import pandas\n",
      "import numpy as np\n",
      "import os"
     ],
     "language": "python",
     "metadata": {},
     "outputs": [],
     "prompt_number": 31
    },
    {
     "cell_type": "markdown",
     "metadata": {},
     "source": [
      "Look at spinach prices from the [US food prices dataset](https://explore.data.gov/download/gufi-iknc/XLS)."
     ]
    },
    {
     "cell_type": "code",
     "collapsed": false,
     "input": [
      "excelFile = pandas.ExcelFile('datasets/USA-SpinachPrices.xls')\n",
      "excelFile.sheet_names"
     ],
     "language": "python",
     "metadata": {},
     "outputs": [],
     "prompt_number": 32
    },
    {
     "cell_type": "code",
     "collapsed": false,
     "input": [
      "organicSpinachFrame = excelFile.parse('organic', index_col=0)\n",
      "conventionalSpinachFrame = excelFile.parse('conventional', index_col=0)\n",
      "conventionalSpinachFrame"
     ],
     "language": "python",
     "metadata": {},
     "outputs": [],
     "prompt_number": 33
    },
    {
     "cell_type": "markdown",
     "metadata": {},
     "source": [
      "Rearrange DataFrame into a Series with a MultiIndex."
     ]
    },
    {
     "cell_type": "code",
     "collapsed": false,
     "input": [
      "organicSpinachHierarchicalSeries = organicSpinachFrame.stack()\n",
      "conventionalSpinachHierarchicalSeries = conventionalSpinachFrame.stack()\n",
      "conventionalSpinachHierarchicalSeries"
     ],
     "language": "python",
     "metadata": {},
     "outputs": [],
     "prompt_number": 34
    },
    {
     "cell_type": "markdown",
     "metadata": {},
     "source": [
      "Combine year and month into a single index."
     ]
    },
    {
     "cell_type": "code",
     "collapsed": false,
     "input": [
      "organicSpinachHierarchicalSeries.index"
     ],
     "language": "python",
     "metadata": {},
     "outputs": [],
     "prompt_number": 35
    },
    {
     "cell_type": "code",
     "collapsed": false,
     "input": [
      "organicSpinachHierarchicalSeries.index"
     ],
     "language": "python",
     "metadata": {},
     "outputs": [],
     "prompt_number": 36
    },
    {
     "cell_type": "code",
     "collapsed": false,
     "input": [
      "from pandas import Timestamp\n",
      "def parse_indexEntry(indexEntry):\n",
      "    return Timestamp('%d %s' % indexEntry)\n",
      "parse_indexEntry(organicSpinachHierarchicalSeries.index[0])"
     ],
     "language": "python",
     "metadata": {},
     "outputs": [],
     "prompt_number": 37
    },
    {
     "cell_type": "code",
     "collapsed": false,
     "input": [
      "def flatten_index(hierarchicalSeries):\n",
      "    return pandas.Series(hierarchicalSeries.values,\n",
      "        index=[parse_indexEntry(x) for x in hierarchicalSeries.index])\n",
      "organicSpinachSeries = flatten_index(organicSpinachHierarchicalSeries)\n",
      "conventionalSpinachSeries = flatten_index(conventionalSpinachHierarchicalSeries)\n",
      "conventionalSpinachSeries[:5]"
     ],
     "language": "python",
     "metadata": {},
     "outputs": [],
     "prompt_number": 38
    },
    {
     "cell_type": "markdown",
     "metadata": {},
     "source": [
      "Compare monthly prices of organic vs conventional spinach."
     ]
    },
    {
     "cell_type": "code",
     "collapsed": false,
     "input": [
      "import pylab as pl\n",
      "pl.figure(figsize=(12,6))\n",
      "organicSpinachSeries.plot(label='organic')\n",
      "conventionalSpinachSeries.plot(label='conventional')\n",
      "pl.legend()"
     ],
     "language": "python",
     "metadata": {},
     "outputs": [],
     "prompt_number": 39
    },
    {
     "cell_type": "code",
     "collapsed": false,
     "input": [
      "organicSpinachFrame - conventionalSpinachFrame"
     ],
     "language": "python",
     "metadata": {},
     "outputs": [],
     "prompt_number": 40
    },
    {
     "cell_type": "code",
     "collapsed": false,
     "input": [
      "organicSpinachSeries.describe()"
     ],
     "language": "python",
     "metadata": {},
     "outputs": [],
     "prompt_number": 41
    },
    {
     "cell_type": "code",
     "collapsed": false,
     "input": [
      "organicSpinachSeries.describe() - conventionalSpinachSeries.describe()"
     ],
     "language": "python",
     "metadata": {},
     "outputs": [],
     "prompt_number": 42
    },
    {
     "cell_type": "markdown",
     "metadata": {},
     "source": [
      "Look at dates when the price of organic spinach was above average."
     ]
    },
    {
     "cell_type": "code",
     "collapsed": false,
     "input": [
      "subIndex = organicSpinachSeries > organicSpinachSeries.mean()\n",
      "organicSpinachSeries[subIndex]"
     ],
     "language": "python",
     "metadata": {},
     "outputs": [],
     "prompt_number": 43
    },
    {
     "cell_type": "markdown",
     "metadata": {},
     "source": [
      "Look at the price of conventional spinach for dates when the price of organic spinach was above average."
     ]
    },
    {
     "cell_type": "code",
     "collapsed": false,
     "input": [
      "conventionalSpinachSeries[subIndex]"
     ],
     "language": "python",
     "metadata": {},
     "outputs": [],
     "prompt_number": 44
    },
    {
     "cell_type": "markdown",
     "metadata": {},
     "source": [
      "Was the price of conventional spinach above average on dates when the price of organic spinach was above average?"
     ]
    },
    {
     "cell_type": "code",
     "collapsed": false,
     "input": [
      "conventionalSpinachSeries[subIndex] > conventionalSpinachSeries.mean()"
     ],
     "language": "python",
     "metadata": {},
     "outputs": [],
     "prompt_number": 45
    },
    {
     "cell_type": "markdown",
     "metadata": {},
     "source": [
      "Assemble prices and their differences into a table and save it to a spreadsheet."
     ]
    },
    {
     "cell_type": "code",
     "collapsed": false,
     "input": [
      "# Create dataFrame\n",
      "spinachFrame = pandas.DataFrame.from_items([\n",
      "    ('organic', organicSpinachSeries),\n",
      "    ('conventional', conventionalSpinachSeries)])\n",
      "spinachFrame.head()"
     ],
     "language": "python",
     "metadata": {},
     "outputs": [],
     "prompt_number": 46
    },
    {
     "cell_type": "code",
     "collapsed": false,
     "input": [
      "# Add column of differences\n",
      "spinachFrame['difference'] = organicSpinachSeries - conventionalSpinachSeries\n",
      "spinachFrame.head()"
     ],
     "language": "python",
     "metadata": {},
     "outputs": [],
     "prompt_number": 47
    },
    {
     "cell_type": "code",
     "collapsed": false,
     "input": [
      "# Save it to a spreadsheet\n",
      "spinachFrame.to_csv(os.path.expandvars('$HOME/Downloads/USA-SpinachPrices.csv'))"
     ],
     "language": "python",
     "metadata": {},
     "outputs": [],
     "prompt_number": 48
    },
    {
     "cell_type": "markdown",
     "metadata": {},
     "source": [
      "Convert spinachFrame from US dollars to Singapore dollars using an exchange rate of 1 USD = 1.28135 SGD."
     ]
    },
    {
     "cell_type": "code",
     "collapsed": false,
     "input": [
      "# Type your solution here and press CTRL-ENTER"
     ],
     "language": "python",
     "metadata": {},
     "outputs": [],
     "prompt_number": 49
    },
    {
     "cell_type": "markdown",
     "metadata": {},
     "source": [
      "Compute the ratio of organic prices to conventional prices."
     ]
    },
    {
     "cell_type": "code",
     "collapsed": false,
     "input": [
      "# Option 1\n",
      "spinachFrame['organic'] / spinachFrame['conventional']"
     ],
     "language": "python",
     "metadata": {},
     "outputs": [],
     "prompt_number": 50
    },
    {
     "cell_type": "code",
     "collapsed": false,
     "input": [
      "# Option 2\n",
      "spinachFrame.apply(lambda row: row['organic'] / row['conventional'], axis=1)"
     ],
     "language": "python",
     "metadata": {},
     "outputs": [],
     "prompt_number": 51
    },
    {
     "cell_type": "markdown",
     "metadata": {},
     "source": [
      "Compute average prices by year."
     ]
    },
    {
     "cell_type": "code",
     "collapsed": false,
     "input": [
      "from pandas.core.datetools import YearEnd\n",
      "spinachFrame.groupby(YearEnd().rollforward).aggregate(np.mean)"
     ],
     "language": "python",
     "metadata": {},
     "outputs": [],
     "prompt_number": 52
    },
    {
     "cell_type": "markdown",
     "metadata": {},
     "source": [
      "Predict the price of organic spinach given the price of conventional spinach using ordinary least squares."
     ]
    },
    {
     "cell_type": "code",
     "collapsed": false,
     "input": [
      "import statsmodels.api as sm\n",
      "y = organicSpinachSeries[:-1]      # Exclude last price\n",
      "X = conventionalSpinachSeries[:-1] # Exclude last price\n",
      "model = sm.OLS(y, X)\n",
      "results = model.fit()\n",
      "results.params"
     ],
     "language": "python",
     "metadata": {},
     "outputs": [],
     "prompt_number": 53
    },
    {
     "cell_type": "code",
     "collapsed": false,
     "input": [
      "results.predict(conventionalSpinachSeries[-1])"
     ],
     "language": "python",
     "metadata": {},
     "outputs": [],
     "prompt_number": 54
    }
   ],
   "metadata": {}
  }
 ]
}