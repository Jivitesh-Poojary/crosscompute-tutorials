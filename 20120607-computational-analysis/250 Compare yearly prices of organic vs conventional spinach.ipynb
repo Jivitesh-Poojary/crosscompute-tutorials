{
 "cells": [
  {
   "cell_type": "code",
   "execution_count": 31,
   "metadata": {
    "collapsed": false,
    "deletable": true,
    "editable": true
   },
   "outputs": [],
   "source": [
    "import pandas\n",
    "import numpy as np\n",
    "import os"
   ]
  },
  {
   "cell_type": "markdown",
   "metadata": {
    "deletable": true,
    "editable": true
   },
   "source": [
    "Look at spinach prices from the [US food prices dataset](https://explore.data.gov/download/gufi-iknc/XLS)."
   ]
  },
  {
   "cell_type": "code",
   "execution_count": 32,
   "metadata": {
    "collapsed": false,
    "deletable": true,
    "editable": true
   },
   "outputs": [],
   "source": [
    "excelFile = pandas.ExcelFile('datasets/USA-SpinachPrices.xls')\n",
    "excelFile.sheet_names"
   ]
  },
  {
   "cell_type": "code",
   "execution_count": 33,
   "metadata": {
    "collapsed": false,
    "deletable": true,
    "editable": true
   },
   "outputs": [],
   "source": [
    "organicSpinachFrame = excelFile.parse('organic', index_col=0)\n",
    "conventionalSpinachFrame = excelFile.parse('conventional', index_col=0)\n",
    "conventionalSpinachFrame"
   ]
  },
  {
   "cell_type": "markdown",
   "metadata": {
    "deletable": true,
    "editable": true
   },
   "source": [
    "Rearrange DataFrame into a Series with a MultiIndex."
   ]
  },
  {
   "cell_type": "code",
   "execution_count": 34,
   "metadata": {
    "collapsed": false,
    "deletable": true,
    "editable": true
   },
   "outputs": [],
   "source": [
    "organicSpinachHierarchicalSeries = organicSpinachFrame.stack()\n",
    "conventionalSpinachHierarchicalSeries = conventionalSpinachFrame.stack()\n",
    "conventionalSpinachHierarchicalSeries"
   ]
  },
  {
   "cell_type": "markdown",
   "metadata": {
    "deletable": true,
    "editable": true
   },
   "source": [
    "Combine year and month into a single index."
   ]
  },
  {
   "cell_type": "code",
   "execution_count": 35,
   "metadata": {
    "collapsed": false,
    "deletable": true,
    "editable": true
   },
   "outputs": [],
   "source": [
    "organicSpinachHierarchicalSeries.index"
   ]
  },
  {
   "cell_type": "code",
   "execution_count": 36,
   "metadata": {
    "collapsed": false,
    "deletable": true,
    "editable": true
   },
   "outputs": [],
   "source": [
    "organicSpinachHierarchicalSeries.index"
   ]
  },
  {
   "cell_type": "code",
   "execution_count": 37,
   "metadata": {
    "collapsed": false,
    "deletable": true,
    "editable": true
   },
   "outputs": [],
   "source": [
    "from pandas import Timestamp\n",
    "def parse_indexEntry(indexEntry):\n",
    "    return Timestamp('%d %s' % indexEntry)\n",
    "parse_indexEntry(organicSpinachHierarchicalSeries.index[0])"
   ]
  },
  {
   "cell_type": "code",
   "execution_count": 38,
   "metadata": {
    "collapsed": false,
    "deletable": true,
    "editable": true
   },
   "outputs": [],
   "source": [
    "def flatten_index(hierarchicalSeries):\n",
    "    return pandas.Series(hierarchicalSeries.values,\n",
    "        index=[parse_indexEntry(x) for x in hierarchicalSeries.index])\n",
    "organicSpinachSeries = flatten_index(organicSpinachHierarchicalSeries)\n",
    "conventionalSpinachSeries = flatten_index(conventionalSpinachHierarchicalSeries)\n",
    "conventionalSpinachSeries[:5]"
   ]
  },
  {
   "cell_type": "markdown",
   "metadata": {
    "deletable": true,
    "editable": true
   },
   "source": [
    "Compare monthly prices of organic vs conventional spinach."
   ]
  },
  {
   "cell_type": "code",
   "execution_count": 39,
   "metadata": {
    "collapsed": false,
    "deletable": true,
    "editable": true
   },
   "outputs": [],
   "source": [
    "import pylab as pl\n",
    "pl.figure(figsize=(12,6))\n",
    "organicSpinachSeries.plot(label='organic')\n",
    "conventionalSpinachSeries.plot(label='conventional')\n",
    "pl.legend()"
   ]
  },
  {
   "cell_type": "code",
   "execution_count": 40,
   "metadata": {
    "collapsed": false,
    "deletable": true,
    "editable": true
   },
   "outputs": [],
   "source": [
    "organicSpinachFrame - conventionalSpinachFrame"
   ]
  },
  {
   "cell_type": "code",
   "execution_count": 41,
   "metadata": {
    "collapsed": false,
    "deletable": true,
    "editable": true
   },
   "outputs": [],
   "source": [
    "organicSpinachSeries.describe()"
   ]
  },
  {
   "cell_type": "code",
   "execution_count": 42,
   "metadata": {
    "collapsed": false,
    "deletable": true,
    "editable": true
   },
   "outputs": [],
   "source": [
    "organicSpinachSeries.describe() - conventionalSpinachSeries.describe()"
   ]
  },
  {
   "cell_type": "markdown",
   "metadata": {
    "deletable": true,
    "editable": true
   },
   "source": [
    "Look at dates when the price of organic spinach was above average."
   ]
  },
  {
   "cell_type": "code",
   "execution_count": 43,
   "metadata": {
    "collapsed": false,
    "deletable": true,
    "editable": true
   },
   "outputs": [],
   "source": [
    "subIndex = organicSpinachSeries > organicSpinachSeries.mean()\n",
    "organicSpinachSeries[subIndex]"
   ]
  },
  {
   "cell_type": "markdown",
   "metadata": {
    "deletable": true,
    "editable": true
   },
   "source": [
    "Look at the price of conventional spinach for dates when the price of organic spinach was above average."
   ]
  },
  {
   "cell_type": "code",
   "execution_count": 44,
   "metadata": {
    "collapsed": false,
    "deletable": true,
    "editable": true
   },
   "outputs": [],
   "source": [
    "conventionalSpinachSeries[subIndex]"
   ]
  },
  {
   "cell_type": "markdown",
   "metadata": {
    "deletable": true,
    "editable": true
   },
   "source": [
    "Was the price of conventional spinach above average on dates when the price of organic spinach was above average?"
   ]
  },
  {
   "cell_type": "code",
   "execution_count": 45,
   "metadata": {
    "collapsed": false,
    "deletable": true,
    "editable": true
   },
   "outputs": [],
   "source": [
    "conventionalSpinachSeries[subIndex] > conventionalSpinachSeries.mean()"
   ]
  },
  {
   "cell_type": "markdown",
   "metadata": {
    "deletable": true,
    "editable": true
   },
   "source": [
    "Assemble prices and their differences into a table and save it to a spreadsheet."
   ]
  },
  {
   "cell_type": "code",
   "execution_count": 46,
   "metadata": {
    "collapsed": false,
    "deletable": true,
    "editable": true
   },
   "outputs": [],
   "source": [
    "# Create dataFrame\n",
    "spinachFrame = pandas.DataFrame.from_items([\n",
    "    ('organic', organicSpinachSeries),\n",
    "    ('conventional', conventionalSpinachSeries)])\n",
    "spinachFrame.head()"
   ]
  },
  {
   "cell_type": "code",
   "execution_count": 47,
   "metadata": {
    "collapsed": false,
    "deletable": true,
    "editable": true
   },
   "outputs": [],
   "source": [
    "# Add column of differences\n",
    "spinachFrame['difference'] = organicSpinachSeries - conventionalSpinachSeries\n",
    "spinachFrame.head()"
   ]
  },
  {
   "cell_type": "code",
   "execution_count": 48,
   "metadata": {
    "collapsed": false,
    "deletable": true,
    "editable": true
   },
   "outputs": [],
   "source": [
    "# Save it to a spreadsheet\n",
    "spinachFrame.to_csv(os.path.expandvars('$HOME/Downloads/USA-SpinachPrices.csv'))"
   ]
  },
  {
   "cell_type": "markdown",
   "metadata": {
    "deletable": true,
    "editable": true
   },
   "source": [
    "Convert spinachFrame from US dollars to Singapore dollars using an exchange rate of 1 USD = 1.28135 SGD."
   ]
  },
  {
   "cell_type": "code",
   "execution_count": 49,
   "metadata": {
    "collapsed": false,
    "deletable": true,
    "editable": true
   },
   "outputs": [],
   "source": [
    "# Type your solution here and press CTRL-ENTER"
   ]
  },
  {
   "cell_type": "markdown",
   "metadata": {
    "deletable": true,
    "editable": true
   },
   "source": [
    "Compute the ratio of organic prices to conventional prices."
   ]
  },
  {
   "cell_type": "code",
   "execution_count": 50,
   "metadata": {
    "collapsed": false,
    "deletable": true,
    "editable": true
   },
   "outputs": [],
   "source": [
    "# Option 1\n",
    "spinachFrame['organic'] / spinachFrame['conventional']"
   ]
  },
  {
   "cell_type": "code",
   "execution_count": 51,
   "metadata": {
    "collapsed": false,
    "deletable": true,
    "editable": true
   },
   "outputs": [],
   "source": [
    "# Option 2\n",
    "spinachFrame.apply(lambda row: row['organic'] / row['conventional'], axis=1)"
   ]
  },
  {
   "cell_type": "markdown",
   "metadata": {
    "deletable": true,
    "editable": true
   },
   "source": [
    "Compute average prices by year."
   ]
  },
  {
   "cell_type": "code",
   "execution_count": 52,
   "metadata": {
    "collapsed": false,
    "deletable": true,
    "editable": true
   },
   "outputs": [],
   "source": [
    "from pandas.core.datetools import YearEnd\n",
    "spinachFrame.groupby(YearEnd().rollforward).aggregate(np.mean)"
   ]
  },
  {
   "cell_type": "markdown",
   "metadata": {
    "deletable": true,
    "editable": true
   },
   "source": [
    "Predict the price of organic spinach given the price of conventional spinach using ordinary least squares."
   ]
  },
  {
   "cell_type": "code",
   "execution_count": 53,
   "metadata": {
    "collapsed": false,
    "deletable": true,
    "editable": true
   },
   "outputs": [],
   "source": [
    "import statsmodels.api as sm\n",
    "y = organicSpinachSeries[:-1]      # Exclude last price\n",
    "X = conventionalSpinachSeries[:-1] # Exclude last price\n",
    "model = sm.OLS(y, X)\n",
    "results = model.fit()\n",
    "results.params"
   ]
  },
  {
   "cell_type": "code",
   "execution_count": 54,
   "metadata": {
    "collapsed": false,
    "deletable": true,
    "editable": true
   },
   "outputs": [],
   "source": [
    "results.predict(conventionalSpinachSeries[-1])"
   ]
  }
 ],
 "metadata": {
  "kernelspec": {
   "display_name": "Python 2",
   "language": "python",
   "name": "python2"
  },
  "language_info": {
   "codemirror_mode": {
    "name": "ipython",
    "version": 2
   },
   "file_extension": ".py",
   "mimetype": "text/x-python",
   "name": "python",
   "nbconvert_exporter": "python",
   "pygments_lexer": "ipython2",
   "version": "2.7.13"
  }
 },
 "nbformat": 4,
 "nbformat_minor": 0
}
