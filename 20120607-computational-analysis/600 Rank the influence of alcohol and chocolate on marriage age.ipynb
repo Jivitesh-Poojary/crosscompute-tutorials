{
 "metadata": {
  "name": "600 Rank the influence of alcohol and chocolate on marriage age"
 },
 "nbformat": 3,
 "nbformat_minor": 0,
 "worksheets": [
  {
   "cells": [
    {
     "cell_type": "markdown",
     "metadata": {},
     "source": [
      "- [UN Alcohol Trade Dataset](http://data.un.org/Data.aspx?d=ComTrade&f=_l1Code%3a23)\n",
      "- [UN Chocolate Trade Dataset](http://data.un.org/Data.aspx?d=ComTrade&f=_l1Code%3a19)\n",
      "- [UN Marriage Age Dataset](http://data.un.org/Data.aspx?d=GenderStat&f=inID%3a20)"
     ]
    },
    {
     "cell_type": "code",
     "collapsed": false,
     "input": [
      "from pandas import read_csv\n",
      "alcohol = read_csv('datasets/UN-Alcohol.csv')\n",
      "chocolate = read_csv('datasets/UN-Chocolate.csv')\n",
      "marriage = read_csv('datasets/UN-Marriage.csv').drop('Value Footnotes', axis=1).dropna()"
     ],
     "language": "python",
     "metadata": {},
     "outputs": [],
     "prompt_number": 1
    },
    {
     "cell_type": "code",
     "collapsed": false,
     "input": [
      "for table in alcohol, chocolate, marriage:\n",
      "    table.rename(columns={\n",
      "        'Country or Area': 'Country',\n",
      "        'Comm. Code': 'CommodityCode',\n",
      "    }, inplace=True)"
     ],
     "language": "python",
     "metadata": {},
     "outputs": [],
     "prompt_number": 2
    },
    {
     "cell_type": "code",
     "collapsed": false,
     "input": [
      "alcohol = alcohol[alcohol['CommodityCode'] >= 220300][['Country', 'CommodityCode', 'Commodity', 'Flow', 'Quantity']]\n",
      "chocolate = chocolate[chocolate['CommodityCode'] >= 180620][['Country', 'CommodityCode', 'Commodity', 'Flow', 'Quantity']]\n",
      "marriage = marriage[['Country', 'Subgroup', 'Value']]"
     ],
     "language": "python",
     "metadata": {},
     "outputs": [],
     "prompt_number": 3
    },
    {
     "cell_type": "code",
     "collapsed": false,
     "input": [
      "alcohol.ix[alcohol.index[0]]"
     ],
     "language": "python",
     "metadata": {},
     "outputs": [],
     "prompt_number": 4
    },
    {
     "cell_type": "code",
     "collapsed": false,
     "input": [
      "alcohol[['CommodityCode', 'Commodity']].drop_duplicates('CommodityCode').sort('CommodityCode')"
     ],
     "language": "python",
     "metadata": {},
     "outputs": [],
     "prompt_number": 5
    },
    {
     "cell_type": "code",
     "collapsed": false,
     "input": [
      "chocolate.ix[chocolate.index[0]]"
     ],
     "language": "python",
     "metadata": {},
     "outputs": [],
     "prompt_number": 6
    },
    {
     "cell_type": "code",
     "collapsed": false,
     "input": [
      "chocolate[['CommodityCode', 'Commodity']].drop_duplicates('CommodityCode').sort('CommodityCode')"
     ],
     "language": "python",
     "metadata": {},
     "outputs": [],
     "prompt_number": 7
    },
    {
     "cell_type": "code",
     "collapsed": false,
     "input": [
      "marriage.ix[marriage.index[0]]"
     ],
     "language": "python",
     "metadata": {},
     "outputs": [],
     "prompt_number": 8
    },
    {
     "cell_type": "code",
     "collapsed": false,
     "input": [
      "marriage.groupby('Subgroup').mean()"
     ],
     "language": "python",
     "metadata": {},
     "outputs": [],
     "prompt_number": 9
    },
    {
     "cell_type": "code",
     "collapsed": false,
     "input": [
      "marriagePivot = marriage.pivot('Country', 'Subgroup', 'Value')\n",
      "marriagePivot"
     ],
     "language": "python",
     "metadata": {},
     "outputs": [],
     "prompt_number": 10
    },
    {
     "cell_type": "code",
     "collapsed": false,
     "input": [
      "from pandas import Series\n",
      "\n",
      "def compute_datasetRow(row):\n",
      "    country = row.name\n",
      "    sum_by_flow = lambda trades: trades[trades.Country == country].groupby('Flow').sum()['Quantity']\n",
      "    alcoholFlow = sum_by_flow(alcohol)\n",
      "    chocolateFlow = sum_by_flow(chocolate)\n",
      "    return Series(dict(\n",
      "        AlcoholImported=alcoholFlow.get('Import', 0),\n",
      "        AlcoholExported=alcoholFlow.get('Export', 0),\n",
      "        ChocolateImported=chocolateFlow.get('Import', 0),\n",
      "        ChocolateExported=chocolateFlow.get('Export', 0),\n",
      "        MarriageAgeFemale=row['Female'],\n",
      "        MarriageAgeMale=row['Male']), name=country)\n",
      "\n",
      "dataset = marriagePivot.apply(compute_datasetRow, axis=1)"
     ],
     "language": "python",
     "metadata": {},
     "outputs": [],
     "prompt_number": 11
    },
    {
     "cell_type": "code",
     "collapsed": false,
     "input": [
      "dataset.AlcoholImported.idxmax()"
     ],
     "language": "python",
     "metadata": {},
     "outputs": [],
     "prompt_number": 12
    },
    {
     "cell_type": "code",
     "collapsed": false,
     "input": [
      "dataset.AlcoholImported.order(ascending=False)[:5]"
     ],
     "language": "python",
     "metadata": {},
     "outputs": [],
     "prompt_number": 13
    },
    {
     "cell_type": "code",
     "collapsed": false,
     "input": [
      "import numpy as np\n",
      "from pandas import DataFrame\n",
      "from sklearn.svm import SVR\n",
      "from sklearn.pipeline import Pipeline\n",
      "from sklearn.preprocessing import StandardScaler\n",
      "from sklearn.linear_model import LinearRegression\n",
      "from sklearn.cross_validation import cross_val_score\n",
      "\n",
      "featureColumns = [_ for _ in dataset.columns if not _.startswith('Marriage')]\n",
      "\n",
      "def score_model(model, targetColumn):\n",
      "    pruned = dataset[featureColumns + [targetColumn]].dropna()\n",
      "    return np.mean(cross_val_score(model, pruned[featureColumns], pruned[targetColumn]))\n",
      "\n",
      "def score_models(models):\n",
      "    modelNames = [model.__class__.__name__ for model in models]\n",
      "    results = []\n",
      "    for model in models:\n",
      "        results.append([\n",
      "            score_model(model, 'MarriageAgeFemale'),\n",
      "            score_model(model, 'MarriageAgeMale'),\n",
      "        ])\n",
      "    return DataFrame(results, index=modelNames, columns=['Female', 'Male'])"
     ],
     "language": "python",
     "metadata": {},
     "outputs": [],
     "prompt_number": 14
    },
    {
     "cell_type": "code",
     "collapsed": false,
     "input": [
      "score_models([\n",
      "    LinearRegression(),\n",
      "    SVR(),\n",
      "    Pipeline([\n",
      "        ('StandardScaler', StandardScaler()),\n",
      "        ('Model', SVR()),\n",
      "    ]),\n",
      "])"
     ],
     "language": "python",
     "metadata": {},
     "outputs": [],
     "prompt_number": 15
    },
    {
     "cell_type": "code",
     "collapsed": false,
     "input": [
      "from sklearn.feature_selection import RFECV\n",
      "                    \n",
      "def rank_features(model, targetColumn):\n",
      "    pruned = dataset[featureColumns + [targetColumn]].dropna()\n",
      "    featureSelector = RFECV(model)\n",
      "    featureSelector.fit(pruned[featureColumns], pruned[targetColumn])\n",
      "    return sorted(zip(featureSelector.ranking_, featureColumns))"
     ],
     "language": "python",
     "metadata": {},
     "outputs": [],
     "prompt_number": 16
    },
    {
     "cell_type": "code",
     "collapsed": false,
     "input": [
      "rank_features(LinearRegression(), 'MarriageAgeFemale')"
     ],
     "language": "python",
     "metadata": {},
     "outputs": [],
     "prompt_number": 17
    },
    {
     "cell_type": "code",
     "collapsed": false,
     "input": [
      "rank_features(LinearRegression(), 'MarriageAgeMale')"
     ],
     "language": "python",
     "metadata": {},
     "outputs": [],
     "prompt_number": 18
    }
   ],
   "metadata": {}
  }
 ]
}