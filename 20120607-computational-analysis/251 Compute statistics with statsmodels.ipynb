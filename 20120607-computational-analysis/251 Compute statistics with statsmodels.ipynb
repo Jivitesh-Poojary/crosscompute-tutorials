{
 "metadata": {
  "name": "251 Compute statistics with statsmodels"
 },
 "nbformat": 3,
 "nbformat_minor": 0,
 "worksheets": [
  {
   "cells": [
    {
     "cell_type": "markdown",
     "metadata": {},
     "source": [
      "# [Statsmodels](http://statsmodels.sourceforge.net) is a collection of statistical models, tests and tools"
     ]
    },
    {
     "cell_type": "code",
     "collapsed": false,
     "input": [
      "# Adapted from\n",
      "# https://github.com/statsmodels/statsmodels/examples/example_ols_minimal.py\n",
      "import numpy as np\n",
      "import statsmodels.api as sm\n",
      "\n",
      "nsample = 100\n",
      "x = np.linspace(0, 10, 100)\n",
      "X = sm.add_constant(np.column_stack((x, x ** 2)))\n",
      "beta = np.array([1, 0.1, 10])\n",
      "y = np.dot(X, beta) + np.random.normal(size=nsample)\n",
      "\n",
      "results = sm.OLS(y, X).fit()\n",
      "print results.summary()"
     ],
     "language": "python",
     "metadata": {},
     "outputs": [],
     "prompt_number": 5
    },
    {
     "cell_type": "markdown",
     "metadata": {},
     "source": [
      "- [Out of sample prediction](http://statsmodels.sourceforge.net/devel/examples/generated/example_predict.html)\n",
      "- [Using dates with time series models](http://statsmodels.sourceforge.net/devel/examples/generated/ex_dates.html)"
     ]
    },
    {
     "cell_type": "code",
     "collapsed": false,
     "input": [
      "# Cut and paste an example here and press CTRL-ENTER"
     ],
     "language": "python",
     "metadata": {},
     "outputs": []
    },
    {
     "cell_type": "markdown",
     "metadata": {},
     "source": [
      "- [Statsmodels documentation](http://statsmodels.sourceforge.net)\n",
      "- [Statsmodels examples](https://github.com/statsmodels/statsmodels/examples)"
     ]
    }
   ],
   "metadata": {}
  }
 ]
}