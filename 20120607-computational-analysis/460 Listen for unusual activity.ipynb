{
 "metadata": {
  "name": "460 Listen for unusual activity"
 },
 "nbformat": 3,
 "nbformat_minor": 0,
 "worksheets": [
  {
   "cells": [
    {
     "cell_type": "markdown",
     "metadata": {},
     "source": [
      "# Anomaly detection"
     ]
    },
    {
     "cell_type": "markdown",
     "metadata": {},
     "source": [
      "Jack is building an early-warning system for unusual server activity.  He is using the following variables gathered from server access logs:\n",
      "\n",
      "- Location of IP address\n",
      "- Day of the week\n",
      "- Time of day\n",
      "- Number of unique URLs accessed by IP address in the last minute\n",
      "- Average number of access counts per url"
     ]
    },
    {
     "cell_type": "markdown",
     "metadata": {},
     "source": [
      "## [Detect outliers](http://scikit-learn.org/dev/modules/outlier_detection.html)"
     ]
    },
    {
     "cell_type": "code",
     "collapsed": false,
     "input": [
      "from scripts import make_logs\n",
      "logs = make_logs(inlierCount=1000, outlierCount=10)\n",
      "inliers = logs.data[:1000]\n",
      "outliers = logs.data[1000:]"
     ],
     "language": "python",
     "metadata": {},
     "outputs": [],
     "prompt_number": 3
    },
    {
     "cell_type": "code",
     "collapsed": false,
     "input": [
      "from sklearn import svm\n",
      "model = svm.OneClassSVM(nu=0.1, kernel='rbf', gamma=0.1)"
     ],
     "language": "python",
     "metadata": {},
     "outputs": [],
     "prompt_number": 4
    },
    {
     "cell_type": "code",
     "collapsed": false,
     "input": [
      "model.fit(inliers)"
     ],
     "language": "python",
     "metadata": {},
     "outputs": [],
     "prompt_number": 5
    },
    {
     "cell_type": "code",
     "collapsed": false,
     "input": [
      "model.predict(inliers[0])"
     ],
     "language": "python",
     "metadata": {},
     "outputs": [],
     "prompt_number": 6
    },
    {
     "cell_type": "code",
     "collapsed": false,
     "input": [
      "model.predict(outliers[0])"
     ],
     "language": "python",
     "metadata": {},
     "outputs": [],
     "prompt_number": 7
    },
    {
     "cell_type": "code",
     "collapsed": true,
     "input": [
      "predictions = model.predict(inliers)\n",
      "errors = predictions[predictions == -1].size \n",
      "print 'Error rate: %s %%' % (100 * errors / float(len(predictions)))"
     ],
     "language": "python",
     "metadata": {},
     "outputs": [],
     "prompt_number": 8
    },
    {
     "cell_type": "code",
     "collapsed": false,
     "input": [
      "model.predict(outliers)"
     ],
     "language": "python",
     "metadata": {},
     "outputs": [],
     "prompt_number": 9
    }
   ],
   "metadata": {}
  }
 ]
}