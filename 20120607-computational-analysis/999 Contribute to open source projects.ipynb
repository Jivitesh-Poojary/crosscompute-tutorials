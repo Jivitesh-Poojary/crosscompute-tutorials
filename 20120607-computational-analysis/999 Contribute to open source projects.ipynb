{
 "metadata": {
  "name": "999 Contribute to open source projects"
 },
 "nbformat": 3,
 "nbformat_minor": 0,
 "worksheets": [
  {
   "cells": [
    {
     "cell_type": "markdown",
     "metadata": {},
     "source": [
      "- Read code from open source repositories.\n",
      "- Report bugs.\n",
      "- File feature requests.\n",
      "- Fix bugs.\n",
      "- Add features."
     ]
    }
   ],
   "metadata": {}
  }
 ]
}