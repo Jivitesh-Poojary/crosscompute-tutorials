{
 "metadata": {
  "name": "501 Discuss practical considerations in real-world applications"
 },
 "nbformat": 3,
 "nbformat_minor": 0,
 "worksheets": [
  {
   "cells": [
    {
     "cell_type": "markdown",
     "metadata": {},
     "source": [
      "## Pandas\n",
      "\n",
      "Chunk large CSV files."
     ]
    },
    {
     "cell_type": "code",
     "collapsed": false,
     "input": [
      "def load(filePath, **kw):\n",
      "    ignore_index = 'index_col' not in kw\n",
      "    chunkIterator = read_csv(filePath, iterator=True, chunksize=10000, **kw)\n",
      "    return concat(chunkIterator, ignore_index=ignore_index)"
     ],
     "language": "python",
     "metadata": {},
     "outputs": []
    },
    {
     "cell_type": "markdown",
     "metadata": {},
     "source": [
      "Limit columns in DataFrames."
     ]
    },
    {
     "cell_type": "code",
     "collapsed": false,
     "input": [
      "from pandas import read_csv\n",
      "chocolate = read_csv('datasets/UN-Chocolate.csv')\n",
      "chocolate"
     ],
     "language": "python",
     "metadata": {},
     "outputs": [],
     "prompt_number": 4
    },
    {
     "cell_type": "code",
     "collapsed": false,
     "input": [
      "chocolate[['Year', 'Flow']]"
     ],
     "language": "python",
     "metadata": {},
     "outputs": [],
     "prompt_number": 5
    },
    {
     "cell_type": "markdown",
     "metadata": {},
     "source": [
      "- Use `h5py`\n",
      "- Use `numpy.memmap`\n",
      "- Use `lru_cache` or `dogpile.cache` for computationally intensive operations"
     ]
    },
    {
     "cell_type": "code",
     "collapsed": false,
     "input": [
      "from dogpile.cache import make_region\n",
      "region = make_region().configure('dogpile.cache.memory')\n",
      "cache_on_arguments = region.cache_on_arguments\n",
      "\n",
      "@cache_on_arguments()\n",
      "def f(x):\n",
      "    print 'Wheee!'\n",
      "    return x\n",
      "\n",
      "print f(1)\n",
      "print f(1)  # Cached\n",
      "print f(2)\n",
      "print f(2)  # Cached"
     ],
     "language": "python",
     "metadata": {},
     "outputs": [
      {
       "output_type": "stream",
       "stream": "stdout",
       "text": [
        "Wheee!\n",
        "1\n",
        "1\n",
        "Wheee!\n",
        "2\n",
        "2\n"
       ]
      }
     ],
     "prompt_number": 2
    },
    {
     "cell_type": "markdown",
     "metadata": {},
     "source": [
      "## Scikit-Learn"
     ]
    },
    {
     "cell_type": "markdown",
     "metadata": {},
     "source": [
      "Select features with cross-validation"
     ]
    },
    {
     "cell_type": "markdown",
     "metadata": {},
     "source": [
      "Select models with cross-validation"
     ]
    },
    {
     "cell_type": "markdown",
     "metadata": {},
     "source": [
      "Scale samples"
     ]
    },
    {
     "cell_type": "markdown",
     "metadata": {},
     "source": [
      "Decorrelate samples"
     ]
    },
    {
     "cell_type": "markdown",
     "metadata": {},
     "source": [
      "Cross-validate with transformations by pipelining"
     ]
    },
    {
     "cell_type": "markdown",
     "metadata": {},
     "source": [
      "Interpolate missing labels"
     ]
    },
    {
     "cell_type": "markdown",
     "metadata": {},
     "source": [
      "## References\n",
      "\n",
      "- [Dataset transformations](http://scikit-learn.org/dev/modules/data_transforms.html)\n",
      "- [Classify a satellite image using a convolutional neural network](http://invisibleroads.com/tutorials/image-classify-convolutional-neural-network.html)"
     ]
    }
   ],
   "metadata": {}
  }
 ]
}