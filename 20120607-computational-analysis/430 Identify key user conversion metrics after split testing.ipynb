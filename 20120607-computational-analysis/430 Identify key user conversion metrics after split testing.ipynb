{
 "metadata": {
  "name": "430 Identify key user conversion metrics after split testing"
 },
 "nbformat": 3,
 "nbformat_minor": 0,
 "worksheets": [
  {
   "cells": [
    {
     "cell_type": "code",
     "collapsed": false,
     "input": [
      "import numpy as np\n",
      "from scripts import make_shirts\n",
      "shirts = make_shirts()"
     ],
     "language": "python",
     "metadata": {},
     "outputs": [],
     "prompt_number": 1
    },
    {
     "cell_type": "markdown",
     "metadata": {},
     "source": [
      "# [Split testing](http://en.wikipedia.org/wiki/A/B_testing) analysis"
     ]
    },
    {
     "cell_type": "markdown",
     "metadata": {},
     "source": [
      "Stacy runs an online custom t-shirt business.  She is experimenting with layout design to increase sales.  Here are the different tweaks she has tried:\n",
      "\n",
      "- Include a photo of the t-shirt.\n",
      "- Show a real person wearing the t-shirt in the model.\n",
      "- Vary price.\n",
      "- Encourage more reviews.\n",
      "- Encourage longer reviews.\n",
      "- Advertise a t-shirt design on the homepage.\n",
      "- List a t-shirt design as being on sale.\n",
      "\n",
      "Since budget is limited, Stacy wants to focus on the layout enhancements that actually affect sales.  Please rank the layout enhancements based on 500 product records."
     ]
    },
    {
     "cell_type": "markdown",
     "metadata": {},
     "source": [
      "## Explore dataset"
     ]
    },
    {
     "cell_type": "code",
     "collapsed": false,
     "input": [
      "# Look at the first record\n",
      "zip(shirts.feature_names, shirts.data[0])"
     ],
     "language": "python",
     "metadata": {},
     "outputs": [],
     "prompt_number": 2
    },
    {
     "cell_type": "code",
     "collapsed": false,
     "input": [
      "# Check whether the first product sold\n",
      "print shirts.target[0]"
     ],
     "language": "python",
     "metadata": {},
     "outputs": [],
     "prompt_number": 3
    },
    {
     "cell_type": "markdown",
     "metadata": {},
     "source": [
      "Count the number of shirts that sold."
     ]
    },
    {
     "cell_type": "code",
     "collapsed": false,
     "input": [
      "# Type your solution here and press CTRL-ENTER"
     ],
     "language": "python",
     "metadata": {},
     "outputs": [],
     "prompt_number": 4
    },
    {
     "cell_type": "markdown",
     "metadata": {},
     "source": [
      "Compare price histograms between shirts that sold and shirts that didn't sell."
     ]
    },
    {
     "cell_type": "code",
     "collapsed": false,
     "input": [
      "# Type your solution here and press CTRL-ENTER"
     ],
     "language": "python",
     "metadata": {},
     "outputs": [],
     "prompt_number": 5
    },
    {
     "cell_type": "markdown",
     "metadata": {},
     "source": [
      "## Select model"
     ]
    },
    {
     "cell_type": "code",
     "collapsed": false,
     "input": [
      "from sklearn.cross_validation import StratifiedKFold, cross_val_score\n",
      "from sklearn.metrics import zero_one\n",
      "\n",
      "def evaluate_model(model):\n",
      "    return np.mean(cross_val_score(\n",
      "        model, \n",
      "        shirts.data, \n",
      "        shirts.target, \n",
      "        score_func=zero_one,\n",
      "        cv=StratifiedKFold(shirts.target, 3),\n",
      "        n_jobs=-1))"
     ],
     "language": "python",
     "metadata": {},
     "outputs": [],
     "prompt_number": 6
    },
    {
     "cell_type": "code",
     "collapsed": false,
     "input": [
      "from sklearn.naive_bayes import GaussianNB\n",
      "evaluate_model(GaussianNB())"
     ],
     "language": "python",
     "metadata": {},
     "outputs": [],
     "prompt_number": 7
    },
    {
     "cell_type": "code",
     "collapsed": false,
     "input": [
      "from sklearn.neighbors import KNeighborsClassifier\n",
      "evaluate_model(KNeighborsClassifier())"
     ],
     "language": "python",
     "metadata": {},
     "outputs": [],
     "prompt_number": 8
    },
    {
     "cell_type": "code",
     "collapsed": false,
     "input": [
      "from sklearn.tree import DecisionTreeClassifier\n",
      "from sklearn.neighbors import KNeighborsClassifier\n",
      "from sklearn.linear_model import LogisticRegression\n",
      "from sklearn.naive_bayes import GaussianNB\n",
      "from sklearn.svm import SVC\n",
      "\n",
      "models = [\n",
      "    DecisionTreeClassifier(),\n",
      "    KNeighborsClassifier(),\n",
      "    LogisticRegression(),\n",
      "    GaussianNB(),\n",
      "    SVC(),\n",
      "]\n",
      "bestScore = 0\n",
      "bestModel = None\n",
      "for model in models:\n",
      "    score = evaluate_model(model)\n",
      "    if score > bestScore:\n",
      "        bestScore = score\n",
      "        bestModel = model\n",
      "print bestModel\n",
      "print bestScore"
     ],
     "language": "python",
     "metadata": {},
     "outputs": [],
     "prompt_number": 9
    },
    {
     "cell_type": "markdown",
     "metadata": {},
     "source": [
      "## Rank features"
     ]
    },
    {
     "cell_type": "code",
     "collapsed": false,
     "input": [
      "from sklearn.feature_selection import RFE\n",
      "from sklearn.linear_model import LogisticRegression\n",
      "\n",
      "featureSelector = RFE(estimator=LogisticRegression(), n_features_to_select=1, step=1)\n",
      "featureSelector.fit(shirts.data, shirts.target)\n",
      "sorted(zip(featureSelector.ranking_, shirts.feature_names))"
     ],
     "language": "python",
     "metadata": {},
     "outputs": [],
     "prompt_number": 10
    },
    {
     "cell_type": "markdown",
     "metadata": {},
     "source": [
      "## Select features"
     ]
    },
    {
     "cell_type": "code",
     "collapsed": true,
     "input": [
      "from sklearn.feature_selection import RFECV\n",
      "from sklearn.linear_model import LogisticRegression\n",
      "from sklearn.cross_validation import StratifiedKFold\n",
      "from sklearn.metrics import zero_one\n",
      "\n",
      "featureSelector = RFECV(\n",
      "    estimator=LogisticRegression(), \n",
      "    step=1, \n",
      "    cv=StratifiedKFold(shirts.target, 3),\n",
      "    loss_func=zero_one)\n",
      "featureSelector.fit(shirts.data, shirts.target)\n",
      "\n",
      "# Plot number of features against cross-validation scores\n",
      "import pylab as pl\n",
      "pl.figure()\n",
      "pl.xlabel('# of features selected')\n",
      "pl.ylabel('# of misclassifications')\n",
      "pl.plot(xrange(1, len(featureSelector.cv_scores_) + 1), featureSelector.cv_scores_)\n",
      "pl.show()"
     ],
     "language": "python",
     "metadata": {},
     "outputs": [],
     "prompt_number": 11
    },
    {
     "cell_type": "code",
     "collapsed": false,
     "input": [
      "print 'Optimal number of features = %d' % featureSelector.n_features_\n",
      "print sorted(zip(featureSelector.ranking_, shirts.feature_names))[:featureSelector.n_features_]"
     ],
     "language": "python",
     "metadata": {},
     "outputs": [],
     "prompt_number": 12
    }
   ],
   "metadata": {}
  }
 ]
}