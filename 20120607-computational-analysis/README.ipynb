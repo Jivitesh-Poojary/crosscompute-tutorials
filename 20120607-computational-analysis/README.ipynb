{
 "cells": [
  {
   "cell_type": "markdown",
   "metadata": {
    "deletable": true,
    "editable": true
   },
   "source": [
    "# Cross-disciplinary analytics hands-on workshop\n",
    "\n",
    "Welcome!\n",
    "\n",
    "Introduce yourself to two people whom you have not met before.\n",
    "\n",
    "> Hi, my name is Roy Hyunjin Han of [CrossCompute](https://crosscompute.com).\n",
    "\n",
    "## History\n",
    "\n",
    "We prepared these exercises from April to May 2012 for [Benjamin Dean](https://www.linkedin.com/in/benwdean), [Catherine Kwan](https://www.linkedin.com/in/catherine-kwan-27aba827/) and [Lauren Talbot](https://www.linkedin.com/in/laurentalbotnyc) on the 10th floor of City Hall in New York, thanks to Chief Analytics Officer [Michael Flowers](https://www.linkedin.com/in/michael-flowers-8b61601b) and Chief of Staff [Nicholas O'Brian](https://www.linkedin.com/in/njobrien) of the [NYC Mayor's Office of Policy and Strategic Planning Analytics](http://www.nyc.gov/analytics).\n",
    "\n",
    "We taught this workshop in six hours using Amazon EC2 on June 7th, 2012 at [PyCon Asia Pacific](http://pycon.blogspot.com/2012/05/apac-pycon-2012.html) in Singapore, thanks to Conference Organizer [Liew Beng Keat](https://www.researchgate.net/profile/Beng_Liew) of [Republic Polytechnic](http://www.rp.edu.sg).\n",
    "\n",
    "We presented this workshop in three hours using Amazon EC2 on October 23rd, 2012 at [Strata + Hadoop World](https://conferences.oreilly.com/strata/stratany2012) in New York, thanks to Speaker Manager [Sophia DeMartini](https://www.linkedin.com/in/sophiademartini) of [O'Reilly](https://conferences.oreilly.com).\n",
    "\n",
    "## Installation\n",
    "\n",
    "If you prefer to run these notebooks on your own machine, you can follow the steps below:\n",
    "\n",
    "    # Install packages on Fedora or Ubuntu\n",
    "    cd ~/Documents\n",
    "    git clone https://github.com/crosscompute/crosscompute-environments-ansible\n",
    "    cd ~/Documents/crosscompute-environments-ansible\n",
    "    bash setup.sh\n",
    "\n",
    "    # Download tutorials\n",
    "    cd ~/Documents\n",
    "    git clone https://github.com/crosscompute/crosscompute-tutorials.git\n",
    "\n",
    "    # Activate virtual environment and start IPython notebook\n",
    "    cd ~/Documents/crosscompute-tutorials\n",
    "    n\n",
    "    \n",
    "    \n",
    "## Updates\n",
    "\n",
    "- http://twitter.com/crosscompute\n",
    "- http://news.crosscompute.com\n",
    "- https://groups.google.com/d/forum/crosscompute-tutorials"
   ]
  },
  {
   "cell_type": "markdown",
   "metadata": {
    "deletable": true,
    "editable": true
   },
   "source": [
    "## Skills we will practice\n",
    "\n",
    "- Read documentation to learn usage.\n",
    "- Modify source code to learn techniques.\n",
    "- Interact with data using IPython.\n",
    "\n",
    "## Packages we will use\n",
    "\n",
    "- [jupyter](http://jupyter.org), [bs4](https://www.crummy.com/software/BeautifulSoup), [lxml](http://lxml.de)\n",
    "- [numpy](http://www.numpy.org), [scipy](https://www.scipy.org), [matplotlib](http://matplotlib.org), [h5py](http://www.h5py.org)\n",
    "- [pandas](http://pandas.pydata.org), [scikit-learn](http://scikit-learn.org), [statsmodels](http://statsmodels.sourceforge.net)\n",
    "- [networkx](https://networkx.github.io), [geometryIO](https://pypi.python.org/pypi/geometryIO), [shapely](http://toblerity.org/shapely), [pysal](http://pysal.readthedocs.io)"
   ]
  },
  {
   "cell_type": "code",
   "execution_count": null,
   "metadata": {
    "collapsed": false,
    "deletable": true,
    "editable": true
   },
   "outputs": [],
   "source": [
    "# Click here and press CTRL-ENTER to run this cell\n",
    "import jupyter, bs4, lxml\n",
    "import numpy, scipy, matplotlib, h5py\n",
    "import pandas, sklearn, statsmodels\n",
    "import networkx, geometryIO, shapely, pysal"
   ]
  },
  {
   "cell_type": "markdown",
   "metadata": {
    "deletable": true,
    "editable": true
   },
   "source": [
    "If there is an error running the above cell, try installing the packages inside a terminal.\n",
    "\n",
    "    virtualenv -p $(which python3) ~/.virtualenvs/crosscompute\n",
    "    source ~/.virtualenvs/crosscompute/bin/activate\n",
    "    pip install jupyter\n",
    "    pip install bs4 lxml numpy scipy matplotlib\n",
    "    pip install pandas scikit-learn statsmodels networkx\n",
    "\n",
    "    sudo dnf install -y hdf5-devel\n",
    "    # sudo apt-get install hdf5-dev\n",
    "    pip install h5py\n",
    "\n",
    "    sudo dnf install -y python3-devel gdal-devel\n",
    "    # sudo apt-get install python3-dev libgdal-dev\n",
    "    export CPLUS_INCLUDE_PATH=/usr/include/gdal\n",
    "    export C_INCLUDE_PATH=/usr/include/gdal\n",
    "    pip install gdal\n",
    "    pip install geometryIO shapely\n",
    "    \n",
    "    pip uninstall pysal\n",
    "    pip install --no-cache-dir pysal    "
   ]
  },
  {
   "cell_type": "markdown",
   "metadata": {
    "deletable": true,
    "editable": true
   },
   "source": [
    "## Why Python?"
   ]
  },
  {
   "cell_type": "markdown",
   "metadata": {
    "deletable": true,
    "editable": true
   },
   "source": [
    "[PyCon Australia 2011 Keynote: Raymond Hettinger](http://pyvideo.org/video/976/keynote-raymond-hettinger)"
   ]
  },
  {
   "cell_type": "code",
   "execution_count": null,
   "metadata": {
    "collapsed": false,
    "deletable": true,
    "editable": true
   },
   "outputs": [],
   "source": [
    "from IPython.lib.display import YouTubeVideo\n",
    "YouTubeVideo('b_pTxGu2L04')"
   ]
  }
 ],
 "metadata": {
  "kernelspec": {
   "display_name": "Python 3",
   "language": "python",
   "name": "python3"
  },
  "language_info": {
   "codemirror_mode": {
    "name": "ipython",
    "version": 3
   },
   "file_extension": ".py",
   "mimetype": "text/x-python",
   "name": "python",
   "nbconvert_exporter": "python",
   "pygments_lexer": "ipython3",
   "version": "3.5.2"
  }
 },
 "nbformat": 4,
 "nbformat_minor": 0
}
