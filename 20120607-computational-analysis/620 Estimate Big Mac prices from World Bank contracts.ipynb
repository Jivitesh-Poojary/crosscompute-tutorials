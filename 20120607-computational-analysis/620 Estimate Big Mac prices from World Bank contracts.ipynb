{
 "metadata": {
  "name": "620 Estimate Big Mac prices from World Bank contracts"
 },
 "nbformat": 3,
 "nbformat_minor": 0,
 "worksheets": [
  {
   "cells": [
    {
     "cell_type": "markdown",
     "metadata": {},
     "source": [
      "- [Economist Big Mac Index](http://www.economist.com/blogs/graphicdetail/2012/07/daily-chart-17)\n",
      "- [World Bank Contracts](https://finances.worldbank.org/Procurement/Major-Contract-Awards-FY2010-FY2012-Beta-version/kdui-wcs3)"
     ]
    },
    {
     "cell_type": "code",
     "collapsed": false,
     "input": [
      "from pandas import DataFrame, Series, ExcelFile, concat, read_csv"
     ],
     "language": "python",
     "metadata": {},
     "outputs": [],
     "prompt_number": 17
    },
    {
     "cell_type": "code",
     "collapsed": false,
     "input": [
      "excelFile = ExcelFile('datasets/Economist-BigMacIndex-201207.xls')\n",
      "sheetName = excelFile.sheet_names[0]\n",
      "economistBigMacPrices = excelFile.parse(sheetName)\n",
      "economistBigMacPrices.tail()"
     ],
     "language": "python",
     "metadata": {},
     "outputs": [],
     "prompt_number": 18
    },
    {
     "cell_type": "code",
     "collapsed": false,
     "input": [
      "worldBankContracts = read_csv('datasets/WorldBank-ContractAwards.csv')\n",
      "# Examine first row\n",
      "worldBankContracts.ix[0]"
     ],
     "language": "python",
     "metadata": {},
     "outputs": [],
     "prompt_number": 19
    },
    {
     "cell_type": "code",
     "collapsed": false,
     "input": [
      "# Parse currency\n",
      "def parse_currency(x):\n",
      "    return float(x.replace('$', ''))\n",
      "worldBankContracts['Contract Amount'] = worldBankContracts['Total Contract Amount (USD)'].apply(parse_currency)\n",
      "# Extract columns we will use\n",
      "worldBankContracts = worldBankContracts[[\n",
      "    'Borrower Country',\n",
      "    'Supplier Country',\n",
      "    'Procurement Type',\n",
      "    'Contract Amount',\n",
      "]]\n",
      "# Preview table\n",
      "worldBankContracts.head()"
     ],
     "language": "python",
     "metadata": {},
     "outputs": [],
     "prompt_number": 20
    },
    {
     "cell_type": "code",
     "collapsed": false,
     "input": [
      "def get_countries():\n",
      "    return worldBankContracts[[\n",
      "        'Borrower Country', \n",
      "        'Supplier Country',\n",
      "    ]].unstack().unique()\n",
      "\n",
      "def get_unmatched_countries(countries):\n",
      "    return set(countries) - set(get_countries())\n",
      "\n",
      "# Check whether the Economist dataset contains countries\n",
      "# that are not in the World Bank dataset\n",
      "get_unmatched_countries(economistBigMacPrices['Country'])"
     ],
     "language": "python",
     "metadata": {},
     "outputs": [],
     "prompt_number": 21
    },
    {
     "cell_type": "code",
     "collapsed": false,
     "input": [
      "from pandas import read_csv\n",
      "countryNames = read_csv('datasets/World-CountryNames.csv')\n",
      "countryNames"
     ],
     "language": "python",
     "metadata": {},
     "outputs": [],
     "prompt_number": 22
    },
    {
     "cell_type": "code",
     "collapsed": false,
     "input": [
      "# Translate world bank country names from formal to informal\n",
      "for rowIndex, row in countryNames.iterrows():\n",
      "    worldBankContracts.replace(row['Formal'], row['Informal'], inplace=True)"
     ],
     "language": "python",
     "metadata": {},
     "outputs": [],
     "prompt_number": 23
    },
    {
     "cell_type": "code",
     "collapsed": false,
     "input": [
      "# Define features\n",
      "def compute_country_role(country, role):\n",
      "    contracts = worldBankContracts[worldBankContracts[role + ' Country'] == country]\n",
      "    # Count contracts by procurement type\n",
      "    countsByType = contracts['Procurement Type'].value_counts()\n",
      "    countsByType.index = [role + 'Count(%s)' % _ for _ in countsByType.index]\n",
      "    # Sum contracts by procurement type\n",
      "    sumsByType = contracts.groupby('Procurement Type').sum()['Contract Amount']\n",
      "    sumsByType.index = [role + 'Sum(%s)' % _ for _ in sumsByType.index]\n",
      "    # Assemble\n",
      "    return concat([\n",
      "        Series({\n",
      "            # Count contracts\n",
      "            role + 'Count': len(contracts),\n",
      "            # Sum contracts\n",
      "            role + 'Sum': sum(contracts['Contract Amount']),\n",
      "        }),\n",
      "        countsByType,\n",
      "        sumsByType,\n",
      "    ])\n",
      "\n",
      "def compute_country(country):\n",
      "    return concat([\n",
      "        compute_country_role(country, 'Borrower'),\n",
      "        compute_country_role(country, 'Supplier'),\n",
      "    ])"
     ],
     "language": "python",
     "metadata": {},
     "outputs": [],
     "prompt_number": 24
    },
    {
     "cell_type": "code",
     "collapsed": false,
     "input": [
      "# Build dataset\n",
      "def compute_row(economistBigMacRow):\n",
      "    country = economistBigMacRow['Country']\n",
      "    price = economistBigMacRow['USD']\n",
      "    return concat([\n",
      "        Series({'Country': country}),\n",
      "        compute_country(country),\n",
      "        Series({'Price': price}),\n",
      "    ])\n",
      "dataset = economistBigMacPrices.apply(compute_row, axis=1).fillna(0)"
     ],
     "language": "python",
     "metadata": {},
     "outputs": [],
     "prompt_number": 25
    },
    {
     "cell_type": "code",
     "collapsed": true,
     "input": [
      "euCountries = [_.strip() for _ in open('datasets/EuropeanUnion-MemberStates.txt')]\n",
      "# Check whether the EU dataset contains countries\n",
      "# that are not in the World Bank dataset\n",
      "get_unmatched_countries(euCountries)"
     ],
     "language": "python",
     "metadata": {},
     "outputs": [],
     "prompt_number": 26
    },
    {
     "cell_type": "code",
     "collapsed": false,
     "input": [
      "# Compute features for Euro area\n",
      "euStatistics = concat([compute_country(_) for _ in euCountries], axis=1).fillna(0)\n",
      "euSummary = euStatistics.sum(axis=1)"
     ],
     "language": "python",
     "metadata": {},
     "outputs": [],
     "prompt_number": 27
    },
    {
     "cell_type": "code",
     "collapsed": false,
     "input": [
      "# Update features for Euro area\n",
      "euIndex = (dataset['Country'] == 'Euro area').argmax()\n",
      "dataset.ix[euIndex] = euSummary.combine_first(dataset.ix[euIndex])"
     ],
     "language": "python",
     "metadata": {},
     "outputs": [],
     "prompt_number": 28
    },
    {
     "cell_type": "code",
     "collapsed": false,
     "input": [
      "# Check that we have all the Big Mac countries in the dataset\n",
      "all(dataset['Country'] == economistBigMacPrices['Country'])"
     ],
     "language": "python",
     "metadata": {},
     "outputs": [],
     "prompt_number": 29
    },
    {
     "cell_type": "code",
     "collapsed": false,
     "input": [
      "import numpy as np\n",
      "from sklearn.cross_validation import cross_val_score\n",
      "\n",
      "def score_features(model, featureColumns):    \n",
      "    return np.mean(cross_val_score(\n",
      "        model, \n",
      "        dataset[featureColumns], \n",
      "        dataset['Price']))\n",
      "\n",
      "def score_models(models):\n",
      "    featureCombinations = [\n",
      "        ['BorrowerSum'],\n",
      "        ['BorrowerCount'],\n",
      "        ['BorrowerSum', 'BorrowerCount'],\n",
      "        ['SupplierSum'],\n",
      "        ['SupplierCount'],\n",
      "        ['SupplierSum', 'SupplierCount'],\n",
      "        ['BorrowerSum', 'SupplierSum'],\n",
      "        ['BorrowerCount', 'SupplierCount'],\n",
      "        ['BorrowerCount', 'BorrowerSum', 'SupplierCount', 'SupplierSum'],\n",
      "        [_ for _ in dataset.columns if _ not in ['Country', 'Price']],\n",
      "    ]\n",
      "    featureCombinationNames = [', '.join(_)[:30] for _ in featureCombinations]\n",
      "    modelNames = [model.__class__.__name__ for model in models]\n",
      "    results = []\n",
      "    for model in models:\n",
      "        results.append([score_features(model, _) for _ in featureCombinations])\n",
      "    return DataFrame(results, \n",
      "        index=modelNames,\n",
      "        columns=featureCombinationNames).transpose()"
     ],
     "language": "python",
     "metadata": {},
     "outputs": [],
     "prompt_number": 30
    },
    {
     "cell_type": "code",
     "collapsed": false,
     "input": [
      "from sklearn.linear_model import LinearRegression\n",
      "from sklearn.svm import SVR\n",
      "from sklearn.pipeline import Pipeline\n",
      "from sklearn.preprocessing import Normalizer\n",
      "from sklearn.decomposition import PCA\n",
      "\n",
      "score_models([\n",
      "    LinearRegression(),\n",
      "    SVR(),\n",
      "    Pipeline([\n",
      "        ('Normalizer', Normalizer()),\n",
      "        ('Model', SVR()),\n",
      "    ]),\n",
      "    Pipeline([\n",
      "        ('Decomposer', PCA()),\n",
      "        ('Model', SVR()),\n",
      "    ]),\n",
      "])"
     ],
     "language": "python",
     "metadata": {},
     "outputs": [],
     "prompt_number": 31
    },
    {
     "cell_type": "code",
     "collapsed": false,
     "input": [
      "selectedColumns = ['BorrowerSum', 'SupplierSum']\n",
      "# Fit model\n",
      "model = SVR()\n",
      "model.fit(dataset[selectedColumns], dataset['Price'])\n",
      "# Estimate Big Mac prices in countries not included in original Big Mac index\n",
      "model.predict(compute_country('Bolivia')[selectedColumns])"
     ],
     "language": "python",
     "metadata": {},
     "outputs": [],
     "prompt_number": 32
    },
    {
     "cell_type": "code",
     "collapsed": false,
     "input": [
      "# Batch estimate\n",
      "selectedCountries = get_countries()\n",
      "selectedStatistics = concat((compute_country(_) for _ in selectedCountries), axis=1).transpose()[selectedColumns]\n",
      "selectedPrices = model.predict(selectedStatistics)\n",
      "selectedRankings = sorted(zip(selectedPrices, selectedCountries))"
     ],
     "language": "python",
     "metadata": {},
     "outputs": [],
     "prompt_number": 33
    },
    {
     "cell_type": "code",
     "collapsed": false,
     "input": [
      "# Find the top ten countries that will give us the best deal for a Big Mac\n",
      "selectedRankings[:10]"
     ],
     "language": "python",
     "metadata": {},
     "outputs": [],
     "prompt_number": 34
    }
   ],
   "metadata": {}
  }
 ]
}