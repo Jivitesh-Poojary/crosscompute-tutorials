{
 "metadata": {
  "name": "481 Parallelize symbolic mathematics on multi-dimensional arrays with Theano"
 },
 "nbformat": 3,
 "nbformat_minor": 0,
 "worksheets": [
  {
   "cells": [
    {
     "cell_type": "markdown",
     "metadata": {},
     "source": [
      "# Theano parallelizes symbolic mathematics on multi-dimensional arrays\n",
      "\n",
      "Research in artificial intelligence involves experimenting with different ways to maximize learning and minimize error.  [Theano](http://deeplearning.net/software/theano) accelerates the experimentation process by making it easy to define, evaluate, differentiate functions on multi-dimensional arrays, with the optional benefit of using GPUs for speedups of up to 140x."
     ]
    },
    {
     "cell_type": "code",
     "collapsed": false,
     "input": [
      "import theano\n",
      "import theano.tensor as T"
     ],
     "language": "python",
     "metadata": {},
     "outputs": [
      {
       "output_type": "stream",
       "stream": "stderr",
       "text": [
        "Using gpu device 0: ION\n"
       ]
      }
     ],
     "prompt_number": 1
    },
    {
     "cell_type": "markdown",
     "metadata": {},
     "source": [
      "## Compile symbolic mathematics"
     ]
    },
    {
     "cell_type": "markdown",
     "metadata": {},
     "source": [
      "Add two scalars after defining and compiling a function."
     ]
    },
    {
     "cell_type": "code",
     "collapsed": false,
     "input": [
      "x = T.dscalar('x') # Decimal scalar (float32)\n",
      "y = T.dscalar('y')\n",
      "f = theano.function([x, y], x + y)\n",
      "f(2, 3)"
     ],
     "language": "python",
     "metadata": {},
     "outputs": [
      {
       "output_type": "pyout",
       "prompt_number": 12,
       "text": [
        "array(5.0)"
       ]
      }
     ],
     "prompt_number": 12
    },
    {
     "cell_type": "code",
     "collapsed": false,
     "input": [
      "f"
     ],
     "language": "python",
     "metadata": {},
     "outputs": [
      {
       "output_type": "pyout",
       "prompt_number": 13,
       "text": [
        "<theano.compile.function_module.Function at 0xb8bf60c>"
       ]
      }
     ],
     "prompt_number": 13
    },
    {
     "cell_type": "markdown",
     "metadata": {},
     "source": [
      "Add two matrices after defining and compiling a function."
     ]
    },
    {
     "cell_type": "code",
     "collapsed": false,
     "input": [
      "x = T.dmatrix('x')\n",
      "y = T.dmatrix('y')\n",
      "f = theano.function([x, y], x + y)\n",
      "f([[1, 2], [3, 4]], [[-1, -2], [-3, -4]])"
     ],
     "language": "python",
     "metadata": {},
     "outputs": [
      {
       "output_type": "pyout",
       "prompt_number": 26,
       "text": [
        "array([[ 0.,  0.],\n",
        "       [ 0.,  0.]])"
       ]
      }
     ],
     "prompt_number": 26
    },
    {
     "cell_type": "markdown",
     "metadata": {},
     "source": []
    },
    {
     "cell_type": "code",
     "collapsed": false,
     "input": [
      "state = theano.shared(0)\n",
      "x = T.iscalar('x') # Integer scalar (int32)\n",
      "accumulate = theano.function([x], state, updates=[(state, state + x)])\n",
      "accumulate(10); print state.get_value()\n",
      "accumulate(20); print state.get_value()"
     ],
     "language": "python",
     "metadata": {},
     "outputs": [
      {
       "output_type": "stream",
       "stream": "stdout",
       "text": [
        "10\n",
        "30\n"
       ]
      }
     ],
     "prompt_number": 10
    },
    {
     "cell_type": "markdown",
     "metadata": {},
     "source": [
      "## Differentiate functions on multi-dimensional arrays"
     ]
    },
    {
     "cell_type": "code",
     "collapsed": false,
     "input": [
      "x = T.dscalar('x')\n",
      "y = x ** 2\n",
      "f = theano.function([x], T.grad(y, x))\n",
      "print 'The derivative of %s is %s.' % (\n",
      "    theano.pp(y),\n",
      "    theano.pp(f.maker.env.outputs[0]))\n",
      "print 'Evaluating the derivative at x = 4 gives %s.' % f(4)"
     ],
     "language": "python",
     "metadata": {},
     "outputs": [
      {
       "output_type": "stream",
       "stream": "stdout",
       "text": [
        "The derivative of (x ** TensorConstant{2}) is (TensorConstant{2.0} * x).\n",
        "Evaluating the derivative at x = 4 gives 8.0.\n"
       ]
      }
     ],
     "prompt_number": 28
    },
    {
     "cell_type": "code",
     "collapsed": false,
     "input": [
      "x = T.dmatrix('x')\n",
      "s = T.sum(1 / (1 + T.exp(-x)))\n",
      "gs = T.grad(s, x)\n",
      "dlogistic = theano.function([x], gs)\n",
      "dlogistic([[0, 1], [-1, -2]])"
     ],
     "language": "python",
     "metadata": {},
     "outputs": [
      {
       "output_type": "pyout",
       "prompt_number": 2,
       "text": [
        "array([[ 0.25      ,  0.19661193],\n",
        "       [ 0.19661193,  0.10499359]])"
       ]
      }
     ],
     "prompt_number": 2
    },
    {
     "cell_type": "code",
     "collapsed": false,
     "input": [
      "f = theano.function([x], T.jacobian(s, x))\n",
      "f([[0, 1], [-1, -2]])"
     ],
     "language": "python",
     "metadata": {},
     "outputs": [
      {
       "output_type": "pyout",
       "prompt_number": 8,
       "text": [
        "array([[ 0.25      ,  0.19661193],\n",
        "       [ 0.19661193,  0.10499359]])"
       ]
      }
     ],
     "prompt_number": 8
    },
    {
     "cell_type": "markdown",
     "metadata": {},
     "source": [
      "## Use GPUs for speedups of up to 140x"
     ]
    },
    {
     "cell_type": "code",
     "collapsed": false,
     "input": [
      "from theano import function, config, shared, sandbox\n",
      "import theano.tensor as T\n",
      "import numpy\n",
      "import time\n",
      "\n",
      "vlen = 10 * 30 * 768  # 10 x #cores x # threads per core\n",
      "iters = 1000\n",
      "\n",
      "rng = numpy.random.RandomState(22)\n",
      "x = shared(numpy.asarray(rng.rand(vlen), config.floatX))\n",
      "f = function([], T.exp(x))\n",
      "t0 = time.time()\n",
      "for i in xrange(iters):\n",
      "    r = f()\n",
      "print 'Looping %d times took'%iters, time.time() - t0, 'seconds'\n",
      "print 'Result is', r\n",
      "print 'Used the','cpu' if numpy.any( [isinstance(x.op,T.Elemwise) for x in f.maker.env.toposort()]) else 'gpu'"
     ],
     "language": "python",
     "metadata": {},
     "outputs": [
      {
       "output_type": "stream",
       "stream": "stdout",
       "text": [
        "Looping 1000 times took 1.57673311234 seconds\n",
        "Result is <CudaNdarray object at 0xcc0f2f0>\n",
        "Numpy result is [ 1.23178029  1.61879349  1.52278066 ...,  2.20771813  2.29967761\n",
        "  1.62323296]\n",
        "Used the gpu\n"
       ]
      }
     ],
     "prompt_number": 29
    },
    {
     "cell_type": "code",
     "collapsed": false,
     "input": [
      "from theano import function, config, shared, sandbox, Out\n",
      "import theano.tensor as T\n",
      "import numpy\n",
      "import time\n",
      "\n",
      "vlen = 10 * 30 * 768  # 10 x #cores x # threads per core\n",
      "iters = 1000\n",
      "\n",
      "rng = numpy.random.RandomState(22)\n",
      "x = shared(numpy.asarray(rng.rand(vlen), config.floatX))\n",
      "f = function([],\n",
      "        Out(sandbox.cuda.basic_ops.gpu_from_host(T.exp(x)),\n",
      "            borrow=True))\n",
      "t0 = time.time()\n",
      "for i in xrange(iters):\n",
      "    r = f()\n",
      "print 'Looping %d times took'%iters, time.time() - t0, 'seconds'\n",
      "print 'Result is', r\n",
      "print 'Numpy result is', numpy.asarray(r)\n",
      "print 'Used the','cpu' if numpy.any( [isinstance(x.op,T.Elemwise) for x in f.maker.env.toposort()]) else 'gpu'"
     ],
     "language": "python",
     "metadata": {},
     "outputs": []
    },
    {
     "cell_type": "markdown",
     "metadata": {},
     "source": [
      "## Learn more\n",
      "\n",
      "- [Theano](http://deeplearning.net/software/theano)\n",
      "- [Theano Tutorial](http://deeplearning.net/software/theano/tutorial/index.html#tutorial)\n",
      "- [Theano Code Repository](https://github.com/Theano/Theano)\n",
      "- [Theano Code Examples](https://github.com/Theano/Theano/tree/master/doc/examples)\n",
      "- [Theano Code Usage Tests](https://github.com/Theano/Theano/tree/master/theano/tests)\n",
      "- [Deep Learning](http://www.deeplearning.net)\n",
      "- [Deep Learning Tutorial](http://www.deeplearning.net/tutorial)\n",
      "- [Deep Learning Tutorial Code Repository](https://github.com/lisa-lab/DeepLearningTutorials)\n",
      "- [Deep Learning Tutorial Code Examples](https://github.com/lisa-lab/DeepLearningTutorials/tree/master/code)\n",
      "- [Lisa Lab at the University of Montr\u00e9al](http://www.iro.umontreal.ca/rubrique.php3?id_rubrique=27)"
     ]
    }
   ],
   "metadata": {}
  }
 ]
}