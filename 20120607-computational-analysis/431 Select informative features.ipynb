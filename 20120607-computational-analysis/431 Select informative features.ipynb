{
 "metadata": {
  "name": "431 Select informative features"
 },
 "nbformat": 3,
 "nbformat_minor": 0,
 "worksheets": [
  {
   "cells": [
    {
     "cell_type": "markdown",
     "metadata": {},
     "source": [
      "Select informative features\n",
      "===========================\n",
      "Often, datasets contain features that are irrelevant to the current problem.\n",
      "Feature selection is the process of reducing the number of features in your dataset.\n",
      "The benefit is that the required size of a dataset shrinks, decreasing both\n",
      "training and prediction time while increasing accuracy.\n",
      "\n",
      "Use recursive feature elimination\n",
      "---------------------------------\n",
      "The scikit-learn package contains one implementation that requires you to specify\n",
      "the number of features to select and another implementation that tunes the number\n",
      "of features automatically through cross-validation.\n",
      "\n",
      "The following example is based on \n",
      "http://scikit-learn.org/dev/auto_examples/plot_rfe_with_cross_validation.html"
     ]
    },
    {
     "cell_type": "code",
     "collapsed": false,
     "input": [
      "# Synthesize a classification dataset with 25 total features,\n",
      "# 3 informative features, 2 redundant features\n",
      "from sklearn.datasets import make_classification\n",
      "X, y = make_classification(n_samples=1000, n_features=25, n_informative=3,\n",
      "    n_redundant=2, n_repeated=0, n_classes=8, n_clusters_per_class=1,\n",
      "    random_state=0)"
     ],
     "language": "python",
     "metadata": {},
     "outputs": [],
     "prompt_number": 1
    },
    {
     "cell_type": "code",
     "collapsed": false,
     "input": [
      "# Select features\n",
      "from sklearn.feature_selection import RFECV\n",
      "from sklearn.svm import SVC\n",
      "from sklearn.cross_validation import StratifiedKFold\n",
      "from sklearn.metrics import zero_one\n",
      "featureSelector = RFECV(estimator=SVC(kernel='linear'), step=1,\n",
      "    cv=StratifiedKFold(y, 2), loss_func=zero_one)\n",
      "featureSelector.fit(X, y)"
     ],
     "language": "python",
     "metadata": {},
     "outputs": [],
     "prompt_number": 2
    },
    {
     "cell_type": "code",
     "collapsed": false,
     "input": [
      "# Look at fitted parameters of featureSelector\n",
      "[x for x in dir(featureSelector) if not x.startswith('_') and x.endswith('_')]"
     ],
     "language": "python",
     "metadata": {},
     "outputs": [],
     "prompt_number": 3
    },
    {
     "cell_type": "code",
     "collapsed": false,
     "input": [
      "# Check the number of features\n",
      "len(X[0])"
     ],
     "language": "python",
     "metadata": {},
     "outputs": [],
     "prompt_number": 4
    },
    {
     "cell_type": "code",
     "collapsed": false,
     "input": [
      "# Look at a specific sample of features\n",
      "X[0]"
     ],
     "language": "python",
     "metadata": {},
     "outputs": [],
     "prompt_number": 5
    },
    {
     "cell_type": "code",
     "collapsed": false,
     "input": [
      "# Look at how the features have been ranked\n",
      "featureSelector.ranking_"
     ],
     "language": "python",
     "metadata": {},
     "outputs": [],
     "prompt_number": 6
    },
    {
     "cell_type": "code",
     "collapsed": false,
     "input": [
      "# Get a boolean index array marking which features are informative\n",
      "featureSelector.support_"
     ],
     "language": "python",
     "metadata": {},
     "outputs": [],
     "prompt_number": 7
    },
    {
     "cell_type": "code",
     "collapsed": false,
     "input": [
      "# Count the number of features that have been ranked as informative\n",
      "print sum(featureSelector.ranking_ == 1)\n",
      "print sum(featureSelector.support_)\n",
      "print featureSelector.n_features_"
     ],
     "language": "python",
     "metadata": {},
     "outputs": [],
     "prompt_number": 8
    },
    {
     "cell_type": "code",
     "collapsed": false,
     "input": [
      "# Look at how the performance of the classifier changes as\n",
      "# features are included in the dataset in order of informative rank;\n",
      "# note that the cross-validation score is the number of\n",
      "# misclassifications because we chose the zero_one loss function\n",
      "print featureSelector.cv_scores_"
     ],
     "language": "python",
     "metadata": {},
     "outputs": [],
     "prompt_number": 9
    },
    {
     "cell_type": "code",
     "collapsed": false,
     "input": [
      "# Plot the above information;\n",
      "# note that after including the third feature,\n",
      "# the performance of the classifier does not improve\n",
      "import pylab as pl\n",
      "pl.figure()\n",
      "pl.title('Cross-validation scores after recursive feature elimination')\n",
      "pl.xlabel('Number of features selected')\n",
      "pl.ylabel('Number of misclassifications')\n",
      "pl.plot(xrange(1, len(featureSelector.cv_scores_) + 1),\n",
      "    featureSelector.cv_scores_)\n",
      "pl.show()"
     ],
     "language": "python",
     "metadata": {},
     "outputs": [],
     "prompt_number": 10
    }
   ],
   "metadata": {}
  }
 ]
}