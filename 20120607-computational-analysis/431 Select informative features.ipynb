{
 "cells": [
  {
   "cell_type": "markdown",
   "metadata": {
    "deletable": true,
    "editable": true
   },
   "source": [
    "Select informative features\n",
    "===========================\n",
    "Often, datasets contain features that are irrelevant to the current problem.\n",
    "Feature selection is the process of reducing the number of features in your dataset.\n",
    "The benefit is that the required size of a dataset shrinks, decreasing both\n",
    "training and prediction time while increasing accuracy.\n",
    "\n",
    "Use recursive feature elimination\n",
    "---------------------------------\n",
    "The scikit-learn package contains one implementation that requires you to specify\n",
    "the number of features to select and another implementation that tunes the number\n",
    "of features automatically through cross-validation.\n",
    "\n",
    "The following example is based on \n",
    "http://scikit-learn.org/dev/auto_examples/plot_rfe_with_cross_validation.html"
   ]
  },
  {
   "cell_type": "code",
   "execution_count": 1,
   "metadata": {
    "collapsed": false,
    "deletable": true,
    "editable": true
   },
   "outputs": [],
   "source": [
    "# Synthesize a classification dataset with 25 total features,\n",
    "# 3 informative features, 2 redundant features\n",
    "from sklearn.datasets import make_classification\n",
    "X, y = make_classification(n_samples=1000, n_features=25, n_informative=3,\n",
    "    n_redundant=2, n_repeated=0, n_classes=8, n_clusters_per_class=1,\n",
    "    random_state=0)"
   ]
  },
  {
   "cell_type": "code",
   "execution_count": 2,
   "metadata": {
    "collapsed": false,
    "deletable": true,
    "editable": true
   },
   "outputs": [],
   "source": [
    "# Select features\n",
    "from sklearn.feature_selection import RFECV\n",
    "from sklearn.svm import SVC\n",
    "from sklearn.cross_validation import StratifiedKFold\n",
    "from sklearn.metrics import zero_one\n",
    "featureSelector = RFECV(estimator=SVC(kernel='linear'), step=1,\n",
    "    cv=StratifiedKFold(y, 2), loss_func=zero_one)\n",
    "featureSelector.fit(X, y)"
   ]
  },
  {
   "cell_type": "code",
   "execution_count": 3,
   "metadata": {
    "collapsed": false,
    "deletable": true,
    "editable": true
   },
   "outputs": [],
   "source": [
    "# Look at fitted parameters of featureSelector\n",
    "[x for x in dir(featureSelector) if not x.startswith('_') and x.endswith('_')]"
   ]
  },
  {
   "cell_type": "code",
   "execution_count": 4,
   "metadata": {
    "collapsed": false,
    "deletable": true,
    "editable": true
   },
   "outputs": [],
   "source": [
    "# Check the number of features\n",
    "len(X[0])"
   ]
  },
  {
   "cell_type": "code",
   "execution_count": 5,
   "metadata": {
    "collapsed": false,
    "deletable": true,
    "editable": true
   },
   "outputs": [],
   "source": [
    "# Look at a specific sample of features\n",
    "X[0]"
   ]
  },
  {
   "cell_type": "code",
   "execution_count": 6,
   "metadata": {
    "collapsed": false,
    "deletable": true,
    "editable": true
   },
   "outputs": [],
   "source": [
    "# Look at how the features have been ranked\n",
    "featureSelector.ranking_"
   ]
  },
  {
   "cell_type": "code",
   "execution_count": 7,
   "metadata": {
    "collapsed": false,
    "deletable": true,
    "editable": true
   },
   "outputs": [],
   "source": [
    "# Get a boolean index array marking which features are informative\n",
    "featureSelector.support_"
   ]
  },
  {
   "cell_type": "code",
   "execution_count": 8,
   "metadata": {
    "collapsed": false,
    "deletable": true,
    "editable": true
   },
   "outputs": [],
   "source": [
    "# Count the number of features that have been ranked as informative\n",
    "print sum(featureSelector.ranking_ == 1)\n",
    "print sum(featureSelector.support_)\n",
    "print featureSelector.n_features_"
   ]
  },
  {
   "cell_type": "code",
   "execution_count": 9,
   "metadata": {
    "collapsed": false,
    "deletable": true,
    "editable": true
   },
   "outputs": [],
   "source": [
    "# Look at how the performance of the classifier changes as\n",
    "# features are included in the dataset in order of informative rank;\n",
    "# note that the cross-validation score is the number of\n",
    "# misclassifications because we chose the zero_one loss function\n",
    "print featureSelector.cv_scores_"
   ]
  },
  {
   "cell_type": "code",
   "execution_count": 10,
   "metadata": {
    "collapsed": false,
    "deletable": true,
    "editable": true
   },
   "outputs": [],
   "source": [
    "# Plot the above information;\n",
    "# note that after including the third feature,\n",
    "# the performance of the classifier does not improve\n",
    "import pylab as pl\n",
    "pl.figure()\n",
    "pl.title('Cross-validation scores after recursive feature elimination')\n",
    "pl.xlabel('Number of features selected')\n",
    "pl.ylabel('Number of misclassifications')\n",
    "pl.plot(xrange(1, len(featureSelector.cv_scores_) + 1),\n",
    "    featureSelector.cv_scores_)\n",
    "pl.show()"
   ]
  }
 ],
 "metadata": {
  "kernelspec": {
   "display_name": "Python 2",
   "language": "python",
   "name": "python2"
  },
  "language_info": {
   "codemirror_mode": {
    "name": "ipython",
    "version": 2
   },
   "file_extension": ".py",
   "mimetype": "text/x-python",
   "name": "python",
   "nbconvert_exporter": "python",
   "pygments_lexer": "ipython2",
   "version": "2.7.13"
  }
 },
 "nbformat": 4,
 "nbformat_minor": 0
}
