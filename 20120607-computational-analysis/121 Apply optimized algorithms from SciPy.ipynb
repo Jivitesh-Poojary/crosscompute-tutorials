{
 "metadata": {
  "name": "121 Apply optimized algorithms from SciPy"
 },
 "nbformat": 3,
 "nbformat_minor": 0,
 "worksheets": [
  {
   "cells": [
    {
     "cell_type": "markdown",
     "metadata": {},
     "source": [
      "# SciPy is a collection of scientific computing algorithms\n",
      "\n",
      "[SciPy reference](http://docs.scipy.org/doc/scipy/reference)"
     ]
    },
    {
     "cell_type": "markdown",
     "metadata": {},
     "source": [
      "- [Optimization](http://docs.scipy.org/doc/scipy/reference/tutorial/optimize.html)\n",
      "- [Interpolation](http://docs.scipy.org/doc/scipy/reference/tutorial/interpolate.html)\n",
      "- [Signal processing](http://docs.scipy.org/doc/scipy/reference/tutorial/signal.html)\n",
      "- [Image processing](http://docs.scipy.org/doc/scipy/reference/tutorial/ndimage.html)"
     ]
    }
   ],
   "metadata": {}
  }
 ]
}