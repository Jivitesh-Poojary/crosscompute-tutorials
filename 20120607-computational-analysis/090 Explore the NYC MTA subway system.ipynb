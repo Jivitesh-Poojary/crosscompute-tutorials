{
 "cells": [
  {
   "cell_type": "markdown",
   "metadata": {
    "deletable": true,
    "editable": true
   },
   "source": [
    "[NYC MTA Dataset](http://www.mta.info/developers/download.html)"
   ]
  },
  {
   "cell_type": "code",
   "execution_count": null,
   "metadata": {
    "collapsed": false,
    "deletable": true,
    "editable": true
   },
   "outputs": [],
   "source": [
    "from pandas import read_csv\n",
    "calendar = read_csv('datasets/NYC-MTA-Calendar.csv')\n",
    "routes = read_csv('datasets/NYC-MTA-Routes.csv')\n",
    "trips = read_csv('datasets/NYC-MTA-Trips.csv')\n",
    "times = read_csv('datasets/NYC-MTA-StopTimes.csv')\n",
    "stops = read_csv('datasets/NYC-MTA-Stops.csv')"
   ]
  },
  {
   "cell_type": "code",
   "execution_count": null,
   "metadata": {
    "collapsed": false,
    "deletable": true,
    "editable": true
   },
   "outputs": [],
   "source": [
    "calendar.ix[0]"
   ]
  },
  {
   "cell_type": "code",
   "execution_count": null,
   "metadata": {
    "collapsed": false,
    "deletable": true,
    "editable": true
   },
   "outputs": [],
   "source": [
    "weekdayServiceIDs = filter(lambda x: x.endswith('WKD'), calendar.service_id)\n",
    "weekdayServiceIDs"
   ]
  },
  {
   "cell_type": "code",
   "execution_count": null,
   "metadata": {
    "collapsed": false,
    "deletable": true,
    "editable": true
   },
   "outputs": [],
   "source": [
    "routes.ix[0]"
   ]
  },
  {
   "cell_type": "code",
   "execution_count": null,
   "metadata": {
    "collapsed": false,
    "deletable": true,
    "editable": true
   },
   "outputs": [],
   "source": [
    "routeNameByID = {x['route_id']: x['route_long_name'] for index, x in routes.iterrows()}\n",
    "routeNameByID['3']"
   ]
  },
  {
   "cell_type": "code",
   "execution_count": null,
   "metadata": {
    "collapsed": false,
    "deletable": true,
    "editable": true
   },
   "outputs": [],
   "source": [
    "trips.ix[0]"
   ]
  },
  {
   "cell_type": "code",
   "execution_count": null,
   "metadata": {
    "collapsed": false,
    "deletable": true,
    "editable": true
   },
   "outputs": [],
   "source": [
    "weekdayTrips = trips[trips.service_id.isin(weekdayServiceIDs)]\n",
    "len(weekdayTrips)"
   ]
  },
  {
   "cell_type": "code",
   "execution_count": null,
   "metadata": {
    "collapsed": false,
    "deletable": true,
    "editable": true
   },
   "outputs": [],
   "source": [
    "times.ix[0]"
   ]
  },
  {
   "cell_type": "code",
   "execution_count": null,
   "metadata": {
    "collapsed": false,
    "deletable": true,
    "editable": true
   },
   "outputs": [],
   "source": [
    "weekdayTimes = times[times.trip_id.isin(weekdayTrips.trip_id.unique())]\n",
    "len(weekdayTimes)"
   ]
  },
  {
   "cell_type": "code",
   "execution_count": null,
   "metadata": {
    "collapsed": false,
    "deletable": true,
    "editable": true
   },
   "outputs": [],
   "source": [
    "stops.ix[0]"
   ]
  },
  {
   "cell_type": "code",
   "execution_count": null,
   "metadata": {
    "collapsed": false,
    "deletable": true,
    "editable": true
   },
   "outputs": [],
   "source": [
    "# List weekday stops on the 5 line\n",
    "routeID = '5'\n",
    "print routeNameByID[routeID]\n",
    "route5WeekdayTrips = weekdayTrips[weekdayTrips.route_id == routeID]\n",
    "stopIDs = route5WeekdayTrips.merge(weekdayTimes).stop_id.unique()\n",
    "stops[stops.stop_id.isin(stopIDs)].stop_name.unique()"
   ]
  },
  {
   "cell_type": "code",
   "execution_count": null,
   "metadata": {
    "collapsed": false,
    "deletable": true,
    "editable": true
   },
   "outputs": [],
   "source": [
    "# List weekday stops on the 5 line by departure time\n",
    "route5Trip = route5WeekdayTrips.ix[route5WeekdayTrips.index[224]]\n",
    "route5TripTimes = weekdayTimes[weekdayTimes.trip_id == route5Trip['trip_id']]\n",
    "route5Stops = route5TripTimes.merge(stops)[['departure_time', 'stop_id', 'stop_name']]\n",
    "route5Stops.sort_values('departure_time')"
   ]
  },
  {
   "cell_type": "code",
   "execution_count": null,
   "metadata": {
    "collapsed": false,
    "deletable": true,
    "editable": true
   },
   "outputs": [],
   "source": [
    "# Build a network connecting stops on the 5 line and 6 line\n",
    "import datetime\n",
    "import networkx\n",
    "\n",
    "def get_tripStops(tripID):\n",
    "    tripTimes = times[times.trip_id == tripID]\n",
    "    return tripTimes.merge(stops)[['departure_time', 'stop_name']].sort_values('departure_time')\n",
    "\n",
    "def parse_departure_time(x):\n",
    "    return datetime.datetime.strptime(x['departure_time'], '%H:%M:%S')\n",
    "\n",
    "def make_graph(tripIDs):\n",
    "    graph = networkx.MultiDiGraph()\n",
    "    for tripID in tripIDs:\n",
    "        tripStops = get_tripStops(tripID)\n",
    "        stopGenerator = tripStops.iterrows()\n",
    "        lastStop = stopGenerator.next()[1]\n",
    "        for index, thisStop in stopGenerator:\n",
    "            timedelta = parse_departure_time(thisStop) - parse_departure_time(lastStop)\n",
    "            minutes = timedelta.total_seconds() / 60.\n",
    "            graph.add_edge(lastStop['stop_name'], thisStop['stop_name'],\n",
    "                key=route5Trip['trip_id'],\n",
    "                weight=minutes)\n",
    "            lastStop = thisStop\n",
    "    return graph\n",
    "    \n",
    "graph = make_graph([\n",
    "    'A20120610WKD_101200_5..N04R',\n",
    "    'A20120610WKD_104200_6..N03R',\n",
    "])"
   ]
  },
  {
   "cell_type": "code",
   "execution_count": null,
   "metadata": {
    "collapsed": false,
    "deletable": true,
    "editable": true
   },
   "outputs": [],
   "source": [
    "networkx.dijkstra_path(graph, 'Brooklyn Bridge - City Hall', '110 St')"
   ]
  },
  {
   "cell_type": "code",
   "execution_count": null,
   "metadata": {
    "collapsed": false,
    "deletable": true,
    "editable": true
   },
   "outputs": [],
   "source": [
    "networkx.dijkstra_path_length(graph, 'Brooklyn Bridge - City Hall', '110 St')"
   ]
  },
  {
   "cell_type": "code",
   "execution_count": null,
   "metadata": {
    "collapsed": false,
    "deletable": true,
    "editable": true
   },
   "outputs": [],
   "source": [
    "# Make a graph of the NYC MTA subway system\n",
    "tripIDs = []\n",
    "# For each route,\n",
    "for routeID, routeTrips in weekdayTrips.groupby('route_id'):\n",
    "    # Pick a trip\n",
    "    tripIDs.append(routeTrips.trip_id.values[0])\n",
    "graph = make_graph(tripIDs)"
   ]
  },
  {
   "cell_type": "code",
   "execution_count": null,
   "metadata": {
    "collapsed": false,
    "deletable": true,
    "editable": true
   },
   "outputs": [],
   "source": [
    "# Which ten stations are the most connected?\n",
    "from pandas import Series\n",
    "Series(networkx.pagerank_numpy(graph)).sort_values(ascending=False)[:10]"
   ]
  }
 ],
 "metadata": {
  "kernelspec": {
   "display_name": "Python 2",
   "language": "python",
   "name": "python2"
  },
  "language_info": {
   "codemirror_mode": {
    "name": "ipython",
    "version": 2
   },
   "file_extension": ".py",
   "mimetype": "text/x-python",
   "name": "python",
   "nbconvert_exporter": "python",
   "pygments_lexer": "ipython2",
   "version": "2.7.13"
  }
 },
 "nbformat": 4,
 "nbformat_minor": 0
}
