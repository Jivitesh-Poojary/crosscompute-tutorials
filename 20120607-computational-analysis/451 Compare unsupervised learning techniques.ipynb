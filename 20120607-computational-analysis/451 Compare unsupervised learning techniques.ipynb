{
 "cells": [
  {
   "cell_type": "markdown",
   "metadata": {
    "deletable": true,
    "editable": true
   },
   "source": [
    "For the complete list of unsupervised learning algorithms available in scikit-learn, please see the [documentation](http://scikit-learn.org/dev/unsupervised_learning.html).\n",
    "\n",
    "- Manifold learning\n",
    "- Clustering\n",
    "- Decomposition\n",
    "- Outlier detection\n",
    "- Hidden markov models"
   ]
  },
  {
   "cell_type": "markdown",
   "metadata": {
    "deletable": true,
    "editable": true
   },
   "source": [
    "# [Manifold learning for dimensionality reduction](http://scikit-learn.org/dev/modules/manifold.html)\n",
    "\n",
    "## Goal\n",
    "\n",
    "The goal in manifold learning is to reduce the dimensionality of the dataset while still preserving its structure, so that similar samples are close together.\n",
    "\n",
    "## Applications\n",
    "\n",
    "- Visualize sample space\n",
    "- Determine whether two new samples are similar\n",
    "\n",
    "## Types\n",
    "\n",
    "- Linear projections\n",
    "- Locally linear embedding and its regularized variations\n",
    "\n",
    "## Practical considerations\n",
    "\n",
    "- Scale samples\n",
    "- Remove noisy data\n",
    "- Remove identical samples\n",
    "\n",
    "## Exercise\n",
    "\n",
    "Make a subset of the digits dataset using images from only three digits, then try two different manifold learning techniques using [plot_lle_digits.py](http://scikit-learn.org/dev/auto_examples/manifold/plot_lle_digits.html) for reference."
   ]
  },
  {
   "cell_type": "markdown",
   "metadata": {
    "deletable": true,
    "editable": true
   },
   "source": [
    "# [Clustering](http://scikit-learn.org/dev/modules/clustering.html)\n",
    "# [Decomposition](http://scikit-learn.org/dev/modules/decomposition.html)\n",
    "# [Outlier detection](http://scikit-learn.org/dev/modules/outlier_detection.html)\n",
    "# [Hidden markov models](http://scikit-learn.org/dev/modules/hmm.html)"
   ]
  }
 ],
 "metadata": {
  "kernelspec": {
   "display_name": "Python 2",
   "language": "python",
   "name": "python2"
  },
  "language_info": {
   "codemirror_mode": {
    "name": "ipython",
    "version": 2
   },
   "file_extension": ".py",
   "mimetype": "text/x-python",
   "name": "python",
   "nbconvert_exporter": "python",
   "pygments_lexer": "ipython2",
   "version": "2.7.13"
  }
 },
 "nbformat": 4,
 "nbformat_minor": 0
}
