{
 "metadata": {
  "name": "211 Model time series with pandas"
 },
 "nbformat": 3,
 "nbformat_minor": 0,
 "worksheets": [
  {
   "cells": [
    {
     "cell_type": "markdown",
     "metadata": {},
     "source": [
      "# Pandas aligns labelled data"
     ]
    },
    {
     "cell_type": "code",
     "collapsed": false,
     "input": [
      "from pandas import Series, DataFrame, Panel"
     ],
     "language": "python",
     "metadata": {},
     "outputs": [],
     "prompt_number": 1
    },
    {
     "cell_type": "markdown",
     "metadata": {},
     "source": [
      "## Series is a list with labelled items"
     ]
    },
    {
     "cell_type": "code",
     "collapsed": false,
     "input": [
      "februaryOrganicSpinachPrices = Series({2004: 8.02, 2005: 7.63, 2006: 8.03})\n",
      "novemberOrganicSpinachPrices = Series({2004: 5.70, 2005: 5.23, 2006: 11.63})\n",
      "novemberOrganicSpinachPrices"
     ],
     "language": "python",
     "metadata": {},
     "outputs": [],
     "prompt_number": 2
    },
    {
     "cell_type": "code",
     "collapsed": false,
     "input": [
      "print novemberOrganicSpinachPrices[2004]"
     ],
     "language": "python",
     "metadata": {},
     "outputs": [],
     "prompt_number": 3
    },
    {
     "cell_type": "markdown",
     "metadata": {},
     "source": [
      "## DataFrame is a table with labelled columns and rows"
     ]
    },
    {
     "cell_type": "code",
     "collapsed": false,
     "input": [
      "conventionalSpinachPrices = DataFrame(dict(\n",
      "    february=Series({2004: 3.42, 2005: 4.03, 2006: 4.13}),\n",
      "    november=Series({2004: 3.58, 2005: 4.19, 2006: 4.16})))\n",
      "\n",
      "organicSpinachPrices = DataFrame(dict(\n",
      "    february=februaryOrganicSpinachPrices,\n",
      "    november=novemberOrganicSpinachPrices))\n",
      "\n",
      "organicSpinachPrices"
     ],
     "language": "python",
     "metadata": {},
     "outputs": [],
     "prompt_number": 4
    },
    {
     "cell_type": "code",
     "collapsed": false,
     "input": [
      "organicSpinachPrices['november']"
     ],
     "language": "python",
     "metadata": {},
     "outputs": [],
     "prompt_number": 5
    },
    {
     "cell_type": "code",
     "collapsed": false,
     "input": [
      "print organicSpinachPrices['november'][2004]"
     ],
     "language": "python",
     "metadata": {},
     "outputs": [],
     "prompt_number": 6
    },
    {
     "cell_type": "code",
     "collapsed": false,
     "input": [
      "print organicSpinachPrices[:2]"
     ],
     "language": "python",
     "metadata": {},
     "outputs": [],
     "prompt_number": 7
    },
    {
     "cell_type": "markdown",
     "metadata": {},
     "source": [
      "## Panel is a collection of labelled tables"
     ]
    },
    {
     "cell_type": "code",
     "collapsed": false,
     "input": [
      "spinachPrices = Panel(dict(\n",
      "    conventional=conventionalSpinachPrices,\n",
      "    organic=organicSpinachPrices))\n",
      "spinachPrices"
     ],
     "language": "python",
     "metadata": {},
     "outputs": [],
     "prompt_number": 8
    },
    {
     "cell_type": "code",
     "collapsed": false,
     "input": [
      "spinachPrices['organic']"
     ],
     "language": "python",
     "metadata": {},
     "outputs": [],
     "prompt_number": 9
    },
    {
     "cell_type": "code",
     "collapsed": false,
     "input": [
      "spinachPrices['organic']['november']"
     ],
     "language": "python",
     "metadata": {},
     "outputs": [],
     "prompt_number": 10
    },
    {
     "cell_type": "code",
     "collapsed": false,
     "input": [
      "print spinachPrices['organic']['november'][2004]"
     ],
     "language": "python",
     "metadata": {},
     "outputs": [],
     "prompt_number": 11
    },
    {
     "cell_type": "markdown",
     "metadata": {},
     "source": [
      "Beware of using `len()` to find the number of rows in a `DataFrame` inside a `Panel`.  The `Panel` will pad non-matching rows and columns across `DataFrames` with `NaN` and `len()` will include padded rows.  Instead, use `DataFrame.count()`."
     ]
    },
    {
     "cell_type": "markdown",
     "metadata": {},
     "source": [
      "## Reindexing"
     ]
    },
    {
     "cell_type": "code",
     "collapsed": false,
     "input": [
      "df = DataFrame(np.array(xrange(1,10)).reshape(3,3), index='x y z'.split(), columns='a b c'.split())\n",
      "print df.cumsum()"
     ],
     "language": "python",
     "metadata": {},
     "outputs": [],
     "prompt_number": 12
    },
    {
     "cell_type": "code",
     "collapsed": false,
     "input": [
      "df1 = df.reindex(index=list('zyx'), columns=list('cab'))\n",
      "df1"
     ],
     "language": "python",
     "metadata": {},
     "outputs": [],
     "prompt_number": 13
    },
    {
     "cell_type": "code",
     "collapsed": false,
     "input": [
      "df2 = DataFrame(np.array(range(1, 10)).reshape(3,3), index=list('zyx'), columns=list('cba'))\n",
      "df2"
     ],
     "language": "python",
     "metadata": {},
     "outputs": [],
     "prompt_number": 14
    },
    {
     "cell_type": "code",
     "collapsed": false,
     "input": [
      "df2.reindex_like(df1)"
     ],
     "language": "python",
     "metadata": {},
     "outputs": [],
     "prompt_number": 15
    },
    {
     "cell_type": "markdown",
     "metadata": {},
     "source": [
      "## Aggregation"
     ]
    },
    {
     "cell_type": "code",
     "collapsed": false,
     "input": [
      "df = DataFrame(dict(\n",
      "    age=['adult', 'child', 'adult', 'child'],\n",
      "    gender=['male', 'male', 'female', 'female'], \n",
      "    score=[50, 60, 80, 90]))\n",
      "df"
     ],
     "language": "python",
     "metadata": {},
     "outputs": [],
     "prompt_number": 16
    },
    {
     "cell_type": "code",
     "collapsed": false,
     "input": [
      "df.groupby('age').mean()"
     ],
     "language": "python",
     "metadata": {},
     "outputs": [],
     "prompt_number": 17
    },
    {
     "cell_type": "code",
     "collapsed": false,
     "input": [
      "df.groupby('gender').mean()"
     ],
     "language": "python",
     "metadata": {},
     "outputs": [],
     "prompt_number": 18
    },
    {
     "cell_type": "code",
     "collapsed": false,
     "input": [
      "print df.groupby('gender').aggregate([np.sum, np.mean, np.std])"
     ],
     "language": "python",
     "metadata": {},
     "outputs": [],
     "prompt_number": 19
    },
    {
     "cell_type": "code",
     "collapsed": false,
     "input": [
      "df.groupby('gender').describe()"
     ],
     "language": "python",
     "metadata": {},
     "outputs": [],
     "prompt_number": 20
    },
    {
     "cell_type": "markdown",
     "metadata": {},
     "source": [
      "- [Pandas documentation](http://pandas.pydata.org/pandas-docs/dev)\n",
      "- [Pandas code repository](https://github.com/pydata/pandas)\n",
      "- [Pandas code example: Stock price analysis](https://github.com/pydata/pandas/blob/master/examples/finance.py)\n",
      "- [Pandas code example: Stock price regression](https://github.com/pydata/pandas/blob/master/examples/regressions.py)\n",
      "- [Clean data with Google Refine](http://code.google.com/p/google-refine/)"
     ]
    }
   ],
   "metadata": {}
  }
 ]
}