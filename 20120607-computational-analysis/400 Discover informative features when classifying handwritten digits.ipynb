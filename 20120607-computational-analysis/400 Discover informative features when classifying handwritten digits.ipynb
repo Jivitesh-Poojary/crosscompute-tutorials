{
 "metadata": {
  "name": "400 Discover informative features when classifying handwritten digits"
 },
 "nbformat": 3,
 "nbformat_minor": 0,
 "worksheets": [
  {
   "cells": [
    {
     "cell_type": "code",
     "collapsed": false,
     "input": [
      "import itertools\n",
      "import pylab as pl\n",
      "import random\n",
      "from sklearn import datasets, feature_selection, linear_model, neighbors, svm\n",
      "digits = datasets.load_digits()"
     ],
     "language": "python",
     "metadata": {},
     "outputs": [],
     "prompt_number": 1
    },
    {
     "cell_type": "markdown",
     "metadata": {},
     "source": [
      "# Train a classifier to recognize handwritten digits\n",
      "\n",
      "Examine dataset."
     ]
    },
    {
     "cell_type": "code",
     "collapsed": false,
     "input": [
      "# Look at the first image as an array\n",
      "digits.images[0]"
     ],
     "language": "python",
     "metadata": {},
     "outputs": [],
     "prompt_number": 2
    },
    {
     "cell_type": "code",
     "collapsed": false,
     "input": [
      "digits.images[0].shape"
     ],
     "language": "python",
     "metadata": {},
     "outputs": [],
     "prompt_number": 3
    },
    {
     "cell_type": "code",
     "collapsed": false,
     "input": [
      "# Look at five random images and their corresponding labels\n",
      "def draw_samples(images, labels):\n",
      "    for index, (image, label) in enumerate(itertools.izip(images, labels)):\n",
      "        pl.subplot(1, len(images), index + 1)\n",
      "        pl.imshow(image, cmap=pl.cm.gray_r, interpolation='nearest')\n",
      "        pl.axis('off')\n",
      "        pl.title('%s' % label)\n",
      "\n",
      "indices = random.sample(xrange(len(digits.images)), 5)\n",
      "draw_samples(digits.images[indices], digits.target[indices])"
     ],
     "language": "python",
     "metadata": {},
     "outputs": [],
     "prompt_number": 4
    },
    {
     "cell_type": "code",
     "collapsed": false,
     "input": [
      "# Flatten each image into an array, where each pixel is a feature\n",
      "# data = [image.ravel() for image in digits.images]\n",
      "# We can do this more efficiently by reshaping the entire matrix at once, where\n",
      "# -1 tells reshape () to determine the size of the second dimension automatically\n",
      "data = digits.images.reshape(len(digits.images), -1)\n",
      "data[0].shape"
     ],
     "language": "python",
     "metadata": {},
     "outputs": [],
     "prompt_number": 5
    },
    {
     "cell_type": "markdown",
     "metadata": {},
     "source": [
      "Train a supervised learning model and test its performance on an image it hasn't seen before."
     ]
    },
    {
     "cell_type": "code",
     "collapsed": false,
     "input": [
      "sampleCount = len(data)\n",
      "imageShape = digits.images[0].shape\n",
      "# Train on the first half of the data\n",
      "trainingData = data[:sampleCount / 2]\n",
      "trainingLabels = digits.target[:sampleCount / 2]\n",
      "# Test on five random images from the second half of the data\n",
      "testData = random.sample(data, 5)\n",
      "\n",
      "def train_and_test(model):\n",
      "    model.fit(trainingData, trainingLabels)\n",
      "    predictedLabels = model.predict(testData)\n",
      "    draw_samples([x.reshape(imageShape) for x in testData], [int(x) for x in predictedLabels])"
     ],
     "language": "python",
     "metadata": {},
     "outputs": [],
     "prompt_number": 6
    },
    {
     "cell_type": "code",
     "collapsed": false,
     "input": [
      "train_and_test(svm.SVC(gamma=0.001))"
     ],
     "language": "python",
     "metadata": {},
     "outputs": [],
     "prompt_number": 7
    },
    {
     "cell_type": "markdown",
     "metadata": {},
     "source": [
      "Try different supervised learning models."
     ]
    },
    {
     "cell_type": "code",
     "collapsed": false,
     "input": [
      "train_and_test(linear_model.LogisticRegression())"
     ],
     "language": "python",
     "metadata": {},
     "outputs": [],
     "prompt_number": 8
    },
    {
     "cell_type": "code",
     "collapsed": false,
     "input": [
      "train_and_test(neighbors.KNeighborsClassifier())"
     ],
     "language": "python",
     "metadata": {},
     "outputs": [],
     "prompt_number": 9
    },
    {
     "cell_type": "markdown",
     "metadata": {},
     "source": [
      "# Discover informative features"
     ]
    },
    {
     "cell_type": "markdown",
     "metadata": {},
     "source": [
      "Pick a supervised learning model."
     ]
    },
    {
     "cell_type": "code",
     "collapsed": false,
     "input": [
      "model = svm.SVC(kernel='linear', gamma=0.001)"
     ],
     "language": "python",
     "metadata": {},
     "outputs": [],
     "prompt_number": 10
    },
    {
     "cell_type": "markdown",
     "metadata": {},
     "source": [
      "Pick a feature selection algorithm."
     ]
    },
    {
     "cell_type": "code",
     "collapsed": false,
     "input": [
      "featureSelector = feature_selection.RFE(estimator=model,n_features_to_select=1, step=1)\n",
      "featureSelector.fit(digits.data, digits.target)\n",
      "featureRanking = featureSelector.ranking_.reshape(digits.images[0].shape)"
     ],
     "language": "python",
     "metadata": {},
     "outputs": [],
     "prompt_number": 11
    },
    {
     "cell_type": "markdown",
     "metadata": {},
     "source": [
      "Color the pixels that are most informative."
     ]
    },
    {
     "cell_type": "code",
     "collapsed": false,
     "input": [
      "pl.matshow(featureRanking, cmap=pl.cm.hot_r)\n",
      "pl.title('Pixel ranking by\\nrecursive feature elimination')\n",
      "pl.show()"
     ],
     "language": "python",
     "metadata": {},
     "outputs": [],
     "prompt_number": 12
    },
    {
     "cell_type": "markdown",
     "metadata": {},
     "source": [
      "# Learn more\n",
      "\n",
      "- [Machine learning with scikit-learn](http://scikit-learn.org/dev)\n",
      "- [Supervised learning](http://scikit-learn.org/dev/tutorial/statistical_inference/supervised_learning.html)\n",
      "- [Feature selection](http://scikit-learn.org/dev/modules/feature_selection.html)"
     ]
    }
   ],
   "metadata": {}
  }
 ]
}