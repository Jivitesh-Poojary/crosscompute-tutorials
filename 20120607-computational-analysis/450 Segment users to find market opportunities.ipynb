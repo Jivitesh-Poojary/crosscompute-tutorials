{
 "metadata": {
  "name": "450 Segment users to find market opportunities"
 },
 "nbformat": 3,
 "nbformat_minor": 0,
 "worksheets": [
  {
   "cells": [
    {
     "cell_type": "code",
     "collapsed": false,
     "input": [
      "import pylab as pl\n",
      "from scripts import make_users\n",
      "users1 = make_users(teenCount=250, twentyCount=500, thirtyCount=150, fortyCount=100)\n",
      "users2 = make_users(teenCount=500, twentyCount=400, thirtyCount=90, fortyCount=10)"
     ],
     "language": "python",
     "metadata": {},
     "outputs": [],
     "prompt_number": 31
    },
    {
     "cell_type": "markdown",
     "metadata": {},
     "source": [
      "# Market segmentation"
     ]
    },
    {
     "cell_type": "markdown",
     "metadata": {},
     "source": [
      "Trevor runs a news website.  He wants to identify the demographics of readers for each article in order to show targeted ads.  For each user, he has the following data:\n",
      "\n",
      "- Age\n",
      "- Gender\n",
      "- Device (desktop, laptop, cell phone, smartphone, tablet)\n",
      "- Location"
     ]
    },
    {
     "cell_type": "markdown",
     "metadata": {},
     "source": [
      "## Explore dataset"
     ]
    },
    {
     "cell_type": "code",
     "collapsed": false,
     "input": [
      "# Look at the characteristics of the first user\n",
      "zip(users1.feature_names, users1.data[0])"
     ],
     "language": "python",
     "metadata": {},
     "outputs": [],
     "prompt_number": 32
    },
    {
     "cell_type": "markdown",
     "metadata": {},
     "source": [
      "## [Visualize dataset](http://scikit-learn.org/dev/modules/manifold.html)"
     ]
    },
    {
     "cell_type": "code",
     "collapsed": false,
     "input": [
      "# Scatterplot age and device\n",
      "pl.scatter(users1.data[:, 0], users1.data[:, 2]);"
     ],
     "language": "python",
     "metadata": {},
     "outputs": [],
     "prompt_number": 33
    },
    {
     "cell_type": "code",
     "collapsed": false,
     "input": [
      "# Scatterplot locations\n",
      "pl.scatter(users1.data[:, 3], users1.data[:, 4]);\n",
      "pl.xticks([]);\n",
      "pl.yticks([]);"
     ],
     "language": "python",
     "metadata": {},
     "outputs": [],
     "prompt_number": 34
    },
    {
     "cell_type": "code",
     "collapsed": false,
     "input": [
      "import pylab as pl\n",
      "\n",
      "def plot_embedding(X):\n",
      "    x_min, x_max = np.min(X, 0), np.max(X, 0)\n",
      "    X = (X - x_min) / (x_max - x_min)\n",
      "    pl.scatter(X[:, 0], X[:, 1])\n",
      "    pl.xticks([]), pl.yticks([])\n",
      "    \n",
      "from sklearn import manifold\n",
      "visualization = manifold.LocallyLinearEmbedding(n_neighbors=30, n_components=2, method='standard')"
     ],
     "language": "python",
     "metadata": {},
     "outputs": [],
     "prompt_number": 35
    },
    {
     "cell_type": "code",
     "collapsed": false,
     "input": [
      "# Visualize data\n",
      "plot_embedding(visualization.fit_transform(users1.data))"
     ],
     "language": "python",
     "metadata": {},
     "outputs": [],
     "prompt_number": 36
    },
    {
     "cell_type": "code",
     "collapsed": false,
     "input": [
      "# Visualize scaled data\n",
      "from sklearn.preprocessing import scale\n",
      "plot_embedding(visualization.fit_transform(scale(users1.data)))"
     ],
     "language": "python",
     "metadata": {},
     "outputs": [],
     "prompt_number": 37
    },
    {
     "cell_type": "markdown",
     "metadata": {},
     "source": [
      "## [Cluster users](http://scikit-learn.org/dev/modules/clustering.html)"
     ]
    },
    {
     "cell_type": "code",
     "collapsed": false,
     "input": [
      "from sklearn.cluster import KMeans\n",
      "from sklearn.preprocessing import StandardScaler\n",
      "\n",
      "scaler = StandardScaler().fit(users1.data)\n",
      "users1DataScaled = scaler.transform(users1.data)\n",
      "\n",
      "cluster = KMeans(init='k-means++', n_clusters=4, n_init=10)\n",
      "cluster.fit(users1DataScaled)"
     ],
     "language": "python",
     "metadata": {},
     "outputs": [],
     "prompt_number": 38
    },
    {
     "cell_type": "code",
     "collapsed": false,
     "input": [
      "# Look at the characteristics of the first user\n",
      "zip(users1.feature_names, users1.data[0])"
     ],
     "language": "python",
     "metadata": {},
     "outputs": [],
     "prompt_number": 39
    },
    {
     "cell_type": "code",
     "collapsed": false,
     "input": [
      "# Get the category of the first user\n",
      "cluster.predict(scaler.transform(users1.data[0]))"
     ],
     "language": "python",
     "metadata": {},
     "outputs": [],
     "prompt_number": 40
    },
    {
     "cell_type": "code",
     "collapsed": false,
     "input": [
      "# Get the category of a similar user\n",
      "cluster.predict(scaler.transform(np.array([10., 0., 4., 5., -10.])))"
     ],
     "language": "python",
     "metadata": {},
     "outputs": [],
     "prompt_number": 41
    }
   ],
   "metadata": {}
  }
 ]
}