{
 "cells": [
  {
   "cell_type": "markdown",
   "metadata": {
    "deletable": true,
    "editable": true
   },
   "source": [
    "[Recent Earthquakes in CSV format](https://earthquake.usgs.gov/earthquakes/feed/v1.0/csv.php)"
   ]
  },
  {
   "cell_type": "code",
   "execution_count": null,
   "metadata": {
    "collapsed": false,
    "deletable": true,
    "editable": true
   },
   "outputs": [],
   "source": [
    "%matplotlib inline\n",
    "from pandas import read_csv\n",
    "\n",
    "load = lambda x: read_csv(x, usecols=[\n",
    "    'time', 'latitude', 'longitude', 'depth', 'mag', 'net', 'place',\n",
    "], parse_dates=['time'])\n",
    "try:\n",
    "    recent_earthquakes = load('https://earthquake.usgs.gov/earthquakes/feed/v1.0/summary/4.5_month.csv')\n",
    "except IOError:\n",
    "    recent_earthquakes = load('datasets/World-RecentEarthquakes.csv')\n",
    "    \n",
    "len(recent_earthquakes)"
   ]
  },
  {
   "cell_type": "code",
   "execution_count": null,
   "metadata": {
    "collapsed": false
   },
   "outputs": [],
   "source": [
    "recent_earthquakes.ix[recent_earthquakes.index[0]]"
   ]
  },
  {
   "cell_type": "markdown",
   "metadata": {},
   "source": [
    "## How were the earthquakes distributed?"
   ]
  },
  {
   "cell_type": "code",
   "execution_count": null,
   "metadata": {
    "collapsed": false
   },
   "outputs": [],
   "source": [
    "\n",
    "recent_earthquakes.hist();"
   ]
  },
  {
   "cell_type": "markdown",
   "metadata": {
    "deletable": true,
    "editable": true
   },
   "source": [
    "## What was the magnitude of the largest earthquake?"
   ]
  },
  {
   "cell_type": "code",
   "execution_count": null,
   "metadata": {
    "collapsed": false,
    "deletable": true,
    "editable": true
   },
   "outputs": [],
   "source": [
    "recent_earthquakes['mag'].max()"
   ]
  },
  {
   "cell_type": "markdown",
   "metadata": {
    "deletable": true,
    "editable": true
   },
   "source": [
    "## Which place had the largest earthquake?"
   ]
  },
  {
   "cell_type": "code",
   "execution_count": null,
   "metadata": {
    "collapsed": false,
    "deletable": true,
    "editable": true
   },
   "outputs": [],
   "source": [
    "recent_earthquakes.ix[recent_earthquakes['mag'].idxmax()]['place']"
   ]
  },
  {
   "cell_type": "markdown",
   "metadata": {
    "deletable": true,
    "editable": true
   },
   "source": [
    "## Plot earthquake magnitudes"
   ]
  },
  {
   "cell_type": "code",
   "execution_count": null,
   "metadata": {
    "collapsed": false,
    "deletable": true,
    "editable": true
   },
   "outputs": [],
   "source": [
    "# Plot by day\n",
    "recent_earthquakes_by_time = recent_earthquakes.set_index('time')\n",
    "recent_earthquakes_by_time['mag'].plot();"
   ]
  },
  {
   "cell_type": "code",
   "execution_count": null,
   "metadata": {
    "collapsed": false,
    "deletable": true,
    "editable": true
   },
   "outputs": [],
   "source": [
    "# Plot by week\n",
    "recent_earthquakes_by_time.resample('W')['mag'].plot();"
   ]
  },
  {
   "cell_type": "markdown",
   "metadata": {
    "deletable": true,
    "editable": true
   },
   "source": [
    "## How many earthquakes were north of the equator?"
   ]
  },
  {
   "cell_type": "code",
   "execution_count": null,
   "metadata": {
    "collapsed": false,
    "deletable": true,
    "editable": true
   },
   "outputs": [],
   "source": [
    "len(recent_earthquakes[recent_earthquakes['latitude'] > 0])"
   ]
  },
  {
   "cell_type": "markdown",
   "metadata": {},
   "source": [
    "## How many earthquakes were south of the equator?"
   ]
  },
  {
   "cell_type": "code",
   "execution_count": null,
   "metadata": {
    "collapsed": true
   },
   "outputs": [],
   "source": [
    "# Type your solution here and press CTRL-ENTER"
   ]
  },
  {
   "cell_type": "markdown",
   "metadata": {
    "deletable": true,
    "editable": true
   },
   "source": [
    "## How many earthquakes did each sensor network measure?"
   ]
  },
  {
   "cell_type": "code",
   "execution_count": null,
   "metadata": {
    "collapsed": false
   },
   "outputs": [],
   "source": [
    "# Count earthquakes by sensor network code\n",
    "recent_earthquakes['net'].value_counts()"
   ]
  },
  {
   "cell_type": "markdown",
   "metadata": {},
   "source": [
    "## What were the names of each sensor network?"
   ]
  },
  {
   "cell_type": "code",
   "execution_count": null,
   "metadata": {
    "collapsed": false,
    "deletable": true,
    "editable": true
   },
   "outputs": [],
   "source": [
    "# Load information on sensor networks\n",
    "sensor_networks = read_csv('datasets/World-AdvancedNationalSeismicSystemNetworks.csv')\n",
    "sensor_networks.head()"
   ]
  },
  {
   "cell_type": "code",
   "execution_count": null,
   "metadata": {
    "collapsed": false,
    "deletable": true,
    "editable": true
   },
   "outputs": [],
   "source": [
    "# Rename columns\n",
    "sensor_networks.rename(columns={\n",
    "    'Network Code': 'net',\n",
    "    'Network Name': 'netName',\n",
    "}, inplace=True)\n",
    "# Change codes to lowercase\n",
    "sensor_networks['net'] = sensor_networks['net'].str.lower()\n",
    "sensor_networks.head()"
   ]
  },
  {
   "cell_type": "code",
   "execution_count": null,
   "metadata": {
    "collapsed": false,
    "deletable": true,
    "editable": true
   },
   "outputs": [],
   "source": [
    "# Merge tables\n",
    "merged_earthquakes = recent_earthquakes.merge(sensor_networks)\n",
    "merged_earthquakes[['place', 'mag', 'net', 'netName']].tail()"
   ]
  },
  {
   "cell_type": "code",
   "execution_count": null,
   "metadata": {
    "collapsed": false,
    "deletable": true,
    "editable": true
   },
   "outputs": [],
   "source": [
    "# Count earthquakes by sensor network name\n",
    "merged_earthquakes.groupby('netName')['mag'].count()"
   ]
  },
  {
   "cell_type": "markdown",
   "metadata": {
    "deletable": true,
    "editable": true
   },
   "source": [
    "## Which ten places had the most earthquakes?"
   ]
  },
  {
   "cell_type": "code",
   "execution_count": null,
   "metadata": {
    "collapsed": false,
    "deletable": true,
    "editable": true
   },
   "outputs": [],
   "source": [
    "recent_earthquakes['place'].value_counts()[:10]"
   ]
  },
  {
   "cell_type": "markdown",
   "metadata": {},
   "source": [
    "## Which ten places had the largest earthquakes?"
   ]
  },
  {
   "cell_type": "code",
   "execution_count": null,
   "metadata": {
    "collapsed": false,
    "deletable": true,
    "editable": true
   },
   "outputs": [],
   "source": [
    "recent_earthquakes.groupby('place')['mag'].max().sort_values(ascending=False)[:10]"
   ]
  },
  {
   "cell_type": "markdown",
   "metadata": {
    "deletable": true,
    "editable": true
   },
   "source": [
    "## Where are these earthquakes in the spherical mercator projection?"
   ]
  },
  {
   "cell_type": "code",
   "execution_count": null,
   "metadata": {
    "collapsed": false,
    "deletable": true,
    "editable": true
   },
   "outputs": [],
   "source": [
    "from geometryIO import get_transformPoint, proj4LL, proj4SM\n",
    "from pandas import Series\n",
    "\n",
    "transform_point = get_transformPoint(proj4LL, proj4SM)\n",
    "\n",
    "def transform_row(row):\n",
    "    x, y = transform_point(row['longitude'], row['latitude'])\n",
    "    return Series(dict(row.to_dict(), **{'x': x, 'y': y}))\n",
    "\n",
    "recent_earthquakes_xy = recent_earthquakes.apply(transform_row, axis=1)\n",
    "recent_earthquakes_xy[:3]"
   ]
  }
 ],
 "metadata": {
  "kernelspec": {
   "display_name": "Python 3",
   "language": "python",
   "name": "python3"
  },
  "language_info": {
   "codemirror_mode": {
    "name": "ipython",
    "version": 3
   },
   "file_extension": ".py",
   "mimetype": "text/x-python",
   "name": "python",
   "nbconvert_exporter": "python",
   "pygments_lexer": "ipython3",
   "version": "3.5.2"
  }
 },
 "nbformat": 4,
 "nbformat_minor": 0
}
