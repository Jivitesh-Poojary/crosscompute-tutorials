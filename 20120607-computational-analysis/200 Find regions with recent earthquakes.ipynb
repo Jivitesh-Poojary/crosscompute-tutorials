{
 "metadata": {
  "name": "200 Find regions with recent earthquakes"
 },
 "nbformat": 3,
 "nbformat_minor": 0,
 "worksheets": [
  {
   "cells": [
    {
     "cell_type": "markdown",
     "metadata": {},
     "source": [
      "# [Worldwide M1+ Earthquakes, Past 7 Days](https://explore.data.gov/Geography-and-Environment/Worldwide-M1-Earthquakes-Past-7-Days/7tag-iwnu)"
     ]
    },
    {
     "cell_type": "code",
     "collapsed": false,
     "input": [
      "from cStringIO import StringIO\n",
      "from urllib import urlopen\n",
      "from pandas import read_csv\n",
      "\n",
      "load = lambda x: read_csv(x, index_col=3, parse_dates=True)\n",
      "try:\n",
      "    url = 'http://earthquake.usgs.gov/earthquakes/catalogs/eqs7day-M1.txt'\n",
      "    recentEarthquakes = load(StringIO(urlopen(url).read()))\n",
      "except IOError:\n",
      "    recentEarthquakes = load('datasets/World-RecentEarthquakes.csv')"
     ],
     "language": "python",
     "metadata": {},
     "outputs": [],
     "prompt_number": 11
    },
    {
     "cell_type": "code",
     "collapsed": false,
     "input": [
      "recentEarthquakes.ix[0]"
     ],
     "language": "python",
     "metadata": {},
     "outputs": [],
     "prompt_number": 10
    },
    {
     "cell_type": "markdown",
     "metadata": {},
     "source": [
      "## What was the magnitude of the largest earthquake in past seven days?"
     ]
    },
    {
     "cell_type": "code",
     "collapsed": false,
     "input": [
      "recentEarthquakes.Magnitude.max()"
     ],
     "language": "python",
     "metadata": {},
     "outputs": [],
     "prompt_number": 3
    },
    {
     "cell_type": "markdown",
     "metadata": {},
     "source": [
      "## Which region had the largest earthquake in the past seven days?"
     ]
    },
    {
     "cell_type": "code",
     "collapsed": false,
     "input": [
      "recentEarthquakes.ix[recentEarthquakes.Magnitude.idxmax()]"
     ],
     "language": "python",
     "metadata": {},
     "outputs": [],
     "prompt_number": 4
    },
    {
     "cell_type": "markdown",
     "metadata": {},
     "source": [
      "## Plot recent earthquake magnitudes"
     ]
    },
    {
     "cell_type": "code",
     "collapsed": false,
     "input": [
      "recentEarthquakes.Magnitude.plot();"
     ],
     "language": "python",
     "metadata": {},
     "outputs": [],
     "prompt_number": 5
    },
    {
     "cell_type": "code",
     "collapsed": false,
     "input": [
      "# Plot by the hour\n",
      "recentEarthquakes.resample('H').Magnitude.plot();"
     ],
     "language": "python",
     "metadata": {},
     "outputs": [],
     "prompt_number": 6
    },
    {
     "cell_type": "code",
     "collapsed": false,
     "input": [
      "# Plot by the day\n",
      "recentEarthquakes.resample('D').Magnitude.plot();"
     ],
     "language": "python",
     "metadata": {},
     "outputs": [],
     "prompt_number": 7
    },
    {
     "cell_type": "markdown",
     "metadata": {},
     "source": [
      "## How many earthquakes were there recently in Central California?"
     ]
    },
    {
     "cell_type": "code",
     "collapsed": false,
     "input": [
      "len(recentEarthquakes[recentEarthquakes.Region == 'Central California'])"
     ],
     "language": "python",
     "metadata": {},
     "outputs": [],
     "prompt_number": 8
    },
    {
     "cell_type": "markdown",
     "metadata": {},
     "source": [
      "## What was the average magnitude of recent earthquakes in Guatemala?"
     ]
    },
    {
     "cell_type": "code",
     "collapsed": false,
     "input": [
      "# Type your solution here and press CTRL-ENTER"
     ],
     "language": "python",
     "metadata": {},
     "outputs": [],
     "prompt_number": 4
    },
    {
     "cell_type": "markdown",
     "metadata": {},
     "source": [
      "## Count earthquakes by seismic monitoring source"
     ]
    },
    {
     "cell_type": "code",
     "collapsed": false,
     "input": [
      "seismicMonitors = read_csv('datasets/World-AdvancedNationalSeismicSystemNetworks.csv')\n",
      "seismicMonitors.head()"
     ],
     "language": "python",
     "metadata": {},
     "outputs": [],
     "prompt_number": 17
    },
    {
     "cell_type": "code",
     "collapsed": false,
     "input": [
      "# Change codes to lowercase\n",
      "seismicMonitors['Src'] = seismicMonitors.Code.str.lower()\n",
      "seismicMonitors.head()"
     ],
     "language": "python",
     "metadata": {},
     "outputs": [],
     "prompt_number": 21
    },
    {
     "cell_type": "code",
     "collapsed": false,
     "input": [
      "recentEarthquakes.merge(seismicMonitors)[['Src', 'Region', 'Magnitude', 'Network Name']].tail()"
     ],
     "language": "python",
     "metadata": {},
     "outputs": [],
     "prompt_number": 35
    },
    {
     "cell_type": "code",
     "collapsed": false,
     "input": [
      "# Count earthquakes by network name\n",
      "mergedEarthquakes = recentEarthquakes.merge(seismicMonitors)[['Src', 'Magnitude', 'Network Name']]\n",
      "mergedEarthquakes.groupby('Network Name').count()['Magnitude']"
     ],
     "language": "python",
     "metadata": {},
     "outputs": [],
     "prompt_number": 43
    },
    {
     "cell_type": "markdown",
     "metadata": {},
     "source": [
      "## Rank top ten regions with DataFrame.groupby()"
     ]
    },
    {
     "cell_type": "code",
     "collapsed": false,
     "input": [
      "# Which ten regions had the most earthquakes in the past seven days?\n",
      "recentEarthquakes['Region'].value_counts()[:10]"
     ],
     "language": "python",
     "metadata": {},
     "outputs": [],
     "prompt_number": 8
    },
    {
     "cell_type": "code",
     "collapsed": false,
     "input": [
      "# Which ten regions had the largest earthquakes in the past seven days?\n",
      "recentEarthquakes.groupby('Region').max()['Magnitude'].order(ascending=False)[:10]"
     ],
     "language": "python",
     "metadata": {},
     "outputs": [],
     "prompt_number": 9
    },
    {
     "cell_type": "markdown",
     "metadata": {},
     "source": [
      "## Convert all coordinates to spherical mercator with DataFrame.apply()"
     ]
    },
    {
     "cell_type": "code",
     "collapsed": false,
     "input": [
      "from geometryIO import get_transformPoint, proj4LL, proj4SM\n",
      "from pandas import Series\n",
      "\n",
      "transformPoint = get_transformPoint(proj4LL, proj4SM)\n",
      "\n",
      "def transform_row(row):\n",
      "    x, y = transformPoint(row['Lon'], row['Lat'])\n",
      "    return Series(dict(row.to_dict(), **{'X': x, 'Y': y}))\n",
      "recentEarthquakesXY = recentEarthquakes.apply(transform_row, axis=1)\n",
      "recentEarthquakesXY.ix[0]"
     ],
     "language": "python",
     "metadata": {},
     "outputs": [],
     "prompt_number": 10
    }
   ],
   "metadata": {}
  }
 ]
}