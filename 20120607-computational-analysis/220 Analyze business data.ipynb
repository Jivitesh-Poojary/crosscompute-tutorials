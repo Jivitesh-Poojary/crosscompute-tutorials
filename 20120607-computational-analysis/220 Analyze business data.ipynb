{
 "metadata": {
  "name": "220 Analyze business data"
 },
 "nbformat": 3,
 "nbformat_minor": 0,
 "worksheets": [
  {
   "cells": [
    {
     "cell_type": "code",
     "collapsed": false,
     "input": [
      "from pandas import read_csv\n",
      "customers = read_csv('datasets/SampleBusiness-Customers.csv')\n",
      "products = read_csv('datasets/SampleBusiness-Products.csv')\n",
      "promotions = read_csv('datasets/SampleBusiness-Promotions.csv')\n",
      "orders = read_csv('datasets/SampleBusiness-Orders.csv', parse_dates=[1])"
     ],
     "language": "python",
     "metadata": {},
     "outputs": []
    },
    {
     "cell_type": "code",
     "collapsed": false,
     "input": [
      "productOrders = orders.merge(products)\n",
      "productOrders"
     ],
     "language": "python",
     "metadata": {},
     "outputs": []
    },
    {
     "cell_type": "code",
     "collapsed": false,
     "input": [
      "productOrders['OrderAmount'] = productOrders['ProductQuantity'] * productOrders['ProductPrice']"
     ],
     "language": "python",
     "metadata": {},
     "outputs": []
    },
    {
     "cell_type": "markdown",
     "metadata": {},
     "source": [
      "# Customers"
     ]
    },
    {
     "cell_type": "code",
     "collapsed": false,
     "input": [
      "# Who are our customers?\n",
      "customers.head()"
     ],
     "language": "python",
     "metadata": {},
     "outputs": []
    },
    {
     "cell_type": "code",
     "collapsed": false,
     "input": [
      "# What were the top ten states with the most customers?\n",
      "customers['CustomerState'].value_counts()[:10]"
     ],
     "language": "python",
     "metadata": {},
     "outputs": []
    },
    {
     "cell_type": "code",
     "collapsed": false,
     "input": [
      "# How many unique customers did we have in February 2012?\n",
      "import datetime\n",
      "afterFebruary1 = orders['OrderDateTime'] >= datetime.datetime(2012, 2, 1)\n",
      "beforeMarch1 = orders['OrderDateTime'] < datetime.datetime(2012, 3, 1)\n",
      "februaryOrders = orders[afterFebruary1 & beforeMarch1]\n",
      "len(februaryOrders['CustomerID'].unique())"
     ],
     "language": "python",
     "metadata": {},
     "outputs": []
    },
    {
     "cell_type": "code",
     "collapsed": false,
     "input": [
      "# Who are the most loyal customers?\n",
      "# How much will a customer spend during his or her relationship with the company?\n",
      "# How much are we willing to spend to acquire a customer?\n",
      "# Which customers are at risk of leaving?\n",
      "# Which customers are most likely to buy a given product?"
     ],
     "language": "python",
     "metadata": {},
     "outputs": []
    },
    {
     "cell_type": "markdown",
     "metadata": {},
     "source": [
      "# Products"
     ]
    },
    {
     "cell_type": "code",
     "collapsed": false,
     "input": [
      "# What were the sales ranked by state?\n",
      "customerProductOrders = productOrders.merge(customers)\n",
      "customerProductOrders.groupby('CustomerState').sum()['OrderAmount'].order(ascending=False)[:10]"
     ],
     "language": "python",
     "metadata": {},
     "outputs": []
    },
    {
     "cell_type": "code",
     "collapsed": false,
     "input": [
      "# What were the top ten products ranked by quantity sold?\n",
      "productOrders.groupby('ProductName').sum()['ProductQuantity'].order(ascending=False)[:10]"
     ],
     "language": "python",
     "metadata": {},
     "outputs": []
    },
    {
     "cell_type": "code",
     "collapsed": false,
     "input": [
      "# What were the top ten products by revenue?\n",
      "productOrders.groupby('ProductName').sum()['OrderAmount'].order(ascending=False)[:10]"
     ],
     "language": "python",
     "metadata": {},
     "outputs": []
    },
    {
     "cell_type": "code",
     "collapsed": false,
     "input": [
      "# What were the top ten products by profit?\n",
      "productOrders['OrderProfit'] = productOrders['ProductQuantity'] * (productOrders['ProductPrice'] - productOrders['ProductCost'])\n",
      "productOrders.groupby('ProductName').sum()['OrderProfit'].order(ascending=False)[:10]"
     ],
     "language": "python",
     "metadata": {},
     "outputs": []
    },
    {
     "cell_type": "code",
     "collapsed": false,
     "input": [
      "# How many orders did we have by month?\n",
      "ordersByDateTime = orders.set_index('OrderDateTime')\n",
      "ordersByDateTime.resample('M', how=len)['OrderID'].plot();"
     ],
     "language": "python",
     "metadata": {},
     "outputs": []
    },
    {
     "cell_type": "code",
     "collapsed": false,
     "input": [
      "# Which product is most likely to sell to a given group of customers?\n",
      "# How much of a given product do we expect to sell next week?\n",
      "# How much of a given product should we stock in the warehouse?"
     ],
     "language": "python",
     "metadata": {},
     "outputs": []
    },
    {
     "cell_type": "markdown",
     "metadata": {},
     "source": [
      "# Operations"
     ]
    },
    {
     "cell_type": "code",
     "collapsed": false,
     "input": [
      "# What were the top ten promotions by revenue?\n",
      "# What were the top ten promotions by profit?\n",
      "# How effective was this promotion at increasing sales?"
     ],
     "language": "python",
     "metadata": {},
     "outputs": []
    },
    {
     "cell_type": "markdown",
     "metadata": {},
     "source": [
      "[Books on Database Marketing](http://www.amazon.com/s?field-keywords=database+marketing)"
     ]
    }
   ],
   "metadata": {}
  }
 ]
}