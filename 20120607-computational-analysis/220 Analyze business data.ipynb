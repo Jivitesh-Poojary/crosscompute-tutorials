{
 "cells": [
  {
   "cell_type": "code",
   "execution_count": null,
   "metadata": {
    "collapsed": false,
    "deletable": true,
    "editable": true
   },
   "outputs": [],
   "source": [
    "from pandas import read_csv\n",
    "customers = read_csv('datasets/SampleBusiness-Customers.csv')\n",
    "products = read_csv('datasets/SampleBusiness-Products.csv')\n",
    "promotions = read_csv('datasets/SampleBusiness-Promotions.csv')\n",
    "orders = read_csv('datasets/SampleBusiness-Orders.csv', parse_dates=[1])"
   ]
  },
  {
   "cell_type": "code",
   "execution_count": null,
   "metadata": {
    "collapsed": false,
    "deletable": true,
    "editable": true
   },
   "outputs": [],
   "source": [
    "productOrders = orders.merge(products)\n",
    "productOrders"
   ]
  },
  {
   "cell_type": "code",
   "execution_count": null,
   "metadata": {
    "collapsed": false,
    "deletable": true,
    "editable": true
   },
   "outputs": [],
   "source": [
    "productOrders['OrderAmount'] = productOrders['ProductQuantity'] * productOrders['ProductPrice']"
   ]
  },
  {
   "cell_type": "markdown",
   "metadata": {
    "deletable": true,
    "editable": true
   },
   "source": [
    "# Customers"
   ]
  },
  {
   "cell_type": "code",
   "execution_count": null,
   "metadata": {
    "collapsed": false,
    "deletable": true,
    "editable": true
   },
   "outputs": [],
   "source": [
    "# Who are our customers?\n",
    "customers.head()"
   ]
  },
  {
   "cell_type": "code",
   "execution_count": null,
   "metadata": {
    "collapsed": false,
    "deletable": true,
    "editable": true
   },
   "outputs": [],
   "source": [
    "# What were the top ten states with the most customers?\n",
    "customers['CustomerState'].value_counts()[:10]"
   ]
  },
  {
   "cell_type": "code",
   "execution_count": null,
   "metadata": {
    "collapsed": false,
    "deletable": true,
    "editable": true
   },
   "outputs": [],
   "source": [
    "# How many unique customers did we have in February 2012?\n",
    "import datetime\n",
    "afterFebruary1 = orders['OrderDateTime'] >= datetime.datetime(2012, 2, 1)\n",
    "beforeMarch1 = orders['OrderDateTime'] < datetime.datetime(2012, 3, 1)\n",
    "februaryOrders = orders[afterFebruary1 & beforeMarch1]\n",
    "len(februaryOrders['CustomerID'].unique())"
   ]
  },
  {
   "cell_type": "code",
   "execution_count": null,
   "metadata": {
    "collapsed": false,
    "deletable": true,
    "editable": true
   },
   "outputs": [],
   "source": [
    "# Who are the most loyal customers?\n",
    "# How much will a customer spend during his or her relationship with the company?\n",
    "# How much are we willing to spend to acquire a customer?\n",
    "# Which customers are at risk of leaving?\n",
    "# Which customers are most likely to buy a given product?"
   ]
  },
  {
   "cell_type": "markdown",
   "metadata": {
    "deletable": true,
    "editable": true
   },
   "source": [
    "# Products"
   ]
  },
  {
   "cell_type": "code",
   "execution_count": null,
   "metadata": {
    "collapsed": false,
    "deletable": true,
    "editable": true
   },
   "outputs": [],
   "source": [
    "# What were the sales ranked by state?\n",
    "customerProductOrders = productOrders.merge(customers)\n",
    "customerProductOrders.groupby('CustomerState').sum()['OrderAmount'].order(ascending=False)[:10]"
   ]
  },
  {
   "cell_type": "code",
   "execution_count": null,
   "metadata": {
    "collapsed": false,
    "deletable": true,
    "editable": true
   },
   "outputs": [],
   "source": [
    "# What were the top ten products ranked by quantity sold?\n",
    "productOrders.groupby('ProductName').sum()['ProductQuantity'].order(ascending=False)[:10]"
   ]
  },
  {
   "cell_type": "code",
   "execution_count": null,
   "metadata": {
    "collapsed": false,
    "deletable": true,
    "editable": true
   },
   "outputs": [],
   "source": [
    "# What were the top ten products by revenue?\n",
    "productOrders.groupby('ProductName').sum()['OrderAmount'].order(ascending=False)[:10]"
   ]
  },
  {
   "cell_type": "code",
   "execution_count": null,
   "metadata": {
    "collapsed": false,
    "deletable": true,
    "editable": true
   },
   "outputs": [],
   "source": [
    "# What were the top ten products by profit?\n",
    "productOrders['OrderProfit'] = productOrders['ProductQuantity'] * (productOrders['ProductPrice'] - productOrders['ProductCost'])\n",
    "productOrders.groupby('ProductName').sum()['OrderProfit'].order(ascending=False)[:10]"
   ]
  },
  {
   "cell_type": "code",
   "execution_count": null,
   "metadata": {
    "collapsed": false,
    "deletable": true,
    "editable": true
   },
   "outputs": [],
   "source": [
    "# How many orders did we have by month?\n",
    "ordersByDateTime = orders.set_index('OrderDateTime')\n",
    "ordersByDateTime.resample('M', how=len)['OrderID'].plot();"
   ]
  },
  {
   "cell_type": "code",
   "execution_count": null,
   "metadata": {
    "collapsed": false,
    "deletable": true,
    "editable": true
   },
   "outputs": [],
   "source": [
    "# Which product is most likely to sell to a given group of customers?\n",
    "# How much of a given product do we expect to sell next week?\n",
    "# How much of a given product should we stock in the warehouse?"
   ]
  },
  {
   "cell_type": "markdown",
   "metadata": {
    "deletable": true,
    "editable": true
   },
   "source": [
    "# Operations"
   ]
  },
  {
   "cell_type": "code",
   "execution_count": null,
   "metadata": {
    "collapsed": false,
    "deletable": true,
    "editable": true
   },
   "outputs": [],
   "source": [
    "# What were the top ten promotions by revenue?\n",
    "# What were the top ten promotions by profit?\n",
    "# How effective was this promotion at increasing sales?"
   ]
  },
  {
   "cell_type": "markdown",
   "metadata": {
    "deletable": true,
    "editable": true
   },
   "source": [
    "[Books on Database Marketing](http://www.amazon.com/s?field-keywords=database+marketing)"
   ]
  }
 ],
 "metadata": {
  "kernelspec": {
   "display_name": "Python 3",
   "language": "python",
   "name": "python3"
  },
  "language_info": {
   "codemirror_mode": {
    "name": "ipython",
    "version": 3
   },
   "file_extension": ".py",
   "mimetype": "text/x-python",
   "name": "python",
   "nbconvert_exporter": "python",
   "pygments_lexer": "ipython3",
   "version": "3.5.2"
  }
 },
 "nbformat": 4,
 "nbformat_minor": 0
}
