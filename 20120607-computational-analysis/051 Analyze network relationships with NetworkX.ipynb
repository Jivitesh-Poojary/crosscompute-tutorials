{
 "cells": [
  {
   "cell_type": "markdown",
   "metadata": {
    "deletable": true,
    "editable": true
   },
   "source": [
    "# NetworkX is for network relationship analysis\n",
    "\n",
    "[NetworkX](https://networkx.readthedocs.io) is a package for creating, analyzing, visualizing networks or graphs. A graph is a general mathematical concept that can be used to represent nodes and edges for moving from one node to another node. The strength of NetworkX is in its simplicity and its [algorithms](https://networkx.readthedocs.io/en/stable/reference/algorithms.html)."
   ]
  },
  {
   "cell_type": "code",
   "execution_count": null,
   "metadata": {
    "collapsed": false,
    "deletable": true,
    "editable": true
   },
   "outputs": [],
   "source": [
    "import networkx as nx"
   ]
  },
  {
   "cell_type": "markdown",
   "metadata": {
    "deletable": true,
    "editable": true
   },
   "source": [
    "Make a graph."
   ]
  },
  {
   "cell_type": "code",
   "execution_count": null,
   "metadata": {
    "collapsed": false,
    "deletable": true,
    "editable": true
   },
   "outputs": [],
   "source": [
    "# Make a graph where edges do not have direction.\n",
    "graph = nx.Graph()"
   ]
  },
  {
   "cell_type": "code",
   "execution_count": null,
   "metadata": {
    "collapsed": false,
    "deletable": true,
    "editable": true
   },
   "outputs": [],
   "source": [
    "# Make a graph where edges have direction.\n",
    "diGraph = nx.DiGraph()"
   ]
  },
  {
   "cell_type": "code",
   "execution_count": null,
   "metadata": {
    "collapsed": false,
    "deletable": true,
    "editable": true
   },
   "outputs": [],
   "source": [
    "# Make a graph where two nodes can have multiple connecting edges without direction.\n",
    "multiGraph = nx.MultiGraph()"
   ]
  },
  {
   "cell_type": "code",
   "execution_count": null,
   "metadata": {
    "collapsed": false,
    "deletable": true,
    "editable": true
   },
   "outputs": [],
   "source": [
    "# Make a graph where two nodes can have multiple connecting edges with direction.\n",
    "# Example: Cities and the one-way highways connecting them, where\n",
    "#          two cities can be connected by more than two highways\n",
    "multiDiGraph = nx.MultiDiGraph()"
   ]
  },
  {
   "cell_type": "code",
   "execution_count": null,
   "metadata": {
    "collapsed": false,
    "deletable": true,
    "editable": true
   },
   "outputs": [],
   "source": [
    "# Generate a random graph.\n",
    "degree = 2\n",
    "nodeCount = 10\n",
    "randomGraph = nx.random_regular_graph(degree, nodeCount)"
   ]
  },
  {
   "cell_type": "markdown",
   "metadata": {
    "deletable": true,
    "editable": true
   },
   "source": [
    "Add nodes, see nodes, draw nodes."
   ]
  },
  {
   "cell_type": "code",
   "execution_count": null,
   "metadata": {
    "collapsed": false,
    "deletable": true,
    "editable": true
   },
   "outputs": [],
   "source": [
    "graph = nx.Graph()\n",
    "# Add single nodes\n",
    "graph.add_node(100)\n",
    "graph.add_node('lettuce')\n",
    "# Add multiple nodes\n",
    "graph.add_nodes_from(['carrot', 'zucchini'])\n",
    "# List nodes\n",
    "graph.nodes()"
   ]
  },
  {
   "cell_type": "code",
   "execution_count": null,
   "metadata": {
    "collapsed": false,
    "deletable": true,
    "editable": true
   },
   "outputs": [],
   "source": [
    "# Print the first three letters of each node using the nodes_iter() iterator,\n",
    "# which is more efficient than nodes() because it does not create an itermediate list\n",
    "[str(node)[:3] for node in graph.nodes_iter()]"
   ]
  },
  {
   "cell_type": "code",
   "execution_count": null,
   "metadata": {
    "collapsed": false,
    "deletable": true,
    "editable": true
   },
   "outputs": [],
   "source": [
    "% matplotlib inline\n",
    "nx.draw(graph)"
   ]
  },
  {
   "cell_type": "markdown",
   "metadata": {
    "deletable": true,
    "editable": true
   },
   "source": [
    "Add edges, see edges, draw edges."
   ]
  },
  {
   "cell_type": "code",
   "execution_count": null,
   "metadata": {
    "collapsed": false,
    "deletable": true,
    "editable": true
   },
   "outputs": [],
   "source": [
    "graph = nx.Graph()\n",
    "# Add single edges\n",
    "graph.add_edge('City Hall', 'Union Square')\n",
    "graph.add_edge('Union Square', 'Grand Central')\n",
    "graph.add_edge('Grand Central', 'Times Square')\n",
    "# Add multiple edges\n",
    "graph.add_edges_from([\n",
    "    ('Penn Station', 'Times Square'),\n",
    "    ('Times Square', '72nd Street and Broadway'),\n",
    "    ('72nd Street and Broadway', '96th Street and Broadway'),\n",
    "])\n",
    "# List nodes\n",
    "graph.nodes()"
   ]
  },
  {
   "cell_type": "code",
   "execution_count": null,
   "metadata": {
    "collapsed": false,
    "deletable": true,
    "editable": true
   },
   "outputs": [],
   "source": [
    "# List edges\n",
    "graph.edges()"
   ]
  },
  {
   "cell_type": "code",
   "execution_count": null,
   "metadata": {
    "collapsed": false,
    "deletable": true,
    "editable": true
   },
   "outputs": [],
   "source": [
    "# List edges using the first three letters of each node using the edges_iter() iterator,\n",
    "# which is more efficient than edges() because it does not create an itermediate list\n",
    "[(node1[:3], node2[:3]) for node1, node2 in graph.edges_iter()]"
   ]
  },
  {
   "cell_type": "code",
   "execution_count": null,
   "metadata": {
    "collapsed": false,
    "deletable": true,
    "editable": true
   },
   "outputs": [],
   "source": [
    "%matplotlib inline\n",
    "nx.draw(graph)"
   ]
  },
  {
   "cell_type": "markdown",
   "metadata": {
    "deletable": true,
    "editable": true
   },
   "source": [
    "Add attributes."
   ]
  },
  {
   "cell_type": "code",
   "execution_count": null,
   "metadata": {
    "collapsed": false,
    "deletable": true,
    "editable": true
   },
   "outputs": [],
   "source": [
    "# Add graph attributes\n",
    "graph = nx.Graph(name='phone records')\n",
    "graph.graph['startIndex'] = 500\n",
    "graph.graph['endIndex'] = 10000\n",
    "graph.graph"
   ]
  },
  {
   "cell_type": "code",
   "execution_count": null,
   "metadata": {
    "collapsed": false,
    "deletable": true,
    "editable": true
   },
   "outputs": [],
   "source": [
    "# Add node attributes\n",
    "graph.add_node('18008662453', name='TMobile customer service')\n",
    "graph.add_node('18883336651', name='AT&T customer service')\n",
    "graph.add_node('18009220204', name='Verizon customer service')\n",
    "graph.add_node('18668667509', name='Sprint customer service')\n",
    "graph.node['18008662453']['name'] = 'T-Mobile customer service'\n",
    "graph.node['18008662453']"
   ]
  },
  {
   "cell_type": "code",
   "execution_count": null,
   "metadata": {
    "collapsed": false,
    "deletable": true,
    "editable": true
   },
   "outputs": [],
   "source": [
    "# Look at nodes and their attributes\n",
    "graph.nodes(data=True)"
   ]
  },
  {
   "cell_type": "code",
   "execution_count": null,
   "metadata": {
    "collapsed": false,
    "deletable": true,
    "editable": true
   },
   "outputs": [],
   "source": [
    "# Add attributes to an edge\n",
    "graph.add_edge('18883336651', '18009220204', weight=0.5, confidence=0.9)\n",
    "graph.add_edge('18009220204', '18668667509', weight=0.3, confidence=0.4)\n",
    "graph.edge['18883336651']['18009220204']['weight'] = 1.0\n",
    "graph.edge['18883336651']['18009220204']"
   ]
  },
  {
   "cell_type": "code",
   "execution_count": null,
   "metadata": {
    "collapsed": false,
    "deletable": true,
    "editable": true
   },
   "outputs": [],
   "source": [
    "# Look at edges and their attributes\n",
    "graph.edges(data=True)"
   ]
  },
  {
   "cell_type": "code",
   "execution_count": null,
   "metadata": {
    "collapsed": false,
    "deletable": true,
    "editable": true
   },
   "outputs": [],
   "source": [
    "%matplotlib inline\n",
    "nx.draw_circular(graph)"
   ]
  },
  {
   "cell_type": "markdown",
   "metadata": {
    "deletable": true,
    "editable": true
   },
   "source": [
    "Analyze a graph with an algorithm."
   ]
  },
  {
   "cell_type": "code",
   "execution_count": null,
   "metadata": {
    "collapsed": false,
    "deletable": true,
    "editable": true
   },
   "outputs": [],
   "source": [
    "graph = nx.Graph()\n",
    "graph.add_edge('City Hall', 'Union Square', duration=10)\n",
    "graph.add_edge('Union Square', 'Grand Central', duration=10)\n",
    "graph.add_edge('Grand Central', 'Times Square', duration=5)\n",
    "graph.add_edge('Penn Station', 'Times Square', duration=5)\n",
    "graph.add_edge('Times Square', '72nd Street and Broadway', duration=10)\n",
    "graph.add_edge('72nd Street and Broadway', '96th Street and Broadway', duration=10)\n",
    "graph.add_edge('Grand Central', '86th Street and Lexington', duration=10)\n",
    "# What is the fastest way to get from City Hall to 86th Street and Lexington?\n",
    "print nx.dijkstra_path(graph, 'City Hall', '86th Street and Lexington', weight='duration')\n",
    "# How long will it take?\n",
    "print '%s minutes' % nx.dijkstra_path_length(graph, 'City Hall', '86th Street and Lexington', weight='duration')"
   ]
  },
  {
   "cell_type": "markdown",
   "metadata": {
    "deletable": true,
    "editable": true
   },
   "source": [
    "Save and load graphs."
   ]
  },
  {
   "cell_type": "code",
   "execution_count": null,
   "metadata": {
    "collapsed": false,
    "deletable": true,
    "editable": true
   },
   "outputs": [],
   "source": [
    "path = '/tmp/graph.pkl'\n",
    "# Save\n",
    "nx.write_gpickle(graph, path)\n",
    "# Load\n",
    "graph = nx.read_gpickle(path)\n",
    "graph.edges(data=True)"
   ]
  },
  {
   "cell_type": "markdown",
   "metadata": {
    "deletable": true,
    "editable": true
   },
   "source": [
    "## Resources\n",
    "\n",
    "- Video: http://pyvideo.org/video/627/graph-processing-in-python\n",
    "- Documentation: https://networkx.readthedocs.io\n",
    "- Mailing List: https://groups.google.com/forum/?fromgroups#!forum/networkx-discuss"
   ]
  }
 ],
 "metadata": {
  "kernelspec": {
   "display_name": "Python 2",
   "language": "python",
   "name": "python2"
  },
  "language_info": {
   "codemirror_mode": {
    "name": "ipython",
    "version": 2
   },
   "file_extension": ".py",
   "mimetype": "text/x-python",
   "name": "python",
   "nbconvert_exporter": "python",
   "pygments_lexer": "ipython2",
   "version": "2.7.13"
  }
 },
 "nbformat": 4,
 "nbformat_minor": 0
}
