{
 "metadata": {
  "name": "131 Visualize numerical data with Matplotlib"
 },
 "nbformat": 3,
 "nbformat_minor": 0,
 "worksheets": [
  {
   "cells": [
    {
     "cell_type": "markdown",
     "metadata": {},
     "source": [
      "# Matplotlib is a visualization library\n",
      "\n",
      "- [Matplotlib](http://matplotlib.sourceforge.net)\n",
      "- [Matplotlib Gallery](http://matplotlib.sourceforge.net/gallery.html)\n",
      "- [Matplotlib Examples](http://matplotlib.sourceforge.net/examples)"
     ]
    },
    {
     "cell_type": "code",
     "collapsed": false,
     "input": [
      "# Cut and paste code from the gallery and press CTRL-ENTER"
     ],
     "language": "python",
     "metadata": {},
     "outputs": []
    },
    {
     "cell_type": "code",
     "collapsed": false,
     "input": [
      "# Cut and paste code from an example and press CTRL-ENTER "
     ],
     "language": "python",
     "metadata": {},
     "outputs": []
    },
    {
     "cell_type": "markdown",
     "metadata": {},
     "source": [
      "- [Stream plot](http://matplotlib.org/1.2.0/examples/pylab_examples/streamplot_demo.html)"
     ]
    }
   ],
   "metadata": {}
  }
 ]
}