{
 "metadata": {
  "name": "321 Analyze spatial relationships with GeometryIO, Shapely, PySAL"
 },
 "nbformat": 3,
 "nbformat_minor": 0,
 "worksheets": [
  {
   "cells": [
    {
     "cell_type": "code",
     "collapsed": false,
     "input": [
      "import geometryIO\n",
      "import shapely\n",
      "import shapely.geometry\n",
      "import pysal\n",
      "import pylab as pl\n",
      "from shapely.geometry import Point, LineString, Polygon"
     ],
     "language": "python",
     "metadata": {},
     "outputs": [],
     "prompt_number": 5
    },
    {
     "cell_type": "code",
     "collapsed": false,
     "input": [
      "def plot(shapelyGeometries):\n",
      "    'Plot shapelyGeometries'\n",
      "    figure = pl.figure(num=None, figsize=(4, 4), dpi=180)\n",
      "    axes = pl.axes()\n",
      "    axes.set_aspect('equal', 'datalim')\n",
      "    axes.xaxis.set_visible(False)\n",
      "    axes.yaxis.set_visible(False)\n",
      "    draw(shapelyGeometries)\n",
      "            \n",
      "def draw(gs):\n",
      "    'Draw shapelyGeometries'\n",
      "    # Handle single and multiple geometries\n",
      "    try:\n",
      "        gs = iter(gs)\n",
      "    except TypeError:\n",
      "        gs = [gs]\n",
      "    # For each shapelyGeometry,\n",
      "    for g in gs:\n",
      "        gType = g.geom_type\n",
      "        if gType.startswith('Multi') or gType == 'GeometryCollection':\n",
      "            draw(g.geoms)\n",
      "        else:\n",
      "            draw_(g)\n",
      "            \n",
      "def draw_(g):\n",
      "    'Draw a shapelyGeometry; thanks to Sean Gilles'\n",
      "    gType = g.geom_type\n",
      "    if gType == 'Point':\n",
      "        pl.plot(g.x, g.y, 'k,')\n",
      "    elif gType == 'LineString':\n",
      "        x, y = g.xy\n",
      "        pl.plot(x, y, 'b-')\n",
      "    elif gType == 'Polygon':\n",
      "        x, y = g.exterior.xy\n",
      "        pl.fill(x, y, color='#cccccc', aa=True) \n",
      "        pl.plot(x, y, color='#666666', aa=True, lw=1.0)\n",
      "        for hole in g.interiors:\n",
      "            x, y = hole.xy\n",
      "            pl.fill(x, y, color='#ffffff', aa=True) \n",
      "            pl.plot(x, y, color='#999999', aa=True, lw=1.0)"
     ],
     "language": "python",
     "metadata": {},
     "outputs": [],
     "prompt_number": 6
    },
    {
     "cell_type": "markdown",
     "metadata": {},
     "source": [
      "# Save and load vector formats"
     ]
    },
    {
     "cell_type": "code",
     "collapsed": false,
     "input": [
      "import geometryIO\n",
      "import datetime\n",
      "import itertools\n",
      "import os\n",
      "from osgeo import ogr\n",
      "from shapely import geometry\n",
      "\n",
      "polygonsPath = os.path.expandvars('$HOME/Downloads/polygons.shp.zip')\n",
      "pointsPath = os.path.expandvars('$HOME/Downloads/points.shp.tar.gz')\n",
      "\n",
      "geometryIO.save(\n",
      "    targetPath=polygonsPath,\n",
      "    sourceProj4=geometryIO.proj4LL,\n",
      "    shapelyGeometries=[\n",
      "        geometry.Polygon([(0, 0), (0, 10), (10, 10), (10, 0), (0, 0)]),\n",
      "        geometry.Polygon([(10, 0), (10, 10), (20, 10), (20, 0), (10, 0)]),\n",
      "    ],\n",
      "    fieldPacks=[\n",
      "        ('xxx', 11111, 44444.44, datetime.datetime(1980, 1, 1)),\n",
      "        ('yyy', 22222, 88888.88, datetime.datetime(1990, 1, 1)),\n",
      "    ],\n",
      "    fieldDefinitions=[\n",
      "        ('Name', ogr.OFTString),\n",
      "        ('Population', ogr.OFTInteger),\n",
      "        ('GDP', ogr.OFTReal),\n",
      "        ('Date', ogr.OFTDate),\n",
      "    ],\n",
      "    driverName='ESRI Shapefile', \n",
      "    targetProj4=geometryIO.proj4SM)\n",
      "\n",
      "proj4, shapelyGeometries, fieldPacks, fieldDefinitions = geometryIO.load(\n",
      "    sourcePath=polygonsPath, \n",
      "    targetProj4=geometryIO.proj4LL)\n",
      "\n",
      "for shapelyGeometry, fPack in itertools.izip(shapelyGeometries, fieldPacks):\n",
      "    print\n",
      "    for fValue, (fName, fType) in itertools.izip(fPack, fieldDefinitions):\n",
      "        print '%s = %s' % (fName, fValue)\n",
      "    print shapelyGeometry\n",
      "\n",
      "geometryIO.save_points(\n",
      "    # Save to a compressed shapefile\n",
      "    targetPath=pointsPath,\n",
      "    # Declare that source coordinates are in longitude and latitude\n",
      "    sourceProj4=geometryIO.proj4LL,\n",
      "    # Specify coordinates\n",
      "    coordinateTuples=[\n",
      "        (0, +1),\n",
      "        (+1, 0),\n",
      "        (0, -1),\n",
      "        (-1, 0),\n",
      "    ])\n",
      "print geometryIO.load_points(pointsPath)[1]"
     ],
     "language": "python",
     "metadata": {},
     "outputs": [],
     "prompt_number": 7
    },
    {
     "cell_type": "markdown",
     "metadata": {},
     "source": [
      "Transform between spatial references."
     ]
    },
    {
     "cell_type": "code",
     "collapsed": false,
     "input": [
      "transformGeometry = geometryIO.get_transformGeometry(geometryIO.proj4LL, geometryIO.proj4SM)\n",
      "print transformGeometry(LineString(((3, 4), (10, 50), (20, 25))))"
     ],
     "language": "python",
     "metadata": {},
     "outputs": [],
     "prompt_number": 8
    },
    {
     "cell_type": "code",
     "collapsed": false,
     "input": [
      "transformPoint = geometryIO.get_transformPoint(geometryIO.proj4LL, geometryIO.proj4SM)\n",
      "print transformPoint(0, 0)"
     ],
     "language": "python",
     "metadata": {},
     "outputs": [],
     "prompt_number": 9
    },
    {
     "cell_type": "markdown",
     "metadata": {},
     "source": [
      "# Create geometries"
     ]
    },
    {
     "cell_type": "markdown",
     "metadata": {},
     "source": [
      "Create a geometry from coordinates."
     ]
    },
    {
     "cell_type": "code",
     "collapsed": false,
     "input": [
      "point1 = Point((6, 10))\n",
      "lineString1 = LineString(((3, 4), (10, 50), (20, 25)))\n",
      "polygon1 = Polygon(\n",
      "    ((1, 1), (5, 1), (5, 5), (1, 5), (1, 1)),      # Shell\n",
      "    [\n",
      "        ((2, 2), (2, 3), (3, 3), (3, 2), (2, 2)),  # Hole\n",
      "        ((3, 3), (3, 4), (4, 4), (4, 3), (3, 3)),  # Hole\n",
      "    ]\n",
      ")\n",
      "plot(lineString1)"
     ],
     "language": "python",
     "metadata": {},
     "outputs": [],
     "prompt_number": 10
    },
    {
     "cell_type": "markdown",
     "metadata": {},
     "source": [
      "Create a geometry from a geometry."
     ]
    },
    {
     "cell_type": "code",
     "collapsed": false,
     "input": [
      "point2 = Point((10, 6))\n",
      "lineString2 = LineString(((3, 14), (10, 60), (20, 35)))\n",
      "polygon2 = Polygon(\n",
      "    ((1, 11), (5, 11), (5, 15), (1, 15), (1, 11))\n",
      ")\n",
      "from shapely.geometry import MultiPoint, MultiLineString, MultiPolygon\n",
      "multiPoint = MultiPoint([point1, point2])\n",
      "multiLineString = MultiLineString([lineString1, lineString2])\n",
      "multiPolygon = MultiPolygon([polygon1, polygon2])"
     ],
     "language": "python",
     "metadata": {},
     "outputs": [],
     "prompt_number": 11
    },
    {
     "cell_type": "code",
     "collapsed": false,
     "input": [
      "point1B = point1.buffer(1)\n",
      "lineString1B = lineString1.buffer(1)\n",
      "polygon1B = polygon1.buffer(1)\n",
      "plot(lineString1B)"
     ],
     "language": "python",
     "metadata": {},
     "outputs": [],
     "prompt_number": 12
    },
    {
     "cell_type": "markdown",
     "metadata": {},
     "source": [
      "Create a geometry from WKT."
     ]
    },
    {
     "cell_type": "code",
     "collapsed": false,
     "input": [
      "wkt = 'LINESTRING(3 4, 10 50, 20 25)'\n",
      "import shapely.wkt\n",
      "shapelyGeometry = shapely.wkt.loads(wkt)"
     ],
     "language": "python",
     "metadata": {},
     "outputs": [],
     "prompt_number": 13
    },
    {
     "cell_type": "markdown",
     "metadata": {},
     "source": [
      "Create a geometry from WKB."
     ]
    },
    {
     "cell_type": "code",
     "collapsed": false,
     "input": [
      "wkb = '\\x01\\x01\\x00\\x00\\x00\\x00\\x00\\x00\\x00\\x00\\x00\\x18@\\x00\\x00\\x00\\x00\\x00\\x00$@'\n",
      "import shapely.wkb\n",
      "shapelyGeometry = shapely.wkb.loads(wkb)"
     ],
     "language": "python",
     "metadata": {},
     "outputs": [],
     "prompt_number": 14
    },
    {
     "cell_type": "markdown",
     "metadata": {},
     "source": [
      "Create a geometry from a class."
     ]
    },
    {
     "cell_type": "code",
     "collapsed": false,
     "input": [
      "class City(object):\n",
      "    \n",
      "    def __init__(self, name, x, y):\n",
      "        self.name = name\n",
      "        self.x = x\n",
      "        self.y = y\n",
      "\n",
      "    def __repr__(self):\n",
      "        return '<City(name={})>'.format(self.name.encode('ascii', 'replace'))\n",
      "\n",
      "    @property\n",
      "    def coordinates(self):\n",
      "        return self.x, self.y\n",
      "\n",
      "    @property\n",
      "    def __geo_interface__(self):\n",
      "        return {'type': 'Point', 'coordinates': self.coordinates}\n",
      "\n",
      "\n",
      "class Flight(object):\n",
      "\n",
      "    def __init__(self, city1, city2):\n",
      "        self.city1 = city1\n",
      "        self.city2 = city2\n",
      "\n",
      "    @property\n",
      "    def coordinates(self):\n",
      "        return self.city1.coordinates, self.city2.coordinates\n",
      "\n",
      "    @property\n",
      "    def __geo_interface__(self):\n",
      "        return {'type': 'LineString', 'coordinates': self.coordinates}\n",
      "\n",
      "    def __repr__(self):\n",
      "        return '<Flight({}, {})>'.format(self.city1, self.city2)"
     ],
     "language": "python",
     "metadata": {},
     "outputs": [],
     "prompt_number": 15
    },
    {
     "cell_type": "code",
     "collapsed": false,
     "input": [
      "# Initialize\n",
      "city1 = City('Kumasi', -1.62196, 6.68711)\n",
      "city2 = City('Accra', -0.20092, 5.55856)\n",
      "flight1 = Flight(city1, city2)\n",
      "# Make shape adapter\n",
      "shape = shapely.geometry.asShape(flight1)\n",
      "print type(shape)\n",
      "print 'length = {}'.format(shape.length)\n",
      "# Make shape\n",
      "shape = shapely.geometry.shape(flight1)\n",
      "print type(shape)\n",
      "print 'length = {}'.format(shape.length)"
     ],
     "language": "python",
     "metadata": {},
     "outputs": [],
     "prompt_number": 16
    },
    {
     "cell_type": "markdown",
     "metadata": {},
     "source": [
      "# Simplify geometries\n",
      "\n",
      "Make sure that the geometries you want to simplify are in a planar coordinate system such as spherical mercator.  Strange distortions can appear if you try to simplify geometries that are in an angular coordinate system such as latitude and longitude.  An added benefit of simplifying in spherical mercator is that the simplification tolerance has units in meters."
     ]
    },
    {
     "cell_type": "code",
     "collapsed": false,
     "input": [
      "geometry = shapely.geometry.Point(0, 0).buffer(0.75)\n",
      "figure = pylab.figure(num=None, figsize=(4, 4), dpi=180)\n",
      "for figureIndex, tolerance in enumerate([0, 0.01, 0.02, 0.03, 0.04, 0.05, 0.06, 0.2, 0.5]):\n",
      "    axes = figure.add_subplot(3, 3, figureIndex + 1, frame_on=False)\n",
      "    axes.xaxis.set_visible(False)\n",
      "    axes.yaxis.set_visible(False)\n",
      "    draw(geometry.simplify(tolerance))"
     ],
     "language": "python",
     "metadata": {},
     "outputs": [],
     "prompt_number": 17
    },
    {
     "cell_type": "markdown",
     "metadata": {},
     "source": [
      "# Merge geometries"
     ]
    },
    {
     "cell_type": "code",
     "collapsed": false,
     "input": [
      "# Import system modules\n",
      "import shapely.ops\n",
      "\n",
      "# Merge line segments to make a polygon\n",
      "lineSegments = [\n",
      "    ((0, 0), (1, 1)), ((1, 1), (2, 0)), ((2, 0), (0, 0)),\n",
      "    ((3, 0), (4, 1)), ((4, 1), (5, 0)), ((5, 0), (3, 0)),\n",
      "]\n",
      "for geometry in shapely.ops.polygonize(lineSegments):\n",
      "    print geometry.wkt"
     ],
     "language": "python",
     "metadata": {},
     "outputs": [],
     "prompt_number": 18
    },
    {
     "cell_type": "code",
     "collapsed": false,
     "input": [
      "# Import system modules\n",
      "import shapely.ops\n",
      "\n",
      "# Merge line segment to make a line segment\n",
      "lineSegments = [\n",
      "    ((0, 0), (1, 1)),\n",
      "    ((1, 1), (2, 2)),\n",
      "    ((2, 2), (3, 3)),\n",
      "]\n",
      "geometry = shapely.ops.linemerge(lineSegments)\n",
      "print geometry.wkt\n",
      "print geometry.simplify(0.5).wkt"
     ],
     "language": "python",
     "metadata": {},
     "outputs": [],
     "prompt_number": 19
    },
    {
     "cell_type": "code",
     "collapsed": false,
     "input": [
      "# Import system modules\n",
      "import shapely.ops\n",
      "\n",
      "# Merge two geometries\n",
      "geometry = point1.union(lineString1)\n",
      "# Merge multiple geometries efficiently\n",
      "geometry = shapely.ops.cascaded_union([\n",
      "    point1,\n",
      "    lineString1,\n",
      "    polygon1,\n",
      "])"
     ],
     "language": "python",
     "metadata": {},
     "outputs": [],
     "prompt_number": 20
    },
    {
     "cell_type": "markdown",
     "metadata": {},
     "source": [
      "# Compare geometries"
     ]
    },
    {
     "cell_type": "code",
     "collapsed": false,
     "input": [
      "# Initialize\n",
      "templateStatement = 'filter(geometry.intersects, lineStrings)'\n",
      "templateSetup = \"\"\"\n",
      "from shapely.geometry import LineString\n",
      "from shapely.prepared import prep\n",
      "import random\n",
      "\n",
      "lineStrings = [LineString([(\n",
      "    random.choice(xrange(100)),\n",
      "    random.choice(xrange(100)),\n",
      "), (\n",
      "    random.choice(xrange(100)),\n",
      "    random.choice(xrange(100)),\n",
      ")]) for x in xrange(100)]\n",
      "{}\n",
      "\"\"\"\n",
      "# Compare performance\n",
      "import timeit\n",
      "print 'With prepared statement: {}'.format(timeit.timeit(\n",
      "    stmt=templateStatement,\n",
      "    setup=templateSetup.format('geometry = prep(lineStrings[0])'),\n",
      "    number=100))\n",
      "print 'Without prepared statement: {}'.format(timeit.timeit(\n",
      "    stmt=templateStatement, \n",
      "    setup=templateSetup.format('geometry = lineStrings[0]'),\n",
      "    number=100))"
     ],
     "language": "python",
     "metadata": {},
     "outputs": [],
     "prompt_number": 21
    },
    {
     "cell_type": "markdown",
     "metadata": {},
     "source": [
      "# Analyze geometries"
     ]
    },
    {
     "cell_type": "markdown",
     "metadata": {},
     "source": [
      "[Check whether and where an attribute's value correlates with its spatial location](http://pysal.geodacenter.org/dev/users/tutorials/autocorrelation.html)."
     ]
    },
    {
     "cell_type": "markdown",
     "metadata": {},
     "source": [
      "[Model changes with spatial dependencies over time](http://pysal.geodacenter.org/dev/users/tutorials/dynamics.html#markov-based-methods)."
     ]
    },
    {
     "cell_type": "markdown",
     "metadata": {},
     "source": [
      "[Check whether events correlated in space are also correlated in time](http://pysal.geodacenter.org/dev/users/tutorials/dynamics.html#space-time-interaction-tests)."
     ]
    },
    {
     "cell_type": "code",
     "collapsed": false,
     "input": [
      "import numpy as np\n",
      "from itertools import product, izip\n",
      "from scipy.spatial import KDTree\n",
      "\n",
      "pointsXY1 = np.array(list(product(xrange(3), xrange(3))))\n",
      "# print pointsXY1\n",
      "k1 = KDTree(pointsXY1)\n",
      "\n",
      "pointsXY2 = np.array(list(product(np.arange(0.5, 3), np.arange(0.5, 3))))\n",
      "# print pointsXY2\n",
      "k2 = KDTree(pointsXY2)\n",
      "\n",
      "# X, Y\n",
      "from scipy.spatial import KDTree\n",
      "\n",
      "distances, indices = k1.query((0, 0), k=2)\n",
      "# print pointsXY1[indices]\n",
      "indices = k1.query_ball_point((0, 0), 1)\n",
      "# print pointsXY1[indices]\n",
      "\n",
      "indexLists = k1.query_ball_tree(k2, 1)\n",
      "# for point, indices in izip(pointsXY1, indexLists):\n",
      "    # print '*** %s *** ' % point\n",
      "    # print pointsXY2[indices]\n",
      "    \n",
      "indexPairs = k1.query_pairs(1)\n",
      "# for index1, index2 in indexPairs:\n",
      "    # print pointsXY1[index1], pointsXY1[index2]"
     ],
     "language": "python",
     "metadata": {},
     "outputs": [],
     "prompt_number": 23
    },
    {
     "cell_type": "code",
     "collapsed": false,
     "input": [
      "from urllib import urlopen, urlencode\n",
      "from simplejson import loads\n",
      "\n",
      "def geocode(address):\n",
      "    url = 'https://maps.googleapis.com/maps/api/geocode/json?' + urlencode([\n",
      "        ('address', address),\n",
      "        ('sensor', 'false'),\n",
      "    ])\n",
      "    json = loads(urlopen(url).read())\n",
      "    result = json['results'][0]\n",
      "    formattedAddress = result['formatted_address']\n",
      "    location = result['geometry']['location']\n",
      "    longitude, latitude = location['lng'], location['lat']\n",
      "    return dict(address=formattedAddress, longitude=longitude, latitude=latitude)\n",
      "\n",
      "def geocodeLL(address):\n",
      "    valueByKey = geocode(address)\n",
      "    return valueByKey['longitude'], valueByKey['latitude']"
     ],
     "language": "python",
     "metadata": {},
     "outputs": [],
     "prompt_number": 24
    },
    {
     "cell_type": "code",
     "collapsed": false,
     "input": [
      "addresses = [\n",
      "    'Grand Central',\n",
      "    'Penn Station',\n",
      "    'Wall Street',\n",
      "    'Empire State Building',\n",
      "    'Lincoln Center',\n",
      "]\n",
      "pointsLL = np.array([geocodeLL(_) for _ in addresses])"
     ],
     "language": "python",
     "metadata": {},
     "outputs": [],
     "prompt_number": 25
    },
    {
     "cell_type": "code",
     "collapsed": false,
     "input": [
      "# Longitude, Latitude\n",
      "from pysal.cg.kdtree import Arc_KDTree\n",
      "earthRadiusInMeters = 6378100\n",
      "k3 = Arc_KDTree(pointsLL, radius=earthRadiusInMeters)\n",
      "distances, indices = k3.query(geocodeLL('Times Square'), 2)\n",
      "for distance, index in izip(distances, indices):\n",
      "    print '%s is %i meters away' % (addresses[index], distance)"
     ],
     "language": "python",
     "metadata": {},
     "outputs": [],
     "prompt_number": 26
    },
    {
     "cell_type": "markdown",
     "metadata": {},
     "source": [
      "# Practice"
     ]
    },
    {
     "cell_type": "markdown",
     "metadata": {},
     "source": [
      "Load the state of Georgia from the provided GADM dataset, transform it to the spherical mercator projection, save the geometry with attributes at three levels of simplification and plot the three simplifications to PNGs."
     ]
    },
    {
     "cell_type": "code",
     "collapsed": false,
     "input": [
      "geometryPath = 'GADM-USA-Georgia.shp.zip'\n",
      "# Type your solution here and press CTRL-ENTER"
     ],
     "language": "python",
     "metadata": {},
     "outputs": [],
     "prompt_number": 27
    },
    {
     "cell_type": "markdown",
     "metadata": {},
     "source": [
      "# Learn more\n",
      "\n",
      "- [GeometryIO code repository](https://github.com/invisibleroads/geometryIO)\n",
      "- [Shapely documentation](http://toblerity.github.com/shapely)\n",
      "- [Shapely code repository](https://github.com/sgillies/shapely)\n",
      "- [PySAL documentation](http://pysal.geodacenter.org/dev)\n",
      "- [PySAL code repository](http://pysal.googlecode.com/svn/trunk)"
     ]
    }
   ],
   "metadata": {}
  }
 ]
}