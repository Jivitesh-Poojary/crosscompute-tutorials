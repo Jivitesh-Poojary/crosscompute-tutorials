{
 "metadata": {
  "name": "210 Explore NYC 311 service requests"
 },
 "nbformat": 3,
 "nbformat_minor": 0,
 "worksheets": [
  {
   "cells": [
    {
     "cell_type": "markdown",
     "metadata": {},
     "source": [
      "[NYC 311 Dataset](https://nycopendata.socrata.com/Social-Services/311-Service-Requests-from-2010-to-Present/erm2-nwe9)"
     ]
    },
    {
     "cell_type": "code",
     "collapsed": false,
     "input": [
      "\"\"\"\n",
      "from pandas import HDFStore, read_csv\n",
      "\n",
      "def load_csv(path):\n",
      "    return read_csv(path, index_col=1, parse_dates=True)[[\n",
      "        'Agency',\n",
      "        'Agency Name',\n",
      "        'Complaint Type',\n",
      "        'Borough',\n",
      "        'X Coordinate (State Plane)',\n",
      "        'Y Coordinate (State Plane)',\n",
      "    ]].sort()\n",
      "store = HDFStore('311-20111030-20111105.h5')\n",
      "store['issues'] = load_csv('311-20111030-20111105.csv')\n",
      "\"\"\""
     ],
     "language": "python",
     "metadata": {},
     "outputs": [],
     "prompt_number": 1
    },
    {
     "cell_type": "code",
     "collapsed": false,
     "input": [
      "from pandas import HDFStore\n",
      "\n",
      "store = HDFStore('datasets/NYC-311-ServiceRequests.h5')\n",
      "issues = store['issues']"
     ],
     "language": "python",
     "metadata": {},
     "outputs": [],
     "prompt_number": 2
    },
    {
     "cell_type": "code",
     "collapsed": false,
     "input": [
      "issues.ix[0]"
     ],
     "language": "python",
     "metadata": {},
     "outputs": [],
     "prompt_number": 3
    },
    {
     "cell_type": "code",
     "collapsed": false,
     "input": [
      "# How many 311 issues were reported that week?\n",
      "len(issues)"
     ],
     "language": "python",
     "metadata": {},
     "outputs": [],
     "prompt_number": 4
    },
    {
     "cell_type": "code",
     "collapsed": false,
     "input": [
      "# How many issues were reported on Halloween?\n",
      "len(issues.ix['2011-10-31'])"
     ],
     "language": "python",
     "metadata": {},
     "outputs": [],
     "prompt_number": 5
    },
    {
     "cell_type": "code",
     "collapsed": false,
     "input": [
      "# What were the top five categories reported that week?\n",
      "issues['Complaint Type'].value_counts()[:5]"
     ],
     "language": "python",
     "metadata": {},
     "outputs": [],
     "prompt_number": 6
    },
    {
     "cell_type": "code",
     "collapsed": true,
     "input": [
      "# What was the daily distribution of issues?\n",
      "issues['Complaint Type'].resample('D', how=len).plot();"
     ],
     "language": "python",
     "metadata": {},
     "outputs": [],
     "prompt_number": 7
    },
    {
     "cell_type": "code",
     "collapsed": true,
     "input": [
      "# How did the categorical distribution of issues differ between Brooklyn and the Bronx?\n",
      "get_borough_counts = lambda borough: issues[issues.Borough == borough]['Complaint Type'].value_counts()\n",
      "brooklyn = get_borough_counts('BROOKLYN')\n",
      "bronx = get_borough_counts('BRONX')\n",
      "difference = brooklyn.sub(bronx, fill_value=0).order()\n",
      "print difference[:3]\n",
      "print\n",
      "print difference[-3:]"
     ],
     "language": "python",
     "metadata": {},
     "outputs": [],
     "prompt_number": 8
    },
    {
     "cell_type": "code",
     "collapsed": false,
     "input": [
      "# How many issues were reported in each borough?\n",
      "issues.groupby('Borough')['Complaint Type'].count()"
     ],
     "language": "python",
     "metadata": {},
     "outputs": [],
     "prompt_number": 9
    },
    {
     "cell_type": "code",
     "collapsed": false,
     "input": [
      "# What was the spatial distribution of complaints?\n",
      "points = issues[[\n",
      "    'X Coordinate (State Plane)',\n",
      "    'Y Coordinate (State Plane)',\n",
      "]]\n",
      "points.index = range(len(points))\n",
      "points = points.dropna() / 500"
     ],
     "language": "python",
     "metadata": {},
     "outputs": [],
     "prompt_number": 10
    },
    {
     "cell_type": "code",
     "collapsed": false,
     "input": [
      "minX, minY = points.min().values\n",
      "maxX, maxY = points.max().values"
     ],
     "language": "python",
     "metadata": {},
     "outputs": [],
     "prompt_number": 11
    },
    {
     "cell_type": "code",
     "collapsed": false,
     "input": [
      "import pylab as pl\n",
      "from scipy.ndimage import gaussian_filter\n",
      "image = np.zeros((maxY - minY + 1, maxX - minX + 1))\n",
      "for x, y in points.values:\n",
      "    image[y - minY, x - minX] += 1\n",
      "image = gaussian_filter(image, (1, 1))\n",
      "pl.imshow(image, origin='lower');"
     ],
     "language": "python",
     "metadata": {},
     "outputs": [],
     "prompt_number": 12
    }
   ],
   "metadata": {}
  }
 ]
}