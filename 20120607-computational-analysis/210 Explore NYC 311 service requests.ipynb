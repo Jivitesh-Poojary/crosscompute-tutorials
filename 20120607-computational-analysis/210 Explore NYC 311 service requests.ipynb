{
 "cells": [
  {
   "cell_type": "markdown",
   "metadata": {
    "deletable": true,
    "editable": true
   },
   "source": [
    "[NYC 311 Service Requests](https://nycopendata.socrata.com/Social-Services/311-Service-Requests-from-2010-to-Present/erm2-nwe9)"
   ]
  },
  {
   "cell_type": "code",
   "execution_count": 1,
   "metadata": {
    "collapsed": false,
    "deletable": true,
    "editable": true
   },
   "outputs": [],
   "source": [
    "\"\"\"\n",
    "from pandas import HDFStore, read_csv\n",
    "\n",
    "def load_csv(path):\n",
    "    return read_csv(path, index_col=1, parse_dates=True)[[\n",
    "        'Agency',\n",
    "        'Agency Name',\n",
    "        'Complaint Type',\n",
    "        'Borough',\n",
    "        'X Coordinate (State Plane)',\n",
    "        'Y Coordinate (State Plane)',\n",
    "    ]].sort()\n",
    "store = HDFStore('311-20111030-20111105.h5')\n",
    "store['issues'] = load_csv('311-20111030-20111105.csv')\n",
    "\"\"\""
   ]
  },
  {
   "cell_type": "code",
   "execution_count": 2,
   "metadata": {
    "collapsed": false,
    "deletable": true,
    "editable": true
   },
   "outputs": [],
   "source": [
    "from pandas import HDFStore\n",
    "\n",
    "store = HDFStore('datasets/NYC-311-ServiceRequests.h5')\n",
    "issues = store['issues']"
   ]
  },
  {
   "cell_type": "code",
   "execution_count": 3,
   "metadata": {
    "collapsed": false,
    "deletable": true,
    "editable": true
   },
   "outputs": [],
   "source": [
    "issues.ix[0]"
   ]
  },
  {
   "cell_type": "code",
   "execution_count": 4,
   "metadata": {
    "collapsed": false,
    "deletable": true,
    "editable": true
   },
   "outputs": [],
   "source": [
    "# How many 311 issues were reported that week?\n",
    "len(issues)"
   ]
  },
  {
   "cell_type": "code",
   "execution_count": 5,
   "metadata": {
    "collapsed": false,
    "deletable": true,
    "editable": true
   },
   "outputs": [],
   "source": [
    "# How many issues were reported on Halloween?\n",
    "len(issues.ix['2011-10-31'])"
   ]
  },
  {
   "cell_type": "code",
   "execution_count": 6,
   "metadata": {
    "collapsed": false,
    "deletable": true,
    "editable": true
   },
   "outputs": [],
   "source": [
    "# What were the top five categories reported that week?\n",
    "issues['Complaint Type'].value_counts()[:5]"
   ]
  },
  {
   "cell_type": "code",
   "execution_count": 7,
   "metadata": {
    "collapsed": true,
    "deletable": true,
    "editable": true
   },
   "outputs": [],
   "source": [
    "# What was the daily distribution of issues?\n",
    "issues['Complaint Type'].resample('D', how=len).plot();"
   ]
  },
  {
   "cell_type": "code",
   "execution_count": 8,
   "metadata": {
    "collapsed": true,
    "deletable": true,
    "editable": true
   },
   "outputs": [],
   "source": [
    "# How did the categorical distribution of issues differ between Brooklyn and the Bronx?\n",
    "get_borough_counts = lambda borough: issues[issues.Borough == borough]['Complaint Type'].value_counts()\n",
    "brooklyn = get_borough_counts('BROOKLYN')\n",
    "bronx = get_borough_counts('BRONX')\n",
    "difference = brooklyn.sub(bronx, fill_value=0).order()\n",
    "print difference[:3]\n",
    "print\n",
    "print difference[-3:]"
   ]
  },
  {
   "cell_type": "code",
   "execution_count": 9,
   "metadata": {
    "collapsed": false,
    "deletable": true,
    "editable": true
   },
   "outputs": [],
   "source": [
    "# How many issues were reported in each borough?\n",
    "issues.groupby('Borough')['Complaint Type'].count()"
   ]
  },
  {
   "cell_type": "code",
   "execution_count": 10,
   "metadata": {
    "collapsed": false,
    "deletable": true,
    "editable": true
   },
   "outputs": [],
   "source": [
    "# What was the spatial distribution of complaints?\n",
    "points = issues[[\n",
    "    'X Coordinate (State Plane)',\n",
    "    'Y Coordinate (State Plane)',\n",
    "]]\n",
    "points.index = range(len(points))\n",
    "points = points.dropna() / 500"
   ]
  },
  {
   "cell_type": "code",
   "execution_count": 11,
   "metadata": {
    "collapsed": false,
    "deletable": true,
    "editable": true
   },
   "outputs": [],
   "source": [
    "minX, minY = points.min().values\n",
    "maxX, maxY = points.max().values"
   ]
  },
  {
   "cell_type": "code",
   "execution_count": 12,
   "metadata": {
    "collapsed": false,
    "deletable": true,
    "editable": true
   },
   "outputs": [],
   "source": [
    "import pylab as pl\n",
    "from scipy.ndimage import gaussian_filter\n",
    "image = np.zeros((maxY - minY + 1, maxX - minX + 1))\n",
    "for x, y in points.values:\n",
    "    image[y - minY, x - minX] += 1\n",
    "image = gaussian_filter(image, (1, 1))\n",
    "pl.imshow(image, origin='lower');"
   ]
  }
 ],
 "metadata": {
  "kernelspec": {
   "display_name": "Python 3",
   "language": "python",
   "name": "python3"
  },
  "language_info": {
   "codemirror_mode": {
    "name": "ipython",
    "version": 3
   },
   "file_extension": ".py",
   "mimetype": "text/x-python",
   "name": "python",
   "nbconvert_exporter": "python",
   "pygments_lexer": "ipython3",
   "version": "3.5.2"
  }
 },
 "nbformat": 4,
 "nbformat_minor": 0
}
