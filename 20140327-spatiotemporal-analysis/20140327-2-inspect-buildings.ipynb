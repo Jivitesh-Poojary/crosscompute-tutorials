{
 "cells": [
  {
   "cell_type": "markdown",
   "metadata": {},
   "source": [
    "[Mountain View Spatiotemporal Analysis Working Group](http://www.meetup.com/Mountain-View-Spatiotemporal-Analysis-Working-Group/)"
   ]
  },
  {
   "cell_type": "markdown",
   "metadata": {},
   "source": [
    "# Load dataset"
   ]
  },
  {
   "cell_type": "code",
   "execution_count": 1,
   "metadata": {
    "collapsed": false
   },
   "outputs": [
    {
     "data": {
      "text/html": [
       "<div style=\"max-height:1000px;max-width:1500px;overflow:auto;\">\n",
       "<table border=\"1\" class=\"dataframe\">\n",
       "  <thead>\n",
       "    <tr style=\"text-align: right;\">\n",
       "      <th></th>\n",
       "      <th>ViolationID</th>\n",
       "      <th>HouseNumber</th>\n",
       "      <th>StreetName</th>\n",
       "      <th>Zip</th>\n",
       "      <th>Class</th>\n",
       "      <th>NOVDescription</th>\n",
       "      <th>NOVIssuedDate</th>\n",
       "      <th>Latitude</th>\n",
       "      <th>Longitude</th>\n",
       "    </tr>\n",
       "  </thead>\n",
       "  <tbody>\n",
       "    <tr>\n",
       "      <th>0</th>\n",
       "      <td> 10119868</td>\n",
       "      <td> 175</td>\n",
       "      <td> EAST 52 STREET</td>\n",
       "      <td> 11203</td>\n",
       "      <td> C</td>\n",
       "      <td> § 27-2026, 2027 HMC: PROPERLY REPAIR THE SOURC...</td>\n",
       "      <td>2014-02-03 00:00:00</td>\n",
       "      <td> 40.657023</td>\n",
       "      <td>-73.929105</td>\n",
       "    </tr>\n",
       "    <tr>\n",
       "      <th>1</th>\n",
       "      <td> 10118191</td>\n",
       "      <td> 701</td>\n",
       "      <td>   GATES AVENUE</td>\n",
       "      <td> 11221</td>\n",
       "      <td> A</td>\n",
       "      <td> § 27-2013 ADM CODE PAINT WITH LIGHT COLORED PA...</td>\n",
       "      <td>2014-02-03 00:00:00</td>\n",
       "      <td> 40.687663</td>\n",
       "      <td>-73.938752</td>\n",
       "    </tr>\n",
       "  </tbody>\n",
       "</table>\n",
       "<p>2 rows × 9 columns</p>\n",
       "</div>"
      ],
      "text/plain": [
       "   ViolationID HouseNumber      StreetName    Zip Class  \\\n",
       "0     10119868         175  EAST 52 STREET  11203     C   \n",
       "1     10118191         701    GATES AVENUE  11221     A   \n",
       "\n",
       "                                      NOVDescription       NOVIssuedDate  \\\n",
       "0  § 27-2026, 2027 HMC: PROPERLY REPAIR THE SOURC... 2014-02-03 00:00:00   \n",
       "1  § 27-2013 ADM CODE PAINT WITH LIGHT COLORED PA... 2014-02-03 00:00:00   \n",
       "\n",
       "    Latitude  Longitude  \n",
       "0  40.657023 -73.929105  \n",
       "1  40.687663 -73.938752  \n",
       "\n",
       "[2 rows x 9 columns]"
      ]
     },
     "execution_count": 1,
     "metadata": {},
     "output_type": "execute_result"
    }
   ],
   "source": [
    "import os\n",
    "import pandas\n",
    "\n",
    "source_folder = os.path.expanduser('~/Datasets/USA/NYC')\n",
    "source_path = os.path.join(source_folder, 'NYC-BuildingViolations-20140203.h5')\n",
    "nyc_building_violations = pandas.read_hdf(source_path, 'raw')\n",
    "nyc_building_violation_locations = nyc_building_violations[\n",
    "    ['Longitude', 'Latitude']].values\n",
    "nyc_building_violations[:2]"
   ]
  },
  {
   "cell_type": "code",
   "execution_count": 2,
   "metadata": {
    "collapsed": false
   },
   "outputs": [
    {
     "name": "stdout",
     "output_type": "stream",
     "text": [
      "(-73.929105000000007, 40.657023000000002)\n",
      "(-73.92910499999999, 40.657022999999846)\n"
     ]
    }
   ],
   "source": [
    "from geometryIO import get_transformPoint, proj4LL\n",
    "\n",
    "# http://www.spatialreference.org/ref/epsg/3627/\n",
    "proj4_nyc = (\n",
    "    '+proj=lcc +lat_1=41.03333333333333 +lat_2=40.66666666666666 +lat_0=40.16666666666666 '\n",
    "    '+lon_0=-74 +x_0=300000 +y_0=0 +ellps=GRS80 +towgs84=0,0,0,0,0,0,0 +units=m +no_defs ')\n",
    "transform_point = get_transformPoint(proj4LL, proj4_nyc)\n",
    "untransform_point = get_transformPoint(proj4_nyc, proj4LL)\n",
    "print tuple(nyc_building_violation_locations[0])\n",
    "print untransform_point(*transform_point(*nyc_building_violation_locations[0]))"
   ]
  },
  {
   "cell_type": "code",
   "execution_count": 3,
   "metadata": {
    "collapsed": false
   },
   "outputs": [
    {
     "data": {
      "text/plain": [
       "array([[ 305995.57869204,   54454.31792567],\n",
       "       [ 305177.35457836,   57856.19856483]])"
      ]
     },
     "execution_count": 3,
     "metadata": {},
     "output_type": "execute_result"
    }
   ],
   "source": [
    "import numpy as np\n",
    "\n",
    "nyc_building_violation_xys = np.array([\n",
    "    transform_point(*_) for _ in nyc_building_violation_locations])\n",
    "nyc_building_violation_xys[:2]"
   ]
  },
  {
   "cell_type": "code",
   "execution_count": 4,
   "metadata": {
    "collapsed": false
   },
   "outputs": [
    {
     "data": {
      "text/plain": [
       "3259"
      ]
     },
     "execution_count": 4,
     "metadata": {},
     "output_type": "execute_result"
    }
   ],
   "source": [
    "len(nyc_building_violation_xys)"
   ]
  },
  {
   "cell_type": "markdown",
   "metadata": {},
   "source": [
    "# Filter by class\n",
    "\n",
    "According to the [NYC Department of Housing Preservation and Development](http://www.nyc.gov/html/hpd/downloads/pdf/ABCs-housing-singlepg.pdf), Class C violations are immediately hazardous."
   ]
  },
  {
   "cell_type": "code",
   "execution_count": 5,
   "metadata": {
    "collapsed": false
   },
   "outputs": [
    {
     "data": {
      "text/plain": [
       "1044"
      ]
     },
     "execution_count": 5,
     "metadata": {},
     "output_type": "execute_result"
    }
   ],
   "source": [
    "indices = nyc_building_violations['Class'] == 'C'\n",
    "\n",
    "nyc_building_violation_c = nyc_building_violations[indices]\n",
    "nyc_building_violation_c.reset_index(drop=True, inplace=True)\n",
    "nyc_building_violation_c_xys = nyc_building_violation_xys[indices]\n",
    "len(nyc_building_violation_c)"
   ]
  },
  {
   "cell_type": "markdown",
   "metadata": {},
   "source": [
    "# Decide inspection order"
   ]
  },
  {
   "cell_type": "code",
   "execution_count": 6,
   "metadata": {
    "collapsed": false
   },
   "outputs": [
    {
     "data": {
      "text/plain": [
       "2"
      ]
     },
     "execution_count": 6,
     "metadata": {},
     "output_type": "execute_result"
    }
   ],
   "source": [
    "unique_xys = list(set(tuple(xy) for xy in nyc_building_violation_c_xys))\n",
    "len(unique_xys)"
   ]
  },
  {
   "cell_type": "code",
   "execution_count": 7,
   "metadata": {
    "collapsed": false
   },
   "outputs": [
    {
     "data": {
      "text/plain": [
       "[(305177.35457835509, 57856.198564833117),\n",
       " (305995.57869203627, 54454.317925673342)]"
      ]
     },
     "execution_count": 7,
     "metadata": {},
     "output_type": "execute_result"
    }
   ],
   "source": [
    "unique_xys"
   ]
  },
  {
   "cell_type": "code",
   "execution_count": 8,
   "metadata": {
    "collapsed": false
   },
   "outputs": [],
   "source": [
    "from itertools import izip\n",
    "from networkx import Graph\n",
    "from networkx.algorithms import minimum_spanning_tree\n",
    "from libraries.kdtree import KDTree\n",
    "\n",
    "kdtree = KDTree(unique_xys)\n",
    "candidate_graph = Graph()\n",
    "for source_index, source_row in nyc_building_violation_c.iterrows():\n",
    "    source_xy = transform_point(source_row['Longitude'], source_row['Latitude'])\n",
    "    target_distances, target_indices = kdtree.query(source_xy, maximum_count=3)\n",
    "    for distance, target_index in izip(target_distances, target_indices):\n",
    "        target_row = nyc_building_violation_c.ix[target_index]\n",
    "        candidate_graph.add_edge(\n",
    "            source_row['ViolationID'],\n",
    "            target_row['ViolationID'],\n",
    "            distance=distance)\n",
    "optimized_graph = minimum_spanning_tree(candidate_graph)"
   ]
  },
  {
   "cell_type": "code",
   "execution_count": 9,
   "metadata": {
    "collapsed": false
   },
   "outputs": [
    {
     "data": {
      "text/plain": [
       "[(10117121, 10119868),\n",
       " (10119868, 10119153),\n",
       " (10119868, 10119172),\n",
       " (10119868, 10117126),\n",
       " (10119868, 10117127),\n",
       " (10119868, 10119178),\n",
       " (10119868, 10117131),\n",
       " (10119868, 10117132),\n",
       " (10119868, 10115086),\n",
       " (10119868, 10118831)]"
      ]
     },
     "execution_count": 9,
     "metadata": {},
     "output_type": "execute_result"
    }
   ],
   "source": [
    "from networkx.algorithms import dfs_edges\n",
    "list(dfs_edges(optimized_graph))[:10]"
   ]
  }
 ],
 "metadata": {
  "kernelspec": {
   "display_name": "Python 2",
   "language": "python",
   "name": "python2"
  },
  "language_info": {
   "codemirror_mode": {
    "name": "ipython",
    "version": 2
   },
   "file_extension": ".py",
   "mimetype": "text/x-python",
   "name": "python",
   "nbconvert_exporter": "python",
   "pygments_lexer": "ipython2",
   "version": "2.7.5"
  }
 },
 "nbformat": 4,
 "nbformat_minor": 0
}
