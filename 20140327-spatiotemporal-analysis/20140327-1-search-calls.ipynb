{
 "cells": [
  {
   "cell_type": "markdown",
   "metadata": {},
   "source": [
    "[Mountain View Spatiotemporal Analysis Working Group](http://www.meetup.com/Mountain-View-Spatiotemporal-Analysis-Working-Group/)"
   ]
  },
  {
   "cell_type": "markdown",
   "metadata": {},
   "source": [
    "# Load dataset"
   ]
  },
  {
   "cell_type": "code",
   "execution_count": 1,
   "metadata": {
    "collapsed": false
   },
   "outputs": [
    {
     "data": {
      "text/html": [
       "<div style=\"max-height:1000px;max-width:1500px;overflow:auto;\">\n",
       "<table border=\"1\" class=\"dataframe\">\n",
       "  <thead>\n",
       "    <tr style=\"text-align: right;\">\n",
       "      <th></th>\n",
       "      <th>Unique Key</th>\n",
       "      <th>Created Date</th>\n",
       "      <th>Agency Name</th>\n",
       "      <th>Complaint Type</th>\n",
       "      <th>Incident Zip</th>\n",
       "      <th>Incident Address</th>\n",
       "      <th>Latitude</th>\n",
       "      <th>Longitude</th>\n",
       "    </tr>\n",
       "  </thead>\n",
       "  <tbody>\n",
       "    <tr>\n",
       "      <th>0</th>\n",
       "      <td> 27325118</td>\n",
       "      <td>2014-02-03 23:59:26</td>\n",
       "      <td>    New York City Police Department</td>\n",
       "      <td>      Noise - Commercial</td>\n",
       "      <td> 10128</td>\n",
       "      <td> 163 EAST 92 STREET</td>\n",
       "      <td> 40.783149</td>\n",
       "      <td>-73.952360</td>\n",
       "    </tr>\n",
       "    <tr>\n",
       "      <th>1</th>\n",
       "      <td> 27325781</td>\n",
       "      <td>2014-02-03 23:58:29</td>\n",
       "      <td> Department of Parks and Recreation</td>\n",
       "      <td> Maintenance or Facility</td>\n",
       "      <td> 11228</td>\n",
       "      <td>    675 86TH STREET</td>\n",
       "      <td> 40.619401</td>\n",
       "      <td>-74.022675</td>\n",
       "    </tr>\n",
       "  </tbody>\n",
       "</table>\n",
       "<p>2 rows × 8 columns</p>\n",
       "</div>"
      ],
      "text/plain": [
       "   Unique Key        Created Date                         Agency Name  \\\n",
       "0    27325118 2014-02-03 23:59:26     New York City Police Department   \n",
       "1    27325781 2014-02-03 23:58:29  Department of Parks and Recreation   \n",
       "\n",
       "            Complaint Type Incident Zip    Incident Address   Latitude  \\\n",
       "0       Noise - Commercial        10128  163 EAST 92 STREET  40.783149   \n",
       "1  Maintenance or Facility        11228     675 86TH STREET  40.619401   \n",
       "\n",
       "   Longitude  \n",
       "0 -73.952360  \n",
       "1 -74.022675  \n",
       "\n",
       "[2 rows x 8 columns]"
      ]
     },
     "execution_count": 1,
     "metadata": {},
     "output_type": "execute_result"
    }
   ],
   "source": [
    "import os\n",
    "import pandas\n",
    "\n",
    "source_folder = os.path.expanduser('~/Datasets/USA/NYC')\n",
    "source_path = os.path.join(source_folder, 'NYC-311ServiceRequests-20140203.h5')\n",
    "nyc_service_requests = pandas.read_hdf(source_path, 'raw')\n",
    "nyc_service_request_locations = nyc_service_requests[\n",
    "    ['Longitude', 'Latitude']].values\n",
    "nyc_service_requests[:2]"
   ]
  },
  {
   "cell_type": "code",
   "execution_count": 2,
   "metadata": {
    "collapsed": false
   },
   "outputs": [
    {
     "name": "stdout",
     "output_type": "stream",
     "text": [
      "(-73.952359999999999, 40.783149000000002)\n",
      "(-73.95236, 40.78314899999984)\n"
     ]
    }
   ],
   "source": [
    "from geometryIO import get_transformPoint, proj4LL\n",
    "\n",
    "# http://www.spatialreference.org/ref/epsg/3627/\n",
    "proj4_nyc = (\n",
    "    '+proj=lcc +lat_1=41.03333333333333 +lat_2=40.66666666666666 +lat_0=40.16666666666666 '\n",
    "    '+lon_0=-74 +x_0=300000 +y_0=0 +ellps=GRS80 +towgs84=0,0,0,0,0,0,0 +units=m +no_defs ')\n",
    "transform_point = get_transformPoint(proj4LL, proj4_nyc)\n",
    "untransform_point = get_transformPoint(proj4_nyc, proj4LL)\n",
    "print tuple(nyc_service_request_locations[0])\n",
    "print untransform_point(*transform_point(*nyc_service_request_locations[0]))"
   ]
  },
  {
   "cell_type": "code",
   "execution_count": 3,
   "metadata": {
    "collapsed": false
   },
   "outputs": [
    {
     "data": {
      "text/plain": [
       "array([[ 304021.29010121,   68459.0557833 ],\n",
       "       [ 298081.29727772,   50274.32558646]])"
      ]
     },
     "execution_count": 3,
     "metadata": {},
     "output_type": "execute_result"
    }
   ],
   "source": [
    "import numpy as np\n",
    "\n",
    "nyc_service_request_xys = np.array([\n",
    "    transform_point(*_) for _ in nyc_service_request_locations])\n",
    "nyc_service_request_xys[:2]"
   ]
  },
  {
   "cell_type": "code",
   "execution_count": 4,
   "metadata": {
    "collapsed": false
   },
   "outputs": [
    {
     "data": {
      "text/plain": [
       "911"
      ]
     },
     "execution_count": 4,
     "metadata": {},
     "output_type": "execute_result"
    }
   ],
   "source": [
    "len(nyc_service_request_xys)"
   ]
  },
  {
   "cell_type": "markdown",
   "metadata": {},
   "source": [
    "# Search local call history within radius"
   ]
  },
  {
   "cell_type": "code",
   "execution_count": 5,
   "metadata": {
    "collapsed": false
   },
   "outputs": [
    {
     "data": {
      "text/plain": [
       "(298814.1634914433, 61220.092062934214)"
      ]
     },
     "execution_count": 5,
     "metadata": {},
     "output_type": "execute_result"
    }
   ],
   "source": [
    "from geopy.geocoders import GoogleV3\n",
    "geolocator = GoogleV3()\n",
    "latitude, longitude = geolocator.geocode('345 Chambers St, New York, NY 10282')[1]\n",
    "target_xy = transform_point(longitude, latitude)\n",
    "target_xy"
   ]
  },
  {
   "cell_type": "code",
   "execution_count": 6,
   "metadata": {
    "collapsed": false
   },
   "outputs": [
    {
     "data": {
      "text/html": [
       "<div style=\"max-height:1000px;max-width:1500px;overflow:auto;\">\n",
       "<table border=\"1\" class=\"dataframe\">\n",
       "  <thead>\n",
       "    <tr style=\"text-align: right;\">\n",
       "      <th></th>\n",
       "      <th>Unique Key</th>\n",
       "      <th>Created Date</th>\n",
       "      <th>Agency Name</th>\n",
       "      <th>Complaint Type</th>\n",
       "      <th>Incident Zip</th>\n",
       "      <th>Incident Address</th>\n",
       "      <th>Latitude</th>\n",
       "      <th>Longitude</th>\n",
       "    </tr>\n",
       "  </thead>\n",
       "  <tbody>\n",
       "    <tr>\n",
       "      <th>248</th>\n",
       "      <td> 27325653</td>\n",
       "      <td>2014-02-03 16:55:33</td>\n",
       "      <td>                    Department of Consumer Affairs</td>\n",
       "      <td>         Consumer Complaint</td>\n",
       "      <td> 10013</td>\n",
       "      <td> 310 GREENWICH STREET</td>\n",
       "      <td> 40.717470</td>\n",
       "      <td>-74.010693</td>\n",
       "    </tr>\n",
       "    <tr>\n",
       "      <th>423</th>\n",
       "      <td> 27325822</td>\n",
       "      <td>2014-02-03 14:06:39</td>\n",
       "      <td> Bureau of Fire Prevention - Alarm Unit - Inspe...</td>\n",
       "      <td>  Fire Alarm - Reinspection</td>\n",
       "      <td> 10007</td>\n",
       "      <td>   101 BARCLAY STREET</td>\n",
       "      <td> 40.713656</td>\n",
       "      <td>-74.011710</td>\n",
       "    </tr>\n",
       "    <tr>\n",
       "      <th>345</th>\n",
       "      <td> 27317331</td>\n",
       "      <td>2014-02-03 15:27:20</td>\n",
       "      <td>           Department of Health and Mental Hygiene</td>\n",
       "      <td>         Indoor Air Quality</td>\n",
       "      <td> 10007</td>\n",
       "      <td>     14 MURRAY STREET</td>\n",
       "      <td> 40.713287</td>\n",
       "      <td>-74.007750</td>\n",
       "    </tr>\n",
       "    <tr>\n",
       "      <th>421</th>\n",
       "      <td> 27325638</td>\n",
       "      <td>2014-02-03 14:10:10</td>\n",
       "      <td> Bureau of Fire Prevention - Highrise Unit - In...</td>\n",
       "      <td> Fire Safety Director - F58</td>\n",
       "      <td> 10038</td>\n",
       "      <td>         109 PARK ROW</td>\n",
       "      <td> 40.712584</td>\n",
       "      <td>-74.002490</td>\n",
       "    </tr>\n",
       "    <tr>\n",
       "      <th>429</th>\n",
       "      <td> 27324508</td>\n",
       "      <td>2014-02-03 14:01:10</td>\n",
       "      <td> Bureau of Fire Prevention - Highrise Unit - In...</td>\n",
       "      <td> Fire Safety Director - F58</td>\n",
       "      <td> 10038</td>\n",
       "      <td>         109 PARK ROW</td>\n",
       "      <td> 40.712584</td>\n",
       "      <td>-74.002490</td>\n",
       "    </tr>\n",
       "    <tr>\n",
       "      <th>684</th>\n",
       "      <td> 27317287</td>\n",
       "      <td>2014-02-03 10:13:21</td>\n",
       "      <td> Operations Unit - Department of Homeless Services</td>\n",
       "      <td> Homeless Person Assistance</td>\n",
       "      <td> 10038</td>\n",
       "      <td>   110 WILLIAM STREET</td>\n",
       "      <td> 40.708698</td>\n",
       "      <td>-74.007286</td>\n",
       "    </tr>\n",
       "    <tr>\n",
       "      <th>199</th>\n",
       "      <td> 27323431</td>\n",
       "      <td>2014-02-03 17:54:32</td>\n",
       "      <td>                    Department of Consumer Affairs</td>\n",
       "      <td>         Consumer Complaint</td>\n",
       "      <td> 10013</td>\n",
       "      <td>       43 MOTT STREET</td>\n",
       "      <td> 40.715207</td>\n",
       "      <td>-73.998853</td>\n",
       "    </tr>\n",
       "    <tr>\n",
       "      <th>612</th>\n",
       "      <td> 27320609</td>\n",
       "      <td>2014-02-03 11:18:48</td>\n",
       "      <td> Bureau of Fire Prevention - Highrise Unit - In...</td>\n",
       "      <td> Fire Safety Director - F58</td>\n",
       "      <td> 10012</td>\n",
       "      <td>    147 MERCER STREET</td>\n",
       "      <td> 40.724878</td>\n",
       "      <td>-73.998517</td>\n",
       "    </tr>\n",
       "    <tr>\n",
       "      <th>616</th>\n",
       "      <td> 27318313</td>\n",
       "      <td>2014-02-03 11:13:59</td>\n",
       "      <td> Bureau of Fire Prevention - Highrise Unit - In...</td>\n",
       "      <td> Fire Safety Director - F58</td>\n",
       "      <td> 10012</td>\n",
       "      <td>    147 MERCER STREET</td>\n",
       "      <td> 40.724878</td>\n",
       "      <td>-73.998517</td>\n",
       "    </tr>\n",
       "    <tr>\n",
       "      <th>34 </th>\n",
       "      <td> 27318946</td>\n",
       "      <td>2014-02-03 22:17:36</td>\n",
       "      <td>                    Department of Consumer Affairs</td>\n",
       "      <td>         Consumer Complaint</td>\n",
       "      <td> 10002</td>\n",
       "      <td>            87 BOWERY</td>\n",
       "      <td> 40.717268</td>\n",
       "      <td>-73.995673</td>\n",
       "    </tr>\n",
       "    <tr>\n",
       "      <th>79 </th>\n",
       "      <td> 27320706</td>\n",
       "      <td>2014-02-03 20:52:04</td>\n",
       "      <td>                   New York City Police Department</td>\n",
       "      <td>         Noise - Commercial</td>\n",
       "      <td> 10012</td>\n",
       "      <td>      177 THOMPSON ST</td>\n",
       "      <td> 40.727782</td>\n",
       "      <td>-74.000406</td>\n",
       "    </tr>\n",
       "  </tbody>\n",
       "</table>\n",
       "<p>11 rows × 8 columns</p>\n",
       "</div>"
      ],
      "text/plain": [
       "     Unique Key        Created Date  \\\n",
       "248    27325653 2014-02-03 16:55:33   \n",
       "423    27325822 2014-02-03 14:06:39   \n",
       "345    27317331 2014-02-03 15:27:20   \n",
       "421    27325638 2014-02-03 14:10:10   \n",
       "429    27324508 2014-02-03 14:01:10   \n",
       "684    27317287 2014-02-03 10:13:21   \n",
       "199    27323431 2014-02-03 17:54:32   \n",
       "612    27320609 2014-02-03 11:18:48   \n",
       "616    27318313 2014-02-03 11:13:59   \n",
       "34     27318946 2014-02-03 22:17:36   \n",
       "79     27320706 2014-02-03 20:52:04   \n",
       "\n",
       "                                           Agency Name  \\\n",
       "248                     Department of Consumer Affairs   \n",
       "423  Bureau of Fire Prevention - Alarm Unit - Inspe...   \n",
       "345            Department of Health and Mental Hygiene   \n",
       "421  Bureau of Fire Prevention - Highrise Unit - In...   \n",
       "429  Bureau of Fire Prevention - Highrise Unit - In...   \n",
       "684  Operations Unit - Department of Homeless Services   \n",
       "199                     Department of Consumer Affairs   \n",
       "612  Bureau of Fire Prevention - Highrise Unit - In...   \n",
       "616  Bureau of Fire Prevention - Highrise Unit - In...   \n",
       "34                      Department of Consumer Affairs   \n",
       "79                     New York City Police Department   \n",
       "\n",
       "                 Complaint Type Incident Zip      Incident Address   Latitude  \\\n",
       "248          Consumer Complaint        10013  310 GREENWICH STREET  40.717470   \n",
       "423   Fire Alarm - Reinspection        10007    101 BARCLAY STREET  40.713656   \n",
       "345          Indoor Air Quality        10007      14 MURRAY STREET  40.713287   \n",
       "421  Fire Safety Director - F58        10038          109 PARK ROW  40.712584   \n",
       "429  Fire Safety Director - F58        10038          109 PARK ROW  40.712584   \n",
       "684  Homeless Person Assistance        10038    110 WILLIAM STREET  40.708698   \n",
       "199          Consumer Complaint        10013        43 MOTT STREET  40.715207   \n",
       "612  Fire Safety Director - F58        10012     147 MERCER STREET  40.724878   \n",
       "616  Fire Safety Director - F58        10012     147 MERCER STREET  40.724878   \n",
       "34           Consumer Complaint        10002             87 BOWERY  40.717268   \n",
       "79           Noise - Commercial        10012       177 THOMPSON ST  40.727782   \n",
       "\n",
       "     Longitude  \n",
       "248 -74.010693  \n",
       "423 -74.011710  \n",
       "345 -74.007750  \n",
       "421 -74.002490  \n",
       "429 -74.002490  \n",
       "684 -74.007286  \n",
       "199 -73.998853  \n",
       "612 -73.998517  \n",
       "616 -73.998517  \n",
       "34  -73.995673  \n",
       "79  -74.000406  \n",
       "\n",
       "[11 rows x 8 columns]"
      ]
     },
     "execution_count": 6,
     "metadata": {},
     "output_type": "execute_result"
    }
   ],
   "source": [
    "radius_in_meters = 1600\n",
    "\n",
    "from libraries.kdtree import KDTree\n",
    "kdtree = KDTree(nyc_service_request_xys)\n",
    "distances, indices = kdtree.query(target_xy, maximum_distance=radius_in_meters)\n",
    "selected_rows = nyc_service_requests.ix[indices]\n",
    "selected_rows"
   ]
  },
  {
   "cell_type": "code",
   "execution_count": 7,
   "metadata": {
    "collapsed": false
   },
   "outputs": [
    {
     "data": {
      "text/plain": [
       "Fire Safety Director - F58    4\n",
       "Consumer Complaint            3\n",
       "Fire Alarm - Reinspection     1\n",
       "Noise - Commercial            1\n",
       "Homeless Person Assistance    1\n",
       "Indoor Air Quality            1\n",
       "dtype: int64"
      ]
     },
     "execution_count": 7,
     "metadata": {},
     "output_type": "execute_result"
    }
   ],
   "source": [
    "selected_rows['Complaint Type'].value_counts()"
   ]
  }
 ],
 "metadata": {
  "kernelspec": {
   "display_name": "Python 2",
   "language": "python",
   "name": "python2"
  },
  "language_info": {
   "codemirror_mode": {
    "name": "ipython",
    "version": 2
   },
   "file_extension": ".py",
   "mimetype": "text/x-python",
   "name": "python",
   "nbconvert_exporter": "python",
   "pygments_lexer": "ipython2",
   "version": "2.7.5"
  }
 },
 "nbformat": 4,
 "nbformat_minor": 0
}
