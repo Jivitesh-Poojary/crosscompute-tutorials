{
 "cells": [
  {
   "cell_type": "code",
   "execution_count": 1,
   "metadata": {
    "collapsed": true
   },
   "outputs": [],
   "source": [
    "from invisibleroads_macros.disk import make_folder\n",
    "from os.path import expanduser\n",
    "target_folder = make_folder(expanduser('~/Experiments/spatiotemporal'))"
   ]
  },
  {
   "cell_type": "code",
   "execution_count": 2,
   "metadata": {
    "collapsed": false
   },
   "outputs": [
    {
     "name": "stdout",
     "output_type": "stream",
     "text": [
      "http://www.nyc.gov/html/dot/downloads/misc/injury_all_monthly.json 46,306,835\n",
      "http://www.nyc.gov/html/dot/downloads/misc/injury_all_monthly_shapefile.zip 5,053,838\n"
     ]
    }
   ],
   "source": [
    "import requests\n",
    "from os.path import getsize, join\n",
    "\n",
    "def download(target_path, source_url):\n",
    "    response = requests.get(source_url)\n",
    "    open(target_path, 'w').write(response.content)\n",
    "    print('{} {:,}'.format(source_url, getsize(target_path)))\n",
    "    return target_path\n",
    "\n",
    "geojson_path = download(\n",
    "    join(target_folder, 'nyc-traffic-injuries.json'), \n",
    "    'http://www.nyc.gov/html/dot/downloads/misc/injury_all_monthly.json')\n",
    "shapefile_path = download(\n",
    "    join(target_folder, 'nyc-traffic-injuries.shp.zip'),\n",
    "    'http://www.nyc.gov/html/dot/downloads/misc/injury_all_monthly_shapefile.zip')"
   ]
  },
  {
   "cell_type": "code",
   "execution_count": 4,
   "metadata": {
    "collapsed": false
   },
   "outputs": [
    {
     "name": "stdout",
     "output_type": "stream",
     "text": [
      "geojson_collection.bounds = (-74.2539230306024, 40.49947769792743, -73.70059800086655, 40.91246913562538)\n",
      "geojson_collection.crs_wkt = GEOGCS[\"WGS 84\",DATUM[\"WGS_1984\",SPHEROID[\"WGS 84\",6378137,298.257223563,AUTHORITY[\"EPSG\",\"7030\"]],AUTHORITY[\"EPSG\",\"6326\"]],PRIMEM[\"Greenwich\",0,AUTHORITY[\"EPSG\",\"8901\"]],UNIT[\"degree\",0.0174532925199433,AUTHORITY[\"EPSG\",\"9122\"]],AUTHORITY[\"EPSG\",\"4326\"]]\n",
      "geojson_collection.crs = {'init': u'epsg:4326'}\n"
     ]
    },
    {
     "data": {
      "text/plain": [
       "{'geometry': {'coordinates': (-73.7917447266822, 40.72578884918672),\n",
       "  'type': 'Point'},\n",
       " 'id': '0',\n",
       " 'properties': OrderedDict([(u'MVOInjurie', 1),\n",
       "              (u'MN', u'1'),\n",
       "              (u'Injuries', 2),\n",
       "              (u'BikeInjuri', 0),\n",
       "              (u'YR', u'2009'),\n",
       "              (u'PedInjurie', 1)]),\n",
       " 'type': 'Feature'}"
      ]
     },
     "execution_count": 4,
     "metadata": {},
     "output_type": "execute_result"
    }
   ],
   "source": [
    "import fiona\n",
    "from os.path import join\n",
    "geojson_path = join(target_folder, 'nyc-traffic-injuries.json')\n",
    "collection = geojson_collection = fiona.open(geojson_path)\n",
    "print 'geojson_collection.bounds = %s' % repr(geojson_collection.bounds)\n",
    "print 'geojson_collection.crs_wkt = %s' % geojson_collection.crs_wkt\n",
    "print 'geojson_collection.crs = %s' % geojson_collection.crs\n",
    "geojson_collection[0]"
   ]
  },
  {
   "cell_type": "code",
   "execution_count": 3,
   "metadata": {
    "collapsed": false
   },
   "outputs": [
    {
     "name": "stdout",
     "output_type": "stream",
     "text": [
      "shapefile_collection.bounds = (-74.2539230306024, 40.49947769792743, -73.70059800086655, 40.91246913562538)\n",
      "shapefile_collection.crs_wkt = GEOGCS[\"GCS_WGS_1984\",DATUM[\"WGS_1984\",SPHEROID[\"WGS_84\",6378137.0,298.257223563]],PRIMEM[\"Greenwich\",0.0],UNIT[\"Degree\",0.0174532925199433]]\n",
      "shapefile_collection.crs = {'init': u'epsg:4326'}\n"
     ]
    },
    {
     "data": {
      "text/plain": [
       "{'geometry': {'coordinates': (-73.7917447266822, 40.72578884918672),\n",
       "  'type': 'Point'},\n",
       " 'id': '0',\n",
       " 'properties': OrderedDict([(u'Injuries', 2),\n",
       "              (u'PedInjurie', 1),\n",
       "              (u'BikeInjuri', 0),\n",
       "              (u'MVOInjurie', 1),\n",
       "              (u'MN', u'1'),\n",
       "              (u'YR', u'2009')]),\n",
       " 'type': 'Feature'}"
      ]
     },
     "execution_count": 3,
     "metadata": {},
     "output_type": "execute_result"
    }
   ],
   "source": [
    "import fiona\n",
    "from os.path import join\n",
    "shapefile_path = join(target_folder, 'nyc-traffic-injuries.shp.zip')\n",
    "collection = shapefile_collection = fiona.open('/', vfs='zip://' + shapefile_path)\n",
    "print 'shapefile_collection.bounds = %s' % repr(shapefile_collection.bounds)\n",
    "print 'shapefile_collection.crs_wkt = %s' % shapefile_collection.crs_wkt\n",
    "print 'shapefile_collection.crs = %s' % shapefile_collection.crs\n",
    "shapefile_collection[0]"
   ]
  },
  {
   "cell_type": "code",
   "execution_count": 5,
   "metadata": {
    "collapsed": false,
    "scrolled": false
   },
   "outputs": [
    {
     "data": {
      "text/html": [
       "<div>\n",
       "<table border=\"1\" class=\"dataframe\">\n",
       "  <thead>\n",
       "    <tr style=\"text-align: right;\">\n",
       "      <th></th>\n",
       "      <th>Longitude</th>\n",
       "      <th>Latitude</th>\n",
       "      <th>Year</th>\n",
       "      <th>Month</th>\n",
       "      <th>Total</th>\n",
       "      <th>Pedestrian</th>\n",
       "      <th>Bike</th>\n",
       "      <th>Vehicle</th>\n",
       "    </tr>\n",
       "  </thead>\n",
       "  <tbody>\n",
       "    <tr>\n",
       "      <th>0</th>\n",
       "      <td>-73.791745</td>\n",
       "      <td>40.725789</td>\n",
       "      <td>2009</td>\n",
       "      <td>1</td>\n",
       "      <td>2</td>\n",
       "      <td>1</td>\n",
       "      <td>0</td>\n",
       "      <td>1</td>\n",
       "    </tr>\n",
       "    <tr>\n",
       "      <th>1</th>\n",
       "      <td>-73.882429</td>\n",
       "      <td>40.844981</td>\n",
       "      <td>2009</td>\n",
       "      <td>1</td>\n",
       "      <td>1</td>\n",
       "      <td>1</td>\n",
       "      <td>0</td>\n",
       "      <td>0</td>\n",
       "    </tr>\n",
       "    <tr>\n",
       "      <th>2</th>\n",
       "      <td>-73.979058</td>\n",
       "      <td>40.744444</td>\n",
       "      <td>2009</td>\n",
       "      <td>1</td>\n",
       "      <td>2</td>\n",
       "      <td>2</td>\n",
       "      <td>0</td>\n",
       "      <td>0</td>\n",
       "    </tr>\n",
       "  </tbody>\n",
       "</table>\n",
       "</div>"
      ],
      "text/plain": [
       "   Longitude   Latitude  Year  Month  Total  Pedestrian  Bike  Vehicle\n",
       "0 -73.791745  40.725789  2009      1      2           1     0        1\n",
       "1 -73.882429  40.844981  2009      1      1           1     0        0\n",
       "2 -73.979058  40.744444  2009      1      2           2     0        0"
      ]
     },
     "execution_count": 5,
     "metadata": {},
     "output_type": "execute_result"
    }
   ],
   "source": [
    "from pandas import DataFrame\n",
    "rows, indices = [], []\n",
    "for d in collection:\n",
    "    indices.append(int(d['id']))\n",
    "    longitude, latitude = map(float, d['geometry']['coordinates'])\n",
    "    properties = d['properties']\n",
    "    year, month = int(properties['YR']), int(properties['MN'])\n",
    "    total_count = int(properties['Injuries'])\n",
    "    pedestrian_count = int(properties['PedInjurie'])\n",
    "    bike_count = int(properties['BikeInjuri'])\n",
    "    vehicle_count = int(properties['MVOInjurie'])\n",
    "    rows.append([\n",
    "        longitude, latitude, year, month,\n",
    "        total_count, pedestrian_count, bike_count, vehicle_count,\n",
    "    ])\n",
    "nyc_traffic_injury_table = DataFrame(rows, index=indices, columns=[\n",
    "    'Longitude', 'Latitude', 'Year', 'Month',\n",
    "    'Total', 'Pedestrian', 'Bike', 'Vehicle',\n",
    "])\n",
    "nyc_traffic_injury_table[:3]"
   ]
  },
  {
   "cell_type": "code",
   "execution_count": 7,
   "metadata": {
    "collapsed": false
   },
   "outputs": [],
   "source": [
    "from os.path import join\n",
    "nyc_traffic_injury_table.to_csv(join(target_folder, 'nyc-traffic-injuries.csv'), index=False)\n",
    "nyc_traffic_injury_table.to_msgpack(join(target_folder, 'nyc-traffic-injuries.msg-zlib'), compress='zlib')\n",
    "nyc_traffic_injury_table.to_msgpack(join(target_folder, 'nyc-traffic-injuries.msg-blosc'), compress='blosc')"
   ]
  },
  {
   "cell_type": "code",
   "execution_count": 8,
   "metadata": {
    "collapsed": false
   },
   "outputs": [
    {
     "name": "stdout",
     "output_type": "stream",
     "text": [
      "total 103M\r\n",
      "-rw-rw-r--. 1 rhh rhh  45M Dec 17 19:22 nyc-traffic-injuries.json\r\n",
      "-rw-rw-r--. 1 rhh rhh  26M Dec 10 20:02 nyc-traffic-injuries-by-month.pkl\r\n",
      "-rw-rw-r--. 1 rhh rhh  15M Dec 10 20:02 nyc-traffic-injuries.pkl\r\n",
      "-rw-rw-r--. 1 rhh rhh 8.5M Dec 17 19:23 nyc-traffic-injuries.csv\r\n",
      "-rw-rw-r--. 1 rhh rhh 4.9M Dec 17 19:22 \u001b[0m\u001b[01;31mnyc-traffic-injuries.shp.zip\u001b[0m\r\n",
      "-rw-rw-r--. 1 rhh rhh 2.9M Dec 17 19:23 nyc-traffic-injuries.msg-zlib\r\n",
      "-rw-rw-r--. 1 rhh rhh 2.7M Dec 17 19:23 nyc-traffic-injuries.msg-blosc\r\n",
      "drwxr-xr-x. 2 rhh rhh 4.0K Nov 27 16:51 \u001b[01;34mnyc-traffic-injuries.shp\u001b[0m/\r\n"
     ]
    }
   ],
   "source": [
    "ls -lh -S $target_folder"
   ]
  },
  {
   "cell_type": "code",
   "execution_count": 9,
   "metadata": {
    "collapsed": false
   },
   "outputs": [
    {
     "name": "stdout",
     "output_type": "stream",
     "text": [
      "10 loops, best of 3: 104 ms per loop\n",
      "10 loops, best of 3: 36.6 ms per loop\n",
      "100 loops, best of 3: 9.52 ms per loop\n"
     ]
    }
   ],
   "source": [
    "from pandas import read_csv, read_msgpack\n",
    "%timeit nyc_traffic_injury_table = read_csv(join(target_folder, 'nyc-traffic-injuries.csv'))\n",
    "%timeit nyc_traffic_injury_table = read_msgpack(join(target_folder, 'nyc-traffic-injuries.msg-zlib'))\n",
    "%timeit nyc_traffic_injury_table = read_msgpack(join(target_folder, 'nyc-traffic-injuries.msg-blosc'))"
   ]
  }
 ],
 "metadata": {
  "kernelspec": {
   "display_name": "Python 2",
   "language": "python",
   "name": "python2"
  },
  "language_info": {
   "codemirror_mode": {
    "name": "ipython",
    "version": 2
   },
   "file_extension": ".py",
   "mimetype": "text/x-python",
   "name": "python",
   "nbconvert_exporter": "python",
   "pygments_lexer": "ipython2",
   "version": "2.7.10"
  }
 },
 "nbformat": 4,
 "nbformat_minor": 0
}
