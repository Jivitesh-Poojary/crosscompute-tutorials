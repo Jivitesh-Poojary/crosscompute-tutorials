{
 "cells": [
  {
   "cell_type": "markdown",
   "metadata": {},
   "source": [
    "# Download raw datasets"
   ]
  },
  {
   "cell_type": "code",
   "execution_count": null,
   "metadata": {
    "collapsed": true
   },
   "outputs": [],
   "source": [
    "# Download using socrata soql and urllib"
   ]
  },
  {
   "cell_type": "code",
   "execution_count": 1,
   "metadata": {
    "collapsed": false
   },
   "outputs": [
    {
     "name": "stderr",
     "output_type": "stream",
     "text": [
      "/home/rhh/Projects/pandas/pandas/io/parsers.py:1164: DtypeWarning: Columns (8,17,39,46,47) have mixed types. Specify dtype option on import or set low_memory=False.\n",
      "  data = self._reader.read(nrows)\n",
      "/home/rhh/Projects/pandas/pandas/io/parsers.py:1164: DtypeWarning: Columns (0,7,15,16,17,18) have mixed types. Specify dtype option on import or set low_memory=False.\n",
      "  data = self._reader.read(nrows)\n"
     ]
    }
   ],
   "source": [
    "from os.path import expanduser, join\n",
    "from pandas import read_csv\n",
    "dataset_folder = expanduser('~/Experiments/spatiotemporal-analysis')\n",
    "usa_new_york_city_311 = read_csv(join(dataset_folder, 'USA-NewYorkCity-311.csv'))\n",
    "usa_seattle_911 = read_csv(join(dataset_folder, 'USA-Seattle-911.csv'))\n",
    "usa_new_orleans_911 = read_csv(join(dataset_folder, 'USA-NewOrleans-911.csv'))\n",
    "# Fix mixed types warning"
   ]
  },
  {
   "cell_type": "markdown",
   "metadata": {},
   "source": [
    "# Filter datasets by year"
   ]
  },
  {
   "cell_type": "code",
   "execution_count": 4,
   "metadata": {
    "collapsed": false
   },
   "outputs": [
    {
     "data": {
      "text/html": [
       "<div style=\"max-height:1000px;max-width:1500px;overflow:auto;\">\n",
       "<table border=\"1\" class=\"dataframe\">\n",
       "  <thead>\n",
       "    <tr style=\"text-align: right;\">\n",
       "      <th></th>\n",
       "      <th>Unique Key</th>\n",
       "      <th>Created Date</th>\n",
       "      <th>Closed Date</th>\n",
       "      <th>Agency</th>\n",
       "      <th>Agency Name</th>\n",
       "      <th>Complaint Type</th>\n",
       "      <th>Descriptor</th>\n",
       "      <th>Location Type</th>\n",
       "      <th>Incident Zip</th>\n",
       "      <th>Incident Address</th>\n",
       "      <th>...</th>\n",
       "      <th>Bridge Highway Name</th>\n",
       "      <th>Bridge Highway Direction</th>\n",
       "      <th>Road Ramp</th>\n",
       "      <th>Bridge Highway Segment</th>\n",
       "      <th>Garage Lot Name</th>\n",
       "      <th>Ferry Direction</th>\n",
       "      <th>Ferry Terminal Name</th>\n",
       "      <th>Latitude</th>\n",
       "      <th>Longitude</th>\n",
       "      <th>Location</th>\n",
       "    </tr>\n",
       "  </thead>\n",
       "  <tbody>\n",
       "    <tr>\n",
       "      <th>0</th>\n",
       "      <td>29615027</td>\n",
       "      <td>01/01/2015 12:00:00 AM</td>\n",
       "      <td>NaN</td>\n",
       "      <td>HPD</td>\n",
       "      <td>Department of Housing Preservation and Develop...</td>\n",
       "      <td>PLUMBING</td>\n",
       "      <td>BASIN/SINK</td>\n",
       "      <td>RESIDENTIAL BUILDING</td>\n",
       "      <td>10458</td>\n",
       "      <td>2670 BAINBRIDGE AVENUE</td>\n",
       "      <td>...</td>\n",
       "      <td>NaN</td>\n",
       "      <td>NaN</td>\n",
       "      <td>NaN</td>\n",
       "      <td>NaN</td>\n",
       "      <td>NaN</td>\n",
       "      <td>NaN</td>\n",
       "      <td>NaN</td>\n",
       "      <td>40.865469</td>\n",
       "      <td>-73.891472</td>\n",
       "      <td>(40.86546921715945, -73.89147212650845)</td>\n",
       "    </tr>\n",
       "    <tr>\n",
       "      <th>1</th>\n",
       "      <td>29615032</td>\n",
       "      <td>01/01/2015 12:00:00 AM</td>\n",
       "      <td>NaN</td>\n",
       "      <td>HPD</td>\n",
       "      <td>Department of Housing Preservation and Develop...</td>\n",
       "      <td>DOOR/WINDOW</td>\n",
       "      <td>WINDOW FRAME</td>\n",
       "      <td>RESIDENTIAL BUILDING</td>\n",
       "      <td>11225</td>\n",
       "      <td>490 NEW YORK AVENUE</td>\n",
       "      <td>...</td>\n",
       "      <td>NaN</td>\n",
       "      <td>NaN</td>\n",
       "      <td>NaN</td>\n",
       "      <td>NaN</td>\n",
       "      <td>NaN</td>\n",
       "      <td>NaN</td>\n",
       "      <td>NaN</td>\n",
       "      <td>40.663191</td>\n",
       "      <td>-73.947995</td>\n",
       "      <td>(40.663190932010025, -73.94799482073596)</td>\n",
       "    </tr>\n",
       "    <tr>\n",
       "      <th>2</th>\n",
       "      <td>29614627</td>\n",
       "      <td>01/01/2015 12:00:00 AM</td>\n",
       "      <td>NaN</td>\n",
       "      <td>HPD</td>\n",
       "      <td>Department of Housing Preservation and Develop...</td>\n",
       "      <td>ELECTRIC</td>\n",
       "      <td>LIGHTING</td>\n",
       "      <td>RESIDENTIAL BUILDING</td>\n",
       "      <td>11207</td>\n",
       "      <td>118 BRADFORD STREET</td>\n",
       "      <td>...</td>\n",
       "      <td>NaN</td>\n",
       "      <td>NaN</td>\n",
       "      <td>NaN</td>\n",
       "      <td>NaN</td>\n",
       "      <td>NaN</td>\n",
       "      <td>NaN</td>\n",
       "      <td>NaN</td>\n",
       "      <td>40.676767</td>\n",
       "      <td>-73.893239</td>\n",
       "      <td>(40.67676724761071, -73.89323931467254)</td>\n",
       "    </tr>\n",
       "  </tbody>\n",
       "</table>\n",
       "<p>3 rows × 52 columns</p>\n",
       "</div>"
      ],
      "text/plain": [
       "   Unique Key            Created Date Closed Date Agency  \\\n",
       "0    29615027  01/01/2015 12:00:00 AM         NaN    HPD   \n",
       "1    29615032  01/01/2015 12:00:00 AM         NaN    HPD   \n",
       "2    29614627  01/01/2015 12:00:00 AM         NaN    HPD   \n",
       "\n",
       "                                         Agency Name Complaint Type  \\\n",
       "0  Department of Housing Preservation and Develop...       PLUMBING   \n",
       "1  Department of Housing Preservation and Develop...    DOOR/WINDOW   \n",
       "2  Department of Housing Preservation and Develop...       ELECTRIC   \n",
       "\n",
       "     Descriptor         Location Type Incident Zip        Incident Address  \\\n",
       "0    BASIN/SINK  RESIDENTIAL BUILDING        10458  2670 BAINBRIDGE AVENUE   \n",
       "1  WINDOW FRAME  RESIDENTIAL BUILDING        11225     490 NEW YORK AVENUE   \n",
       "2      LIGHTING  RESIDENTIAL BUILDING        11207     118 BRADFORD STREET   \n",
       "\n",
       "                     ...                    Bridge Highway Name  \\\n",
       "0                    ...                                    NaN   \n",
       "1                    ...                                    NaN   \n",
       "2                    ...                                    NaN   \n",
       "\n",
       "  Bridge Highway Direction Road Ramp Bridge Highway Segment Garage Lot Name  \\\n",
       "0                      NaN       NaN                    NaN             NaN   \n",
       "1                      NaN       NaN                    NaN             NaN   \n",
       "2                      NaN       NaN                    NaN             NaN   \n",
       "\n",
       "  Ferry Direction Ferry Terminal Name   Latitude  Longitude  \\\n",
       "0             NaN                 NaN  40.865469 -73.891472   \n",
       "1             NaN                 NaN  40.663191 -73.947995   \n",
       "2             NaN                 NaN  40.676767 -73.893239   \n",
       "\n",
       "                                   Location  \n",
       "0   (40.86546921715945, -73.89147212650845)  \n",
       "1  (40.663190932010025, -73.94799482073596)  \n",
       "2   (40.67676724761071, -73.89323931467254)  \n",
       "\n",
       "[3 rows x 52 columns]"
      ]
     },
     "execution_count": 4,
     "metadata": {},
     "output_type": "execute_result"
    }
   ],
   "source": [
    "usa_new_york_city_311[:3]"
   ]
  },
  {
   "cell_type": "markdown",
   "metadata": {},
   "source": [
    "# Filter datasets by month"
   ]
  },
  {
   "cell_type": "code",
   "execution_count": null,
   "metadata": {
    "collapsed": true
   },
   "outputs": [],
   "source": []
  },
  {
   "cell_type": "markdown",
   "metadata": {},
   "source": [
    "# Download cleaned datasets"
   ]
  },
  {
   "cell_type": "code",
   "execution_count": null,
   "metadata": {
    "collapsed": true
   },
   "outputs": [],
   "source": []
  }
 ],
 "metadata": {
  "kernelspec": {
   "display_name": "Python 2",
   "language": "python",
   "name": "python2"
  },
  "language_info": {
   "codemirror_mode": {
    "name": "ipython",
    "version": 2
   },
   "file_extension": ".py",
   "mimetype": "text/x-python",
   "name": "python",
   "nbconvert_exporter": "python",
   "pygments_lexer": "ipython2",
   "version": "2.7.5"
  }
 },
 "nbformat": 4,
 "nbformat_minor": 0
}
