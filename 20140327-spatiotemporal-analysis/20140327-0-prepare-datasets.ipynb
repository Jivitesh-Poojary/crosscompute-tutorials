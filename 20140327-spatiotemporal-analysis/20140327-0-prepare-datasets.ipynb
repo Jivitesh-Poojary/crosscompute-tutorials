{
 "cells": [
  {
   "cell_type": "markdown",
   "metadata": {},
   "source": [
    "[Mountain View Spatiotemporal Analysis Working Group](http://www.meetup.com/Mountain-View-Spatiotemporal-Analysis-Working-Group/)"
   ]
  },
  {
   "cell_type": "markdown",
   "metadata": {},
   "source": [
    "Follow the instructions below to rebuild the datasets from scratch.\n",
    "\n",
    "Or you can skip the instructions and [download the datasets directly](https://drive.google.com/folderview?id=0By20iaqtOZG3V3JobkpJZi0xTTg&usp=sharing)."
   ]
  },
  {
   "cell_type": "markdown",
   "metadata": {},
   "source": [
    "# Geocoding"
   ]
  },
  {
   "cell_type": "code",
   "execution_count": 84,
   "metadata": {
    "collapsed": false
   },
   "outputs": [],
   "source": [
    "import os\n",
    "from dogpile.cache import make_region\n",
    "\n",
    "cache_folder = os.path.expanduser('~/Datasets')\n",
    "cache_path = os.path.join(cache_folder, 'locations.dbm')\n",
    "file_cache = make_region().configure(\n",
    "    'dogpile.cache.dbm',\n",
    "    arguments = {\n",
    "        'filename': cache_path,\n",
    "    })"
   ]
  },
  {
   "cell_type": "code",
   "execution_count": 167,
   "metadata": {
    "collapsed": false
   },
   "outputs": [
    {
     "data": {
      "text/plain": [
       "(-74.01459, 40.716597)"
      ]
     },
     "execution_count": 167,
     "metadata": {},
     "output_type": "execute_result"
    }
   ],
   "source": [
    "import json\n",
    "import re\n",
    "from urllib import quote_plus, urlopen\n",
    "from urlparse import urljoin\n",
    "\n",
    "PATTERN_FRACTION = re.compile(r'\\s+\\d+/\\d+\\s+')\n",
    "\n",
    "@file_cache.cache_on_arguments()\n",
    "def get_location(address):\n",
    "    \"\"\"\n",
    "    Convert address into longitude and latitude using the\n",
    "    Data Science Toolkit API.  Also, see geopy.\n",
    "    http://www.datasciencetoolkit.org/developerdocs#street2coordinates\n",
    "    \"\"\"\n",
    "    base_url = 'http://www.datasciencetoolkit.org/street2coordinates/'\n",
    "    url = urljoin(base_url, quote_plus(normalize_address(address)))\n",
    "    text = urlopen(url).read()\n",
    "    try:\n",
    "        data = json.loads(text)\n",
    "    except ValueError:\n",
    "        raise ValueError('Could not parse \"%s\"' % text)\n",
    "    try:\n",
    "        value = data.values()[0]\n",
    "        longitude = value['longitude']\n",
    "        latitude = value['latitude']\n",
    "    except TypeError:\n",
    "        longitude = None\n",
    "        latitude = None\n",
    "    return longitude, latitude\n",
    "\n",
    "def normalize_address(address):\n",
    "    address = PATTERN_FRACTION.sub(' ', address)\n",
    "    return address\n",
    "\n",
    "get_location('345 Chambers St, New York, NY 10282')"
   ]
  },
  {
   "cell_type": "markdown",
   "metadata": {},
   "source": [
    "# [NYC building violations](http://www.nyc.gov/html/hpd/html/pr/HPD-Open-Data-Violation-Files.shtml)"
   ]
  },
  {
   "cell_type": "code",
   "execution_count": 124,
   "metadata": {
    "collapsed": false
   },
   "outputs": [],
   "source": [
    "import os\n",
    "import pandas\n",
    "\n",
    "source_folder = os.path.expanduser('~/Datasets/USA/NYC')\n",
    "source_path = os.path.join(source_folder, 'NYC-BuildingViolations-201402.csv')\n",
    "nyc_building_violations = pandas.read_csv(source_path, sep='|', parse_dates=[\n",
    "    'NOVIssuedDate',\n",
    "], usecols=[\n",
    "    'ViolationID',\n",
    "    'HouseNumber',\n",
    "    'StreetName',\n",
    "    'Zip',\n",
    "    'Class',\n",
    "    'NOVDescription',\n",
    "    'NOVIssuedDate',\n",
    "]).dropna()"
   ]
  },
  {
   "cell_type": "code",
   "execution_count": 147,
   "metadata": {
    "collapsed": false
   },
   "outputs": [
    {
     "data": {
      "text/plain": [
       "36249"
      ]
     },
     "execution_count": 147,
     "metadata": {},
     "output_type": "execute_result"
    }
   ],
   "source": [
    "nyc_building_violations.set_index('NOVIssuedDate', drop=False, inplace=True)\n",
    "nyc_building_violations_201402 = nyc_building_violations['2014-02']\n",
    "nyc_building_violations_201402.reset_index(drop=True, inplace=True)\n",
    "len(nyc_building_violations_201402)"
   ]
  },
  {
   "cell_type": "code",
   "execution_count": 148,
   "metadata": {
    "collapsed": false
   },
   "outputs": [
    {
     "data": {
      "text/plain": [
       "3259"
      ]
     },
     "execution_count": 148,
     "metadata": {},
     "output_type": "execute_result"
    }
   ],
   "source": [
    "nyc_building_violations_20140203 = nyc_building_violations['2014-02-03']\n",
    "nyc_building_violations_20140203.reset_index(drop=True, inplace=True)\n",
    "len(nyc_building_violations_20140203)"
   ]
  },
  {
   "cell_type": "code",
   "execution_count": 172,
   "metadata": {
    "collapsed": false
   },
   "outputs": [
    {
     "data": {
      "text/plain": [
       "3259"
      ]
     },
     "execution_count": 172,
     "metadata": {},
     "output_type": "execute_result"
    }
   ],
   "source": [
    "def add_location(row):\n",
    "    address = '%s %s, New York, NY %s' % (\n",
    "        row['HouseNumber'],\n",
    "        row['StreetName'],\n",
    "        int(row['Zip']))\n",
    "    longitude, latitude = get_location(address)\n",
    "    row['Latitude'] = latitude\n",
    "    row['Longitude'] = longitude\n",
    "    return row\n",
    "\n",
    "nyc_building_violations_20140203_ll = nyc_building_violations_20140203[:5000].apply(add_location, axis=1).dropna()\n",
    "len(nyc_building_violations_20140203_ll)"
   ]
  },
  {
   "cell_type": "code",
   "execution_count": 178,
   "metadata": {
    "collapsed": false
   },
   "outputs": [
    {
     "data": {
      "text/html": [
       "<div style=\"max-height:1000px;max-width:1500px;overflow:auto;\">\n",
       "<table border=\"1\" class=\"dataframe\">\n",
       "  <thead>\n",
       "    <tr style=\"text-align: right;\">\n",
       "      <th></th>\n",
       "      <th>ViolationID</th>\n",
       "      <th>HouseNumber</th>\n",
       "      <th>StreetName</th>\n",
       "      <th>Zip</th>\n",
       "      <th>Class</th>\n",
       "      <th>NOVDescription</th>\n",
       "      <th>NOVIssuedDate</th>\n",
       "      <th>Latitude</th>\n",
       "      <th>Longitude</th>\n",
       "    </tr>\n",
       "  </thead>\n",
       "  <tbody>\n",
       "    <tr>\n",
       "      <th>0</th>\n",
       "      <td> 10119868</td>\n",
       "      <td> 175</td>\n",
       "      <td> EAST 52 STREET</td>\n",
       "      <td> 11203</td>\n",
       "      <td> C</td>\n",
       "      <td> § 27-2026, 2027 HMC: PROPERLY REPAIR THE SOURC...</td>\n",
       "      <td>2014-02-03 00:00:00</td>\n",
       "      <td> 40.657023</td>\n",
       "      <td>-73.929105</td>\n",
       "    </tr>\n",
       "    <tr>\n",
       "      <th>1</th>\n",
       "      <td> 10118191</td>\n",
       "      <td> 701</td>\n",
       "      <td>   GATES AVENUE</td>\n",
       "      <td> 11221</td>\n",
       "      <td> A</td>\n",
       "      <td> § 27-2013 ADM CODE PAINT WITH LIGHT COLORED PA...</td>\n",
       "      <td>2014-02-03 00:00:00</td>\n",
       "      <td> 40.687663</td>\n",
       "      <td>-73.938752</td>\n",
       "    </tr>\n",
       "  </tbody>\n",
       "</table>\n",
       "<p>2 rows × 9 columns</p>\n",
       "</div>"
      ],
      "text/plain": [
       "   ViolationID HouseNumber      StreetName    Zip Class  \\\n",
       "0     10119868         175  EAST 52 STREET  11203     C   \n",
       "1     10118191         701    GATES AVENUE  11221     A   \n",
       "\n",
       "                                      NOVDescription       NOVIssuedDate  \\\n",
       "0  § 27-2026, 2027 HMC: PROPERLY REPAIR THE SOURC... 2014-02-03 00:00:00   \n",
       "1  § 27-2013 ADM CODE PAINT WITH LIGHT COLORED PA... 2014-02-03 00:00:00   \n",
       "\n",
       "    Latitude  Longitude  \n",
       "0  40.657023 -73.929105  \n",
       "1  40.687663 -73.938752  \n",
       "\n",
       "[2 rows x 9 columns]"
      ]
     },
     "execution_count": 178,
     "metadata": {},
     "output_type": "execute_result"
    }
   ],
   "source": [
    "target_folder = os.path.expanduser('~/Datasets/USA/NYC')\n",
    "target_path = os.path.join(target_folder, 'NYC-BuildingViolations-20140203.h5')\n",
    "nyc_building_violations_20140203_ll.to_hdf(\n",
    "    target_path, 'raw', mode='w', complevel=5, complib='blosc')\n",
    "pandas.read_hdf(target_path, 'raw')[:2]"
   ]
  },
  {
   "cell_type": "markdown",
   "metadata": {},
   "source": [
    "# [NYC 311 service requests](https://data.cityofnewyork.us/Social-Services/311-Service-Requests-from-2010-to-Present/erm2-nwe9)"
   ]
  },
  {
   "cell_type": "code",
   "execution_count": 126,
   "metadata": {
    "collapsed": false
   },
   "outputs": [],
   "source": [
    "import os\n",
    "import pandas\n",
    "\n",
    "source_folder = os.path.expanduser('~/Datasets/USA/NYC')\n",
    "source_path = os.path.join(source_folder, 'NYC-311ServiceRequests-201402.csv')\n",
    "nyc_service_requests = pandas.read_csv(source_path, parse_dates=[\n",
    "    'Created Date',\n",
    "], usecols=[\n",
    "    'Unique Key',\n",
    "    'Created Date',\n",
    "    'Agency Name',\n",
    "    'Complaint Type',\n",
    "    'Incident Zip',\n",
    "    'Incident Address',\n",
    "]).dropna()"
   ]
  },
  {
   "cell_type": "code",
   "execution_count": 142,
   "metadata": {
    "collapsed": false
   },
   "outputs": [
    {
     "data": {
      "text/plain": [
       "26728"
      ]
     },
     "execution_count": 142,
     "metadata": {},
     "output_type": "execute_result"
    }
   ],
   "source": [
    "nyc_service_requests.set_index('Created Date', drop=False, inplace=True)\n",
    "nyc_service_requests_201402 = nyc_service_requests['2014-02']\n",
    "nyc_service_requests_201402.reset_index(drop=True, inplace=True)\n",
    "len(nyc_service_requests_201402)"
   ]
  },
  {
   "cell_type": "code",
   "execution_count": 143,
   "metadata": {
    "collapsed": false
   },
   "outputs": [
    {
     "data": {
      "text/plain": [
       "911"
      ]
     },
     "execution_count": 143,
     "metadata": {},
     "output_type": "execute_result"
    }
   ],
   "source": [
    "nyc_service_requests_20140203 = nyc_service_requests['2014-02-03']\n",
    "nyc_service_requests_20140203.reset_index(drop=True, inplace=True)\n",
    "len(nyc_service_requests_20140203)"
   ]
  },
  {
   "cell_type": "code",
   "execution_count": 171,
   "metadata": {
    "collapsed": false
   },
   "outputs": [
    {
     "data": {
      "text/plain": [
       "911"
      ]
     },
     "execution_count": 171,
     "metadata": {},
     "output_type": "execute_result"
    }
   ],
   "source": [
    "def add_location(row):\n",
    "    address = '%s, New York, NY %s' % (\n",
    "        row['Incident Address'],\n",
    "        row['Incident Zip'])\n",
    "    longitude, latitude = get_location(address)\n",
    "    row['Latitude'] = latitude\n",
    "    row['Longitude'] = longitude\n",
    "    return row\n",
    "\n",
    "nyc_service_requests_20140203_ll = nyc_service_requests_20140203[:5000].apply(add_location, axis=1).dropna()\n",
    "len(nyc_service_requests_20140203_ll)"
   ]
  },
  {
   "cell_type": "code",
   "execution_count": 180,
   "metadata": {
    "collapsed": false
   },
   "outputs": [
    {
     "data": {
      "text/html": [
       "<div style=\"max-height:1000px;max-width:1500px;overflow:auto;\">\n",
       "<table border=\"1\" class=\"dataframe\">\n",
       "  <thead>\n",
       "    <tr style=\"text-align: right;\">\n",
       "      <th></th>\n",
       "      <th>Unique Key</th>\n",
       "      <th>Created Date</th>\n",
       "      <th>Agency Name</th>\n",
       "      <th>Complaint Type</th>\n",
       "      <th>Incident Zip</th>\n",
       "      <th>Incident Address</th>\n",
       "      <th>Latitude</th>\n",
       "      <th>Longitude</th>\n",
       "    </tr>\n",
       "  </thead>\n",
       "  <tbody>\n",
       "    <tr>\n",
       "      <th>0</th>\n",
       "      <td> 27325118</td>\n",
       "      <td>2014-02-03 23:59:26</td>\n",
       "      <td>    New York City Police Department</td>\n",
       "      <td>      Noise - Commercial</td>\n",
       "      <td> 10128</td>\n",
       "      <td> 163 EAST 92 STREET</td>\n",
       "      <td> 40.783149</td>\n",
       "      <td>-73.952360</td>\n",
       "    </tr>\n",
       "    <tr>\n",
       "      <th>1</th>\n",
       "      <td> 27325781</td>\n",
       "      <td>2014-02-03 23:58:29</td>\n",
       "      <td> Department of Parks and Recreation</td>\n",
       "      <td> Maintenance or Facility</td>\n",
       "      <td> 11228</td>\n",
       "      <td>    675 86TH STREET</td>\n",
       "      <td> 40.619401</td>\n",
       "      <td>-74.022675</td>\n",
       "    </tr>\n",
       "  </tbody>\n",
       "</table>\n",
       "<p>2 rows × 8 columns</p>\n",
       "</div>"
      ],
      "text/plain": [
       "   Unique Key        Created Date                         Agency Name  \\\n",
       "0    27325118 2014-02-03 23:59:26     New York City Police Department   \n",
       "1    27325781 2014-02-03 23:58:29  Department of Parks and Recreation   \n",
       "\n",
       "            Complaint Type Incident Zip    Incident Address   Latitude  \\\n",
       "0       Noise - Commercial        10128  163 EAST 92 STREET  40.783149   \n",
       "1  Maintenance or Facility        11228     675 86TH STREET  40.619401   \n",
       "\n",
       "   Longitude  \n",
       "0 -73.952360  \n",
       "1 -74.022675  \n",
       "\n",
       "[2 rows x 8 columns]"
      ]
     },
     "execution_count": 180,
     "metadata": {},
     "output_type": "execute_result"
    }
   ],
   "source": [
    "target_folder = os.path.expanduser('~/Datasets/USA/NYC')\n",
    "target_path = os.path.join(target_folder, 'NYC-311ServiceRequests-20140203.h5')\n",
    "nyc_service_requests_20140203_ll.to_hdf(\n",
    "    target_path, 'raw', mode='w', complevel=5, complib='blosc')\n",
    "pandas.read_hdf(target_path, 'raw')[:2]"
   ]
  },
  {
   "cell_type": "markdown",
   "metadata": {},
   "source": [
    "# [Seattle 911 fire department responses](https://data.seattle.gov/Public-Safety/Seattle-Real-Time-Fire-911-Calls/kzjm-xkqj)"
   ]
  },
  {
   "cell_type": "code",
   "execution_count": 174,
   "metadata": {
    "collapsed": false
   },
   "outputs": [
    {
     "data": {
      "text/plain": [
       "7440"
      ]
     },
     "execution_count": 174,
     "metadata": {},
     "output_type": "execute_result"
    }
   ],
   "source": [
    "import datetime\n",
    "import os\n",
    "import pandas\n",
    "\n",
    "source_folder = os.path.expanduser('~/Datasets/USA/Seattle')\n",
    "source_path = os.path.join(source_folder, 'Seattle-FireDepartmentResponses-201402.csv')\n",
    "seattle_fire_responses = pandas.read_csv(source_path, parse_dates=[\n",
    "    'Datetime'\n",
    "], usecols=[\n",
    "    'Address',\n",
    "    'Type',\n",
    "    'Datetime',\n",
    "    'Latitude',\n",
    "    'Longitude',\n",
    "    'Incident Number',\n",
    "]).dropna()\n",
    "len(seattle_fire_responses)"
   ]
  },
  {
   "cell_type": "code",
   "execution_count": 183,
   "metadata": {
    "collapsed": false
   },
   "outputs": [
    {
     "data": {
      "text/plain": [
       "332"
      ]
     },
     "execution_count": 183,
     "metadata": {},
     "output_type": "execute_result"
    }
   ],
   "source": [
    "seattle_fire_responses.set_index('Datetime', drop=False, inplace=True)\n",
    "seattle_fire_responses_20140203 = seattle_fire_responses['2014-02-03']\n",
    "seattle_fire_responses_20140203.reset_index(drop=True, inplace=True)\n",
    "len(seattle_fire_responses_20140203)"
   ]
  },
  {
   "cell_type": "code",
   "execution_count": 184,
   "metadata": {
    "collapsed": false
   },
   "outputs": [],
   "source": [
    "seattle_fire_responses_20140203_ll = seattle_fire_responses_20140203"
   ]
  },
  {
   "cell_type": "code",
   "execution_count": 185,
   "metadata": {
    "collapsed": false
   },
   "outputs": [
    {
     "data": {
      "text/html": [
       "<div style=\"max-height:1000px;max-width:1500px;overflow:auto;\">\n",
       "<table border=\"1\" class=\"dataframe\">\n",
       "  <thead>\n",
       "    <tr style=\"text-align: right;\">\n",
       "      <th></th>\n",
       "      <th>Address</th>\n",
       "      <th>Type</th>\n",
       "      <th>Datetime</th>\n",
       "      <th>Latitude</th>\n",
       "      <th>Longitude</th>\n",
       "      <th>Incident Number</th>\n",
       "    </tr>\n",
       "  </thead>\n",
       "  <tbody>\n",
       "    <tr>\n",
       "      <th>0</th>\n",
       "      <td> 4th Av N / Mercer St</td>\n",
       "      <td> Aid Response</td>\n",
       "      <td>2014-02-03 23:56:00</td>\n",
       "      <td> 47.624564</td>\n",
       "      <td>-122.348877</td>\n",
       "      <td> F140012355</td>\n",
       "    </tr>\n",
       "    <tr>\n",
       "      <th>1</th>\n",
       "      <td>          2121 8th Av</td>\n",
       "      <td> Aid Response</td>\n",
       "      <td>2014-02-03 23:47:00</td>\n",
       "      <td> 47.616647</td>\n",
       "      <td>-122.338160</td>\n",
       "      <td> F140012352</td>\n",
       "    </tr>\n",
       "  </tbody>\n",
       "</table>\n",
       "<p>2 rows × 6 columns</p>\n",
       "</div>"
      ],
      "text/plain": [
       "                Address          Type            Datetime   Latitude  \\\n",
       "0  4th Av N / Mercer St  Aid Response 2014-02-03 23:56:00  47.624564   \n",
       "1           2121 8th Av  Aid Response 2014-02-03 23:47:00  47.616647   \n",
       "\n",
       "    Longitude Incident Number  \n",
       "0 -122.348877      F140012355  \n",
       "1 -122.338160      F140012352  \n",
       "\n",
       "[2 rows x 6 columns]"
      ]
     },
     "execution_count": 185,
     "metadata": {},
     "output_type": "execute_result"
    }
   ],
   "source": [
    "target_folder = os.path.expanduser('~/Datasets/USA/Seattle')\n",
    "target_path = os.path.join(target_folder, 'Seattle-FireDepartmentResponses-20140203.h5')\n",
    "seattle_fire_responses_20140203_ll.to_hdf(\n",
    "    target_path, 'raw', mode='w', complevel=5, complib='blosc')\n",
    "pandas.read_hdf(target_path, 'raw')[:2]"
   ]
  }
 ],
 "metadata": {
  "kernelspec": {
   "display_name": "Python 2",
   "language": "python",
   "name": "python2"
  },
  "language_info": {
   "codemirror_mode": {
    "name": "ipython",
    "version": 2
   },
   "file_extension": ".py",
   "mimetype": "text/x-python",
   "name": "python",
   "nbconvert_exporter": "python",
   "pygments_lexer": "ipython2",
   "version": "2.7.5"
  }
 },
 "nbformat": 4,
 "nbformat_minor": 0
}
