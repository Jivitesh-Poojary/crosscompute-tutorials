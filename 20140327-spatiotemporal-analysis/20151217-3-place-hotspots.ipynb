{
 "cells": [
  {
   "cell_type": "code",
   "execution_count": 1,
   "metadata": {
    "collapsed": true
   },
   "outputs": [],
   "source": [
    "import numpy as np\n",
    "from scipy.optimize import minimize\n",
    "\n",
    "def get_good_values(compute_loss, make_values, iteration_count):\n",
    "    good_loss, good_values = np.inf, None\n",
    "    for iteration_index in xrange(iteration_count):\n",
    "        optimization = minimize(compute_loss, make_values())\n",
    "        if optimization['fun'] < good_loss:\n",
    "            good_loss = optimization['fun']\n",
    "            good_values = optimization['x']\n",
    "    return good_values"
   ]
  },
  {
   "cell_type": "code",
   "execution_count": 2,
   "metadata": {
    "collapsed": true
   },
   "outputs": [],
   "source": [
    "from random import uniform\n",
    "\n",
    "def place_hotspot_points(\n",
    "        interest_point_tree, compute_distance,\n",
    "        hotspot_point_count, hotspot_point_radius,\n",
    "        hotspot_point_xy_min, hotspot_point_xy_max, iteration_count):\n",
    "    interest_point_count = interest_point_tree.n\n",
    "\n",
    "    def compute_loss(hotspot_points):\n",
    "        # Restore hotspot_points structure because minimize flattens it\n",
    "        hotspot_points = np.array(hotspot_points).reshape((\n",
    "            hotspot_point_count, 2))\n",
    "        loss = 0\n",
    "        for hotspot_point in hotspot_points:\n",
    "            distances = filter(lambda x: x < np.inf, interest_point_tree.query(\n",
    "                hotspot_point, interest_point_count)[0])\n",
    "            # Be close to many interest points\n",
    "            # Minimize the sum of distances to interest point\n",
    "            loss += sum(distances)\n",
    "            # Balance travel time to each interest point\n",
    "            # Minimize the maximum distance to any interest point\n",
    "            loss += max(distances)\n",
    "            # Have good coverage\n",
    "            # Maximize distance from other hotspot_points if it in range\n",
    "            if min(distances) < hotspot_point_radius:\n",
    "                loss -= sum(compute_distance(\n",
    "                    hotspot_point, x) for x in hotspot_points)\n",
    "        return loss\n",
    "\n",
    "    hotspot_point_x_bounds, hotspot_point_y_bounds = _get_xy_bounds(\n",
    "        hotspot_point_xy_min, hotspot_point_xy_max)\n",
    "    make_values = lambda: [(\n",
    "        uniform(*hotspot_point_x_bounds), uniform(*hotspot_point_y_bounds),\n",
    "    ) for x in xrange(hotspot_point_count)]\n",
    "    return get_good_values(\n",
    "        compute_loss, make_values, iteration_count,\n",
    "    ).reshape((hotspot_point_count, 2))\n",
    "\n",
    "def _get_xy_bounds(xy_min, xy_max):\n",
    "    x_min, y_min = xy_min\n",
    "    x_max, y_max = xy_max\n",
    "    x_bounds = x_min, x_max\n",
    "    y_bounds = y_min, y_max\n",
    "    return x_bounds, y_bounds"
   ]
  },
  {
   "cell_type": "code",
   "execution_count": 3,
   "metadata": {
    "collapsed": false
   },
   "outputs": [
    {
     "data": {
      "text/plain": [
       "array([[ 0.84741334,  0.5       ],\n",
       "       [ 0.15260073,  0.5       ]])"
      ]
     },
     "execution_count": 3,
     "metadata": {},
     "output_type": "execute_result"
    }
   ],
   "source": [
    "from scipy.spatial import KDTree\n",
    "from scipy.spatial.distance import euclidean\n",
    "\n",
    "interest_points = np.array([\n",
    "    (0, 0),\n",
    "    (1, 0),\n",
    "    (1, 1),\n",
    "    (0, 1),\n",
    "])\n",
    "\n",
    "interest_point_tree = KDTree(interest_points)\n",
    "compute_distance = euclidean\n",
    "place_hotspot_points(\n",
    "    interest_point_tree,\n",
    "    compute_distance,\n",
    "    hotspot_point_count=2,\n",
    "    hotspot_point_radius=10,\n",
    "    hotspot_point_xy_min=interest_points.min(axis=0),\n",
    "    hotspot_point_xy_max=interest_points.max(axis=0),\n",
    "    iteration_count=3)"
   ]
  }
 ],
 "metadata": {
  "kernelspec": {
   "display_name": "Python 2",
   "language": "python",
   "name": "python2"
  },
  "language_info": {
   "codemirror_mode": {
    "name": "ipython",
    "version": 2
   },
   "file_extension": ".py",
   "mimetype": "text/x-python",
   "name": "python",
   "nbconvert_exporter": "python",
   "pygments_lexer": "ipython2",
   "version": "2.7.10"
  }
 },
 "nbformat": 4,
 "nbformat_minor": 0
}
