{
 "cells": [
  {
   "cell_type": "code",
   "execution_count": 25,
   "metadata": {
    "collapsed": true
   },
   "outputs": [],
   "source": [
    "import requests\n",
    "from invisibleroads_macros.disk import make_folder\n",
    "from os.path import expanduser, join\n",
    "\n",
    "def download(target_path, source_url):\n",
    "    response = requests.get(source_url)\n",
    "    open(target_path, 'w').write(response.content)\n",
    "    return target_path\n",
    "\n",
    "target_folder = make_folder(expanduser('~/Experiments/spatiotemporal'))\n",
    "geojson_path = join(target_folder, 'nyc-traffic-injuries.json')\n",
    "shapefile_path = join(target_folder, 'nyc-traffic-injuries.shp.zip')"
   ]
  },
  {
   "cell_type": "code",
   "execution_count": 2,
   "metadata": {
    "collapsed": false
   },
   "outputs": [],
   "source": [
    "geojson_path = download(\n",
    "    join(target_folder, 'nyc-traffic-injuries.json'), \n",
    "    'http://www.nyc.gov/html/dot/downloads/misc/injury_all_monthly.json')\n",
    "shapefile_path = download(\n",
    "    join(target_folder, 'nyc-traffic-injuries.shp.zip'),\n",
    "    'http://www.nyc.gov/html/dot/downloads/misc/injury_all_monthly_shapefile.zip')"
   ]
  },
  {
   "cell_type": "code",
   "execution_count": null,
   "metadata": {
    "collapsed": false
   },
   "outputs": [],
   "source": [
    "import fiona\n",
    "geojson_collection = fiona.open(geojson_path)\n",
    "print 'geojson_collection.bounds = %s' % repr(geojson_collection.bounds)\n",
    "print 'geojson_collection.crs_wkt = %s' % geojson_collection.crs_wkt\n",
    "print 'geojson_collection.crs = %s' % geojson_collection.crs\n",
    "geojson_collection[0]"
   ]
  },
  {
   "cell_type": "code",
   "execution_count": 26,
   "metadata": {
    "collapsed": false
   },
   "outputs": [
    {
     "name": "stdout",
     "output_type": "stream",
     "text": [
      "shapefile_collection.bounds = (-74.2539230306024, 40.49947769792743, -73.70059800086655, 40.91246913562538)\n",
      "shapefile_collection.crs_wkt = GEOGCS[\"GCS_WGS_1984\",DATUM[\"WGS_1984\",SPHEROID[\"WGS_84\",6378137.0,298.257223563]],PRIMEM[\"Greenwich\",0.0],UNIT[\"Degree\",0.0174532925199433]]\n",
      "shapefile_collection.crs = {'init': u'epsg:4326'}\n"
     ]
    },
    {
     "data": {
      "text/plain": [
       "{'geometry': {'coordinates': (-73.7917447266822, 40.72578884918672),\n",
       "  'type': 'Point'},\n",
       " 'id': '0',\n",
       " 'properties': OrderedDict([(u'Injuries', 2),\n",
       "              (u'PedInjurie', 1),\n",
       "              (u'BikeInjuri', 0),\n",
       "              (u'MVOInjurie', 1),\n",
       "              (u'MN', u'1'),\n",
       "              (u'YR', u'2009')]),\n",
       " 'type': 'Feature'}"
      ]
     },
     "execution_count": 26,
     "metadata": {},
     "output_type": "execute_result"
    }
   ],
   "source": [
    "import fiona\n",
    "shapefile_collection = fiona.open('/', vfs='zip://' + shapefile_path)\n",
    "print 'shapefile_collection.bounds = %s' % repr(shapefile_collection.bounds)\n",
    "print 'shapefile_collection.crs_wkt = %s' % shapefile_collection.crs_wkt\n",
    "print 'shapefile_collection.crs = %s' % shapefile_collection.crs\n",
    "shapefile_collection[0]"
   ]
  },
  {
   "cell_type": "code",
   "execution_count": 27,
   "metadata": {
    "collapsed": false
   },
   "outputs": [
    {
     "name": "stdout",
     "output_type": "stream",
     "text": [
      "Longitude                              float64\n",
      "Latitude                               float64\n",
      "Year                                     int64\n",
      "Month                                    int64\n",
      "Total Injury Count                       int64\n",
      "Pedestrian Injury Count                  int64\n",
      "Bike Injury Count                        int64\n",
      "Motor Vehicle Occupant Injury Count      int64\n",
      "dtype: object\n"
     ]
    }
   ],
   "source": [
    "from pandas import DataFrame, Period\n",
    "rows, indices = [], []\n",
    "for value_by_key in shapefile_collection:\n",
    "    indices.append(int(value_by_key['id']))\n",
    "    longitude, latitude = map(float, value_by_key['geometry']['coordinates'])\n",
    "    properties = value_by_key['properties']\n",
    "    year, month = int(properties['YR']), int(properties['MN'])\n",
    "    total_injury_count = int(properties['Injuries'])\n",
    "    pedestrian_injury_count = int(properties['PedInjurie'])\n",
    "    bike_injury_count = int(properties['BikeInjuri'])\n",
    "    motor_vehicle_occupant_injury_count = int(properties['MVOInjurie'])\n",
    "    rows.append([\n",
    "        longitude, latitude, year, month,\n",
    "        total_injury_count, pedestrian_injury_count, bike_injury_count, motor_vehicle_occupant_injury_count,\n",
    "    ])\n",
    "nyc_traffic_injuries_table = DataFrame(rows, index=indices, columns=[\n",
    "    'Longitude', 'Latitude', 'Year', 'Month',\n",
    "    'Total Injury Count', 'Pedestrian Injury Count', 'Bike Injury Count', 'Motor Vehicle Occupant Injury Count',\n",
    "])\n",
    "print(nyc_traffic_injuries_table.dtypes)"
   ]
  },
  {
   "cell_type": "code",
   "execution_count": 28,
   "metadata": {
    "collapsed": false
   },
   "outputs": [],
   "source": [
    "from os.path import expanduser\n",
    "nyc_traffic_injuries_table.to_msgpack(expanduser('~/Experiments/spatiotemporal/nyc-traffic-injuries.msg-blosc'), compress='blosc')\n",
    "nyc_traffic_injuries_table.to_msgpack(expanduser('~/Experiments/spatiotemporal/nyc-traffic-injuries.msg-zlib'), compress='zlib')"
   ]
  },
  {
   "cell_type": "code",
   "execution_count": 15,
   "metadata": {
    "collapsed": true
   },
   "outputs": [],
   "source": [
    "from os.path import expanduser\n",
    "from pandas import read_msgpack"
   ]
  },
  {
   "cell_type": "code",
   "execution_count": 29,
   "metadata": {
    "collapsed": false
   },
   "outputs": [
    {
     "name": "stdout",
     "output_type": "stream",
     "text": [
      "100 loops, best of 3: 9.21 ms per loop\n"
     ]
    }
   ],
   "source": [
    "timeit nyc_traffic_injuries_table = read_msgpack(expanduser('~/Experiments/spatiotemporal/nyc-traffic-injuries.msg-blosc'))"
   ]
  },
  {
   "cell_type": "code",
   "execution_count": 30,
   "metadata": {
    "collapsed": false
   },
   "outputs": [
    {
     "name": "stdout",
     "output_type": "stream",
     "text": [
      "10 loops, best of 3: 39.5 ms per loop\n"
     ]
    }
   ],
   "source": [
    "timeit nyc_traffic_injuries_table = read_msgpack(expanduser('~/Experiments/spatiotemporal/nyc-traffic-injuries.msg-zlib'))"
   ]
  },
  {
   "cell_type": "code",
   "execution_count": 31,
   "metadata": {
    "collapsed": false
   },
   "outputs": [
    {
     "name": "stdout",
     "output_type": "stream",
     "text": [
      "nyc_traffic_injury_count = 201789\n"
     ]
    },
    {
     "data": {
      "text/html": [
       "<div>\n",
       "<table border=\"1\" class=\"dataframe\">\n",
       "  <thead>\n",
       "    <tr style=\"text-align: right;\">\n",
       "      <th></th>\n",
       "      <th>Longitude</th>\n",
       "      <th>Latitude</th>\n",
       "      <th>Year</th>\n",
       "      <th>Month</th>\n",
       "      <th>Total Injury Count</th>\n",
       "      <th>Pedestrian Injury Count</th>\n",
       "      <th>Bike Injury Count</th>\n",
       "      <th>Motor Vehicle Occupant Injury Count</th>\n",
       "    </tr>\n",
       "  </thead>\n",
       "  <tbody>\n",
       "    <tr>\n",
       "      <th>0</th>\n",
       "      <td>-73.791745</td>\n",
       "      <td>40.725789</td>\n",
       "      <td>2009</td>\n",
       "      <td>1</td>\n",
       "      <td>2</td>\n",
       "      <td>1</td>\n",
       "      <td>0</td>\n",
       "      <td>1</td>\n",
       "    </tr>\n",
       "    <tr>\n",
       "      <th>1</th>\n",
       "      <td>-73.882429</td>\n",
       "      <td>40.844981</td>\n",
       "      <td>2009</td>\n",
       "      <td>1</td>\n",
       "      <td>1</td>\n",
       "      <td>1</td>\n",
       "      <td>0</td>\n",
       "      <td>0</td>\n",
       "    </tr>\n",
       "    <tr>\n",
       "      <th>2</th>\n",
       "      <td>-73.979058</td>\n",
       "      <td>40.744444</td>\n",
       "      <td>2009</td>\n",
       "      <td>1</td>\n",
       "      <td>2</td>\n",
       "      <td>2</td>\n",
       "      <td>0</td>\n",
       "      <td>0</td>\n",
       "    </tr>\n",
       "  </tbody>\n",
       "</table>\n",
       "</div>"
      ],
      "text/plain": [
       "   Longitude   Latitude  Year  Month  Total Injury Count  \\\n",
       "0 -73.791745  40.725789  2009      1                   2   \n",
       "1 -73.882429  40.844981  2009      1                   1   \n",
       "2 -73.979058  40.744444  2009      1                   2   \n",
       "\n",
       "   Pedestrian Injury Count  Bike Injury Count  \\\n",
       "0                        1                  0   \n",
       "1                        1                  0   \n",
       "2                        2                  0   \n",
       "\n",
       "   Motor Vehicle Occupant Injury Count  \n",
       "0                                    1  \n",
       "1                                    0  \n",
       "2                                    0  "
      ]
     },
     "execution_count": 31,
     "metadata": {},
     "output_type": "execute_result"
    }
   ],
   "source": [
    "from os.path import expanduser\n",
    "from pandas import read_msgpack\n",
    "nyc_traffic_injuries_table = read_msgpack(expanduser('~/Experiments/spatiotemporal/nyc-traffic-injuries.msg-blosc'))\n",
    "print 'nyc_traffic_injury_count = %s' % len(nyc_traffic_injuries_table)\n",
    "nyc_traffic_injuries_table[:3]"
   ]
  },
  {
   "cell_type": "code",
   "execution_count": null,
   "metadata": {
    "collapsed": false
   },
   "outputs": [],
   "source": [
    "# Replace integer index with time series index\n",
    "# This method seems exceedingly slow and memory hungry\n",
    "# It might be faster to just filter by year and month manually\n",
    "from pandas import Period\n",
    "\n",
    "def add_time_period(row):\n",
    "    row['Time Period'] = Period(year=row['Year'], month=row['Month'], freq='M')\n",
    "    return row\n",
    "\n",
    "nyc_traffic_injuries_by_month_table = nyc_traffic_injuries_table.apply(add_time_period, axis=1)\n",
    "nyc_traffic_injuries_by_month_table.index = nyc_traffic_injuries_by_month_table['Time Period']"
   ]
  },
  {
   "cell_type": "code",
   "execution_count": null,
   "metadata": {
    "collapsed": true
   },
   "outputs": [],
   "source": [
    "nyc_traffic_injuries_table.to_pickle(expanduser('~/Experiments/spatiotemporal/nyc-traffic-injuries.pkl'))\n",
    "nyc_traffic_injuries_by_month_table.to_pickle(expanduser('~/Experiments/spatiotemporal/nyc-traffic-injuries-by-month.pkl'))"
   ]
  },
  {
   "cell_type": "code",
   "execution_count": null,
   "metadata": {
    "collapsed": false
   },
   "outputs": [],
   "source": [
    "timeit len(nyc_traffic_injuries_by_month_table['2015-01':'2015-03'])"
   ]
  },
  {
   "cell_type": "code",
   "execution_count": null,
   "metadata": {
    "collapsed": false
   },
   "outputs": [],
   "source": [
    "print(len(nyc_traffic_injuries_by_month_table['2015-01':'2015-01']))\n",
    "print(len(nyc_traffic_injuries_by_month_table['2015-02':'2015-02']))\n",
    "print(len(nyc_traffic_injuries_by_month_table['2015-03':'2015-03']))"
   ]
  },
  {
   "cell_type": "code",
   "execution_count": null,
   "metadata": {
    "collapsed": false
   },
   "outputs": [],
   "source": [
    "1992 + 1749 + 2072"
   ]
  },
  {
   "cell_type": "code",
   "execution_count": 20,
   "metadata": {
    "collapsed": true
   },
   "outputs": [],
   "source": [
    "# Filter by dates\n",
    "start_year = 2015\n",
    "start_month = 1\n",
    "end_year = 2015\n",
    "end_month = 3"
   ]
  },
  {
   "cell_type": "code",
   "execution_count": 1,
   "metadata": {
    "collapsed": true
   },
   "outputs": [],
   "source": [
    "import dateutil"
   ]
  },
  {
   "cell_type": "code",
   "execution_count": 2,
   "metadata": {
    "collapsed": false
   },
   "outputs": [
    {
     "data": {
      "text/plain": [
       "<module 'dateutil' from '/usr/lib/python2.7/site-packages/dateutil/__init__.pyc'>"
      ]
     },
     "execution_count": 2,
     "metadata": {},
     "output_type": "execute_result"
    }
   ],
   "source": [
    "dateutil"
   ]
  },
  {
   "cell_type": "code",
   "execution_count": 5,
   "metadata": {
    "collapsed": true
   },
   "outputs": [],
   "source": [
    "from dateutil.parser import parse as parse_date"
   ]
  },
  {
   "cell_type": "code",
   "execution_count": 6,
   "metadata": {
    "collapsed": false
   },
   "outputs": [
    {
     "data": {
      "text/plain": [
       "<function dateutil.parser.parse>"
      ]
     },
     "execution_count": 6,
     "metadata": {},
     "output_type": "execute_result"
    }
   ],
   "source": [
    "parse_date"
   ]
  },
  {
   "cell_type": "code",
   "execution_count": 9,
   "metadata": {
    "collapsed": false
   },
   "outputs": [],
   "source": [
    "d = parse_date('2015-01')"
   ]
  },
  {
   "cell_type": "code",
   "execution_count": 11,
   "metadata": {
    "collapsed": false
   },
   "outputs": [
    {
     "data": {
      "text/plain": [
       "(2015, 1)"
      ]
     },
     "execution_count": 11,
     "metadata": {},
     "output_type": "execute_result"
    }
   ],
   "source": [
    "d.year, d.month"
   ]
  },
  {
   "cell_type": "code",
   "execution_count": 32,
   "metadata": {
    "collapsed": false
   },
   "outputs": [],
   "source": [
    "filtered_nyc_traffic_injuries_table = nyc_traffic_injuries_table[(\n",
    "    start_year <= nyc_traffic_injuries_table.Year\n",
    ") & (\n",
    "    nyc_traffic_injuries_table.Year <= end_year\n",
    ") & (\n",
    "    start_month <= nyc_traffic_injuries_table.Month\n",
    ") & (\n",
    "    nyc_traffic_injuries_table.Month <= end_month\n",
    ")]"
   ]
  },
  {
   "cell_type": "code",
   "execution_count": 33,
   "metadata": {
    "collapsed": false
   },
   "outputs": [
    {
     "data": {
      "text/plain": [
       "Int64Index([175802, 175803, 175804, 175805, 175806, 175807, 175808, 175809,\n",
       "            175810, 175811],\n",
       "           dtype='int64')"
      ]
     },
     "execution_count": 33,
     "metadata": {},
     "output_type": "execute_result"
    }
   ],
   "source": [
    "filtered_nyc_traffic_injuries_table.index[:10]"
   ]
  },
  {
   "cell_type": "code",
   "execution_count": 36,
   "metadata": {
    "collapsed": false
   },
   "outputs": [
    {
     "data": {
      "text/html": [
       "<div>\n",
       "<table border=\"1\" class=\"dataframe\">\n",
       "  <thead>\n",
       "    <tr style=\"text-align: right;\">\n",
       "      <th></th>\n",
       "      <th>index</th>\n",
       "      <th>Longitude</th>\n",
       "      <th>Latitude</th>\n",
       "      <th>Year</th>\n",
       "      <th>Month</th>\n",
       "      <th>Total Injury Count</th>\n",
       "      <th>Pedestrian Injury Count</th>\n",
       "      <th>Bike Injury Count</th>\n",
       "      <th>Motor Vehicle Occupant Injury Count</th>\n",
       "    </tr>\n",
       "  </thead>\n",
       "  <tbody>\n",
       "    <tr>\n",
       "      <th>0</th>\n",
       "      <td>175802</td>\n",
       "      <td>-73.973363</td>\n",
       "      <td>40.574774</td>\n",
       "      <td>2015</td>\n",
       "      <td>1</td>\n",
       "      <td>2</td>\n",
       "      <td>0</td>\n",
       "      <td>0</td>\n",
       "      <td>2</td>\n",
       "    </tr>\n",
       "    <tr>\n",
       "      <th>1</th>\n",
       "      <td>175803</td>\n",
       "      <td>-73.962975</td>\n",
       "      <td>40.762487</td>\n",
       "      <td>2015</td>\n",
       "      <td>1</td>\n",
       "      <td>2</td>\n",
       "      <td>1</td>\n",
       "      <td>0</td>\n",
       "      <td>1</td>\n",
       "    </tr>\n",
       "    <tr>\n",
       "      <th>2</th>\n",
       "      <td>175804</td>\n",
       "      <td>-73.992806</td>\n",
       "      <td>40.768382</td>\n",
       "      <td>2015</td>\n",
       "      <td>1</td>\n",
       "      <td>1</td>\n",
       "      <td>0</td>\n",
       "      <td>0</td>\n",
       "      <td>1</td>\n",
       "    </tr>\n",
       "  </tbody>\n",
       "</table>\n",
       "</div>"
      ],
      "text/plain": [
       "    index  Longitude   Latitude  Year  Month  Total Injury Count  \\\n",
       "0  175802 -73.973363  40.574774  2015      1                   2   \n",
       "1  175803 -73.962975  40.762487  2015      1                   2   \n",
       "2  175804 -73.992806  40.768382  2015      1                   1   \n",
       "\n",
       "   Pedestrian Injury Count  Bike Injury Count  \\\n",
       "0                        0                  0   \n",
       "1                        1                  0   \n",
       "2                        0                  0   \n",
       "\n",
       "   Motor Vehicle Occupant Injury Count  \n",
       "0                                    2  \n",
       "1                                    1  \n",
       "2                                    1  "
      ]
     },
     "execution_count": 36,
     "metadata": {},
     "output_type": "execute_result"
    }
   ],
   "source": [
    "filtered_nyc_traffic_injuries_table.reset_index(inplace=True)\n",
    "filtered_nyc_traffic_injuries_table[:3]"
   ]
  },
  {
   "cell_type": "code",
   "execution_count": null,
   "metadata": {
    "collapsed": false
   },
   "outputs": [],
   "source": [
    "timeit len(nyc_traffic_injuries_table[(start_year <= nyc_traffic_injuries_table.Year) & (nyc_traffic_injuries_table.Year <= end_year) & (start_month <= nyc_traffic_injuries_table.Month) & (nyc_traffic_injuries_table.Month <= end_month)])"
   ]
  },
  {
   "cell_type": "code",
   "execution_count": null,
   "metadata": {
    "collapsed": false
   },
   "outputs": [],
   "source": [
    "nyc_traffic_injuries_table.sum()"
   ]
  },
  {
   "cell_type": "code",
   "execution_count": null,
   "metadata": {
    "collapsed": false
   },
   "outputs": [],
   "source": [
    "nyc_traffic_injuries_table.groupby(['Longitude', 'Latitude']).groups.items()[:3]"
   ]
  },
  {
   "cell_type": "code",
   "execution_count": null,
   "metadata": {
    "collapsed": false
   },
   "outputs": [],
   "source": [
    "g = nyc_traffic_injuries_table[[\n",
    "    'Longitude',\n",
    "    'Latitude',\n",
    "    'Total Injury Count',\n",
    "    'Pedestrian Injury Count',\n",
    "    'Bike Injury Count',\n",
    "    'Motor Vehicle Occupant Injury Count',    \n",
    "]].groupby(['Longitude', 'Latitude'])"
   ]
  },
  {
   "cell_type": "code",
   "execution_count": null,
   "metadata": {
    "collapsed": false
   },
   "outputs": [],
   "source": [
    "import numpy as np\n",
    "g.agg(np.sum).sort(['Total Injury Count'], ascending=False)[:10]\n",
    "# pandas 0.17.0, 0.17.1 fail"
   ]
  },
  {
   "cell_type": "code",
   "execution_count": null,
   "metadata": {
    "collapsed": false
   },
   "outputs": [],
   "source": [
    "# Identify most dangerous by location and month\n",
    "nyc_traffic_injuries_table.sort_values('Total Injury Count', ascending=False)[:10]"
   ]
  },
  {
   "cell_type": "code",
   "execution_count": null,
   "metadata": {
    "collapsed": false
   },
   "outputs": [],
   "source": [
    "# Identify most dangerous by location and year\n",
    "import numpy as np\n",
    "nyc_traffic_injuries_table.sort_values(['Longitude'])"
   ]
  },
  {
   "cell_type": "code",
   "execution_count": null,
   "metadata": {
    "collapsed": true
   },
   "outputs": [],
   "source": [
    "# Find all within radius\n",
    "# Plot histogram"
   ]
  },
  {
   "cell_type": "code",
   "execution_count": null,
   "metadata": {
    "collapsed": true
   },
   "outputs": [],
   "source": [
    "# Predict next month\n",
    "# Predict next year"
   ]
  },
  {
   "cell_type": "code",
   "execution_count": null,
   "metadata": {
    "collapsed": true
   },
   "outputs": [],
   "source": [
    "# Find all where trend is increasing month to month\n",
    "# Find all where trend is increasing year to year"
   ]
  },
  {
   "cell_type": "code",
   "execution_count": null,
   "metadata": {
    "collapsed": true
   },
   "outputs": [],
   "source": [
    "# Cluster into areas\n",
    "# Run trend again"
   ]
  },
  {
   "cell_type": "code",
   "execution_count": null,
   "metadata": {
    "collapsed": true
   },
   "outputs": [],
   "source": [
    "# Map results to png"
   ]
  },
  {
   "cell_type": "code",
   "execution_count": null,
   "metadata": {
    "collapsed": true
   },
   "outputs": [],
   "source": [
    "# Map results to leaflet"
   ]
  },
  {
   "cell_type": "code",
   "execution_count": null,
   "metadata": {
    "collapsed": true
   },
   "outputs": [],
   "source": [
    "# Animate results (what would we animate?)"
   ]
  },
  {
   "cell_type": "code",
   "execution_count": null,
   "metadata": {
    "collapsed": true
   },
   "outputs": [],
   "source": []
  },
  {
   "cell_type": "code",
   "execution_count": null,
   "metadata": {
    "collapsed": true
   },
   "outputs": [],
   "source": [
    "# Given dates, return ranked table of intersections\n",
    "# Okay"
   ]
  },
  {
   "cell_type": "code",
   "execution_count": null,
   "metadata": {
    "collapsed": true
   },
   "outputs": [],
   "source": [
    "# Given dates, address, radius, return ranked table of intersections\n",
    "\n",
    "# filter\n",
    "# \n",
    "\n",
    "# Illustrates kdtree"
   ]
  },
  {
   "cell_type": "code",
   "execution_count": null,
   "metadata": {
    "collapsed": true
   },
   "outputs": [],
   "source": [
    "# Geocode address into latitude and longitude"
   ]
  },
  {
   "cell_type": "code",
   "execution_count": 14,
   "metadata": {
    "collapsed": false
   },
   "outputs": [],
   "source": [
    "from geopy.geocoders import GoogleV3\n",
    "g = GoogleV3()"
   ]
  },
  {
   "cell_type": "code",
   "execution_count": 15,
   "metadata": {
    "collapsed": false
   },
   "outputs": [
    {
     "data": {
      "text/plain": [
       "Location((40.7180139, -74.0138939, 0.0))"
      ]
     },
     "execution_count": 15,
     "metadata": {},
     "output_type": "execute_result"
    }
   ],
   "source": [
    "x = g.geocode('345 Chambers Street, NY, NY')\n",
    "x"
   ]
  },
  {
   "cell_type": "code",
   "execution_count": null,
   "metadata": {
    "collapsed": false
   },
   "outputs": [],
   "source": [
    "x.latitude"
   ]
  },
  {
   "cell_type": "code",
   "execution_count": null,
   "metadata": {
    "collapsed": true
   },
   "outputs": [],
   "source": [
    "# Build kdtree\n",
    "# I can either go direct from longitude latitude or I can convert into a different spatial reference"
   ]
  },
  {
   "cell_type": "code",
   "execution_count": null,
   "metadata": {
    "collapsed": false
   },
   "outputs": [],
   "source": [
    "# Get list of longitude, latitude tuples as required by Arc_KDTree\n",
    "nyc_traffic_injuries_table[['Longitude', 'Latitude']][:3].values"
   ]
  },
  {
   "cell_type": "code",
   "execution_count": 12,
   "metadata": {
    "collapsed": false
   },
   "outputs": [
    {
     "ename": "NameError",
     "evalue": "name 'nyc_traffic_injuries_table' is not defined",
     "output_type": "error",
     "traceback": [
      "\u001b[1;31m---------------------------------------------------------------------------\u001b[0m",
      "\u001b[1;31mNameError\u001b[0m                                 Traceback (most recent call last)",
      "\u001b[1;32m<ipython-input-12-a297e29868c1>\u001b[0m in \u001b[0;36m<module>\u001b[1;34m()\u001b[0m\n\u001b[0;32m      4\u001b[0m \u001b[1;33m\u001b[0m\u001b[0m\n\u001b[0;32m      5\u001b[0m \u001b[1;32mfrom\u001b[0m \u001b[0mpysal\u001b[0m\u001b[1;33m.\u001b[0m\u001b[0mcg\u001b[0m\u001b[1;33m.\u001b[0m\u001b[0mkdtree\u001b[0m \u001b[1;32mimport\u001b[0m \u001b[0mArc_KDTree\u001b[0m\u001b[1;33m\u001b[0m\u001b[0m\n\u001b[1;32m----> 6\u001b[1;33m \u001b[0mtree\u001b[0m \u001b[1;33m=\u001b[0m \u001b[0mArc_KDTree\u001b[0m\u001b[1;33m(\u001b[0m\u001b[0mnyc_traffic_injuries_table\u001b[0m\u001b[1;33m[\u001b[0m\u001b[1;33m[\u001b[0m\u001b[1;34m'Longitude'\u001b[0m\u001b[1;33m,\u001b[0m \u001b[1;34m'Latitude'\u001b[0m\u001b[1;33m]\u001b[0m\u001b[1;33m]\u001b[0m\u001b[1;33m.\u001b[0m\u001b[0mvalues\u001b[0m\u001b[1;33m,\u001b[0m \u001b[0mradius\u001b[0m\u001b[1;33m=\u001b[0m\u001b[0mearth_radius_in_meters\u001b[0m\u001b[1;33m)\u001b[0m\u001b[1;33m\u001b[0m\u001b[0m\n\u001b[0m\u001b[0;32m      7\u001b[0m \u001b[0mtree\u001b[0m\u001b[1;33m\u001b[0m\u001b[0m\n",
      "\u001b[1;31mNameError\u001b[0m: name 'nyc_traffic_injuries_table' is not defined"
     ]
    }
   ],
   "source": [
    "c"
   ]
  },
  {
   "cell_type": "code",
   "execution_count": null,
   "metadata": {
    "collapsed": true
   },
   "outputs": [],
   "source": [
    "Arc_KDTree"
   ]
  },
  {
   "cell_type": "code",
   "execution_count": null,
   "metadata": {
    "collapsed": false
   },
   "outputs": [],
   "source": [
    "nyc_traffic_injury_count = len(nyc_traffic_injuries_table)\n",
    "nyc_traffic_injury_count"
   ]
  },
  {
   "cell_type": "code",
   "execution_count": null,
   "metadata": {
    "collapsed": false
   },
   "outputs": [],
   "source": [
    "distances, indices = tree.query((-74.0138939, 40.7180139), k=3)\n",
    "print distances\n",
    "print indices"
   ]
  },
  {
   "cell_type": "code",
   "execution_count": null,
   "metadata": {
    "collapsed": false
   },
   "outputs": [],
   "source": [
    "nyc_traffic_injuries_table.ix[indices]"
   ]
  },
  {
   "cell_type": "code",
   "execution_count": null,
   "metadata": {
    "collapsed": false
   },
   "outputs": [],
   "source": [
    "indices = tree.query_ball_point((x.longitude, x.latitude), r=100)\n",
    "nyc_traffic_injuries_table.ix[indices]"
   ]
  },
  {
   "cell_type": "code",
   "execution_count": null,
   "metadata": {
    "collapsed": true
   },
   "outputs": [],
   "source": [
    "# Get all injuries within 100 meter radius\n",
    "# Rank"
   ]
  },
  {
   "cell_type": "code",
   "execution_count": 16,
   "metadata": {
    "collapsed": false
   },
   "outputs": [
    {
     "data": {
      "text/plain": [
       "74"
      ]
     },
     "execution_count": 16,
     "metadata": {},
     "output_type": "execute_result"
    }
   ],
   "source": [
    "# Generate histogram\n",
    "indices = tree.query_ball_point((x.longitude, x.latitude), r=200)\n",
    "len(indices)"
   ]
  },
  {
   "cell_type": "code",
   "execution_count": 18,
   "metadata": {
    "collapsed": false
   },
   "outputs": [
    {
     "data": {
      "text/html": [
       "<div>\n",
       "<table border=\"1\" class=\"dataframe\">\n",
       "  <thead>\n",
       "    <tr style=\"text-align: right;\">\n",
       "      <th></th>\n",
       "      <th>Longitude</th>\n",
       "      <th>Latitude</th>\n",
       "      <th>Year</th>\n",
       "      <th>Month</th>\n",
       "      <th>Total Injury Count</th>\n",
       "      <th>Pedestrian Injury Count</th>\n",
       "      <th>Bike Injury Count</th>\n",
       "      <th>Motor Vehicle Occupant Injury Count</th>\n",
       "    </tr>\n",
       "  </thead>\n",
       "  <tbody>\n",
       "    <tr>\n",
       "      <th>13132</th>\n",
       "      <td>-74.012441</td>\n",
       "      <td>40.719058</td>\n",
       "      <td>2014</td>\n",
       "      <td>1</td>\n",
       "      <td>1</td>\n",
       "      <td>0</td>\n",
       "      <td>0</td>\n",
       "      <td>1</td>\n",
       "    </tr>\n",
       "    <tr>\n",
       "      <th>32595</th>\n",
       "      <td>-74.012441</td>\n",
       "      <td>40.719058</td>\n",
       "      <td>2011</td>\n",
       "      <td>11</td>\n",
       "      <td>1</td>\n",
       "      <td>0</td>\n",
       "      <td>0</td>\n",
       "      <td>1</td>\n",
       "    </tr>\n",
       "    <tr>\n",
       "      <th>37680</th>\n",
       "      <td>-74.012441</td>\n",
       "      <td>40.719058</td>\n",
       "      <td>2013</td>\n",
       "      <td>11</td>\n",
       "      <td>1</td>\n",
       "      <td>0</td>\n",
       "      <td>0</td>\n",
       "      <td>1</td>\n",
       "    </tr>\n",
       "    <tr>\n",
       "      <th>99838</th>\n",
       "      <td>-74.012441</td>\n",
       "      <td>40.719058</td>\n",
       "      <td>2012</td>\n",
       "      <td>5</td>\n",
       "      <td>1</td>\n",
       "      <td>0</td>\n",
       "      <td>0</td>\n",
       "      <td>1</td>\n",
       "    </tr>\n",
       "    <tr>\n",
       "      <th>151679</th>\n",
       "      <td>-74.012441</td>\n",
       "      <td>40.719058</td>\n",
       "      <td>2014</td>\n",
       "      <td>8</td>\n",
       "      <td>1</td>\n",
       "      <td>0</td>\n",
       "      <td>0</td>\n",
       "      <td>1</td>\n",
       "    </tr>\n",
       "  </tbody>\n",
       "</table>\n",
       "</div>"
      ],
      "text/plain": [
       "        Longitude   Latitude  Year  Month  Total Injury Count  \\\n",
       "13132  -74.012441  40.719058  2014      1                   1   \n",
       "32595  -74.012441  40.719058  2011     11                   1   \n",
       "37680  -74.012441  40.719058  2013     11                   1   \n",
       "99838  -74.012441  40.719058  2012      5                   1   \n",
       "151679 -74.012441  40.719058  2014      8                   1   \n",
       "\n",
       "        Pedestrian Injury Count  Bike Injury Count  \\\n",
       "13132                         0                  0   \n",
       "32595                         0                  0   \n",
       "37680                         0                  0   \n",
       "99838                         0                  0   \n",
       "151679                        0                  0   \n",
       "\n",
       "        Motor Vehicle Occupant Injury Count  \n",
       "13132                                     1  \n",
       "32595                                     1  \n",
       "37680                                     1  \n",
       "99838                                     1  \n",
       "151679                                    1  "
      ]
     },
     "execution_count": 18,
     "metadata": {},
     "output_type": "execute_result"
    }
   ],
   "source": [
    "nyc_traffic_injuries_table.ix[indices][:5]\n",
    "# Make month histogram based on total injury count\n",
    "# Make line graphs based on various injury counts\n",
    "# Make injury count histogram"
   ]
  },
  {
   "cell_type": "code",
   "execution_count": 19,
   "metadata": {
    "collapsed": false
   },
   "outputs": [
    {
     "data": {
      "text/plain": [
       "74"
      ]
     },
     "execution_count": 19,
     "metadata": {},
     "output_type": "execute_result"
    }
   ],
   "source": [
    "selected_nyc_traffic_injuries_table = nyc_traffic_injuries_table.ix[indices]\n",
    "len(selected_nyc_traffic_injuries_table)"
   ]
  },
  {
   "cell_type": "code",
   "execution_count": 53,
   "metadata": {
    "collapsed": false
   },
   "outputs": [
    {
     "data": {
      "text/html": [
       "<div>\n",
       "<table border=\"1\" class=\"dataframe\">\n",
       "  <thead>\n",
       "    <tr style=\"text-align: right;\">\n",
       "      <th></th>\n",
       "      <th>Longitude</th>\n",
       "      <th>Latitude</th>\n",
       "      <th>Year</th>\n",
       "      <th>Month</th>\n",
       "      <th>Total Injury Count</th>\n",
       "      <th>Pedestrian Injury Count</th>\n",
       "      <th>Bike Injury Count</th>\n",
       "      <th>Motor Vehicle Occupant Injury Count</th>\n",
       "    </tr>\n",
       "  </thead>\n",
       "  <tbody>\n",
       "    <tr>\n",
       "      <th>1035</th>\n",
       "      <td>-74.012867</td>\n",
       "      <td>40.717176</td>\n",
       "      <td>2009</td>\n",
       "      <td>1</td>\n",
       "      <td>1</td>\n",
       "      <td>1</td>\n",
       "      <td>0</td>\n",
       "      <td>0</td>\n",
       "    </tr>\n",
       "    <tr>\n",
       "      <th>64121</th>\n",
       "      <td>-74.012867</td>\n",
       "      <td>40.717176</td>\n",
       "      <td>2009</td>\n",
       "      <td>3</td>\n",
       "      <td>1</td>\n",
       "      <td>0</td>\n",
       "      <td>1</td>\n",
       "      <td>0</td>\n",
       "    </tr>\n",
       "    <tr>\n",
       "      <th>107811</th>\n",
       "      <td>-74.012867</td>\n",
       "      <td>40.717176</td>\n",
       "      <td>2009</td>\n",
       "      <td>6</td>\n",
       "      <td>1</td>\n",
       "      <td>1</td>\n",
       "      <td>0</td>\n",
       "      <td>0</td>\n",
       "    </tr>\n",
       "    <tr>\n",
       "      <th>124043</th>\n",
       "      <td>-74.012867</td>\n",
       "      <td>40.717176</td>\n",
       "      <td>2009</td>\n",
       "      <td>7</td>\n",
       "      <td>2</td>\n",
       "      <td>0</td>\n",
       "      <td>0</td>\n",
       "      <td>2</td>\n",
       "    </tr>\n",
       "    <tr>\n",
       "      <th>139362</th>\n",
       "      <td>-74.012867</td>\n",
       "      <td>40.717176</td>\n",
       "      <td>2009</td>\n",
       "      <td>8</td>\n",
       "      <td>3</td>\n",
       "      <td>0</td>\n",
       "      <td>0</td>\n",
       "      <td>3</td>\n",
       "    </tr>\n",
       "  </tbody>\n",
       "</table>\n",
       "</div>"
      ],
      "text/plain": [
       "        Longitude   Latitude  Year  Month  Total Injury Count  \\\n",
       "1035   -74.012867  40.717176  2009      1                   1   \n",
       "64121  -74.012867  40.717176  2009      3                   1   \n",
       "107811 -74.012867  40.717176  2009      6                   1   \n",
       "124043 -74.012867  40.717176  2009      7                   2   \n",
       "139362 -74.012867  40.717176  2009      8                   3   \n",
       "\n",
       "        Pedestrian Injury Count  Bike Injury Count  \\\n",
       "1035                          1                  0   \n",
       "64121                         0                  1   \n",
       "107811                        1                  0   \n",
       "124043                        0                  0   \n",
       "139362                        0                  0   \n",
       "\n",
       "        Motor Vehicle Occupant Injury Count  \n",
       "1035                                      0  \n",
       "64121                                     0  \n",
       "107811                                    0  \n",
       "124043                                    2  \n",
       "139362                                    3  "
      ]
     },
     "execution_count": 53,
     "metadata": {},
     "output_type": "execute_result"
    }
   ],
   "source": [
    "sorted_nyc_traffic_injuries = selected_nyc_traffic_injuries_table.sort(['Year', 'Month'])\n",
    "sorted_nyc_traffic_injuries[:5]"
   ]
  },
  {
   "cell_type": "code",
   "execution_count": 62,
   "metadata": {
    "collapsed": false
   },
   "outputs": [
    {
     "data": {
      "text/html": [
       "<div>\n",
       "<table border=\"1\" class=\"dataframe\">\n",
       "  <thead>\n",
       "    <tr style=\"text-align: right;\">\n",
       "      <th></th>\n",
       "      <th></th>\n",
       "      <th>Total Injury Count</th>\n",
       "    </tr>\n",
       "    <tr>\n",
       "      <th>Year</th>\n",
       "      <th>Month</th>\n",
       "      <th></th>\n",
       "    </tr>\n",
       "  </thead>\n",
       "  <tbody>\n",
       "    <tr>\n",
       "      <th rowspan=\"5\" valign=\"top\">2009</th>\n",
       "      <th>1</th>\n",
       "      <td>1</td>\n",
       "    </tr>\n",
       "    <tr>\n",
       "      <th>3</th>\n",
       "      <td>1</td>\n",
       "    </tr>\n",
       "    <tr>\n",
       "      <th>6</th>\n",
       "      <td>1</td>\n",
       "    </tr>\n",
       "    <tr>\n",
       "      <th>7</th>\n",
       "      <td>2</td>\n",
       "    </tr>\n",
       "    <tr>\n",
       "      <th>8</th>\n",
       "      <td>3</td>\n",
       "    </tr>\n",
       "  </tbody>\n",
       "</table>\n",
       "</div>"
      ],
      "text/plain": [
       "            Total Injury Count\n",
       "Year Month                    \n",
       "2009 1                       1\n",
       "     3                       1\n",
       "     6                       1\n",
       "     7                       2\n",
       "     8                       3"
      ]
     },
     "execution_count": 62,
     "metadata": {},
     "output_type": "execute_result"
    }
   ],
   "source": [
    "import numpy as np\n",
    "grouped_nyc_traffic_injuries = sorted_nyc_traffic_injuries.groupby(['Year', 'Month']).aggregate({'Total Injury Count': np.sum})\n",
    "grouped_nyc_traffic_injuries[:5]"
   ]
  },
  {
   "cell_type": "code",
   "execution_count": 67,
   "metadata": {
    "collapsed": false
   },
   "outputs": [
    {
     "data": {
      "text/plain": [
       "Total Injury Count    1\n",
       "Name: (2009, 1), dtype: int64"
      ]
     },
     "execution_count": 67,
     "metadata": {},
     "output_type": "execute_result"
    }
   ],
   "source": [
    "grouped_nyc_traffic_injuries.ix[(2009, 1)]"
   ]
  },
  {
   "cell_type": "code",
   "execution_count": 71,
   "metadata": {
    "collapsed": false
   },
   "outputs": [
    {
     "data": {
      "text/plain": [
       "(2009, 1)"
      ]
     },
     "execution_count": 71,
     "metadata": {},
     "output_type": "execute_result"
    }
   ],
   "source": [
    "grouped_nyc_traffic_injuries.index[0]"
   ]
  },
  {
   "cell_type": "code",
   "execution_count": 76,
   "metadata": {
    "collapsed": false
   },
   "outputs": [
    {
     "data": {
      "text/plain": [
       "[('2009-01', 1),\n",
       " ('2009-03', 1),\n",
       " ('2009-06', 1),\n",
       " ('2009-07', 2),\n",
       " ('2009-08', 3)]"
      ]
     },
     "execution_count": 76,
     "metadata": {},
     "output_type": "execute_result"
    }
   ],
   "source": [
    "packs = [('%d-%02d' % index, row['Total Injury Count']) for index, row in grouped_nyc_traffic_injuries.iterrows()]\n",
    "packs[:5]"
   ]
  },
  {
   "cell_type": "code",
   "execution_count": 78,
   "metadata": {
    "collapsed": false
   },
   "outputs": [],
   "source": [
    "xs, ys = zip(*packs)"
   ]
  },
  {
   "cell_type": "code",
   "execution_count": 79,
   "metadata": {
    "collapsed": false
   },
   "outputs": [
    {
     "name": "stdout",
     "output_type": "stream",
     "text": [
      "('2009-01', '2009-03', '2009-06')\n",
      "(1, 1, 1)\n"
     ]
    }
   ],
   "source": [
    "print xs[:3]\n",
    "print ys[:3]"
   ]
  },
  {
   "cell_type": "code",
   "execution_count": null,
   "metadata": {
    "collapsed": true
   },
   "outputs": [],
   "source": [
    "%matplotlib inline"
   ]
  },
  {
   "cell_type": "code",
   "execution_count": 88,
   "metadata": {
    "collapsed": false
   },
   "outputs": [
    {
     "data": {
      "image/png": "[encoded data removed]",
      "text/plain": [
       "<matplotlib.figure.Figure at 0x7fa03f1f1a10>"
      ]
     },
     "metadata": {},
     "output_type": "display_data"
    }
   ],
   "source": [
    "# Make month histogram based on total injury count\n",
    "fig = plt.figure(figsize=(24, 2))\n",
    "ax = plt.subplot(111)\n",
    "ax.bar(range(len(xs)), ys)\n",
    "ax.set_xticks(np.arange(len(xs)))\n",
    "ax.set_xticklabels(xs, rotation=45);"
   ]
  },
  {
   "cell_type": "code",
   "execution_count": 89,
   "metadata": {
    "collapsed": true
   },
   "outputs": [],
   "source": [
    "# Make line graphs based on various injury counts"
   ]
  },
  {
   "cell_type": "code",
   "execution_count": 113,
   "metadata": {
    "collapsed": false
   },
   "outputs": [
    {
     "data": {
      "text/html": [
       "<div>\n",
       "<table border=\"1\" class=\"dataframe\">\n",
       "  <thead>\n",
       "    <tr style=\"text-align: right;\">\n",
       "      <th></th>\n",
       "      <th></th>\n",
       "      <th>Bike Injury Count</th>\n",
       "      <th>Pedestrian Injury Count</th>\n",
       "      <th>Motor Vehicle Occupant Injury Count</th>\n",
       "    </tr>\n",
       "    <tr>\n",
       "      <th>Year</th>\n",
       "      <th>Month</th>\n",
       "      <th></th>\n",
       "      <th></th>\n",
       "      <th></th>\n",
       "    </tr>\n",
       "  </thead>\n",
       "  <tbody>\n",
       "    <tr>\n",
       "      <th rowspan=\"3\" valign=\"top\">2009</th>\n",
       "      <th>1</th>\n",
       "      <td>0</td>\n",
       "      <td>1</td>\n",
       "      <td>0</td>\n",
       "    </tr>\n",
       "    <tr>\n",
       "      <th>3</th>\n",
       "      <td>1</td>\n",
       "      <td>0</td>\n",
       "      <td>0</td>\n",
       "    </tr>\n",
       "    <tr>\n",
       "      <th>6</th>\n",
       "      <td>0</td>\n",
       "      <td>1</td>\n",
       "      <td>0</td>\n",
       "    </tr>\n",
       "  </tbody>\n",
       "</table>\n",
       "</div>"
      ],
      "text/plain": [
       "            Bike Injury Count  Pedestrian Injury Count  \\\n",
       "Year Month                                               \n",
       "2009 1                      0                        1   \n",
       "     3                      1                        0   \n",
       "     6                      0                        1   \n",
       "\n",
       "            Motor Vehicle Occupant Injury Count  \n",
       "Year Month                                       \n",
       "2009 1                                        0  \n",
       "     3                                        0  \n",
       "     6                                        0  "
      ]
     },
     "execution_count": 113,
     "metadata": {},
     "output_type": "execute_result"
    }
   ],
   "source": [
    "grouped_nyc_traffic_injuries = sorted_nyc_traffic_injuries.groupby(['Year', 'Month']).aggregate({\n",
    "    'Pedestrian Injury Count': np.sum,\n",
    "    'Bike Injury Count': np.sum,\n",
    "    'Motor Vehicle Occupant Injury Count': np.sum})\n",
    "grouped_nyc_traffic_injuries[:3]"
   ]
  },
  {
   "cell_type": "code",
   "execution_count": 116,
   "metadata": {
    "collapsed": false
   },
   "outputs": [
    {
     "data": {
      "text/plain": [
       "MultiIndex(levels=[[2009, 2010, 2011, 2012, 2013, 2014, 2015], [1, 2, 3, 4, 5, 6, 7, 8, 9, 10, 11, 12]],\n",
       "           labels=[[0, 0, 0, 0, 0, 0, 0, 1, 1, 1, 1, 1, 1, 2, 2, 2, 2, 2, 3, 3, 3, 3, 3, 3, 3, 3, 3, 4, 4, 4, 4, 4, 4, 4, 4, 5, 5, 5, 5, 5, 5, 5, 5, 5, 5, 5, 6, 6, 6, 6, 6, 6, 6], [0, 2, 5, 6, 7, 8, 11, 3, 4, 5, 6, 7, 9, 1, 2, 9, 10, 11, 0, 3, 4, 5, 6, 7, 8, 9, 11, 0, 1, 3, 4, 6, 7, 8, 10, 0, 1, 2, 3, 4, 5, 6, 7, 8, 9, 11, 0, 3, 4, 5, 6, 8, 9]],\n",
       "           names=[u'Year', u'Month'])"
      ]
     },
     "execution_count": 116,
     "metadata": {},
     "output_type": "execute_result"
    }
   ],
   "source": [
    "grouped_nyc_traffic_injuries.index"
   ]
  },
  {
   "cell_type": "code",
   "execution_count": 121,
   "metadata": {
    "collapsed": false
   },
   "outputs": [
    {
     "data": {
      "image/png": "[encoded data removed]",
      "text/plain": [
       "<matplotlib.figure.Figure at 0x7fa03ab4e050>"
      ]
     },
     "metadata": {},
     "output_type": "display_data"
    }
   ],
   "source": [
    "# Make month histogram based on total injury count\n",
    "fig = plt.figure(figsize=(24, 2))\n",
    "ax = plt.subplot(111)\n",
    "xs = ['%d-%02d' % x for x in grouped_nyc_traffic_injuries.index]\n",
    "ax.bar(range(len(xs)), grouped_nyc_traffic_injuries['Pedestrian Injury Count'].values, color='r')\n",
    "ax.bar(range(len(xs)), grouped_nyc_traffic_injuries['Bike Injury Count'].values, color='g')\n",
    "ax.bar(range(len(xs)), grouped_nyc_traffic_injuries['Motor Vehicle Occupant Injury Count'].values, color='b')\n",
    "ax.set_xticks(np.arange(len(xs)))\n",
    "ax.set_xticklabels(xs, rotation=45);"
   ]
  },
  {
   "cell_type": "code",
   "execution_count": 130,
   "metadata": {
    "collapsed": false
   },
   "outputs": [],
   "source": [
    "filtered_nyc_traffic_injuries = grouped_nyc_traffic_injuries['Pedestrian Injury Count'][grouped_nyc_traffic_injuries['Pedestrian Injury Count'] > 0]"
   ]
  },
  {
   "cell_type": "code",
   "execution_count": 133,
   "metadata": {
    "collapsed": false
   },
   "outputs": [
    {
     "data": {
      "text/plain": [
       "Year  Month\n",
       "2009  1        1\n",
       "      6        1\n",
       "      9        1\n",
       "2010  8        2\n",
       "2011  2        1\n",
       "      10       1\n",
       "      11       1\n",
       "2012  4        1\n",
       "      6        2\n",
       "      10       1\n",
       "2013  1        1\n",
       "      2        1\n",
       "      9        1\n",
       "      11       1\n",
       "2014  2        1\n",
       "      6        1\n",
       "      7        1\n",
       "      10       2\n",
       "2015  5        1\n",
       "      7        1\n",
       "      10       1\n",
       "Name: Pedestrian Injury Count, dtype: int64"
      ]
     },
     "execution_count": 133,
     "metadata": {},
     "output_type": "execute_result"
    }
   ],
   "source": [
    "filtered_nyc_traffic_injuries"
   ]
  },
  {
   "cell_type": "code",
   "execution_count": 131,
   "metadata": {
    "collapsed": false
   },
   "outputs": [
    {
     "data": {
      "text/plain": [
       "[datetime.date(2009, 1, 1),\n",
       " datetime.date(2009, 6, 1),\n",
       " datetime.date(2009, 9, 1),\n",
       " datetime.date(2010, 8, 1),\n",
       " datetime.date(2011, 2, 1)]"
      ]
     },
     "execution_count": 131,
     "metadata": {},
     "output_type": "execute_result"
    }
   ],
   "source": [
    "import datetime\n",
    "xs = [datetime.date(y, m, 1) for y, m in filtered_nyc_traffic_injuries.index]\n",
    "xs[:5]"
   ]
  },
  {
   "cell_type": "code",
   "execution_count": 134,
   "metadata": {
    "collapsed": false
   },
   "outputs": [
    {
     "data": {
      "text/plain": [
       "array([1, 1, 1, 2, 1])"
      ]
     },
     "execution_count": 134,
     "metadata": {},
     "output_type": "execute_result"
    }
   ],
   "source": [
    "ys = filtered_nyc_traffic_injuries.values\n",
    "ys[:5]"
   ]
  },
  {
   "cell_type": "code",
   "execution_count": null,
   "metadata": {
    "collapsed": true
   },
   "outputs": [],
   "source": []
  },
  {
   "cell_type": "code",
   "execution_count": 148,
   "metadata": {
    "collapsed": false
   },
   "outputs": [
    {
     "data": {
      "image/png": "[encoded data removed]",
      "text/plain": [
       "<matplotlib.figure.Figure at 0x7fa03a5c5250>"
      ]
     },
     "metadata": {},
     "output_type": "display_data"
    }
   ],
   "source": [
    "import matplotlib.pyplot as plt\n",
    "import matplotlib.dates as mdates\n",
    "import matplotlib.cbook as cbook\n",
    "\n",
    "years = mdates.YearLocator()   # every year\n",
    "months = mdates.MonthLocator()  # every month\n",
    "yearsFmt = mdates.DateFormatter('%Y')\n",
    "\n",
    "fig = plt.figure(figsize=(24, 2))\n",
    "ax = plt.subplot(111)\n",
    "ax.bar(xs, ys)\n",
    "\n",
    "# format the ticks\n",
    "ax.xaxis.set_major_locator(years)\n",
    "ax.xaxis.set_major_formatter(yearsFmt)\n",
    "ax.xaxis.set_minor_locator(months)"
   ]
  },
  {
   "cell_type": "code",
   "execution_count": null,
   "metadata": {
    "collapsed": true
   },
   "outputs": [],
   "source": []
  },
  {
   "cell_type": "code",
   "execution_count": null,
   "metadata": {
    "collapsed": true
   },
   "outputs": [],
   "source": []
  },
  {
   "cell_type": "code",
   "execution_count": 90,
   "metadata": {
    "collapsed": true
   },
   "outputs": [],
   "source": [
    "# Make injury count histogram"
   ]
  },
  {
   "cell_type": "code",
   "execution_count": 94,
   "metadata": {
    "collapsed": false
   },
   "outputs": [
    {
     "data": {
      "text/plain": [
       "Pedestrian Injury Count                24\n",
       "Bike Injury Count                      27\n",
       "Motor Vehicle Occupant Injury Count    46\n",
       "dtype: int64"
      ]
     },
     "execution_count": 94,
     "metadata": {},
     "output_type": "execute_result"
    }
   ],
   "source": [
    "t = selected_nyc_traffic_injuries_table[['Pedestrian Injury Count', 'Bike Injury Count', 'Motor Vehicle Occupant Injury Count']].sum()\n",
    "t"
   ]
  },
  {
   "cell_type": "code",
   "execution_count": 104,
   "metadata": {
    "collapsed": false
   },
   "outputs": [
    {
     "data": {
      "image/png": "[encoded data removed]",
      "text/plain": [
       "<matplotlib.figure.Figure at 0x7fa03a5a4510>"
      ]
     },
     "metadata": {},
     "output_type": "display_data"
    }
   ],
   "source": [
    "fig = plt.figure()\n",
    "ax = plt.subplot(111)\n",
    "xs = [x.replace(' Injury Count', '') for x in t.index]\n",
    "ys = t.values\n",
    "ax.bar(range(len(xs)), ys, align='center')\n",
    "ax.set_xticks(np.arange(len(xs)))\n",
    "ax.set_xticklabels(xs);"
   ]
  },
  {
   "cell_type": "code",
   "execution_count": null,
   "metadata": {
    "collapsed": true
   },
   "outputs": [],
   "source": []
  },
  {
   "cell_type": "code",
   "execution_count": null,
   "metadata": {
    "collapsed": true
   },
   "outputs": [],
   "source": [
    "# Given dates, addresses, return ranked table within bounding box\n",
    "# Show histogram"
   ]
  },
  {
   "cell_type": "code",
   "execution_count": null,
   "metadata": {
    "collapsed": true
   },
   "outputs": [],
   "source": []
  },
  {
   "cell_type": "code",
   "execution_count": null,
   "metadata": {
    "collapsed": true
   },
   "outputs": [],
   "source": [
    "# Filter by bounding box\n",
    "# I think we use rtree here\n",
    "# but in that case, we'll have to convert lng/lat into x/y using nyc spatial reference"
   ]
  },
  {
   "cell_type": "code",
   "execution_count": 149,
   "metadata": {
    "collapsed": true
   },
   "outputs": [],
   "source": [
    "from rtree.index import Index"
   ]
  },
  {
   "cell_type": "code",
   "execution_count": 150,
   "metadata": {
    "collapsed": true
   },
   "outputs": [],
   "source": [
    "index = Index()"
   ]
  },
  {
   "cell_type": "code",
   "execution_count": null,
   "metadata": {
    "collapsed": true
   },
   "outputs": [],
   "source": [
    "index.insert"
   ]
  },
  {
   "cell_type": "code",
   "execution_count": 151,
   "metadata": {
    "collapsed": false
   },
   "outputs": [
    {
     "data": {
      "text/html": [
       "<div>\n",
       "<table border=\"1\" class=\"dataframe\">\n",
       "  <thead>\n",
       "    <tr style=\"text-align: right;\">\n",
       "      <th></th>\n",
       "      <th>Longitude</th>\n",
       "      <th>Latitude</th>\n",
       "      <th>Year</th>\n",
       "      <th>Month</th>\n",
       "      <th>Total Injury Count</th>\n",
       "      <th>Pedestrian Injury Count</th>\n",
       "      <th>Bike Injury Count</th>\n",
       "      <th>Motor Vehicle Occupant Injury Count</th>\n",
       "    </tr>\n",
       "  </thead>\n",
       "  <tbody>\n",
       "    <tr>\n",
       "      <th>0</th>\n",
       "      <td>-73.791745</td>\n",
       "      <td>40.725789</td>\n",
       "      <td>2009</td>\n",
       "      <td>1</td>\n",
       "      <td>2</td>\n",
       "      <td>1</td>\n",
       "      <td>0</td>\n",
       "      <td>1</td>\n",
       "    </tr>\n",
       "    <tr>\n",
       "      <th>1</th>\n",
       "      <td>-73.882429</td>\n",
       "      <td>40.844981</td>\n",
       "      <td>2009</td>\n",
       "      <td>1</td>\n",
       "      <td>1</td>\n",
       "      <td>1</td>\n",
       "      <td>0</td>\n",
       "      <td>0</td>\n",
       "    </tr>\n",
       "    <tr>\n",
       "      <th>2</th>\n",
       "      <td>-73.979058</td>\n",
       "      <td>40.744444</td>\n",
       "      <td>2009</td>\n",
       "      <td>1</td>\n",
       "      <td>2</td>\n",
       "      <td>2</td>\n",
       "      <td>0</td>\n",
       "      <td>0</td>\n",
       "    </tr>\n",
       "    <tr>\n",
       "      <th>3</th>\n",
       "      <td>-74.091345</td>\n",
       "      <td>40.602425</td>\n",
       "      <td>2009</td>\n",
       "      <td>1</td>\n",
       "      <td>1</td>\n",
       "      <td>0</td>\n",
       "      <td>0</td>\n",
       "      <td>1</td>\n",
       "    </tr>\n",
       "    <tr>\n",
       "      <th>4</th>\n",
       "      <td>-73.862774</td>\n",
       "      <td>40.840381</td>\n",
       "      <td>2009</td>\n",
       "      <td>1</td>\n",
       "      <td>2</td>\n",
       "      <td>0</td>\n",
       "      <td>0</td>\n",
       "      <td>2</td>\n",
       "    </tr>\n",
       "  </tbody>\n",
       "</table>\n",
       "</div>"
      ],
      "text/plain": [
       "   Longitude   Latitude  Year  Month  Total Injury Count  \\\n",
       "0 -73.791745  40.725789  2009      1                   2   \n",
       "1 -73.882429  40.844981  2009      1                   1   \n",
       "2 -73.979058  40.744444  2009      1                   2   \n",
       "3 -74.091345  40.602425  2009      1                   1   \n",
       "4 -73.862774  40.840381  2009      1                   2   \n",
       "\n",
       "   Pedestrian Injury Count  Bike Injury Count  \\\n",
       "0                        1                  0   \n",
       "1                        1                  0   \n",
       "2                        2                  0   \n",
       "3                        0                  0   \n",
       "4                        0                  0   \n",
       "\n",
       "   Motor Vehicle Occupant Injury Count  \n",
       "0                                    1  \n",
       "1                                    0  \n",
       "2                                    0  \n",
       "3                                    1  \n",
       "4                                    2  "
      ]
     },
     "execution_count": 151,
     "metadata": {},
     "output_type": "execute_result"
    }
   ],
   "source": [
    "\"\"\"\n",
    "for index, row in nyc_traffic_injuries_table.iterrows():\n",
    "    index.insert(index, )\n",
    "nyc_traffic_injuries_table[:5]\n",
    "\"\"\""
   ]
  },
  {
   "cell_type": "code",
   "execution_count": null,
   "metadata": {
    "collapsed": true
   },
   "outputs": [],
   "source": [
    "# I don't think we need to do this if we render geotable as map or geoimage heat map"
   ]
  },
  {
   "cell_type": "code",
   "execution_count": 2,
   "metadata": {
    "collapsed": true
   },
   "outputs": [],
   "source": [
    "import numpy as np"
   ]
  },
  {
   "cell_type": "code",
   "execution_count": null,
   "metadata": {
    "collapsed": true
   },
   "outputs": [],
   "source": [
    "# Given dates, addresses, mode of transport, return ranked routes"
   ]
  },
  {
   "cell_type": "code",
   "execution_count": null,
   "metadata": {
    "collapsed": true
   },
   "outputs": [],
   "source": [
    "# Call directions api"
   ]
  },
  {
   "cell_type": "code",
   "execution_count": null,
   "metadata": {
    "collapsed": true
   },
   "outputs": [],
   "source": [
    "# Given dates, target date, project trends for each location\n",
    "# Illustrates basic trend forecasting\n",
    "# Let's aggregate by year"
   ]
  },
  {
   "cell_type": "code",
   "execution_count": null,
   "metadata": {
    "collapsed": true
   },
   "outputs": [],
   "source": [
    "# Since accidents are a stochastic event, let's convert them into probabilities?\n",
    "# No, I think counts are fine"
   ]
  },
  {
   "cell_type": "code",
   "execution_count": 34,
   "metadata": {
    "collapsed": false
   },
   "outputs": [],
   "source": [
    "import numpy as np\n",
    "grouped_nyc_traffic_injuries = nyc_traffic_injuries_table.groupby(['Longitude', 'Latitude', 'Year'])\n",
    "filtered_nyc_traffic_injuries_table = grouped_nyc_traffic_injuries.filter(lambda x: len(x) > 1)"
   ]
  },
  {
   "cell_type": "code",
   "execution_count": 33,
   "metadata": {
    "collapsed": false
   },
   "outputs": [
    {
     "name": "stdout",
     "output_type": "stream",
     "text": [
      "   A  B\n",
      "0  0  a\n",
      "1  1  b\n",
      "2  2  b\n",
      "3  3  b\n",
      "4  4  c\n",
      "5  5  c\n",
      "   A  B\n",
      "1  1  b\n",
      "2  2  b\n",
      "3  3  b\n",
      "4  4  c\n",
      "5  5  c\n",
      "{'a': [0], 'c': [4, 5], 'b': [1, 2, 3]}\n"
     ]
    }
   ],
   "source": [
    "from pandas import DataFrame\n",
    "df = DataFrame({'A': np.arange(6), 'B': list('abbbcc')})\n",
    "print df\n",
    "print df.groupby('B').filter(lambda x: len(x) > 1)\n",
    "print df.groupby('B').groups"
   ]
  },
  {
   "cell_type": "code",
   "execution_count": null,
   "metadata": {
    "collapsed": true
   },
   "outputs": [],
   "source": []
  },
  {
   "cell_type": "code",
   "execution_count": 23,
   "metadata": {
    "collapsed": false
   },
   "outputs": [
    {
     "data": {
      "text/plain": [
       "2015"
      ]
     },
     "execution_count": 23,
     "metadata": {},
     "output_type": "execute_result"
    }
   ],
   "source": [
    "nyc_traffic_injuries_table['Year'].max()"
   ]
  },
  {
   "cell_type": "code",
   "execution_count": 24,
   "metadata": {
    "collapsed": false
   },
   "outputs": [
    {
     "data": {
      "text/plain": [
       "2009"
      ]
     },
     "execution_count": 24,
     "metadata": {},
     "output_type": "execute_result"
    }
   ],
   "source": [
    "nyc_traffic_injuries_table['Year'].min()"
   ]
  },
  {
   "cell_type": "code",
   "execution_count": 31,
   "metadata": {
    "collapsed": false
   },
   "outputs": [],
   "source": [
    "xs = ['%d%02d' % (y, m) for y, m in nyc_traffic_injuries_table[['Year', 'Month']].values]"
   ]
  },
  {
   "cell_type": "code",
   "execution_count": 32,
   "metadata": {
    "collapsed": false
   },
   "outputs": [
    {
     "data": {
      "text/plain": [
       "'200901'"
      ]
     },
     "execution_count": 32,
     "metadata": {},
     "output_type": "execute_result"
    }
   ],
   "source": [
    "min(xs)"
   ]
  },
  {
   "cell_type": "code",
   "execution_count": 33,
   "metadata": {
    "collapsed": false
   },
   "outputs": [
    {
     "data": {
      "text/plain": [
       "'201510'"
      ]
     },
     "execution_count": 33,
     "metadata": {},
     "output_type": "execute_result"
    }
   ],
   "source": [
    "max(xs)"
   ]
  },
  {
   "cell_type": "code",
   "execution_count": 1,
   "metadata": {
    "collapsed": false
   },
   "outputs": [
    {
     "data": {
      "text/html": [
       "<div>\n",
       "<table border=\"1\" class=\"dataframe\">\n",
       "  <thead>\n",
       "    <tr style=\"text-align: right;\">\n",
       "      <th></th>\n",
       "      <th>Count</th>\n",
       "    </tr>\n",
       "    <tr>\n",
       "      <th>Period</th>\n",
       "      <th></th>\n",
       "    </tr>\n",
       "  </thead>\n",
       "  <tbody>\n",
       "    <tr>\n",
       "      <th>2009-01</th>\n",
       "      <td>10</td>\n",
       "    </tr>\n",
       "    <tr>\n",
       "      <th>2009-04</th>\n",
       "      <td>5</td>\n",
       "    </tr>\n",
       "    <tr>\n",
       "      <th>2009-11</th>\n",
       "      <td>8</td>\n",
       "    </tr>\n",
       "  </tbody>\n",
       "</table>\n",
       "</div>"
      ],
      "text/plain": [
       "         Count\n",
       "Period        \n",
       "2009-01     10\n",
       "2009-04      5\n",
       "2009-11      8"
      ]
     },
     "execution_count": 1,
     "metadata": {},
     "output_type": "execute_result"
    }
   ],
   "source": [
    "from pandas import DataFrame, Period\n",
    "df = DataFrame([\n",
    "    (Period(year=2009, month=1, freq='M'), 10),\n",
    "    (Period(year=2009, month=4, freq='M'), 5),\n",
    "    (Period(year=2009, month=11, freq='M'), 8),\n",
    "], columns=['Period', 'Count'])\n",
    "df = df.set_index('Period')\n",
    "df"
   ]
  },
  {
   "cell_type": "code",
   "execution_count": 15,
   "metadata": {
    "collapsed": false
   },
   "outputs": [
    {
     "data": {
      "text/html": [
       "<div>\n",
       "<table border=\"1\" class=\"dataframe\">\n",
       "  <thead>\n",
       "    <tr style=\"text-align: right;\">\n",
       "      <th></th>\n",
       "      <th>Count</th>\n",
       "    </tr>\n",
       "    <tr>\n",
       "      <th>Period</th>\n",
       "      <th></th>\n",
       "    </tr>\n",
       "  </thead>\n",
       "  <tbody>\n",
       "    <tr>\n",
       "      <th>2009-01</th>\n",
       "      <td>10</td>\n",
       "    </tr>\n",
       "    <tr>\n",
       "      <th>2009-02</th>\n",
       "      <td>0</td>\n",
       "    </tr>\n",
       "    <tr>\n",
       "      <th>2009-03</th>\n",
       "      <td>0</td>\n",
       "    </tr>\n",
       "    <tr>\n",
       "      <th>2009-04</th>\n",
       "      <td>5</td>\n",
       "    </tr>\n",
       "    <tr>\n",
       "      <th>2009-05</th>\n",
       "      <td>0</td>\n",
       "    </tr>\n",
       "    <tr>\n",
       "      <th>2009-06</th>\n",
       "      <td>0</td>\n",
       "    </tr>\n",
       "    <tr>\n",
       "      <th>2009-07</th>\n",
       "      <td>0</td>\n",
       "    </tr>\n",
       "    <tr>\n",
       "      <th>2009-08</th>\n",
       "      <td>0</td>\n",
       "    </tr>\n",
       "    <tr>\n",
       "      <th>2009-09</th>\n",
       "      <td>0</td>\n",
       "    </tr>\n",
       "    <tr>\n",
       "      <th>2009-10</th>\n",
       "      <td>0</td>\n",
       "    </tr>\n",
       "    <tr>\n",
       "      <th>2009-11</th>\n",
       "      <td>8</td>\n",
       "    </tr>\n",
       "  </tbody>\n",
       "</table>\n",
       "</div>"
      ],
      "text/plain": [
       "         Count\n",
       "Period        \n",
       "2009-01     10\n",
       "2009-02      0\n",
       "2009-03      0\n",
       "2009-04      5\n",
       "2009-05      0\n",
       "2009-06      0\n",
       "2009-07      0\n",
       "2009-08      0\n",
       "2009-09      0\n",
       "2009-10      0\n",
       "2009-11      8"
      ]
     },
     "execution_count": 15,
     "metadata": {},
     "output_type": "execute_result"
    }
   ],
   "source": [
    "df = df.resample('M', 'sum').fillna(0)\n",
    "df"
   ]
  },
  {
   "cell_type": "code",
   "execution_count": 19,
   "metadata": {
    "collapsed": false
   },
   "outputs": [],
   "source": [
    "t = df.index[0]"
   ]
  },
  {
   "cell_type": "code",
   "execution_count": 21,
   "metadata": {
    "collapsed": false
   },
   "outputs": [
    {
     "data": {
      "text/plain": [
       "1230768000000000000"
      ]
     },
     "execution_count": 21,
     "metadata": {},
     "output_type": "execute_result"
    }
   ],
   "source": [
    "t.to_timestamp().value"
   ]
  },
  {
   "cell_type": "code",
   "execution_count": 22,
   "metadata": {
    "collapsed": false
   },
   "outputs": [
    {
     "data": {
      "text/plain": [
       "[1230768000000000000,\n",
       " 1233446400000000000,\n",
       " 1235865600000000000,\n",
       " 1238544000000000000,\n",
       " 1241136000000000000,\n",
       " 1243814400000000000,\n",
       " 1246406400000000000,\n",
       " 1249084800000000000,\n",
       " 1251763200000000000,\n",
       " 1254355200000000000,\n",
       " 1257033600000000000]"
      ]
     },
     "execution_count": 22,
     "metadata": {},
     "output_type": "execute_result"
    }
   ],
   "source": [
    "xs = [x.to_timestamp().value for x in df.index]\n",
    "xs"
   ]
  },
  {
   "cell_type": "code",
   "execution_count": 26,
   "metadata": {
    "collapsed": false
   },
   "outputs": [
    {
     "data": {
      "text/plain": [
       "11"
      ]
     },
     "execution_count": 26,
     "metadata": {},
     "output_type": "execute_result"
    }
   ],
   "source": [
    "len(xs)"
   ]
  },
  {
   "cell_type": "code",
   "execution_count": 23,
   "metadata": {
    "collapsed": false
   },
   "outputs": [
    {
     "data": {
      "text/plain": [
       "array([[ 10.],\n",
       "       [  0.],\n",
       "       [  0.],\n",
       "       [  5.],\n",
       "       [  0.],\n",
       "       [  0.],\n",
       "       [  0.],\n",
       "       [  0.],\n",
       "       [  0.],\n",
       "       [  0.],\n",
       "       [  8.]])"
      ]
     },
     "execution_count": 23,
     "metadata": {},
     "output_type": "execute_result"
    }
   ],
   "source": [
    "df.values"
   ]
  },
  {
   "cell_type": "code",
   "execution_count": 27,
   "metadata": {
    "collapsed": false
   },
   "outputs": [
    {
     "data": {
      "text/plain": [
       "11"
      ]
     },
     "execution_count": 27,
     "metadata": {},
     "output_type": "execute_result"
    }
   ],
   "source": [
    "len(df.values)"
   ]
  },
  {
   "cell_type": "code",
   "execution_count": 28,
   "metadata": {
    "collapsed": false
   },
   "outputs": [
    {
     "data": {
      "text/plain": [
       "LinearRegression(copy_X=True, fit_intercept=True, n_jobs=1, normalize=False)"
      ]
     },
     "execution_count": 28,
     "metadata": {},
     "output_type": "execute_result"
    }
   ],
   "source": [
    "from sklearn.linear_model import LinearRegression\n",
    "model = LinearRegression()\n",
    "model.fit([[x] for x in xs], df.values)"
   ]
  },
  {
   "cell_type": "code",
   "execution_count": 32,
   "metadata": {
    "collapsed": false
   },
   "outputs": [
    {
     "data": {
      "text/plain": [
       "array([[ 1.194166]])"
      ]
     },
     "execution_count": 32,
     "metadata": {},
     "output_type": "execute_result"
    }
   ],
   "source": [
    "model.predict(1257033690000000009)"
   ]
  },
  {
   "cell_type": "code",
   "execution_count": 4,
   "metadata": {
    "collapsed": false
   },
   "outputs": [
    {
     "data": {
      "text/html": [
       "<div>\n",
       "<table border=\"1\" class=\"dataframe\">\n",
       "  <thead>\n",
       "    <tr style=\"text-align: right;\">\n",
       "      <th></th>\n",
       "      <th>Count</th>\n",
       "    </tr>\n",
       "    <tr>\n",
       "      <th>Period</th>\n",
       "      <th></th>\n",
       "    </tr>\n",
       "  </thead>\n",
       "  <tbody>\n",
       "    <tr>\n",
       "      <th>2009-01-01</th>\n",
       "      <td>10</td>\n",
       "    </tr>\n",
       "    <tr>\n",
       "      <th>2009-04-01</th>\n",
       "      <td>5</td>\n",
       "    </tr>\n",
       "    <tr>\n",
       "      <th>2009-07-01</th>\n",
       "      <td>0</td>\n",
       "    </tr>\n",
       "    <tr>\n",
       "      <th>2009-10-01</th>\n",
       "      <td>8</td>\n",
       "    </tr>\n",
       "  </tbody>\n",
       "</table>\n",
       "</div>"
      ],
      "text/plain": [
       "            Count\n",
       "Period           \n",
       "2009-01-01     10\n",
       "2009-04-01      5\n",
       "2009-07-01      0\n",
       "2009-10-01      8"
      ]
     },
     "execution_count": 4,
     "metadata": {},
     "output_type": "execute_result"
    }
   ],
   "source": [
    "x = df.resample('3MS', 'sum')\n",
    "x = x.fillna(0)\n",
    "x"
   ]
  },
  {
   "cell_type": "code",
   "execution_count": 6,
   "metadata": {
    "collapsed": false
   },
   "outputs": [],
   "source": [
    "t = x.index[0]"
   ]
  },
  {
   "cell_type": "code",
   "execution_count": 9,
   "metadata": {
    "collapsed": false
   },
   "outputs": [
    {
     "data": {
      "text/plain": [
       "1246406400000000000"
      ]
     },
     "execution_count": 9,
     "metadata": {},
     "output_type": "execute_result"
    }
   ],
   "source": [
    "x.index[2].value"
   ]
  },
  {
   "cell_type": "code",
   "execution_count": 63,
   "metadata": {
    "collapsed": true
   },
   "outputs": [],
   "source": [
    "df.resample?"
   ]
  },
  {
   "cell_type": "code",
   "execution_count": 55,
   "metadata": {
    "collapsed": true
   },
   "outputs": [],
   "source": [
    "df.resample?"
   ]
  },
  {
   "cell_type": "code",
   "execution_count": null,
   "metadata": {
    "collapsed": true
   },
   "outputs": [],
   "source": []
  },
  {
   "cell_type": "code",
   "execution_count": 35,
   "metadata": {
    "collapsed": true
   },
   "outputs": [],
   "source": [
    "Period?"
   ]
  },
  {
   "cell_type": "code",
   "execution_count": 2,
   "metadata": {
    "collapsed": false
   },
   "outputs": [],
   "source": [
    "grouped_nyc_traffic_injuries = nyc_traffic_injuries_table.groupby(['Longitude', 'Latitude'])\n",
    "filtered_nyc_traffic_injuries_table = grouped_nyc_traffic_injuries.filter(lambda x: len(x) > 2)"
   ]
  },
  {
   "cell_type": "code",
   "execution_count": 2,
   "metadata": {
    "collapsed": false
   },
   "outputs": [
    {
     "ename": "NameError",
     "evalue": "name 'filtered_nyc_traffic_injuries_table' is not defined",
     "output_type": "error",
     "traceback": [
      "\u001b[1;31m---------------------------------------------------------------------------\u001b[0m",
      "\u001b[1;31mNameError\u001b[0m                                 Traceback (most recent call last)",
      "\u001b[1;32m<ipython-input-2-4dea24119aae>\u001b[0m in \u001b[0;36m<module>\u001b[1;34m()\u001b[0m\n\u001b[1;32m----> 1\u001b[1;33m \u001b[0mfiltered_nyc_traffic_injuries_table\u001b[0m\u001b[1;33m.\u001b[0m\u001b[0mgroupby\u001b[0m\u001b[1;33m(\u001b[0m\u001b[1;33m[\u001b[0m\u001b[1;34m'Longitude'\u001b[0m\u001b[1;33m,\u001b[0m \u001b[1;34m'Latitude'\u001b[0m\u001b[1;33m]\u001b[0m\u001b[1;33m)\u001b[0m\u001b[1;33m.\u001b[0m\u001b[0mgroups\u001b[0m\u001b[1;33m;\u001b[0m\u001b[1;33m\u001b[0m\u001b[0m\n\u001b[0m",
      "\u001b[1;31mNameError\u001b[0m: name 'filtered_nyc_traffic_injuries_table' is not defined"
     ]
    }
   ],
   "source": [
    "filtered_nyc_traffic_injuries_table.groupby(['Longitude', 'Latitude']).groups;"
   ]
  },
  {
   "cell_type": "code",
   "execution_count": 3,
   "metadata": {
    "collapsed": false
   },
   "outputs": [
    {
     "ename": "NameError",
     "evalue": "name 'filtered_nyc_traffic_injuries_table' is not defined",
     "output_type": "error",
     "traceback": [
      "\u001b[1;31m---------------------------------------------------------------------------\u001b[0m",
      "\u001b[1;31mNameError\u001b[0m                                 Traceback (most recent call last)",
      "\u001b[1;32m<ipython-input-3-0b5aab198cad>\u001b[0m in \u001b[0;36m<module>\u001b[1;34m()\u001b[0m\n\u001b[0;32m      1\u001b[0m \u001b[1;32mimport\u001b[0m \u001b[0mnumpy\u001b[0m \u001b[1;32mas\u001b[0m \u001b[0mnp\u001b[0m\u001b[1;33m\u001b[0m\u001b[0m\n\u001b[1;32m----> 2\u001b[1;33m \u001b[0myearly_nyc_traffic_injuries_table\u001b[0m \u001b[1;33m=\u001b[0m \u001b[0mfiltered_nyc_traffic_injuries_table\u001b[0m\u001b[1;33m.\u001b[0m\u001b[0mgroupby\u001b[0m\u001b[1;33m(\u001b[0m\u001b[1;33m[\u001b[0m\u001b[1;34m'Longitude'\u001b[0m\u001b[1;33m,\u001b[0m \u001b[1;34m'Latitude'\u001b[0m\u001b[1;33m,\u001b[0m \u001b[1;34m'Year'\u001b[0m\u001b[1;33m]\u001b[0m\u001b[1;33m)\u001b[0m\u001b[1;33m.\u001b[0m\u001b[0maggregate\u001b[0m\u001b[1;33m(\u001b[0m\u001b[1;33m{\u001b[0m\u001b[1;34m'Total Injury Count'\u001b[0m\u001b[1;33m:\u001b[0m \u001b[0mnp\u001b[0m\u001b[1;33m.\u001b[0m\u001b[0msum\u001b[0m\u001b[1;33m}\u001b[0m\u001b[1;33m)\u001b[0m\u001b[1;33m\u001b[0m\u001b[0m\n\u001b[0m\u001b[0;32m      3\u001b[0m \u001b[0myearly_nyc_traffic_injuries_table\u001b[0m\u001b[1;33m[\u001b[0m\u001b[1;33m:\u001b[0m\u001b[1;36m6\u001b[0m\u001b[1;33m]\u001b[0m\u001b[1;33m\u001b[0m\u001b[0m\n",
      "\u001b[1;31mNameError\u001b[0m: name 'filtered_nyc_traffic_injuries_table' is not defined"
     ]
    }
   ],
   "source": [
    "import numpy as np\n",
    "yearly_nyc_traffic_injuries_table = filtered_nyc_traffic_injuries_table.groupby(['Longitude', 'Latitude', 'Year']).aggregate({'Total Injury Count': np.sum})\n",
    "yearly_nyc_traffic_injuries_table[:6]"
   ]
  },
  {
   "cell_type": "code",
   "execution_count": 76,
   "metadata": {
    "collapsed": true
   },
   "outputs": [],
   "source": [
    "from sklearn.linear_model import LinearRegression\n",
    "models = []\n",
    "for (longitude, latitude), indices in filtered_nyc_traffic_injuries_table.groupby(['Longitude', 'Latitude']):\n",
    "    pass"
   ]
  },
  {
   "cell_type": "code",
   "execution_count": 7,
   "metadata": {
    "collapsed": false
   },
   "outputs": [],
   "source": [
    "g = filtered_nyc_traffic_injuries_table.groupby(['Longitude', 'Latitude'])\n",
    "key, indices = g.groups.items()[0]"
   ]
  },
  {
   "cell_type": "code",
   "execution_count": 9,
   "metadata": {
    "collapsed": false
   },
   "outputs": [
    {
     "data": {
      "text/html": [
       "<div>\n",
       "<table border=\"1\" class=\"dataframe\">\n",
       "  <thead>\n",
       "    <tr style=\"text-align: right;\">\n",
       "      <th></th>\n",
       "      <th>Longitude</th>\n",
       "      <th>Latitude</th>\n",
       "      <th>Year</th>\n",
       "      <th>Month</th>\n",
       "      <th>Total Injury Count</th>\n",
       "      <th>Pedestrian Injury Count</th>\n",
       "      <th>Bike Injury Count</th>\n",
       "      <th>Motor Vehicle Occupant Injury Count</th>\n",
       "    </tr>\n",
       "  </thead>\n",
       "  <tbody>\n",
       "    <tr>\n",
       "      <th>12970</th>\n",
       "      <td>-73.953128</td>\n",
       "      <td>40.71142</td>\n",
       "      <td>2014</td>\n",
       "      <td>1</td>\n",
       "      <td>1</td>\n",
       "      <td>1</td>\n",
       "      <td>0</td>\n",
       "      <td>0</td>\n",
       "    </tr>\n",
       "    <tr>\n",
       "      <th>23146</th>\n",
       "      <td>-73.953128</td>\n",
       "      <td>40.71142</td>\n",
       "      <td>2012</td>\n",
       "      <td>10</td>\n",
       "      <td>1</td>\n",
       "      <td>0</td>\n",
       "      <td>1</td>\n",
       "      <td>0</td>\n",
       "    </tr>\n",
       "    <tr>\n",
       "      <th>28325</th>\n",
       "      <td>-73.953128</td>\n",
       "      <td>40.71142</td>\n",
       "      <td>2009</td>\n",
       "      <td>11</td>\n",
       "      <td>1</td>\n",
       "      <td>0</td>\n",
       "      <td>0</td>\n",
       "      <td>1</td>\n",
       "    </tr>\n",
       "    <tr>\n",
       "      <th>84683</th>\n",
       "      <td>-73.953128</td>\n",
       "      <td>40.71142</td>\n",
       "      <td>2012</td>\n",
       "      <td>4</td>\n",
       "      <td>1</td>\n",
       "      <td>0</td>\n",
       "      <td>0</td>\n",
       "      <td>1</td>\n",
       "    </tr>\n",
       "    <tr>\n",
       "      <th>139334</th>\n",
       "      <td>-73.953128</td>\n",
       "      <td>40.71142</td>\n",
       "      <td>2009</td>\n",
       "      <td>8</td>\n",
       "      <td>1</td>\n",
       "      <td>0</td>\n",
       "      <td>0</td>\n",
       "      <td>1</td>\n",
       "    </tr>\n",
       "    <tr>\n",
       "      <th>162533</th>\n",
       "      <td>-73.953128</td>\n",
       "      <td>40.71142</td>\n",
       "      <td>2012</td>\n",
       "      <td>9</td>\n",
       "      <td>1</td>\n",
       "      <td>0</td>\n",
       "      <td>1</td>\n",
       "      <td>0</td>\n",
       "    </tr>\n",
       "  </tbody>\n",
       "</table>\n",
       "</div>"
      ],
      "text/plain": [
       "        Longitude  Latitude  Year  Month  Total Injury Count  \\\n",
       "12970  -73.953128  40.71142  2014      1                   1   \n",
       "23146  -73.953128  40.71142  2012     10                   1   \n",
       "28325  -73.953128  40.71142  2009     11                   1   \n",
       "84683  -73.953128  40.71142  2012      4                   1   \n",
       "139334 -73.953128  40.71142  2009      8                   1   \n",
       "162533 -73.953128  40.71142  2012      9                   1   \n",
       "\n",
       "        Pedestrian Injury Count  Bike Injury Count  \\\n",
       "12970                         1                  0   \n",
       "23146                         0                  1   \n",
       "28325                         0                  0   \n",
       "84683                         0                  0   \n",
       "139334                        0                  0   \n",
       "162533                        0                  1   \n",
       "\n",
       "        Motor Vehicle Occupant Injury Count  \n",
       "12970                                     0  \n",
       "23146                                     0  \n",
       "28325                                     1  \n",
       "84683                                     1  \n",
       "139334                                    1  \n",
       "162533                                    0  "
      ]
     },
     "execution_count": 9,
     "metadata": {},
     "output_type": "execute_result"
    }
   ],
   "source": [
    "filtered_nyc_traffic_injuries_table.ix[indices]"
   ]
  },
  {
   "cell_type": "code",
   "execution_count": 13,
   "metadata": {
    "collapsed": false
   },
   "outputs": [],
   "source": [
    "import datetime\n",
    "d = datetime.date(2000, 1, 1)"
   ]
  },
  {
   "cell_type": "code",
   "execution_count": 16,
   "metadata": {
    "collapsed": false
   },
   "outputs": [
    {
     "data": {
      "text/plain": [
       "24169"
      ]
     },
     "execution_count": 16,
     "metadata": {},
     "output_type": "execute_result"
    }
   ],
   "source": [
    "2014 * 12 + 1  # Months since 0 A.D."
   ]
  },
  {
   "cell_type": "code",
   "execution_count": null,
   "metadata": {
    "collapsed": true
   },
   "outputs": [],
   "source": []
  },
  {
   "cell_type": "code",
   "execution_count": null,
   "metadata": {
    "collapsed": true
   },
   "outputs": [],
   "source": []
  },
  {
   "cell_type": "code",
   "execution_count": null,
   "metadata": {
    "collapsed": true
   },
   "outputs": [],
   "source": []
  },
  {
   "cell_type": "code",
   "execution_count": null,
   "metadata": {
    "collapsed": true
   },
   "outputs": [],
   "source": []
  },
  {
   "cell_type": "code",
   "execution_count": 64,
   "metadata": {
    "collapsed": true
   },
   "outputs": [],
   "source": [
    "MultiIndex.from_arrays?"
   ]
  },
  {
   "cell_type": "code",
   "execution_count": 62,
   "metadata": {
    "collapsed": false
   },
   "outputs": [
    {
     "ename": "ValueError",
     "evalue": "Buffer has wrong number of dimensions (expected 1, got 2)",
     "output_type": "error",
     "traceback": [
      "\u001b[1;31m---------------------------------------------------------------------------\u001b[0m",
      "\u001b[1;31mValueError\u001b[0m                                Traceback (most recent call last)",
      "\u001b[1;32m<ipython-input-62-1af9c57764e5>\u001b[0m in \u001b[0;36m<module>\u001b[1;34m()\u001b[0m\n\u001b[0;32m      1\u001b[0m \u001b[1;32mfrom\u001b[0m \u001b[0mpandas\u001b[0m \u001b[1;32mimport\u001b[0m \u001b[0mMultiIndex\u001b[0m\u001b[1;33m\u001b[0m\u001b[0m\n\u001b[1;32m----> 2\u001b[1;33m \u001b[0mMultiIndex\u001b[0m\u001b[1;33m.\u001b[0m\u001b[0mfrom_tuples\u001b[0m\u001b[1;33m(\u001b[0m\u001b[0mfiltered_nyc_traffic_injuries_table\u001b[0m\u001b[1;33m[\u001b[0m\u001b[1;33m[\u001b[0m\u001b[1;34m'Longitude'\u001b[0m\u001b[1;33m,\u001b[0m \u001b[1;34m'Latitude'\u001b[0m\u001b[1;33m,\u001b[0m \u001b[1;34m'Year'\u001b[0m\u001b[1;33m,\u001b[0m \u001b[1;34m'Month'\u001b[0m\u001b[1;33m]\u001b[0m\u001b[1;33m]\u001b[0m\u001b[1;33m.\u001b[0m\u001b[0mvalues\u001b[0m\u001b[1;33m,\u001b[0m \u001b[0mnames\u001b[0m\u001b[1;33m=\u001b[0m\u001b[1;33m[\u001b[0m\u001b[1;34m'Longitude'\u001b[0m\u001b[1;33m,\u001b[0m \u001b[1;34m'Latitude'\u001b[0m\u001b[1;33m,\u001b[0m \u001b[1;34m'Year'\u001b[0m\u001b[1;33m,\u001b[0m \u001b[1;34m'Month'\u001b[0m\u001b[1;33m]\u001b[0m\u001b[1;33m)\u001b[0m\u001b[1;33m\u001b[0m\u001b[0m\n\u001b[0m",
      "\u001b[1;32m/usr/lib64/python2.7/site-packages/pandas/core/index.pyc\u001b[0m in \u001b[0;36mfrom_tuples\u001b[1;34m(cls, tuples, sortorder, names)\u001b[0m\n\u001b[0;32m   4455\u001b[0m                 \u001b[0mtuples\u001b[0m \u001b[1;33m=\u001b[0m \u001b[0mtuples\u001b[0m\u001b[1;33m.\u001b[0m\u001b[0mvalues\u001b[0m\u001b[1;33m\u001b[0m\u001b[0m\n\u001b[0;32m   4456\u001b[0m \u001b[1;33m\u001b[0m\u001b[0m\n\u001b[1;32m-> 4457\u001b[1;33m             \u001b[0marrays\u001b[0m \u001b[1;33m=\u001b[0m \u001b[0mlist\u001b[0m\u001b[1;33m(\u001b[0m\u001b[0mlib\u001b[0m\u001b[1;33m.\u001b[0m\u001b[0mtuples_to_object_array\u001b[0m\u001b[1;33m(\u001b[0m\u001b[0mtuples\u001b[0m\u001b[1;33m)\u001b[0m\u001b[1;33m.\u001b[0m\u001b[0mT\u001b[0m\u001b[1;33m)\u001b[0m\u001b[1;33m\u001b[0m\u001b[0m\n\u001b[0m\u001b[0;32m   4458\u001b[0m         \u001b[1;32melif\u001b[0m \u001b[0misinstance\u001b[0m\u001b[1;33m(\u001b[0m\u001b[0mtuples\u001b[0m\u001b[1;33m,\u001b[0m \u001b[0mlist\u001b[0m\u001b[1;33m)\u001b[0m\u001b[1;33m:\u001b[0m\u001b[1;33m\u001b[0m\u001b[0m\n\u001b[0;32m   4459\u001b[0m             \u001b[0marrays\u001b[0m \u001b[1;33m=\u001b[0m \u001b[0mlist\u001b[0m\u001b[1;33m(\u001b[0m\u001b[0mlib\u001b[0m\u001b[1;33m.\u001b[0m\u001b[0mto_object_array_tuples\u001b[0m\u001b[1;33m(\u001b[0m\u001b[0mtuples\u001b[0m\u001b[1;33m)\u001b[0m\u001b[1;33m.\u001b[0m\u001b[0mT\u001b[0m\u001b[1;33m)\u001b[0m\u001b[1;33m\u001b[0m\u001b[0m\n",
      "\u001b[1;32mpandas/src/inference.pyx\u001b[0m in \u001b[0;36mpandas.lib.tuples_to_object_array (pandas/lib.c:59010)\u001b[1;34m()\u001b[0m\n",
      "\u001b[1;31mValueError\u001b[0m: Buffer has wrong number of dimensions (expected 1, got 2)"
     ]
    }
   ],
   "source": [
    "from pandas import MultiIndex\n",
    "MultiIndex.from_tuples(filtered_nyc_traffic_injuries_table[['Longitude', 'Latitude', 'Year', 'Month']].values, names=['Longitude', 'Latitude', 'Year', 'Month'])"
   ]
  },
  {
   "cell_type": "code",
   "execution_count": 51,
   "metadata": {
    "collapsed": false
   },
   "outputs": [
    {
     "data": {
      "text/html": [
       "<div>\n",
       "<table border=\"1\" class=\"dataframe\">\n",
       "  <thead>\n",
       "    <tr style=\"text-align: right;\">\n",
       "      <th></th>\n",
       "      <th></th>\n",
       "      <th></th>\n",
       "      <th></th>\n",
       "      <th>Total Injury Count</th>\n",
       "      <th>Pedestrian Injury Count</th>\n",
       "      <th>Bike Injury Count</th>\n",
       "      <th>Motor Vehicle Occupant Injury Count</th>\n",
       "    </tr>\n",
       "    <tr>\n",
       "      <th>Longitude</th>\n",
       "      <th>Latitude</th>\n",
       "      <th>Year</th>\n",
       "      <th>Month</th>\n",
       "      <th></th>\n",
       "      <th></th>\n",
       "      <th></th>\n",
       "      <th></th>\n",
       "    </tr>\n",
       "  </thead>\n",
       "  <tbody>\n",
       "    <tr>\n",
       "      <th rowspan=\"4\" valign=\"top\">-74.246903</th>\n",
       "      <th rowspan=\"4\" valign=\"top\">40.509045</th>\n",
       "      <th rowspan=\"4\" valign=\"top\">2013</th>\n",
       "      <th>1</th>\n",
       "      <td>1</td>\n",
       "      <td>1</td>\n",
       "      <td>0</td>\n",
       "      <td>0</td>\n",
       "    </tr>\n",
       "    <tr>\n",
       "      <th>2</th>\n",
       "      <td>1</td>\n",
       "      <td>0</td>\n",
       "      <td>0</td>\n",
       "      <td>1</td>\n",
       "    </tr>\n",
       "    <tr>\n",
       "      <th>5</th>\n",
       "      <td>1</td>\n",
       "      <td>1</td>\n",
       "      <td>0</td>\n",
       "      <td>0</td>\n",
       "    </tr>\n",
       "    <tr>\n",
       "      <th>11</th>\n",
       "      <td>3</td>\n",
       "      <td>0</td>\n",
       "      <td>0</td>\n",
       "      <td>3</td>\n",
       "    </tr>\n",
       "    <tr>\n",
       "      <th rowspan=\"4\" valign=\"top\">-74.243741</th>\n",
       "      <th rowspan=\"4\" valign=\"top\">40.509992</th>\n",
       "      <th rowspan=\"4\" valign=\"top\">2010</th>\n",
       "      <th>2</th>\n",
       "      <td>1</td>\n",
       "      <td>1</td>\n",
       "      <td>0</td>\n",
       "      <td>0</td>\n",
       "    </tr>\n",
       "    <tr>\n",
       "      <th>5</th>\n",
       "      <td>1</td>\n",
       "      <td>1</td>\n",
       "      <td>0</td>\n",
       "      <td>0</td>\n",
       "    </tr>\n",
       "    <tr>\n",
       "      <th>6</th>\n",
       "      <td>1</td>\n",
       "      <td>0</td>\n",
       "      <td>1</td>\n",
       "      <td>0</td>\n",
       "    </tr>\n",
       "    <tr>\n",
       "      <th>9</th>\n",
       "      <td>1</td>\n",
       "      <td>1</td>\n",
       "      <td>0</td>\n",
       "      <td>0</td>\n",
       "    </tr>\n",
       "    <tr>\n",
       "      <th rowspan=\"3\" valign=\"top\">-74.240543</th>\n",
       "      <th rowspan=\"3\" valign=\"top\">40.517701</th>\n",
       "      <th rowspan=\"3\" valign=\"top\">2010</th>\n",
       "      <th>2</th>\n",
       "      <td>1</td>\n",
       "      <td>0</td>\n",
       "      <td>0</td>\n",
       "      <td>1</td>\n",
       "    </tr>\n",
       "    <tr>\n",
       "      <th>4</th>\n",
       "      <td>1</td>\n",
       "      <td>0</td>\n",
       "      <td>0</td>\n",
       "      <td>1</td>\n",
       "    </tr>\n",
       "    <tr>\n",
       "      <th>7</th>\n",
       "      <td>1</td>\n",
       "      <td>0</td>\n",
       "      <td>0</td>\n",
       "      <td>1</td>\n",
       "    </tr>\n",
       "    <tr>\n",
       "      <th rowspan=\"4\" valign=\"top\">-74.239372</th>\n",
       "      <th rowspan=\"4\" valign=\"top\">40.528224</th>\n",
       "      <th rowspan=\"4\" valign=\"top\">2012</th>\n",
       "      <th>4</th>\n",
       "      <td>1</td>\n",
       "      <td>0</td>\n",
       "      <td>0</td>\n",
       "      <td>1</td>\n",
       "    </tr>\n",
       "    <tr>\n",
       "      <th>6</th>\n",
       "      <td>1</td>\n",
       "      <td>0</td>\n",
       "      <td>0</td>\n",
       "      <td>1</td>\n",
       "    </tr>\n",
       "    <tr>\n",
       "      <th>7</th>\n",
       "      <td>3</td>\n",
       "      <td>0</td>\n",
       "      <td>0</td>\n",
       "      <td>3</td>\n",
       "    </tr>\n",
       "    <tr>\n",
       "      <th>8</th>\n",
       "      <td>1</td>\n",
       "      <td>0</td>\n",
       "      <td>0</td>\n",
       "      <td>1</td>\n",
       "    </tr>\n",
       "    <tr>\n",
       "      <th rowspan=\"3\" valign=\"top\">-74.238969</th>\n",
       "      <th rowspan=\"3\" valign=\"top\">40.532751</th>\n",
       "      <th rowspan=\"3\" valign=\"top\">2011</th>\n",
       "      <th>4</th>\n",
       "      <td>1</td>\n",
       "      <td>0</td>\n",
       "      <td>0</td>\n",
       "      <td>1</td>\n",
       "    </tr>\n",
       "    <tr>\n",
       "      <th>11</th>\n",
       "      <td>1</td>\n",
       "      <td>0</td>\n",
       "      <td>0</td>\n",
       "      <td>1</td>\n",
       "    </tr>\n",
       "    <tr>\n",
       "      <th>12</th>\n",
       "      <td>2</td>\n",
       "      <td>0</td>\n",
       "      <td>0</td>\n",
       "      <td>2</td>\n",
       "    </tr>\n",
       "    <tr>\n",
       "      <th rowspan=\"3\" valign=\"top\">-74.237395</th>\n",
       "      <th rowspan=\"3\" valign=\"top\">40.538352</th>\n",
       "      <th rowspan=\"3\" valign=\"top\">2010</th>\n",
       "      <th>1</th>\n",
       "      <td>2</td>\n",
       "      <td>2</td>\n",
       "      <td>0</td>\n",
       "      <td>0</td>\n",
       "    </tr>\n",
       "    <tr>\n",
       "      <th>4</th>\n",
       "      <td>1</td>\n",
       "      <td>0</td>\n",
       "      <td>0</td>\n",
       "      <td>1</td>\n",
       "    </tr>\n",
       "    <tr>\n",
       "      <th>6</th>\n",
       "      <td>1</td>\n",
       "      <td>0</td>\n",
       "      <td>0</td>\n",
       "      <td>1</td>\n",
       "    </tr>\n",
       "    <tr>\n",
       "      <th rowspan=\"3\" valign=\"top\">-74.234780</th>\n",
       "      <th rowspan=\"3\" valign=\"top\">40.527948</th>\n",
       "      <th rowspan=\"3\" valign=\"top\">2011</th>\n",
       "      <th>3</th>\n",
       "      <td>2</td>\n",
       "      <td>0</td>\n",
       "      <td>0</td>\n",
       "      <td>2</td>\n",
       "    </tr>\n",
       "    <tr>\n",
       "      <th>6</th>\n",
       "      <td>1</td>\n",
       "      <td>0</td>\n",
       "      <td>0</td>\n",
       "      <td>1</td>\n",
       "    </tr>\n",
       "    <tr>\n",
       "      <th>10</th>\n",
       "      <td>1</td>\n",
       "      <td>0</td>\n",
       "      <td>0</td>\n",
       "      <td>1</td>\n",
       "    </tr>\n",
       "    <tr>\n",
       "      <th rowspan=\"3\" valign=\"top\">-74.232822</th>\n",
       "      <th rowspan=\"3\" valign=\"top\">40.516337</th>\n",
       "      <th rowspan=\"3\" valign=\"top\">2014</th>\n",
       "      <th>6</th>\n",
       "      <td>3</td>\n",
       "      <td>0</td>\n",
       "      <td>0</td>\n",
       "      <td>3</td>\n",
       "    </tr>\n",
       "    <tr>\n",
       "      <th>8</th>\n",
       "      <td>1</td>\n",
       "      <td>0</td>\n",
       "      <td>0</td>\n",
       "      <td>1</td>\n",
       "    </tr>\n",
       "    <tr>\n",
       "      <th>12</th>\n",
       "      <td>1</td>\n",
       "      <td>0</td>\n",
       "      <td>0</td>\n",
       "      <td>1</td>\n",
       "    </tr>\n",
       "    <tr>\n",
       "      <th rowspan=\"3\" valign=\"top\">-74.230228</th>\n",
       "      <th rowspan=\"3\" valign=\"top\">40.527666</th>\n",
       "      <th rowspan=\"3\" valign=\"top\">2011</th>\n",
       "      <th>5</th>\n",
       "      <td>2</td>\n",
       "      <td>1</td>\n",
       "      <td>0</td>\n",
       "      <td>1</td>\n",
       "    </tr>\n",
       "    <tr>\n",
       "      <th>6</th>\n",
       "      <td>2</td>\n",
       "      <td>0</td>\n",
       "      <td>0</td>\n",
       "      <td>2</td>\n",
       "    </tr>\n",
       "    <tr>\n",
       "      <th>7</th>\n",
       "      <td>3</td>\n",
       "      <td>0</td>\n",
       "      <td>0</td>\n",
       "      <td>3</td>\n",
       "    </tr>\n",
       "    <tr>\n",
       "      <th>...</th>\n",
       "      <th>...</th>\n",
       "      <th>...</th>\n",
       "      <th>...</th>\n",
       "      <td>...</td>\n",
       "      <td>...</td>\n",
       "      <td>...</td>\n",
       "      <td>...</td>\n",
       "    </tr>\n",
       "    <tr>\n",
       "      <th rowspan=\"3\" valign=\"top\">-73.707074</th>\n",
       "      <th rowspan=\"3\" valign=\"top\">40.749610</th>\n",
       "      <th rowspan=\"3\" valign=\"top\">2012</th>\n",
       "      <th>2</th>\n",
       "      <td>1</td>\n",
       "      <td>0</td>\n",
       "      <td>0</td>\n",
       "      <td>1</td>\n",
       "    </tr>\n",
       "    <tr>\n",
       "      <th>7</th>\n",
       "      <td>1</td>\n",
       "      <td>0</td>\n",
       "      <td>0</td>\n",
       "      <td>1</td>\n",
       "    </tr>\n",
       "    <tr>\n",
       "      <th>8</th>\n",
       "      <td>1</td>\n",
       "      <td>0</td>\n",
       "      <td>0</td>\n",
       "      <td>1</td>\n",
       "    </tr>\n",
       "    <tr>\n",
       "      <th rowspan=\"6\" valign=\"top\">-73.706298</th>\n",
       "      <th rowspan=\"6\" valign=\"top\">40.750025</th>\n",
       "      <th rowspan=\"3\" valign=\"top\">2011</th>\n",
       "      <th>7</th>\n",
       "      <td>2</td>\n",
       "      <td>0</td>\n",
       "      <td>0</td>\n",
       "      <td>2</td>\n",
       "    </tr>\n",
       "    <tr>\n",
       "      <th>11</th>\n",
       "      <td>1</td>\n",
       "      <td>0</td>\n",
       "      <td>0</td>\n",
       "      <td>1</td>\n",
       "    </tr>\n",
       "    <tr>\n",
       "      <th>12</th>\n",
       "      <td>1</td>\n",
       "      <td>0</td>\n",
       "      <td>0</td>\n",
       "      <td>1</td>\n",
       "    </tr>\n",
       "    <tr>\n",
       "      <th rowspan=\"3\" valign=\"top\">2013</th>\n",
       "      <th>1</th>\n",
       "      <td>1</td>\n",
       "      <td>0</td>\n",
       "      <td>0</td>\n",
       "      <td>1</td>\n",
       "    </tr>\n",
       "    <tr>\n",
       "      <th>9</th>\n",
       "      <td>1</td>\n",
       "      <td>1</td>\n",
       "      <td>0</td>\n",
       "      <td>0</td>\n",
       "    </tr>\n",
       "    <tr>\n",
       "      <th>12</th>\n",
       "      <td>5</td>\n",
       "      <td>0</td>\n",
       "      <td>0</td>\n",
       "      <td>5</td>\n",
       "    </tr>\n",
       "    <tr>\n",
       "      <th rowspan=\"4\" valign=\"top\">-73.705575</th>\n",
       "      <th rowspan=\"4\" valign=\"top\">40.737923</th>\n",
       "      <th rowspan=\"4\" valign=\"top\">2013</th>\n",
       "      <th>1</th>\n",
       "      <td>3</td>\n",
       "      <td>1</td>\n",
       "      <td>0</td>\n",
       "      <td>2</td>\n",
       "    </tr>\n",
       "    <tr>\n",
       "      <th>2</th>\n",
       "      <td>1</td>\n",
       "      <td>0</td>\n",
       "      <td>0</td>\n",
       "      <td>1</td>\n",
       "    </tr>\n",
       "    <tr>\n",
       "      <th>4</th>\n",
       "      <td>1</td>\n",
       "      <td>0</td>\n",
       "      <td>0</td>\n",
       "      <td>1</td>\n",
       "    </tr>\n",
       "    <tr>\n",
       "      <th>12</th>\n",
       "      <td>3</td>\n",
       "      <td>0</td>\n",
       "      <td>0</td>\n",
       "      <td>3</td>\n",
       "    </tr>\n",
       "    <tr>\n",
       "      <th rowspan=\"3\" valign=\"top\">-73.705372</th>\n",
       "      <th rowspan=\"3\" valign=\"top\">40.748021</th>\n",
       "      <th rowspan=\"3\" valign=\"top\">2013</th>\n",
       "      <th>3</th>\n",
       "      <td>2</td>\n",
       "      <td>0</td>\n",
       "      <td>0</td>\n",
       "      <td>2</td>\n",
       "    </tr>\n",
       "    <tr>\n",
       "      <th>6</th>\n",
       "      <td>1</td>\n",
       "      <td>0</td>\n",
       "      <td>0</td>\n",
       "      <td>1</td>\n",
       "    </tr>\n",
       "    <tr>\n",
       "      <th>9</th>\n",
       "      <td>1</td>\n",
       "      <td>0</td>\n",
       "      <td>0</td>\n",
       "      <td>1</td>\n",
       "    </tr>\n",
       "    <tr>\n",
       "      <th rowspan=\"3\" valign=\"top\">-73.704148</th>\n",
       "      <th rowspan=\"3\" valign=\"top\">40.734079</th>\n",
       "      <th rowspan=\"3\" valign=\"top\">2011</th>\n",
       "      <th>1</th>\n",
       "      <td>2</td>\n",
       "      <td>0</td>\n",
       "      <td>0</td>\n",
       "      <td>2</td>\n",
       "    </tr>\n",
       "    <tr>\n",
       "      <th>9</th>\n",
       "      <td>1</td>\n",
       "      <td>0</td>\n",
       "      <td>0</td>\n",
       "      <td>1</td>\n",
       "    </tr>\n",
       "    <tr>\n",
       "      <th>11</th>\n",
       "      <td>3</td>\n",
       "      <td>0</td>\n",
       "      <td>0</td>\n",
       "      <td>3</td>\n",
       "    </tr>\n",
       "    <tr>\n",
       "      <th rowspan=\"4\" valign=\"top\">-73.703083</th>\n",
       "      <th rowspan=\"4\" valign=\"top\">40.751725</th>\n",
       "      <th rowspan=\"4\" valign=\"top\">2015</th>\n",
       "      <th>4</th>\n",
       "      <td>2</td>\n",
       "      <td>0</td>\n",
       "      <td>0</td>\n",
       "      <td>2</td>\n",
       "    </tr>\n",
       "    <tr>\n",
       "      <th>5</th>\n",
       "      <td>1</td>\n",
       "      <td>0</td>\n",
       "      <td>0</td>\n",
       "      <td>1</td>\n",
       "    </tr>\n",
       "    <tr>\n",
       "      <th>8</th>\n",
       "      <td>1</td>\n",
       "      <td>0</td>\n",
       "      <td>0</td>\n",
       "      <td>1</td>\n",
       "    </tr>\n",
       "    <tr>\n",
       "      <th>9</th>\n",
       "      <td>1</td>\n",
       "      <td>0</td>\n",
       "      <td>1</td>\n",
       "      <td>0</td>\n",
       "    </tr>\n",
       "    <tr>\n",
       "      <th rowspan=\"3\" valign=\"top\">-73.702393</th>\n",
       "      <th rowspan=\"3\" valign=\"top\">40.750558</th>\n",
       "      <th rowspan=\"3\" valign=\"top\">2010</th>\n",
       "      <th>5</th>\n",
       "      <td>2</td>\n",
       "      <td>0</td>\n",
       "      <td>0</td>\n",
       "      <td>2</td>\n",
       "    </tr>\n",
       "    <tr>\n",
       "      <th>7</th>\n",
       "      <td>2</td>\n",
       "      <td>0</td>\n",
       "      <td>0</td>\n",
       "      <td>2</td>\n",
       "    </tr>\n",
       "    <tr>\n",
       "      <th>10</th>\n",
       "      <td>1</td>\n",
       "      <td>0</td>\n",
       "      <td>0</td>\n",
       "      <td>1</td>\n",
       "    </tr>\n",
       "    <tr>\n",
       "      <th rowspan=\"4\" valign=\"top\">-73.700983</th>\n",
       "      <th rowspan=\"4\" valign=\"top\">40.738896</th>\n",
       "      <th rowspan=\"4\" valign=\"top\">2010</th>\n",
       "      <th>2</th>\n",
       "      <td>1</td>\n",
       "      <td>0</td>\n",
       "      <td>0</td>\n",
       "      <td>1</td>\n",
       "    </tr>\n",
       "    <tr>\n",
       "      <th>4</th>\n",
       "      <td>1</td>\n",
       "      <td>0</td>\n",
       "      <td>1</td>\n",
       "      <td>0</td>\n",
       "    </tr>\n",
       "    <tr>\n",
       "      <th>7</th>\n",
       "      <td>1</td>\n",
       "      <td>0</td>\n",
       "      <td>0</td>\n",
       "      <td>1</td>\n",
       "    </tr>\n",
       "    <tr>\n",
       "      <th>12</th>\n",
       "      <td>1</td>\n",
       "      <td>1</td>\n",
       "      <td>0</td>\n",
       "      <td>0</td>\n",
       "    </tr>\n",
       "  </tbody>\n",
       "</table>\n",
       "<p>97113 rows × 4 columns</p>\n",
       "</div>"
      ],
      "text/plain": [
       "                                 Total Injury Count  Pedestrian Injury Count  \\\n",
       "Longitude  Latitude  Year Month                                                \n",
       "-74.246903 40.509045 2013 1                       1                        1   \n",
       "                          2                       1                        0   \n",
       "                          5                       1                        1   \n",
       "                          11                      3                        0   \n",
       "-74.243741 40.509992 2010 2                       1                        1   \n",
       "                          5                       1                        1   \n",
       "                          6                       1                        0   \n",
       "                          9                       1                        1   \n",
       "-74.240543 40.517701 2010 2                       1                        0   \n",
       "                          4                       1                        0   \n",
       "                          7                       1                        0   \n",
       "-74.239372 40.528224 2012 4                       1                        0   \n",
       "                          6                       1                        0   \n",
       "                          7                       3                        0   \n",
       "                          8                       1                        0   \n",
       "-74.238969 40.532751 2011 4                       1                        0   \n",
       "                          11                      1                        0   \n",
       "                          12                      2                        0   \n",
       "-74.237395 40.538352 2010 1                       2                        2   \n",
       "                          4                       1                        0   \n",
       "                          6                       1                        0   \n",
       "-74.234780 40.527948 2011 3                       2                        0   \n",
       "                          6                       1                        0   \n",
       "                          10                      1                        0   \n",
       "-74.232822 40.516337 2014 6                       3                        0   \n",
       "                          8                       1                        0   \n",
       "                          12                      1                        0   \n",
       "-74.230228 40.527666 2011 5                       2                        1   \n",
       "                          6                       2                        0   \n",
       "                          7                       3                        0   \n",
       "...                                             ...                      ...   \n",
       "-73.707074 40.749610 2012 2                       1                        0   \n",
       "                          7                       1                        0   \n",
       "                          8                       1                        0   \n",
       "-73.706298 40.750025 2011 7                       2                        0   \n",
       "                          11                      1                        0   \n",
       "                          12                      1                        0   \n",
       "                     2013 1                       1                        0   \n",
       "                          9                       1                        1   \n",
       "                          12                      5                        0   \n",
       "-73.705575 40.737923 2013 1                       3                        1   \n",
       "                          2                       1                        0   \n",
       "                          4                       1                        0   \n",
       "                          12                      3                        0   \n",
       "-73.705372 40.748021 2013 3                       2                        0   \n",
       "                          6                       1                        0   \n",
       "                          9                       1                        0   \n",
       "-73.704148 40.734079 2011 1                       2                        0   \n",
       "                          9                       1                        0   \n",
       "                          11                      3                        0   \n",
       "-73.703083 40.751725 2015 4                       2                        0   \n",
       "                          5                       1                        0   \n",
       "                          8                       1                        0   \n",
       "                          9                       1                        0   \n",
       "-73.702393 40.750558 2010 5                       2                        0   \n",
       "                          7                       2                        0   \n",
       "                          10                      1                        0   \n",
       "-73.700983 40.738896 2010 2                       1                        0   \n",
       "                          4                       1                        0   \n",
       "                          7                       1                        0   \n",
       "                          12                      1                        1   \n",
       "\n",
       "                                 Bike Injury Count  \\\n",
       "Longitude  Latitude  Year Month                      \n",
       "-74.246903 40.509045 2013 1                      0   \n",
       "                          2                      0   \n",
       "                          5                      0   \n",
       "                          11                     0   \n",
       "-74.243741 40.509992 2010 2                      0   \n",
       "                          5                      0   \n",
       "                          6                      1   \n",
       "                          9                      0   \n",
       "-74.240543 40.517701 2010 2                      0   \n",
       "                          4                      0   \n",
       "                          7                      0   \n",
       "-74.239372 40.528224 2012 4                      0   \n",
       "                          6                      0   \n",
       "                          7                      0   \n",
       "                          8                      0   \n",
       "-74.238969 40.532751 2011 4                      0   \n",
       "                          11                     0   \n",
       "                          12                     0   \n",
       "-74.237395 40.538352 2010 1                      0   \n",
       "                          4                      0   \n",
       "                          6                      0   \n",
       "-74.234780 40.527948 2011 3                      0   \n",
       "                          6                      0   \n",
       "                          10                     0   \n",
       "-74.232822 40.516337 2014 6                      0   \n",
       "                          8                      0   \n",
       "                          12                     0   \n",
       "-74.230228 40.527666 2011 5                      0   \n",
       "                          6                      0   \n",
       "                          7                      0   \n",
       "...                                            ...   \n",
       "-73.707074 40.749610 2012 2                      0   \n",
       "                          7                      0   \n",
       "                          8                      0   \n",
       "-73.706298 40.750025 2011 7                      0   \n",
       "                          11                     0   \n",
       "                          12                     0   \n",
       "                     2013 1                      0   \n",
       "                          9                      0   \n",
       "                          12                     0   \n",
       "-73.705575 40.737923 2013 1                      0   \n",
       "                          2                      0   \n",
       "                          4                      0   \n",
       "                          12                     0   \n",
       "-73.705372 40.748021 2013 3                      0   \n",
       "                          6                      0   \n",
       "                          9                      0   \n",
       "-73.704148 40.734079 2011 1                      0   \n",
       "                          9                      0   \n",
       "                          11                     0   \n",
       "-73.703083 40.751725 2015 4                      0   \n",
       "                          5                      0   \n",
       "                          8                      0   \n",
       "                          9                      1   \n",
       "-73.702393 40.750558 2010 5                      0   \n",
       "                          7                      0   \n",
       "                          10                     0   \n",
       "-73.700983 40.738896 2010 2                      0   \n",
       "                          4                      1   \n",
       "                          7                      0   \n",
       "                          12                     0   \n",
       "\n",
       "                                 Motor Vehicle Occupant Injury Count  \n",
       "Longitude  Latitude  Year Month                                       \n",
       "-74.246903 40.509045 2013 1                                        0  \n",
       "                          2                                        1  \n",
       "                          5                                        0  \n",
       "                          11                                       3  \n",
       "-74.243741 40.509992 2010 2                                        0  \n",
       "                          5                                        0  \n",
       "                          6                                        0  \n",
       "                          9                                        0  \n",
       "-74.240543 40.517701 2010 2                                        1  \n",
       "                          4                                        1  \n",
       "                          7                                        1  \n",
       "-74.239372 40.528224 2012 4                                        1  \n",
       "                          6                                        1  \n",
       "                          7                                        3  \n",
       "                          8                                        1  \n",
       "-74.238969 40.532751 2011 4                                        1  \n",
       "                          11                                       1  \n",
       "                          12                                       2  \n",
       "-74.237395 40.538352 2010 1                                        0  \n",
       "                          4                                        1  \n",
       "                          6                                        1  \n",
       "-74.234780 40.527948 2011 3                                        2  \n",
       "                          6                                        1  \n",
       "                          10                                       1  \n",
       "-74.232822 40.516337 2014 6                                        3  \n",
       "                          8                                        1  \n",
       "                          12                                       1  \n",
       "-74.230228 40.527666 2011 5                                        1  \n",
       "                          6                                        2  \n",
       "                          7                                        3  \n",
       "...                                                              ...  \n",
       "-73.707074 40.749610 2012 2                                        1  \n",
       "                          7                                        1  \n",
       "                          8                                        1  \n",
       "-73.706298 40.750025 2011 7                                        2  \n",
       "                          11                                       1  \n",
       "                          12                                       1  \n",
       "                     2013 1                                        1  \n",
       "                          9                                        0  \n",
       "                          12                                       5  \n",
       "-73.705575 40.737923 2013 1                                        2  \n",
       "                          2                                        1  \n",
       "                          4                                        1  \n",
       "                          12                                       3  \n",
       "-73.705372 40.748021 2013 3                                        2  \n",
       "                          6                                        1  \n",
       "                          9                                        1  \n",
       "-73.704148 40.734079 2011 1                                        2  \n",
       "                          9                                        1  \n",
       "                          11                                       3  \n",
       "-73.703083 40.751725 2015 4                                        2  \n",
       "                          5                                        1  \n",
       "                          8                                        1  \n",
       "                          9                                        0  \n",
       "-73.702393 40.750558 2010 5                                        2  \n",
       "                          7                                        2  \n",
       "                          10                                       1  \n",
       "-73.700983 40.738896 2010 2                                        1  \n",
       "                          4                                        0  \n",
       "                          7                                        1  \n",
       "                          12                                       0  \n",
       "\n",
       "[97113 rows x 4 columns]"
      ]
     },
     "execution_count": 51,
     "metadata": {},
     "output_type": "execute_result"
    }
   ],
   "source": [
    "grouped_nyc_traffic_injuries = filtered_nyc_traffic_injuries_table.groupby(['Longitude', 'Latitude', 'Year', 'Month'])\n",
    "grouped_nyc_traffic_injuries.aggregate(np.sum)"
   ]
  },
  {
   "cell_type": "code",
   "execution_count": 23,
   "metadata": {
    "collapsed": true
   },
   "outputs": [],
   "source": [
    "grouped_nyc_traffic_injuries_table = nyc_traffic_injuries_table.groupby(['Longitude', 'Latitude', 'Year'])"
   ]
  },
  {
   "cell_type": "code",
   "execution_count": 36,
   "metadata": {
    "collapsed": false
   },
   "outputs": [
    {
     "data": {
      "text/html": [
       "<div>\n",
       "<table border=\"1\" class=\"dataframe\">\n",
       "  <thead>\n",
       "    <tr style=\"text-align: right;\">\n",
       "      <th></th>\n",
       "      <th></th>\n",
       "      <th></th>\n",
       "      <th>Total Injury Count</th>\n",
       "    </tr>\n",
       "    <tr>\n",
       "      <th>Longitude</th>\n",
       "      <th>Latitude</th>\n",
       "      <th>Year</th>\n",
       "      <th></th>\n",
       "    </tr>\n",
       "  </thead>\n",
       "  <tbody>\n",
       "    <tr>\n",
       "      <th>-74.252324</th>\n",
       "      <th>40.505639</th>\n",
       "      <th>2014</th>\n",
       "      <td>2</td>\n",
       "    </tr>\n",
       "    <tr>\n",
       "      <th rowspan=\"2\" valign=\"top\">-74.251830</th>\n",
       "      <th rowspan=\"2\" valign=\"top\">40.502775</th>\n",
       "      <th>2010</th>\n",
       "      <td>2</td>\n",
       "    </tr>\n",
       "    <tr>\n",
       "      <th>2011</th>\n",
       "      <td>2</td>\n",
       "    </tr>\n",
       "    <tr>\n",
       "      <th>-74.246903</th>\n",
       "      <th>40.509045</th>\n",
       "      <th>2013</th>\n",
       "      <td>6</td>\n",
       "    </tr>\n",
       "    <tr>\n",
       "      <th>-74.245747</th>\n",
       "      <th>40.514711</th>\n",
       "      <th>2009</th>\n",
       "      <td>2</td>\n",
       "    </tr>\n",
       "    <tr>\n",
       "      <th rowspan=\"2\" valign=\"top\">-74.245313</th>\n",
       "      <th rowspan=\"2\" valign=\"top\">40.511791</th>\n",
       "      <th>2010</th>\n",
       "      <td>3</td>\n",
       "    </tr>\n",
       "    <tr>\n",
       "      <th>2011</th>\n",
       "      <td>2</td>\n",
       "    </tr>\n",
       "    <tr>\n",
       "      <th rowspan=\"2\" valign=\"top\">-74.243741</th>\n",
       "      <th rowspan=\"2\" valign=\"top\">40.509992</th>\n",
       "      <th>2010</th>\n",
       "      <td>4</td>\n",
       "    </tr>\n",
       "    <tr>\n",
       "      <th>2012</th>\n",
       "      <td>3</td>\n",
       "    </tr>\n",
       "    <tr>\n",
       "      <th>-74.241773</th>\n",
       "      <th>40.514056</th>\n",
       "      <th>2012</th>\n",
       "      <td>4</td>\n",
       "    </tr>\n",
       "  </tbody>\n",
       "</table>\n",
       "</div>"
      ],
      "text/plain": [
       "                           Total Injury Count\n",
       "Longitude  Latitude  Year                    \n",
       "-74.252324 40.505639 2014                   2\n",
       "-74.251830 40.502775 2010                   2\n",
       "                     2011                   2\n",
       "-74.246903 40.509045 2013                   6\n",
       "-74.245747 40.514711 2009                   2\n",
       "-74.245313 40.511791 2010                   3\n",
       "                     2011                   2\n",
       "-74.243741 40.509992 2010                   4\n",
       "                     2012                   3\n",
       "-74.241773 40.514056 2012                   4"
      ]
     },
     "execution_count": 36,
     "metadata": {},
     "output_type": "execute_result"
    }
   ],
   "source": [
    "aggregated_nyc_traffic_injuries = filtered_nyc_traffic_injuries_table.groupby(['Longitude', 'Latitude', 'Year']).aggregate({'Total Injury Count': np.sum})\n",
    "aggregated_nyc_traffic_injuries[:10]"
   ]
  },
  {
   "cell_type": "code",
   "execution_count": 7,
   "metadata": {
    "collapsed": false
   },
   "outputs": [
    {
     "data": {
      "text/plain": [
       "<pandas.core.groupby.DataFrameGroupBy object at 0x7f8458fd7b90>"
      ]
     },
     "execution_count": 7,
     "metadata": {},
     "output_type": "execute_result"
    }
   ],
   "source": [
    "g = nyc_traffic_injuries_table[:20].groupby(['Longitude', 'Latitude', 'Year'])\n",
    "g"
   ]
  },
  {
   "cell_type": "code",
   "execution_count": 11,
   "metadata": {
    "collapsed": false
   },
   "outputs": [
    {
     "ename": "NameError",
     "evalue": "name 'grouped' is not defined",
     "output_type": "error",
     "traceback": [
      "\u001b[1;31m---------------------------------------------------------------------------\u001b[0m",
      "\u001b[1;31mNameError\u001b[0m                                 Traceback (most recent call last)",
      "\u001b[1;32m<ipython-input-11-283b4477a706>\u001b[0m in \u001b[0;36m<module>\u001b[1;34m()\u001b[0m\n\u001b[1;32m----> 1\u001b[1;33m \u001b[0mgrouped\u001b[0m\u001b[1;33m.\u001b[0m\u001b[0mfilter\u001b[0m\u001b[1;33m(\u001b[0m\u001b[1;32mlambda\u001b[0m \u001b[0mx\u001b[0m\u001b[1;33m:\u001b[0m \u001b[0mlen\u001b[0m\u001b[1;33m(\u001b[0m\u001b[0mx\u001b[0m\u001b[1;33m)\u001b[0m \u001b[1;33m>\u001b[0m \u001b[1;36m1\u001b[0m\u001b[1;33m)\u001b[0m\u001b[1;33m\u001b[0m\u001b[0m\n\u001b[0m",
      "\u001b[1;31mNameError\u001b[0m: name 'grouped' is not defined"
     ]
    }
   ],
   "source": [
    "grouped.filter(lambda x: len(x) > 1)"
   ]
  },
  {
   "cell_type": "code",
   "execution_count": null,
   "metadata": {
    "collapsed": true
   },
   "outputs": [],
   "source": [
    "# We should ideally show geo heat map here"
   ]
  },
  {
   "cell_type": "code",
   "execution_count": null,
   "metadata": {
    "collapsed": true
   },
   "outputs": [],
   "source": []
  },
  {
   "cell_type": "code",
   "execution_count": null,
   "metadata": {
    "collapsed": true
   },
   "outputs": [],
   "source": [
    "# Find most dangerous center\n",
    "# Illustrates minimizing a loss function"
   ]
  },
  {
   "cell_type": "code",
   "execution_count": null,
   "metadata": {
    "collapsed": true
   },
   "outputs": [],
   "source": [
    "# Find safest route without google directions\n",
    "# Population z = f(x, y) by adding a gaussian at each accident spot, with radius proportional to number of accidents\n",
    "# optimize path using optimization function, through X waypoints, where we move each of the waypoints\n",
    "# in other words, we optimize the location of each waypoint\n",
    "# the loss function is minimizing z and total distance\n",
    "# this sounds like an obstacle avoidance algorithm\n",
    "# not sure if it's really appropriate here though"
   ]
  },
  {
   "cell_type": "code",
   "execution_count": null,
   "metadata": {
    "collapsed": false
   },
   "outputs": [],
   "source": [
    "import pandas\n",
    "print pandas.__version__"
   ]
  },
  {
   "cell_type": "code",
   "execution_count": null,
   "metadata": {
    "collapsed": false
   },
   "outputs": [],
   "source": [
    "from pandas import DataFrame\n",
    "table = DataFrame([[1, 2], [3, 4]], columns=['A', 'B'])\n",
    "table.groupby('A').sum()"
   ]
  },
  {
   "cell_type": "code",
   "execution_count": null,
   "metadata": {
    "collapsed": true
   },
   "outputs": [],
   "source": [
    "# Make month histogram based on total injury count\n",
    "fig = plt.figure(figsize=(7, 20))\n",
    "ax = plt.subplot(111)\n",
    "ax.barh(xrange(len(months)), pedestrians, color='r', align='center')\n",
    "ax.barh(xrange(len(months)), bikes, color='g', align='center')\n",
    "ax.barh(xrange(len(months)), vehicles, color='b', align='center')\n",
    "ax.set_yticks(xrange(len(months)))\n",
    "ax.set_yticklabels(months)\n",
    "ax.axis('tight');"
   ]
  }
 ],
 "metadata": {
  "kernelspec": {
   "display_name": "Python 2",
   "language": "python",
   "name": "python2"
  },
  "language_info": {
   "codemirror_mode": {
    "name": "ipython",
    "version": 2
   },
   "file_extension": ".py",
   "mimetype": "text/x-python",
   "name": "python",
   "nbconvert_exporter": "python",
   "pygments_lexer": "ipython2",
   "version": "2.7.10"
  }
 },
 "nbformat": 4,
 "nbformat_minor": 0
}
