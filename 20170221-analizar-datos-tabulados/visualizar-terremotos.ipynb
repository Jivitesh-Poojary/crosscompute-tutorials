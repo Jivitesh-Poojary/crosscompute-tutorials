{
 "cells": [
  {
   "cell_type": "markdown",
   "metadata": {
    "deletable": true,
    "editable": true
   },
   "source": [
    "# Visualizar terremotos\n",
    "\n",
    "Estos datos sobre terremotos son cortesía de [USGS](https://earthquake.usgs.gov).\n",
    "\n",
    "{query_address}\n",
    "\n",
    "Escribe una dirección para ordenar los terremotos recientes por distancia."
   ]
  },
  {
   "cell_type": "code",
   "execution_count": 2,
   "metadata": {
    "collapsed": true,
    "deletable": true,
    "editable": true
   },
   "outputs": [],
   "source": [
    "target_folder = '/tmp'\n",
    "query_address = 'David, Chiriquí'"
   ]
  },
  {
   "cell_type": "code",
   "execution_count": 3,
   "metadata": {
    "collapsed": false,
    "deletable": true,
    "editable": true
   },
   "outputs": [
    {
     "data": {
      "text/plain": [
       "Point(8.4007278, -82.4427769, 0.0)"
      ]
     },
     "execution_count": 3,
     "metadata": {},
     "output_type": "execute_result"
    }
   ],
   "source": [
    "from geopy.geocoders import GoogleV3\n",
    "g = GoogleV3()\n",
    "query_location = g.geocode(query_address)\n",
    "query_point = query_location.point\n",
    "query_point"
   ]
  },
  {
   "cell_type": "code",
   "execution_count": 4,
   "metadata": {
    "collapsed": true,
    "deletable": true,
    "editable": true
   },
   "outputs": [],
   "source": [
    "import pandas as pd"
   ]
  },
  {
   "cell_type": "code",
   "execution_count": 5,
   "metadata": {
    "collapsed": false,
    "deletable": true,
    "editable": true
   },
   "outputs": [
    {
     "data": {
      "text/plain": [
       "time                          2017-03-05 22:47:53.310000\n",
       "latitude                                          -5.999\n",
       "longitude                                        149.353\n",
       "depth                                              31.07\n",
       "mag                                                  6.3\n",
       "magType                                              mww\n",
       "nst                                                  NaN\n",
       "gap                                                   17\n",
       "dmin                                               3.326\n",
       "rms                                                 0.99\n",
       "net                                                   us\n",
       "id                                            us1000876f\n",
       "updated                         2017-03-06T16:07:31.040Z\n",
       "place              32km NW of Kandrian, Papua New Guinea\n",
       "type                                          earthquake\n",
       "horizontalError                                      6.6\n",
       "depthError                                           3.2\n",
       "magError                                             NaN\n",
       "magNst                                               NaN\n",
       "status                                          reviewed\n",
       "locationSource                                        us\n",
       "magSource                                             us\n",
       "Name: 0, dtype: object"
      ]
     },
     "execution_count": 5,
     "metadata": {},
     "output_type": "execute_result"
    }
   ],
   "source": [
    "table_url = 'https://earthquake.usgs.gov/earthquakes/feed/v1.0/summary/significant_month.csv'\n",
    "table = pd.read_csv(table_url, parse_dates=['time'])\n",
    "table.ix[0]"
   ]
  },
  {
   "cell_type": "code",
   "execution_count": 6,
   "metadata": {
    "collapsed": false,
    "deletable": true,
    "editable": true
   },
   "outputs": [
    {
     "data": {
      "text/plain": [
       "time                    2017-03-05 22:47:53.310000\n",
       "latitude                                    -5.999\n",
       "longitude                                  149.353\n",
       "depth                                        31.07\n",
       "mag                                            6.3\n",
       "place        32km NW of Kandrian, Papua New Guinea\n",
       "Name: 0, dtype: object"
      ]
     },
     "execution_count": 6,
     "metadata": {},
     "output_type": "execute_result"
    }
   ],
   "source": [
    "table = table[['time', 'latitude', 'longitude', 'depth', 'mag', 'place']]\n",
    "table.ix[0]"
   ]
  },
  {
   "cell_type": "code",
   "execution_count": 7,
   "metadata": {
    "collapsed": false,
    "deletable": true,
    "editable": true
   },
   "outputs": [
    {
     "data": {
      "text/html": [
       "<div>\n",
       "<table border=\"1\" class=\"dataframe\">\n",
       "  <thead>\n",
       "    <tr style=\"text-align: right;\">\n",
       "      <th></th>\n",
       "      <th>time</th>\n",
       "      <th>latitude</th>\n",
       "      <th>longitude</th>\n",
       "      <th>depth</th>\n",
       "      <th>mag</th>\n",
       "      <th>place</th>\n",
       "      <th>distanceInKm</th>\n",
       "    </tr>\n",
       "  </thead>\n",
       "  <tbody>\n",
       "    <tr>\n",
       "      <th>10</th>\n",
       "      <td>2017-02-06 13:02:45.140</td>\n",
       "      <td>3.4493</td>\n",
       "      <td>-74.6715</td>\n",
       "      <td>37.95</td>\n",
       "      <td>5.5</td>\n",
       "      <td>16km ENE of Colombia, Colombia</td>\n",
       "      <td>1019.708963</td>\n",
       "    </tr>\n",
       "    <tr>\n",
       "      <th>4</th>\n",
       "      <td>2017-02-21 14:09:04.410</td>\n",
       "      <td>-19.2839</td>\n",
       "      <td>-63.8990</td>\n",
       "      <td>597.91</td>\n",
       "      <td>6.5</td>\n",
       "      <td>42km E of Padilla, Bolivia</td>\n",
       "      <td>3676.233725</td>\n",
       "    </tr>\n",
       "    <tr>\n",
       "      <th>5</th>\n",
       "      <td>2017-02-18 12:10:17.970</td>\n",
       "      <td>-23.8613</td>\n",
       "      <td>-66.6592</td>\n",
       "      <td>222.00</td>\n",
       "      <td>6.3</td>\n",
       "      <td>52km NW of San Antonio de los Cobres, Argentina</td>\n",
       "      <td>3960.251187</td>\n",
       "    </tr>\n",
       "  </tbody>\n",
       "</table>\n",
       "</div>"
      ],
      "text/plain": [
       "                      time  latitude  longitude   depth  mag  \\\n",
       "10 2017-02-06 13:02:45.140    3.4493   -74.6715   37.95  5.5   \n",
       "4  2017-02-21 14:09:04.410  -19.2839   -63.8990  597.91  6.5   \n",
       "5  2017-02-18 12:10:17.970  -23.8613   -66.6592  222.00  6.3   \n",
       "\n",
       "                                              place  distanceInKm  \n",
       "10                   16km ENE of Colombia, Colombia   1019.708963  \n",
       "4                        42km E of Padilla, Bolivia   3676.233725  \n",
       "5   52km NW of San Antonio de los Cobres, Argentina   3960.251187  "
      ]
     },
     "execution_count": 7,
     "metadata": {},
     "output_type": "execute_result"
    }
   ],
   "source": [
    "from geopy.distance import vincenty as get_distance\n",
    "\n",
    "def get_distance_in_km(x):\n",
    "    return pd.Series(get_distance(query_point, (x.latitude, x.longitude)).kilometers)\n",
    "    \n",
    "table['distanceInKm'] = table.apply(get_distance_in_km, axis=1)\n",
    "table = table.sort_values(['distanceInKm'])\n",
    "table[:3]"
   ]
  },
  {
   "cell_type": "code",
   "execution_count": 8,
   "metadata": {
    "collapsed": false,
    "deletable": true,
    "editable": true
   },
   "outputs": [
    {
     "data": {
      "text/plain": [
       "time                                  2017-03-05 22:47:53.310000\n",
       "latitude                                                  -5.999\n",
       "longitude                                                149.353\n",
       "depth                                                      31.07\n",
       "mag                                                          6.3\n",
       "place                      32km NW of Kandrian, Papua New Guinea\n",
       "distanceInKm                                             14313.7\n",
       "fillReds                                                  -52664\n",
       "radiusInPixelsRange3-27                                      6.3\n",
       "Name: 0, dtype: object"
      ]
     },
     "execution_count": 8,
     "metadata": {},
     "output_type": "execute_result"
    }
   ],
   "source": [
    "from datetime import datetime\n",
    "now = datetime.utcnow()\n",
    "\n",
    "def get_elapsed_time_in_negative_seconds(x):\n",
    "    return -1 * (now - x).seconds\n",
    "\n",
    "geotable = table.copy()\n",
    "geotable['fillReds'] = geotable['time'].apply(get_elapsed_time_in_negative_seconds)\n",
    "geotable['radiusInPixelsRange3-27'] = geotable['mag']\n",
    "geotable.ix[0]"
   ]
  },
  {
   "cell_type": "code",
   "execution_count": 9,
   "metadata": {
    "collapsed": false,
    "deletable": true,
    "editable": true
   },
   "outputs": [
    {
     "name": "stdout",
     "output_type": "stream",
     "text": [
      "terremotos_table_path = /tmp/terremotos.csv\n",
      "terremotos_satellite_geotable_path = /tmp/terremotos-mapa.csv\n"
     ]
    }
   ],
   "source": [
    "from os.path import join\n",
    "\n",
    "table_path = join(target_folder, 'terremotos.csv')\n",
    "table.to_csv(table_path, index=False)\n",
    "print('terremotos_table_path = %s' % table_path)\n",
    "\n",
    "geotable_path = join(target_folder, 'terremotos-mapa.csv')\n",
    "geotable.to_csv(geotable_path, index=False)\n",
    "print('terremotos_satellite_geotable_path = %s' % geotable_path)"
   ]
  },
  {
   "cell_type": "markdown",
   "metadata": {
    "deletable": true,
    "editable": true
   },
   "source": [
    "# Terremotos visualizados\n",
    "\n",
    "{terremotos_table}\n",
    "\n",
    "{terremotos_satellite_geotable}\n",
    "\n",
    "El radio del círculo indica la magnitud.\n",
    "\n",
    "El color del círculo indica el tiempo.\n",
    "\n",
    "[USGS](https://earthquake.usgs.gov) ofrece más tablas sobre terremotos recientes."
   ]
  }
 ],
 "metadata": {
  "kernelspec": {
   "display_name": "Python 2",
   "language": "python",
   "name": "python2"
  },
  "language_info": {
   "codemirror_mode": {
    "name": "ipython",
    "version": 2
   },
   "file_extension": ".py",
   "mimetype": "text/x-python",
   "name": "python",
   "nbconvert_exporter": "python",
   "pygments_lexer": "ipython2",
   "version": "2.7.13"
  }
 },
 "nbformat": 4,
 "nbformat_minor": 2
}
