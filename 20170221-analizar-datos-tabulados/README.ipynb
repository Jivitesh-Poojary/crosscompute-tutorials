{
 "cells": [
  {
   "cell_type": "markdown",
   "metadata": {
    "deletable": true,
    "editable": true
   },
   "source": [
    "# Taller para los usarios de Python en Panamá\n",
    "\n",
    "Gracias a [Profesor Abdel G. Martínez](https://github.com/ampotty), uno de los líderes del [grupo de usarios de Python en Panamá](https://www.meetup.com/Panama-Python-Meetup), para haber organizado [este taller](https://www.meetup.com/Panama-Python-Meetup/events/237621843/).\n",
    "\n",
    "**Tiempo**\n",
    "\n",
    "El martes 21 de febrero de 2017 de 18:00 a 21:00\n",
    "\n",
    "** Ubicación **\n",
    "\n",
    "[La Universidad Tecnológica de Panamá](http://www.utp.ac.pa), Campus Victor Levi Sasso, Tumba Muerto, Facultad de Ingeniería de Sistemas Computacionales"
   ]
  },
  {
   "cell_type": "markdown",
   "metadata": {
    "deletable": true,
    "editable": true
   },
   "source": [
    "** Horario **\n",
    "\n",
    "18:00\n",
    "\n",
    "- Introducción a CrossCompute\n",
    "- Introducción a Jupyter\n",
    "- Exercicios\n",
    "- Depurar con IPython\n",
    "- Depurar con PuDB\n",
    "- Depurar en Jupyter\n",
    "- Exercicios\n",
    "    \n",
    "18:30\n",
    "\n",
    "- Cargar datos tabulados\n",
    "- Guardar\n",
    "- Filtrar\n",
    "- Añadir filas y columnas\n",
    "- Agrupar\n",
    "- Trazar\n",
    "- Exercicios\n",
    "\n",
    "19:30\n",
    "\n",
    "- Ubicar datos espaciales\n",
    "- Filtrar\n",
    "- Exercicios\n",
    "\n",
    "20:30\n",
    "\n",
    "- Instalar [CrossCompute](https://github.com/crosscompute)\n",
    "- Instalar [Jupyter](http://jupyter.org)\n",
    "- Instalar [IPython](https://ipython.org), [PuDB](https://pypi.python.org/pypi/pudb)\n",
    "- Instalar [Pandas](http://pandas.pydata.org)\n",
    "- Instalar [GeoPy](https://geopy.readthedocs.io), [SciPy](https://www.scipy.org), [PySAL](http://pysal.readthedocs.io)"
   ]
  },
  {
   "cell_type": "markdown",
   "metadata": {
    "deletable": true,
    "editable": true
   },
   "source": [
    "![PanamaPythonMeetup-20170221-Workshop](https://a248.e.akamai.net/secure.meetupstatic.com/photos/event/6/7/e/9/highres_458546601.jpeg)\n",
    "\n",
    "![PanamaPythonMeetup-20170221-Group](https://a248.e.akamai.net/secure.meetupstatic.com/photos/event/9/2/0/c/highres_458557388.jpeg)"
   ]
  }
 ],
 "metadata": {
  "kernelspec": {
   "display_name": "Python 2",
   "language": "python",
   "name": "python2"
  },
  "language_info": {
   "codemirror_mode": {
    "name": "ipython",
    "version": 2
   },
   "file_extension": ".py",
   "mimetype": "text/x-python",
   "name": "python",
   "nbconvert_exporter": "python",
   "pygments_lexer": "ipython2",
   "version": "2.7.13"
  }
 },
 "nbformat": 4,
 "nbformat_minor": 2
}
