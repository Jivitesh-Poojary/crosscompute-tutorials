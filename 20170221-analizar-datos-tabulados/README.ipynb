{
 "cells": [
  {
   "cell_type": "markdown",
   "metadata": {
    "deletable": true,
    "editable": true
   },
   "source": [
    "# Taller para los usarios de Python en Panamá\n",
    "\n",
    "Gracias a los esfuerzos del\n",
    "\n",
    "- [Profesor Abdel G. Martínez](https://github.com/ampotty) de la [Universidad Internacional de Ciencia y Tecnología](http://www.unicyt.net)\n",
    "- [Jose A. Reyes](https://www.linkedin.com/in/josereyes-ah) de [FLOSS Panamá](https://floss-pa.net)\n",
    "- [Alistair Croll](https://ca.linkedin.com/in/alistaircroll) de [Pandemonio](http://www.pandemon.io)\n",
    "\n",
    "Enseñamos un taller el martes 21 de febrero de 2017 de 6pm a 9pm en la Facultad de Ingeniería de Sistemas Computacionales de [La Universidad Tecnológica de Panamá](http://www.utp.ac.pa).\n",
    "\n",
    "Hubo 21 participantes en el taller, que cubrió ejercicios prácticos sobre cómo analizar datos tabulares y espaciales y depurar programas usando [Python](https://www.python.org).\n",
    "\n",
    "** Evento **\n",
    "\n",
    "[Sexto Meetup](https://www.meetup.com/Panama-Python-Meetup/events/237621843) del [Grupo de Usarios de Python en Panamá](https://www.meetup.com/Panama-Python-Meetup)\n",
    "\n",
    "** Tiempo **\n",
    "\n",
    "El martes 21 de febrero de 2017 de 18:00 a 21:00\n",
    "\n",
    "** Ubicación **\n",
    "\n",
    "[La Universidad Tecnológica de Panamá](http://www.utp.ac.pa), Campus Victor Levi Sasso, Tumba Muerto, Facultad de Ingeniería de Sistemas Computacionales"
   ]
  },
  {
   "cell_type": "markdown",
   "metadata": {
    "deletable": true,
    "editable": true
   },
   "source": [
    "** Horario **\n",
    "\n",
    "18:00\n",
    "\n",
    "- Introducción a CrossCompute\n",
    "- Introducción a Jupyter\n",
    "- Exercicios\n",
    "- Depurar con IPython\n",
    "- Depurar con PuDB\n",
    "- Depurar en Jupyter\n",
    "- Exercicios\n",
    "    \n",
    "18:30\n",
    "\n",
    "- Cargar datos tabulados\n",
    "- Guardar\n",
    "- Filtrar\n",
    "- Añadir filas y columnas\n",
    "- Agrupar\n",
    "- Trazar\n",
    "- Exercicios\n",
    "\n",
    "19:30\n",
    "\n",
    "- Ubicar datos espaciales\n",
    "- Filtrar\n",
    "- Exercicios\n",
    "\n",
    "20:30\n",
    "\n",
    "- Instalar [CrossCompute](https://github.com/crosscompute)\n",
    "- Instalar [Jupyter](http://jupyter.org)\n",
    "- Instalar [IPython](https://ipython.org), [PuDB](https://pypi.python.org/pypi/pudb)\n",
    "- Instalar [Pandas](http://pandas.pydata.org)\n",
    "- Instalar [GeoPy](https://geopy.readthedocs.io), [SciPy](https://www.scipy.org), [PySAL](http://pysal.readthedocs.io)"
   ]
  },
  {
   "cell_type": "markdown",
   "metadata": {
    "deletable": true,
    "editable": true
   },
   "source": [
    "![PanamaPythonMeetup-20170221-Workshop1](https://a248.e.akamai.net/secure.meetupstatic.com/photos/event/6/7/b/c/highres_458546556.jpeg)\n",
    "\n",
    "![PanamaPythonMeetup-20170221-Workshop2](https://a248.e.akamai.net/secure.meetupstatic.com/photos/event/6/7/e/9/highres_458546601.jpeg)\n",
    "\n",
    "![PanamaPythonMeetup-20170221-Group](https://a248.e.akamai.net/secure.meetupstatic.com/photos/event/9/2/0/c/highres_458557388.jpeg)"
   ]
  }
 ],
 "metadata": {
  "kernelspec": {
   "display_name": "Python 2",
   "language": "python",
   "name": "python2"
  },
  "language_info": {
   "codemirror_mode": {
    "name": "ipython",
    "version": 2
   },
   "file_extension": ".py",
   "mimetype": "text/x-python",
   "name": "python",
   "nbconvert_exporter": "python",
   "pygments_lexer": "ipython2",
   "version": "2.7.13"
  }
 },
 "nbformat": 4,
 "nbformat_minor": 2
}
