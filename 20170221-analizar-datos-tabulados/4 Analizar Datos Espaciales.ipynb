{
 "cells": [
  {
   "cell_type": "markdown",
   "metadata": {
    "deletable": true,
    "editable": true
   },
   "source": [
    "# Analizar datos espaciales"
   ]
  },
  {
   "cell_type": "code",
   "execution_count": null,
   "metadata": {
    "collapsed": true,
    "deletable": true,
    "editable": true
   },
   "outputs": [],
   "source": [
    "import pandas as pd"
   ]
  },
  {
   "cell_type": "code",
   "execution_count": null,
   "metadata": {
    "collapsed": false,
    "deletable": true,
    "editable": true
   },
   "outputs": [],
   "source": [
    "t = pd.read_csv('terremotos.csv', usecols=[\n",
    "    'time', 'longitude', 'latitude', 'mag', 'place'], parse_dates=['time'])\n",
    "t"
   ]
  },
  {
   "cell_type": "markdown",
   "metadata": {
    "deletable": true,
    "editable": true
   },
   "source": [
    "## Ubicar"
   ]
  },
  {
   "cell_type": "code",
   "execution_count": null,
   "metadata": {
    "collapsed": false,
    "deletable": true,
    "editable": true
   },
   "outputs": [],
   "source": [
    "from geopy.geocoders import GoogleV3\n",
    "g = GoogleV3()\n",
    "source_location = g.geocode('Universidad Tecnológica de Panamá')\n",
    "source_location"
   ]
  },
  {
   "cell_type": "code",
   "execution_count": null,
   "metadata": {
    "collapsed": false,
    "deletable": true,
    "editable": true
   },
   "outputs": [],
   "source": [
    "source_location.latitude, source_location.longitude"
   ]
  },
  {
   "cell_type": "code",
   "execution_count": null,
   "metadata": {
    "collapsed": false,
    "deletable": true,
    "editable": true
   },
   "outputs": [],
   "source": [
    "from geopy.distance import vincenty as get_distance\n",
    "target_location = g.geocode('Mercado de Mariscos, Cinta Costera')\n",
    "get_distance(source_location.point, target_location.point).kilometers"
   ]
  },
  {
   "cell_type": "markdown",
   "metadata": {
    "deletable": true,
    "editable": true
   },
   "source": [
    "## Filtrar"
   ]
  },
  {
   "cell_type": "code",
   "execution_count": null,
   "metadata": {
    "collapsed": false,
    "deletable": true,
    "editable": true
   },
   "outputs": [],
   "source": [
    "from geopy.distance import vincenty as get_distance\n",
    "\n",
    "def get_distance_in_km(x):\n",
    "    return pd.Series(get_distance(\n",
    "        (source_location.latitude, source_location.longitude),\n",
    "        (x.latitude, x.longitude)).kilometers)\n",
    "    \n",
    "t['distanceInKm'] = t.apply(get_distance_in_km, axis=1)\n",
    "t = t.sort_values(['distanceInKm'])\n",
    "t"
   ]
  },
  {
   "cell_type": "code",
   "execution_count": null,
   "metadata": {
    "collapsed": false,
    "deletable": true,
    "editable": true
   },
   "outputs": [],
   "source": [
    "from pysal.cg import RADIUS_EARTH_KM\n",
    "from pysal.cg.kdtree import KDTree\n",
    "\n",
    "tree = KDTree(t[['latitude', 'longitude']].values, distance_metric='Arc', radius=RADIUS_EARTH_KM)"
   ]
  },
  {
   "cell_type": "code",
   "execution_count": null,
   "metadata": {
    "collapsed": false,
    "deletable": true,
    "editable": true
   },
   "outputs": [],
   "source": [
    "distances, indices = tree.query((source_location.latitude, source_location.longitude), k=len(t))\n",
    "distances"
   ]
  },
  {
   "cell_type": "code",
   "execution_count": null,
   "metadata": {
    "collapsed": false,
    "deletable": true,
    "editable": true
   },
   "outputs": [],
   "source": [
    "t.ix[t.index[indices]]"
   ]
  },
  {
   "cell_type": "markdown",
   "metadata": {
    "deletable": true,
    "editable": true
   },
   "source": [
    "## Exercicios"
   ]
  },
  {
   "cell_type": "markdown",
   "metadata": {
    "collapsed": true,
    "deletable": true,
    "editable": true
   },
   "source": [
    "## Datos abiertos\n",
    "\n",
    "Encuentre una tabla en http://www.datosabiertos.gob.pa. Añada una columna con distancia en kilometros de la Universidad Tecnológica de Panamá.\n",
    "\n",
    "[Ejemplo: Puntos de acceso de la red nacional de internet](http://www.datosabiertos.gob.pa/dataset/aig-puntos-de-acceso-de-la-red-nacional-de-internet-vigente-hasta-el-28-de-febrero-de-2017/resource/7ca7059e-ea8d-4ca4-8765-f43faa3952b3)\n",
    "\n",
    "    pd.read_csv('http://www.datosabiertos.gob.pa/dataset/97111990-73c2-42e7-8a45-6dfb26ad20cb/resource/7ca7059e-ea8d-4ca4-8765-f43faa3952b3/download/rni-feb2017-csv.csv', encoding='ISO-8859-1')"
   ]
  }
 ],
 "metadata": {
  "kernelspec": {
   "display_name": "Python 2",
   "language": "python",
   "name": "python2"
  },
  "language_info": {
   "codemirror_mode": {
    "name": "ipython",
    "version": 2
   },
   "file_extension": ".py",
   "mimetype": "text/x-python",
   "name": "python",
   "nbconvert_exporter": "python",
   "pygments_lexer": "ipython2",
   "version": "2.7.13"
  }
 },
 "nbformat": 4,
 "nbformat_minor": 2
}
