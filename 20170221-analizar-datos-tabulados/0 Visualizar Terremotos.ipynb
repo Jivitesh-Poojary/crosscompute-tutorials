{
 "cells": [
  {
   "cell_type": "markdown",
   "metadata": {
    "deletable": true,
    "editable": true
   },
   "source": [
    "# Visualizar terremotos\n",
    "\n",
    "Estos datos sobre terremotos son cortesía de [USGS](https://earthquake.usgs.gov).\n",
    "\n",
    "{query_address}\n",
    "\n",
    "Escribe una dirección para ordenar los terremotos recientes por distancia."
   ]
  },
  {
   "cell_type": "code",
   "execution_count": 1,
   "metadata": {
    "collapsed": true,
    "deletable": true,
    "editable": true
   },
   "outputs": [],
   "source": [
    "target_folder = '/tmp'\n",
    "query_address = 'David, Chiriquí'"
   ]
  },
  {
   "cell_type": "code",
   "execution_count": 2,
   "metadata": {
    "collapsed": false,
    "deletable": true,
    "editable": true
   },
   "outputs": [
    {
     "data": {
      "text/plain": [
       "Point(8.4007278, -82.4427769, 0.0)"
      ]
     },
     "execution_count": 2,
     "metadata": {},
     "output_type": "execute_result"
    }
   ],
   "source": [
    "from geopy.geocoders import GoogleV3\n",
    "g = GoogleV3()\n",
    "query_location = g.geocode(query_address)\n",
    "query_point = query_location.point\n",
    "query_point"
   ]
  },
  {
   "cell_type": "code",
   "execution_count": 3,
   "metadata": {
    "collapsed": true,
    "deletable": true,
    "editable": true
   },
   "outputs": [],
   "source": [
    "import pandas as pd"
   ]
  },
  {
   "cell_type": "code",
   "execution_count": 4,
   "metadata": {
    "collapsed": false,
    "deletable": true,
    "editable": true
   },
   "outputs": [
    {
     "data": {
      "text/plain": [
       "time               2017-03-14 05:06:54.460000\n",
       "latitude                              34.0388\n",
       "longitude                            -117.239\n",
       "depth                                   17.64\n",
       "mag                                      3.61\n",
       "magType                                    mw\n",
       "nst                                       182\n",
       "gap                                        15\n",
       "dmin                                  0.01436\n",
       "rms                                       0.2\n",
       "net                                        ci\n",
       "id                                 ci37828544\n",
       "updated              2017-03-16T14:49:50.521Z\n",
       "place               2km ESE of Loma Linda, CA\n",
       "type                               earthquake\n",
       "horizontalError                          0.11\n",
       "depthError                               0.22\n",
       "magError                                  NaN\n",
       "magNst                                      4\n",
       "status                               reviewed\n",
       "locationSource                             ci\n",
       "magSource                                  ci\n",
       "Name: 0, dtype: object"
      ]
     },
     "execution_count": 4,
     "metadata": {},
     "output_type": "execute_result"
    }
   ],
   "source": [
    "table_url = 'https://earthquake.usgs.gov/earthquakes/feed/v1.0/summary/significant_month.csv'\n",
    "table = pd.read_csv(table_url, parse_dates=['time'])\n",
    "table.ix[0]"
   ]
  },
  {
   "cell_type": "code",
   "execution_count": 5,
   "metadata": {
    "collapsed": false,
    "deletable": true,
    "editable": true
   },
   "outputs": [
    {
     "data": {
      "text/plain": [
       "time         2017-03-14 05:06:54.460000\n",
       "latitude                        34.0388\n",
       "longitude                      -117.239\n",
       "depth                             17.64\n",
       "mag                                3.61\n",
       "place         2km ESE of Loma Linda, CA\n",
       "Name: 0, dtype: object"
      ]
     },
     "execution_count": 5,
     "metadata": {},
     "output_type": "execute_result"
    }
   ],
   "source": [
    "table = table[['time', 'latitude', 'longitude', 'depth', 'mag', 'place']]\n",
    "table.ix[0]"
   ]
  },
  {
   "cell_type": "code",
   "execution_count": 6,
   "metadata": {
    "collapsed": false,
    "deletable": true,
    "editable": true
   },
   "outputs": [
    {
     "data": {
      "text/html": [
       "<div>\n",
       "<table border=\"1\" class=\"dataframe\">\n",
       "  <thead>\n",
       "    <tr style=\"text-align: right;\">\n",
       "      <th></th>\n",
       "      <th>time</th>\n",
       "      <th>latitude</th>\n",
       "      <th>longitude</th>\n",
       "      <th>depth</th>\n",
       "      <th>mag</th>\n",
       "      <th>place</th>\n",
       "      <th>distanceInKm</th>\n",
       "    </tr>\n",
       "  </thead>\n",
       "  <tbody>\n",
       "    <tr>\n",
       "      <th>5</th>\n",
       "      <td>2017-02-21 14:09:04.320</td>\n",
       "      <td>-19.281400</td>\n",
       "      <td>-63.904700</td>\n",
       "      <td>595.98</td>\n",
       "      <td>6.50</td>\n",
       "      <td>41km E of Padilla, Bolivia</td>\n",
       "      <td>3675.661822</td>\n",
       "    </tr>\n",
       "    <tr>\n",
       "      <th>6</th>\n",
       "      <td>2017-02-18 12:10:17.970</td>\n",
       "      <td>-23.861300</td>\n",
       "      <td>-66.659200</td>\n",
       "      <td>222.00</td>\n",
       "      <td>6.30</td>\n",
       "      <td>52km NW of San Antonio de los Cobres, Argentina</td>\n",
       "      <td>3960.251187</td>\n",
       "    </tr>\n",
       "    <tr>\n",
       "      <th>0</th>\n",
       "      <td>2017-03-14 05:06:54.460</td>\n",
       "      <td>34.038833</td>\n",
       "      <td>-117.238667</td>\n",
       "      <td>17.64</td>\n",
       "      <td>3.61</td>\n",
       "      <td>2km ESE of Loma Linda, CA</td>\n",
       "      <td>4553.545489</td>\n",
       "    </tr>\n",
       "  </tbody>\n",
       "</table>\n",
       "</div>"
      ],
      "text/plain": [
       "                     time   latitude   longitude   depth   mag  \\\n",
       "5 2017-02-21 14:09:04.320 -19.281400  -63.904700  595.98  6.50   \n",
       "6 2017-02-18 12:10:17.970 -23.861300  -66.659200  222.00  6.30   \n",
       "0 2017-03-14 05:06:54.460  34.038833 -117.238667   17.64  3.61   \n",
       "\n",
       "                                             place  distanceInKm  \n",
       "5                       41km E of Padilla, Bolivia   3675.661822  \n",
       "6  52km NW of San Antonio de los Cobres, Argentina   3960.251187  \n",
       "0                        2km ESE of Loma Linda, CA   4553.545489  "
      ]
     },
     "execution_count": 6,
     "metadata": {},
     "output_type": "execute_result"
    }
   ],
   "source": [
    "from geopy.distance import vincenty as get_distance\n",
    "\n",
    "def get_distance_in_km(x):\n",
    "    return pd.Series(get_distance(query_point, (x.latitude, x.longitude)).kilometers)\n",
    "    \n",
    "table['distanceInKm'] = table.apply(get_distance_in_km, axis=1)\n",
    "table = table.sort_values(['distanceInKm'])\n",
    "table[:3]"
   ]
  },
  {
   "cell_type": "code",
   "execution_count": 7,
   "metadata": {
    "collapsed": false,
    "deletable": true,
    "editable": true
   },
   "outputs": [
    {
     "data": {
      "text/plain": [
       "time                       2017-03-14 05:06:54.460000\n",
       "latitude                                      34.0388\n",
       "longitude                                    -117.239\n",
       "depth                                           17.64\n",
       "mag                                              3.61\n",
       "place                       2km ESE of Loma Linda, CA\n",
       "distanceInKm                                  4553.55\n",
       "fillReds                                       -46369\n",
       "radiusInPixelsRange3-27                          3.61\n",
       "Name: 0, dtype: object"
      ]
     },
     "execution_count": 7,
     "metadata": {},
     "output_type": "execute_result"
    }
   ],
   "source": [
    "from datetime import datetime\n",
    "now = datetime.utcnow()\n",
    "\n",
    "def get_elapsed_time_in_negative_seconds(x):\n",
    "    return -1 * (now - x).seconds\n",
    "\n",
    "geotable = table.copy()\n",
    "geotable['fillReds'] = geotable['time'].apply(get_elapsed_time_in_negative_seconds)\n",
    "geotable['radiusInPixelsRange3-27'] = geotable['mag']\n",
    "geotable.ix[0]"
   ]
  },
  {
   "cell_type": "code",
   "execution_count": 8,
   "metadata": {
    "collapsed": false,
    "deletable": true,
    "editable": true
   },
   "outputs": [
    {
     "name": "stdout",
     "output_type": "stream",
     "text": [
      "terremotos_table_path = /tmp/terremotos.csv\n",
      "terremotos_satellite_geotable_path = /tmp/terremotos-mapa.csv\n"
     ]
    }
   ],
   "source": [
    "from os.path import join\n",
    "\n",
    "table_path = join(target_folder, 'terremotos.csv')\n",
    "table.to_csv(table_path, index=False)\n",
    "print('terremotos_table_path = %s' % table_path)\n",
    "\n",
    "geotable_path = join(target_folder, 'terremotos-mapa.csv')\n",
    "geotable.to_csv(geotable_path, index=False)\n",
    "print('terremotos_satellite_geotable_path = %s' % geotable_path)"
   ]
  },
  {
   "cell_type": "markdown",
   "metadata": {
    "deletable": true,
    "editable": true
   },
   "source": [
    "# Terremotos visualizados\n",
    "\n",
    "{terremotos_table}\n",
    "\n",
    "{terremotos_satellite_geotable}\n",
    "\n",
    "El radio del círculo indica la magnitud.\n",
    "\n",
    "El color del círculo indica el tiempo.\n",
    "\n",
    "[USGS](https://earthquake.usgs.gov) ofrece más tablas sobre terremotos recientes."
   ]
  }
 ],
 "metadata": {
  "kernelspec": {
   "display_name": "Python 3",
   "language": "python",
   "name": "python3"
  },
  "language_info": {
   "codemirror_mode": {
    "name": "ipython",
    "version": 3
   },
   "file_extension": ".py",
   "mimetype": "text/x-python",
   "name": "python",
   "nbconvert_exporter": "python",
   "pygments_lexer": "ipython3",
   "version": "3.5.2"
  }
 },
 "nbformat": 4,
 "nbformat_minor": 2
}
