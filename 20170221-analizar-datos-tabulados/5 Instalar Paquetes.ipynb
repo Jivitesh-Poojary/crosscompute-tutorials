{
 "cells": [
  {
   "cell_type": "markdown",
   "metadata": {
    "deletable": true,
    "editable": true
   },
   "source": [
    "# Instalar paquetes"
   ]
  },
  {
   "cell_type": "markdown",
   "metadata": {
    "deletable": true,
    "editable": true
   },
   "source": [
    "Jupyter\n",
    "\n",
    "    pip install -U jupyter\n",
    "\n",
    "IPython, PuDB\n",
    "\n",
    "    pip install -U ipython pudb\n",
    "   \n",
    "Pandas, GeoPy, SciPy, PySAL\n",
    "\n",
    "    pip install -U pandas geopy scipy pysal   \n",
    "    \n",
    "CrossCompute\n",
    "\n",
    "    pip install -U crosscompute-notebook-extensions\n",
    "    jupyter nbextension install \\\n",
    "        --sys-prefix --py crosscompute_notebook_extensions\n",
    "    jupyter nbextension enable \\\n",
    "        --sys-prefix --py crosscompute_notebook_extensions\n",
    "    jupyter serverextension enable \\\n",
    "        --sys-prefix --py crosscompute_notebook_extensions"
   ]
  },
  {
   "cell_type": "code",
   "execution_count": null,
   "metadata": {
    "collapsed": true
   },
   "outputs": [],
   "source": [
    "import jupyter\n",
    "import IPython, pudb\n",
    "import pandas, scipy, pysal\n",
    "import crosscompute"
   ]
  },
  {
   "cell_type": "markdown",
   "metadata": {
    "deletable": true,
    "editable": true
   },
   "source": [
    "https://github.com/crosscompute/crosscompute-environments-ansible"
   ]
  }
 ],
 "metadata": {
  "kernelspec": {
   "display_name": "Python 2",
   "language": "python",
   "name": "python2"
  },
  "language_info": {
   "codemirror_mode": {
    "name": "ipython",
    "version": 2
   },
   "file_extension": ".py",
   "mimetype": "text/x-python",
   "name": "python",
   "nbconvert_exporter": "python",
   "pygments_lexer": "ipython2",
   "version": "2.7.13"
  }
 },
 "nbformat": 4,
 "nbformat_minor": 2
}
