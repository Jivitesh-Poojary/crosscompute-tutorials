{
 "cells": [
  {
   "cell_type": "markdown",
   "metadata": {
    "deletable": true,
    "editable": true
   },
   "source": [
    "# Depurar programas\n",
    "\n",
    "http://slides.com/invisibleroads/debugging-tips"
   ]
  },
  {
   "cell_type": "markdown",
   "metadata": {
    "deletable": true,
    "editable": true
   },
   "source": [
    "## Jupyter"
   ]
  },
  {
   "cell_type": "code",
   "execution_count": null,
   "metadata": {
    "collapsed": false,
    "deletable": true,
    "editable": true
   },
   "outputs": [],
   "source": [
    "def f(x):\n",
    "    # import pdb; pdb.set_trace()\n",
    "    # from IPython import embed; embed()\n",
    "    # from IPython.core.debugger import set_trace; set_trace()\n",
    "    x = x * 2\n",
    "    x = x + 1\n",
    "    return x\n",
    "\n",
    "f(1)"
   ]
  },
  {
   "cell_type": "code",
   "execution_count": null,
   "metadata": {
    "collapsed": false,
    "deletable": true,
    "editable": true
   },
   "outputs": [],
   "source": [
    "def f(x):\n",
    "    y = 10 / x\n",
    "    return y\n",
    "\n",
    "f(0)"
   ]
  },
  {
   "cell_type": "code",
   "execution_count": null,
   "metadata": {
    "collapsed": false,
    "deletable": true,
    "editable": true
   },
   "outputs": [],
   "source": [
    "debug  # Imprima q para salir"
   ]
  },
  {
   "cell_type": "markdown",
   "metadata": {
    "deletable": true,
    "editable": true
   },
   "source": [
    "## Terminal\n",
    "\n",
    "Abra una nueva terminal en Jupyter.\n",
    "\n",
    "    New > Terminal\n",
    "\n",
    "Edite el script.\n",
    "\n",
    "    vim sum_squares.py\n",
    "\n",
    "Elija un comando.\n",
    "    \n",
    "    # import IPython; IPython.embed()\n",
    "    import pudb; pudb.set_trace()\n",
    "    \n",
    "Ejecute el script.\n",
    "\n",
    "    python sum_squares.py"
   ]
  },
  {
   "cell_type": "markdown",
   "metadata": {
    "deletable": true,
    "editable": true
   },
   "source": [
    "## Vim\n",
    "\n",
    "Syntastic\n",
    "\n",
    "https://github.com/crosscompute/crosscompute-tutorials/tree/master/debugging-tips#convert-prototype-into-a-script\n",
    "\n",
    "Flake8\n",
    "\n",
    "https://pypi.python.org/pypi/flake8"
   ]
  }
 ],
 "metadata": {
  "kernelspec": {
   "display_name": "Python 2",
   "language": "python",
   "name": "python2"
  },
  "language_info": {
   "codemirror_mode": {
    "name": "ipython",
    "version": 2
   },
   "file_extension": ".py",
   "mimetype": "text/x-python",
   "name": "python",
   "nbconvert_exporter": "python",
   "pygments_lexer": "ipython2",
   "version": "2.7.13"
  }
 },
 "nbformat": 4,
 "nbformat_minor": 2
}
