{
 "cells": [
  {
   "cell_type": "markdown",
   "metadata": {
    "deletable": true,
    "editable": true
   },
   "source": [
    "# Visualizar terremotos\n",
    "\n",
    "Estos datos sobre terremotos son cortesía de [USGS](https://earthquake.usgs.gov).\n",
    "\n",
    "{query_address}\n",
    "\n",
    "Escribe una dirección para ordenar los terremotos recientes por distancia."
   ]
  },
  {
   "cell_type": "code",
   "execution_count": 1,
   "metadata": {
    "collapsed": true,
    "deletable": true,
    "editable": true
   },
   "outputs": [],
   "source": [
    "target_folder = '/tmp'\n",
    "query_address = 'David, Chiriquí'"
   ]
  },
  {
   "cell_type": "code",
   "execution_count": 2,
   "metadata": {
    "collapsed": false,
    "deletable": true,
    "editable": true
   },
   "outputs": [
    {
     "data": {
      "text/plain": [
       "Point(8.4007278, -82.4427769, 0.0)"
      ]
     },
     "execution_count": 2,
     "metadata": {},
     "output_type": "execute_result"
    }
   ],
   "source": [
    "from geopy.geocoders import GoogleV3\n",
    "g = GoogleV3()\n",
    "query_location = g.geocode(query_address)\n",
    "query_point = query_location.point\n",
    "query_point"
   ]
  },
  {
   "cell_type": "code",
   "execution_count": 3,
   "metadata": {
    "collapsed": true,
    "deletable": true,
    "editable": true
   },
   "outputs": [],
   "source": [
    "import pandas as pd"
   ]
  },
  {
   "cell_type": "code",
   "execution_count": 4,
   "metadata": {
    "collapsed": false,
    "deletable": true,
    "editable": true
   },
   "outputs": [
    {
     "data": {
      "text/plain": [
       "time                 2017-02-24 17:28:44.870000\n",
       "latitude                               -23.2448\n",
       "longitude                              -178.834\n",
       "depth                                     414.8\n",
       "mag                                         6.9\n",
       "magType                                     mww\n",
       "nst                                         NaN\n",
       "gap                                          19\n",
       "dmin                                       6.03\n",
       "rms                                        0.96\n",
       "net                                          us\n",
       "id                                   us20008m3t\n",
       "updated                2017-02-25T16:21:55.572Z\n",
       "place              287km S of Ndoi Island, Fiji\n",
       "type                                 earthquake\n",
       "horizontalError                             9.3\n",
       "depthError                                  3.5\n",
       "magError                                    NaN\n",
       "magNst                                      NaN\n",
       "status                                 reviewed\n",
       "locationSource                               us\n",
       "magSource                                    us\n",
       "Name: 0, dtype: object"
      ]
     },
     "execution_count": 4,
     "metadata": {},
     "output_type": "execute_result"
    }
   ],
   "source": [
    "table_url = 'https://earthquake.usgs.gov/earthquakes/feed/v1.0/summary/significant_month.csv'\n",
    "table = pd.read_csv(table_url, parse_dates=['time'])\n",
    "table.ix[0]"
   ]
  },
  {
   "cell_type": "code",
   "execution_count": 5,
   "metadata": {
    "collapsed": false,
    "deletable": true,
    "editable": true
   },
   "outputs": [
    {
     "data": {
      "text/plain": [
       "time           2017-02-24 17:28:44.870000\n",
       "latitude                         -23.2448\n",
       "longitude                        -178.834\n",
       "depth                               414.8\n",
       "mag                                   6.9\n",
       "place        287km S of Ndoi Island, Fiji\n",
       "Name: 0, dtype: object"
      ]
     },
     "execution_count": 5,
     "metadata": {},
     "output_type": "execute_result"
    }
   ],
   "source": [
    "table = table[['time', 'latitude', 'longitude', 'depth', 'mag', 'place']]\n",
    "table.ix[0]"
   ]
  },
  {
   "cell_type": "code",
   "execution_count": 6,
   "metadata": {
    "collapsed": false,
    "deletable": true,
    "editable": true
   },
   "outputs": [
    {
     "data": {
      "text/html": [
       "<div>\n",
       "<table border=\"1\" class=\"dataframe\">\n",
       "  <thead>\n",
       "    <tr style=\"text-align: right;\">\n",
       "      <th></th>\n",
       "      <th>time</th>\n",
       "      <th>latitude</th>\n",
       "      <th>longitude</th>\n",
       "      <th>depth</th>\n",
       "      <th>mag</th>\n",
       "      <th>place</th>\n",
       "      <th>distanceInKm</th>\n",
       "    </tr>\n",
       "  </thead>\n",
       "  <tbody>\n",
       "    <tr>\n",
       "      <th>8</th>\n",
       "      <td>2017-02-06 13:02:45.140</td>\n",
       "      <td>3.4493</td>\n",
       "      <td>-74.6715</td>\n",
       "      <td>37.95</td>\n",
       "      <td>5.5</td>\n",
       "      <td>16km ENE of Colombia, Colombia</td>\n",
       "      <td>1019.708963</td>\n",
       "    </tr>\n",
       "    <tr>\n",
       "      <th>2</th>\n",
       "      <td>2017-02-21 14:09:04.410</td>\n",
       "      <td>-19.2839</td>\n",
       "      <td>-63.8990</td>\n",
       "      <td>597.91</td>\n",
       "      <td>6.5</td>\n",
       "      <td>42km E of Padilla, Bolivia</td>\n",
       "      <td>3676.233725</td>\n",
       "    </tr>\n",
       "    <tr>\n",
       "      <th>3</th>\n",
       "      <td>2017-02-18 12:10:15.400</td>\n",
       "      <td>-23.9200</td>\n",
       "      <td>-66.6885</td>\n",
       "      <td>200.59</td>\n",
       "      <td>6.3</td>\n",
       "      <td>50km NW of San Antonio de los Cobres, Argentina</td>\n",
       "      <td>3964.638161</td>\n",
       "    </tr>\n",
       "  </tbody>\n",
       "</table>\n",
       "</div>"
      ],
      "text/plain": [
       "                     time  latitude  longitude   depth  mag  \\\n",
       "8 2017-02-06 13:02:45.140    3.4493   -74.6715   37.95  5.5   \n",
       "2 2017-02-21 14:09:04.410  -19.2839   -63.8990  597.91  6.5   \n",
       "3 2017-02-18 12:10:15.400  -23.9200   -66.6885  200.59  6.3   \n",
       "\n",
       "                                             place  distanceInKm  \n",
       "8                   16km ENE of Colombia, Colombia   1019.708963  \n",
       "2                       42km E of Padilla, Bolivia   3676.233725  \n",
       "3  50km NW of San Antonio de los Cobres, Argentina   3964.638161  "
      ]
     },
     "execution_count": 6,
     "metadata": {},
     "output_type": "execute_result"
    }
   ],
   "source": [
    "from geopy.distance import vincenty as get_distance\n",
    "\n",
    "def get_distance_in_km(x):\n",
    "    return pd.Series(get_distance(query_point, (x.latitude, x.longitude)).kilometers)\n",
    "    \n",
    "table['distanceInKm'] = table.apply(get_distance_in_km, axis=1)\n",
    "table = table.sort_values(['distanceInKm'])\n",
    "table[:3]"
   ]
  },
  {
   "cell_type": "code",
   "execution_count": 7,
   "metadata": {
    "collapsed": false,
    "deletable": true,
    "editable": true
   },
   "outputs": [
    {
     "data": {
      "text/plain": [
       "time                         2017-02-24 17:28:44.870000\n",
       "latitude                                       -23.2448\n",
       "longitude                                      -178.834\n",
       "depth                                             414.8\n",
       "mag                                                 6.9\n",
       "place                      287km S of Ndoi Island, Fiji\n",
       "distanceInKm                                    11030.4\n",
       "fillReds                                         -17176\n",
       "radiusInPixelsRange3-27                             6.9\n",
       "Name: 0, dtype: object"
      ]
     },
     "execution_count": 7,
     "metadata": {},
     "output_type": "execute_result"
    }
   ],
   "source": [
    "from datetime import datetime\n",
    "now = datetime.utcnow()\n",
    "\n",
    "def get_elapsed_time_in_negative_seconds(x):\n",
    "    return -1 * (now - x).seconds\n",
    "\n",
    "geotable = table.copy()\n",
    "geotable['fillReds'] = geotable['time'].apply(get_elapsed_time_in_negative_seconds)\n",
    "geotable['radiusInPixelsRange3-27'] = geotable['mag']\n",
    "geotable.ix[0]"
   ]
  },
  {
   "cell_type": "code",
   "execution_count": 8,
   "metadata": {
    "collapsed": false,
    "deletable": true,
    "editable": true
   },
   "outputs": [
    {
     "name": "stdout",
     "output_type": "stream",
     "text": [
      "terremotos_table_path = /tmp/terremotos.csv\n",
      "terremotos_satellite_geotable_path = /tmp/terremotos-mapa.csv\n"
     ]
    }
   ],
   "source": [
    "from os.path import join\n",
    "\n",
    "table_path = join(target_folder, 'terremotos.csv')\n",
    "table.to_csv(table_path, index=False)\n",
    "print('terremotos_table_path = %s' % table_path)\n",
    "\n",
    "geotable_path = join(target_folder, 'terremotos-mapa.csv')\n",
    "geotable.to_csv(geotable_path, index=False)\n",
    "print('terremotos_satellite_geotable_path = %s' % geotable_path)"
   ]
  },
  {
   "cell_type": "markdown",
   "metadata": {
    "deletable": true,
    "editable": true
   },
   "source": [
    "# Terremotos visualizados\n",
    "\n",
    "{terremotos_table}\n",
    "\n",
    "{terremotos_satellite_geotable}\n",
    "\n",
    "El radio del círculo indica la magnitud.\n",
    "\n",
    "El color del círculo indica el tiempo.\n",
    "\n",
    "[USGS](https://earthquake.usgs.gov) ofrece más tablas sobre terremotos recientes."
   ]
  }
 ],
 "metadata": {
  "kernelspec": {
   "display_name": "Python 2",
   "language": "python",
   "name": "python2"
  },
  "language_info": {
   "codemirror_mode": {
    "name": "ipython",
    "version": 2
   },
   "file_extension": ".py",
   "mimetype": "text/x-python",
   "name": "python",
   "nbconvert_exporter": "python",
   "pygments_lexer": "ipython2",
   "version": "2.7.13"
  }
 },
 "nbformat": 4,
 "nbformat_minor": 2
}
