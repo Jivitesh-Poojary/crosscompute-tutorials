{
 "cells": [
  {
   "cell_type": "markdown",
   "metadata": {
    "deletable": true,
    "editable": true
   },
   "source": [
    "# Instalar paquetes"
   ]
  },
  {
   "cell_type": "markdown",
   "metadata": {
    "deletable": true,
    "editable": true
   },
   "source": [
    "Jupyter\n",
    "\n",
    "    pip install -U jupyter\n",
    "    \n",
    "CrossCompute\n",
    "\n",
    "    pip install -U crosscompute-notebook-extensions\n",
    "    \n",
    "    jupyter nbextension install \\\n",
    "        --sys-prefix --py crosscompute_notebook_extensions\n",
    "    jupyter nbextension enable \\\n",
    "        --sys-prefix --py crosscompute_notebook_extensions\n",
    "    jupyter serverextension enable \\\n",
    "        --sys-prefix --py crosscompute_notebook_extensions\n",
    "\n",
    "IPython\n",
    "\n",
    "    pip install -U ipython\n",
    "\n",
    "PuDB\n",
    "\n",
    "    pip install -U pudb\n",
    "    \n",
    "Pandas\n",
    "\n",
    "    pip install -U pandas\n",
    "\n",
    "GeoPy\n",
    "\n",
    "    pip install -U geopy\n",
    "    \n",
    "SciPy\n",
    "\n",
    "    pip install -U scipy\n",
    "\n",
    "PySAL\n",
    "\n",
    "    pip install -U pysal"
   ]
  },
  {
   "cell_type": "markdown",
   "metadata": {
    "deletable": true,
    "editable": true
   },
   "source": [
    "https://github.com/crosscompute/crosscompute-environments-ansible"
   ]
  }
 ],
 "metadata": {
  "kernelspec": {
   "display_name": "Python 2",
   "language": "python",
   "name": "python2"
  },
  "language_info": {
   "codemirror_mode": {
    "name": "ipython",
    "version": 2
   },
   "file_extension": ".py",
   "mimetype": "text/x-python",
   "name": "python",
   "nbconvert_exporter": "python",
   "pygments_lexer": "ipython2",
   "version": "2.7.13"
  }
 },
 "nbformat": 4,
 "nbformat_minor": 2
}
