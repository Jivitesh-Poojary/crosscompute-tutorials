{
 "cells": [
  {
   "cell_type": "markdown",
   "metadata": {
    "deletable": true,
    "editable": true
   },
   "source": [
    "# El poder de la elección y cómo hacer crecer un país\n",
    "\n",
    "Este discurso fue dado en español en la primera conferencia de [Pandemonio](http://www.pandemon.io) el 17 de febrero de 2017 a las 12pm."
   ]
  },
  {
   "cell_type": "markdown",
   "metadata": {
    "deletable": true,
    "editable": true
   },
   "source": [
    "## Introducción\n",
    "\n",
    "Bienvenidos. Mi nombre es Roy. Hoy hablaremos sobre el poder de la elección y cómo hacer crecer un país.\n",
    "\n",
    "Específicamente, qué determina si un proyecto de infraestructura será un fracaso o un éxito?\n",
    "\n",
    "Cómo motivar a sus compañeros para comprender las consecuencias de sus acciones en un proyecto complejo?"
   ]
  },
  {
   "cell_type": "markdown",
   "metadata": {
    "deletable": true,
    "editable": true
   },
   "source": [
    "## El Problema\n",
    "\n",
    "- Cómo hacer crecer una familia?\n",
    "- Cómo hacer crecer un equipo?\n",
    "- Cómo hacer crecer un país?\n",
    "\n",
    "Estos problemas tienen los mismos principios en la solución."
   ]
  },
  {
   "cell_type": "markdown",
   "metadata": {
    "deletable": true,
    "editable": true
   },
   "source": [
    "## Quien Soy\n",
    "\n",
    "En primer lugar, quién soy?\n",
    "\n",
    "Tengo diez años de experiencia en planear la infraestructura eléctrica con modelos matemáticos en países en vías de desarrollo.\n",
    "\n",
    "Tengo ocho años de experiencia en crear sistemas de computación para planear la infraestructura eléctrica. "
   ]
  },
  {
   "cell_type": "markdown",
   "metadata": {
    "deletable": true,
    "editable": true
   },
   "source": [
    "## La Solución\n",
    "\n",
    "Volvamos al problema.\n",
    "\n",
    "Cómo hacer crecer una familia, un equipo, una empresa, un país?\n",
    "\n",
    "La solución está dividida en tres partes.\n",
    "\n",
    "1. El país da a sus ciudadanos el control sobre su propia oportunidad económica.\n",
    "2. El jefe ofrece a sus empleados el control sobre su propia educación.\n",
    "3. El padre brinda a sus niños el control sobre su propia identidad."
   ]
  },
  {
   "cell_type": "markdown",
   "metadata": {
    "deletable": true,
    "editable": true
   },
   "source": [
    "## Análisis"
   ]
  },
  {
   "cell_type": "markdown",
   "metadata": {
    "deletable": true,
    "editable": true
   },
   "source": [
    "### Acciones y consecuencias\n",
    "\n",
    "Qué significa control? En 2013, se ha publicado un [estudio sobre un algoritmo de computación](https://www.cs.toronto.edu/~vmnih/docs/dqn.pdf) que, cuando lo ponen en frente de una pantalla y teclado, [ganó muchos puntos en los videojuegos](https://gym.openai.com/).\n",
    "\n",
    "Cómo lo hacen? El algoritmo eligió cada acción mirando las consecuencias positivas o negativas de sus acciones en el pasado.\n",
    "\n",
    "Así que quien escupe para arriba, come saliva. El control significa que usted puede experimentar con sus acciones y las consecuencias naturales, sean positivas o negativas."
   ]
  },
  {
   "cell_type": "markdown",
   "metadata": {
    "deletable": true,
    "editable": true
   },
   "source": [
    "### Proyectos pequeños\n",
    "\n",
    "Es importante ganar éxitos en proyectos pequeños para mostrar que está en control de una situación.\n",
    "\n",
    "Más vale pájaro en mano que ciento volando. Significa que es mejor tener éxitos en proyectos pequeños que tener fracasos en proyectos gigantes."
   ]
  },
  {
   "cell_type": "markdown",
   "metadata": {
    "deletable": true,
    "editable": true
   },
   "source": [
    "### Criar hijos\n",
    "\n",
    "El crecimiento de una empresa, de un país, empieza en la familia.\n",
    "\n",
    "Cómo tratan los padres a sus hijos?\n",
    "\n",
    "Imagine un padre y su hijo en una tienda. De repente, el niño llora con mucho ruido y grita, \"Quiero este juguete!\"\n",
    "\n",
    "#### Opcion A\n",
    "\n",
    "El padre ordena a su niño, \"Callate y va afuera.\"\n",
    "\n",
    "#### Opcion C\n",
    "\n",
    "El padre permite a su niño hacer lo que quiere, diciendo, \"Vale, voy a comprar el juguete.\"\n",
    "\n",
    "#### Opcion B\n",
    "\n",
    "En primero, el padre pregunta al niño, \"Porque quieres este juguete?\"\n",
    "\n",
    "El niño responde, \"Porque todos mis amigos lo tienen.\"\n",
    "\n",
    "El padre repite en las mismas palabras, \"Quieres ese juguete porque todos tus amigos lo tienen?\"\n",
    "\n",
    "\"Siii\"\n",
    "\n",
    "Siguiente, el padre explica cuál es el problema. \"Pero tu hermana tiene mucha hambre y le falta el dinero.\"\n",
    "\n",
    "En el tercer paso, el padre invita al niño de pensar en soluciones que son aceptables para el padre y para el niño. \"Qué podemos hacer? Tienes ideas?\"\n",
    "\n",
    "[Aunque toma más tiempo, esto es importante para desarrollar la mente independiente del niño a crear soluciones que son colaborativas](https://www.amazon.com/Explosive-Child-Understanding-Frustrated-Chronically/dp/0062270451)."
   ]
  },
  {
   "cell_type": "markdown",
   "metadata": {
    "deletable": true,
    "editable": true
   },
   "source": [
    "## Ejemplos\n",
    "\n",
    "Tenemos ejemplos de contraste, ejemplos negativos y ejemplos positivos."
   ]
  },
  {
   "cell_type": "markdown",
   "metadata": {
    "deletable": true,
    "editable": true
   },
   "source": [
    "### Ejemplos de Contraste"
   ]
  },
  {
   "cell_type": "markdown",
   "metadata": {
    "deletable": true,
    "editable": true
   },
   "source": [
    "#### Panamá\n",
    "\n",
    "Erase una vez, en los años de mil novecientos, una comunidad de extranjeros que vivieron alrededor del canal para construirlo y mantenerlo. Esa comunidad fue llamada [Las Zonians](https://www.google.com/search?q=zonians&tbm=isch).\n",
    "\n",
    "Pero cada vez un ciudadano de Panamá intento de entrar, lo expulsaron.\n",
    "\n",
    "Por consiguiente, Las Zonians tenían una muy mala relación con la población que rodeaba.\n",
    "\n",
    "El que tiene tienda, que la atienda, si no que la venda y eso fue exactamente lo que pasó.\n",
    "\n",
    "En el año 2000, la propiedad del canal fue transferido a Panamá.\n",
    "\n",
    "Las Zonians no daban oportunidad económica a la población, no daban educación en cómo mantener el canal y no respetan a la identidad del país. Por otro lado, la finalización del aumentación del canal de Panamá por Panamá en 2016 inspiran la economía en muchas partes del país.\n",
    "\n",
    "Así que no van muy lejos los de adelante si los de atrás corren bien. O no hay mal que por bien no venga."
   ]
  },
  {
   "cell_type": "markdown",
   "metadata": {
    "deletable": true,
    "editable": true
   },
   "source": [
    "#### Corea\n",
    "\n",
    "En la Corea del Sur, las personas pueden ser dueños de sus propias empresas, pero no en la Corea del Norte y eso se reflejo en las economías de los países. Es un ejemplo obvio de la importancia en dar la oportunidad económica a la población.\n",
    "\n",
    "Sin embargo, no es fácil ser dueño de su propio negocio. Dicen, si quiere moño bonito, aguanta jalones. O a dios rogando, y con el mazo dando."
   ]
  },
  {
   "cell_type": "markdown",
   "metadata": {
    "deletable": true,
    "editable": true
   },
   "source": [
    "### Ejemplos Negativos"
   ]
  },
  {
   "cell_type": "markdown",
   "metadata": {
    "deletable": true,
    "editable": true
   },
   "source": [
    "#### Haití\n",
    "\n",
    "En el año 2010, hubo un gran terremoto en Haití con miles de muertos.\n",
    "\n",
    "[La Cruz Roja donó más de quinientas millones de dólares pero sólo construyeron seis casas](https://www.propublica.org/article/how-the-red-cross-raised-half-a-billion-dollars-for-haiti-and-built-6-homes).\n",
    "\n",
    "Qué pasó?\n",
    "\n",
    "Más vale el caldo que las albóndigas. Significa que lo que fue caro no fue lo más importante.\n",
    "\n",
    "Han construido esas casas sin enseñar la población en cómo crear casas que los terremotos no pueden destruir.\n",
    "\n",
    "En construyendo las casas por sí mismos, los grupos humanitarios negaron a la población el control sobre su propia educación."
   ]
  },
  {
   "cell_type": "markdown",
   "metadata": {
    "deletable": true,
    "editable": true
   },
   "source": [
    "#### Irak\n",
    "\n",
    "La situación en Irak es una pesadilla.\n",
    "\n",
    "[Según un informe escrito por el gobierno de los Estados Unidos en 2012](http://www.globalsecurity.org/military/library/report/2013/sigir-learning-from-iraq.pdf), han gastado seis mil millones de dólares en construyendo cientos de hospitales, escuelas y plantas de desalinización que no usan la población nada.\n",
    "\n",
    "En las lecciones aprendidas, dijeron que han construido los edificios sin consultar a las comunidades en que necesitaban. Por eso, nunco el burro se carga solo. Tiene que consultar a la gente en que quiere y trabajar juntos para crear soluciones que son colaborativas.\n",
    "\n",
    "Además, muchos de estos proyectos de construcción no fueron terminados. Más vale ser cabeza de ratón que cola de león. El reporte destacó la importancia de mostrar éxitos en proyectos pequeños para ganar confianza de la población.\n",
    "\n",
    "La población no podían elegir lo que querían. Los grupos militares negaron a la población el control sobre su propia identidad."
   ]
  },
  {
   "cell_type": "markdown",
   "metadata": {
    "deletable": true,
    "editable": true
   },
   "source": [
    "### Ejemplos Positivos"
   ]
  },
  {
   "cell_type": "markdown",
   "metadata": {
    "deletable": true,
    "editable": true
   },
   "source": [
    "#### [Laboratorio de ingeniería sostenible](http://qsel.columbia.edu/)\n",
    "\n",
    "Cuando un país quiere aumentar acceso a la infraestructura desde 80 hasta 90 por ciento, necesita prestar mucho dinero del banco. Y el banco requiere que el gobierno prepare una propuesta con datos concretos en cómo va a utilizar y repagar el dinero.\n",
    "\n",
    "En unos países en vías de desarrollo, le faltan las analistas con experiencia en planear infraestructura a gran escala. Usualmente, el país gasta 2 o 3 millones de dólares pagando empresas de consultores extranjeros para preparar estas propuestas. El problema es que estos proyectos están tan largos que las propuestas son obsoletos en poco tiempo y los países tienen que gastar dinero para prepararlo otra vez.\n",
    "\n",
    "En la Universidad de Columbia en Nueva York, un equipo de expertos en matemáticos, estadística, economía y ingenieros de sistema, ingenieros mecánicos y eléctricos crearon un [modelo matemático para planear infraestructura eléctrica](https://github.com/sel-columbia/infrastructure-planning).\n",
    "\n",
    "Con las ubicaciones y tamaños de las poblaciones, [la programa dio opciones y precios de varias tecnologías eléctricas para cada pueblo](https://crosscompute.com/r/TXZ4iEsFhQKvaleGI95bzSzFPJaybcjJ#properties). Con este modelo, los funcionarios públicos y los dueños de empresas de electricidad podrían experimentar con las consecuencias de cada inversión y trabajar juntos en decidir el futuro de su propio país.\n",
    "\n",
    "Este modelo fue enseñado y utilizado con mucho éxito a las empresas de electricidad en más de once países incluyendo Kenya, Ghana, Nigeria, Indonesia, Malasia, Myanmar, Papua New Guinea, Tanzania, Honduras, Ecuador para preparar propuestas al Banco Mundial, el AfDB, el ADB y el IDB.\n",
    "\n",
    "En preparando sus proprios propuestas, las empresas en cada país tienen control sobre su oportunidad económica, education en técnicas de planear infraestructura y identidad en elegir donde ponen la infraestructura."
   ]
  },
  {
   "cell_type": "markdown",
   "metadata": {
    "deletable": true,
    "editable": true
   },
   "source": [
    "#### CrossCompute\n",
    "\n",
    "Yo creo fielmente en el potencial de oportunidad que he estado invirtiendo las últimas siete años poniendo estas principios en una plataforma que se llama CrossCompute.\n",
    "\n",
    "Cada profesión en el futuro tiene que saber cómo analizar los datos y escribir las programas de computación.\n",
    "\n",
    "Con nuestra plataforma, una persona puede aprender las técnicas del futuro y crear sus [herramientos directamente de un cuaderno en el buscador o en un teléfono inteligente](https://crosscompute.com/n/oGnMnzfY2mWAW5PS589rKBFs7jMPz9Ku/_/visualizar-terremotos).\n",
    "\n",
    "Para dar la oportunidad económica, cada persona puede ganar dinero cuando alguien corren sus herramientos o cuadernos.\n",
    "\n",
    "Para dar control sobre la educación, los estudiantes en los clases del futuro pueden experimentar en cuadernos interactivos mientras el profesor está hablando y compartir lo que aprendieron el uno con el otro.\n",
    "\n",
    "Para dar control sobre la identidad, el usuario puede elijar cuales herramientos y cuadernos quiere mostrar en su perfil público.\n",
    "\n",
    "Nuestra ambición es que cada persona realiza su potencial maximal en el mercado tecnológico del futuro.\n",
    "\n",
    "Voy a enseñar un [taller en la Universidad Tecnológica de Panamá el martes 21 de febrero desde las seis de la tarde hasta las nueve de la noche](https://crosscompute.com/n/oGnMnzfY2mWAW5PS589rKBFs7jMPz9Ku/_/README) gracias a [Profesor Abdel G. Martínez](https://github.com/ampotty), uno de los líderes del grupo de usuarios de Python en Panamá. Este taller será sobre técnicas para depurar las programas y analizar datos tabulares y espaciales en Python. Ven! Es gratis!"
   ]
  },
  {
   "cell_type": "markdown",
   "metadata": {
    "deletable": true,
    "editable": true
   },
   "source": [
    "## Conclusión\n",
    "\n",
    "Como hacer crecer a una familia?\n",
    "Como hacer crecer a un equipo, una empresa?\n",
    "Como hacer crecer a un país?\n",
    "\n",
    "1. Da a sus ciudadanos control sobre su propia oportunidad económica.\n",
    "2. Ofrece a sus empleados control sobre su propia educación.\n",
    "3. Brinda a sus niños control sobre su propia identidad."
   ]
  },
  {
   "cell_type": "markdown",
   "metadata": {
    "deletable": true,
    "editable": true
   },
   "source": [
    "## Agradecimientos\n",
    "\n",
    "Gracias a Diego Saenz, Alistair Croll y Karen Metsos por organizar [esta conferencia](http://www.pandemon.io).\n",
    "\n",
    "Gracias a Mitzila y Eduardo de [HablaYa en Boquete](https://www.hablayapanama.com).\n",
    "\n",
    "Gracias a ustedes por su atención."
   ]
  }
 ],
 "metadata": {
  "kernelspec": {
   "display_name": "Python 2",
   "language": "python",
   "name": "python2"
  },
  "language_info": {
   "codemirror_mode": {
    "name": "ipython",
    "version": 2
   },
   "file_extension": ".py",
   "mimetype": "text/x-python",
   "name": "python",
   "nbconvert_exporter": "python",
   "pygments_lexer": "ipython2",
   "version": "2.7.13"
  }
 },
 "nbformat": 4,
 "nbformat_minor": 2
}
